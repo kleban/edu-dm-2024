{
 "cells": [
  {
   "cell_type": "markdown",
   "id": "d695257e-c7dd-44a9-af12-cef60b7d7e12",
   "metadata": {},
   "source": [
    "# Лабораторна робота №1"
   ]
  },
  {
   "cell_type": "markdown",
   "id": "8769faee-414c-495a-8d70-3cf524d455a8",
   "metadata": {},
   "source": [
    "з курсу \"DATA-аналіз у маркетингу\", для студентів 1 курсу спеціальності 072 DATA-маркетинг"
   ]
  },
  {
   "cell_type": "markdown",
   "id": "48124904-af1b-433e-b681-b714f5fbd412",
   "metadata": {},
   "source": [
    "---"
   ]
  },
  {
   "cell_type": "markdown",
   "id": "3ed4e9b1-29a5-4726-b914-e711e606111f",
   "metadata": {},
   "source": [
    "📝 _<font color='red'>Відредагувати поле</font>_\n",
    "\n",
    "🎓 Хто виконав? **Прізвище Ім'я**\n",
    "\n",
    "📃 Група/підгрупа: **ДМ-2**\n",
    "\n",
    "⏱️ Дата/період виконання: **28 березня - 1 квітня 2024 р.**\n",
    "\n",
    "✔️ Варіант: **1**"
   ]
  },
  {
   "cell_type": "markdown",
   "id": "38cc9dc1-0046-430f-bbce-a4b5c0656e32",
   "metadata": {},
   "source": [
    "---"
   ]
  },
  {
   "cell_type": "code",
   "execution_count": null,
   "id": "f65f718f-673f-48fe-8ce8-b91a4b810b0d",
   "metadata": {},
   "outputs": [],
   "source": []
  },
  {
   "cell_type": "markdown",
   "id": "51fedda2-9662-4d3f-9a35-c5091a726b82",
   "metadata": {},
   "source": [
    "---"
   ]
  },
  {
   "cell_type": "markdown",
   "id": "fa184bba-0abc-4db4-a834-a42090451dcf",
   "metadata": {},
   "source": [
    "## 1. Дати визначення"
   ]
  },
  {
   "cell_type": "markdown",
   "id": "904e9e3a-5b60-4c49-a57d-510f6a6b801c",
   "metadata": {},
   "source": [
    "Потрібно дати визначення усіх понять в контексті курсу, що вивчається. Кожне поняття оформити у окремій комірці з виділенням важливих компонентів, як, наприклад, нижче. "
   ]
  },
  {
   "cell_type": "markdown",
   "id": "57ffe36c-d4b2-4e79-9aa3-569e2d90f44a",
   "metadata": {},
   "source": [
    "**Data-driven marketing** - це процес, який використовується маркетологами для `отримання інформації` та `визначення тенденцій` щодо **_споживачів_** і їхньої **_поведінки_** — що вони купують, **_ефективності реклами_** та **_способів отримання інформації_**.\n",
    "\n",
    "_Джерело: [https://en.wikipedia.org/wiki/Data_driven_marketing](https://en.wikipedia.org/wiki/Data_driven_marketing)_"
   ]
  },
  {
   "cell_type": "markdown",
   "id": "56da4e94-88dc-4e07-9fc0-dfb1444db887",
   "metadata": {},
   "source": [
    "Перелік визначень: `вектор`, `data-frame`, `розгалуження`, `цикл`."
   ]
  },
  {
   "cell_type": "markdown",
   "id": "eba4bf45-f020-4f9a-80c7-4c23bb67791a",
   "metadata": {},
   "source": [
    "## 2. Основи алгоритмізації"
   ]
  },
  {
   "cell_type": "markdown",
   "id": "a45b1fc6-a290-4f6d-bf38-70fb0ded82dd",
   "metadata": {},
   "source": [
    "🔥"
   ]
  },
  {
   "cell_type": "markdown",
   "id": "b13865b7-984d-4754-85c4-0c03923c4c6f",
   "metadata": {},
   "source": [
    "## 3. Робота з даними"
   ]
  },
  {
   "cell_type": "markdown",
   "id": "88a99ad4-880c-420a-af18-714e49d051b9",
   "metadata": {},
   "source": [
    "---"
   ]
  }
 ],
 "metadata": {
  "kernelspec": {
   "display_name": "Python 3 (ipykernel)",
   "language": "python",
   "name": "python3"
  },
  "language_info": {
   "codemirror_mode": {
    "name": "ipython",
    "version": 3
   },
   "file_extension": ".py",
   "mimetype": "text/x-python",
   "name": "python",
   "nbconvert_exporter": "python",
   "pygments_lexer": "ipython3",
   "version": "3.11.8"
  }
 },
 "nbformat": 4,
 "nbformat_minor": 5
}

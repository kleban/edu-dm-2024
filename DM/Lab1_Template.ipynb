{
 "cells": [
  {
   "cell_type": "markdown",
   "id": "d695257e-c7dd-44a9-af12-cef60b7d7e12",
   "metadata": {},
   "source": [
    "# Лабораторна робота №1 \"Основи програмування та аналізу даних в R\""
   ]
  },
  {
   "cell_type": "markdown",
   "id": "8769faee-414c-495a-8d70-3cf524d455a8",
   "metadata": {},
   "source": [
    "з курсу \"DATA-аналіз у маркетингу\", для студентів 2 курсу спеціальності 072 DATA-маркетинг"
   ]
  },
  {
   "cell_type": "markdown",
   "id": "48124904-af1b-433e-b681-b714f5fbd412",
   "metadata": {},
   "source": [
    "---"
   ]
  },
  {
   "cell_type": "markdown",
   "id": "3c1c4713-593a-4976-949d-5490fe0868cb",
   "metadata": {},
   "source": [
    "## !!!"
   ]
  },
  {
   "cell_type": "markdown",
   "id": "08fbacc2-7c6a-40a6-9375-a8c053f5920f",
   "metadata": {},
   "source": [
    "Під час виконання завдання студент/ка зобовязується дотримуватися [Кодексу академічної доброчесності Національного університету. «Острозька академія»](https://www.oa.edu.ua/publik_information/CODEX.pdf)"
   ]
  },
  {
   "cell_type": "markdown",
   "id": "c503196a-47c0-4d7b-b0f6-f125296eef9d",
   "metadata": {},
   "source": [
    "---"
   ]
  },
  {
   "cell_type": "markdown",
   "id": "1479097b-0f42-44fa-b86f-3153bbc74f36",
   "metadata": {},
   "source": [
    "## 0. Додайте інформацію про себе (0,5 бала)"
   ]
  },
  {
   "cell_type": "markdown",
   "id": "ebd8236a-3f1d-4fbd-98f0-c1b5b68af3ce",
   "metadata": {},
   "source": [
    "Створіть список (`list`) з інформаціє про себе та виведіть інформацію. Вам потрібно відобразити у списку наступну інформацію: прізвище та і'мя, назва групи, населений пункт звідки Ви родом,  варіант завдання."
   ]
  },
  {
   "cell_type": "code",
   "execution_count": 5,
   "id": "988cbf28-ed6e-4cf5-b7d9-780e917a9665",
   "metadata": {},
   "outputs": [
    {
     "data": {
      "text/html": [
       "<dl>\n",
       "\t<dt>$Name</dt>\n",
       "\t\t<dd>'Yurii'</dd>\n",
       "\t<dt>$Variant</dt>\n",
       "\t\t<dd>0</dd>\n",
       "</dl>\n"
      ],
      "text/latex": [
       "\\begin{description}\n",
       "\\item[\\$Name] 'Yurii'\n",
       "\\item[\\$Variant] 0\n",
       "\\end{description}\n"
      ],
      "text/markdown": [
       "$Name\n",
       ":   'Yurii'\n",
       "$Variant\n",
       ":   0\n",
       "\n",
       "\n"
      ],
      "text/plain": [
       "$Name\n",
       "[1] \"Yurii\"\n",
       "\n",
       "$Variant\n",
       "[1] 0\n"
      ]
     },
     "metadata": {},
     "output_type": "display_data"
    }
   ],
   "source": [
    "data <- list(Name = 'Yurii', Variant = 0)\n",
    "data"
   ]
  },
  {
   "cell_type": "markdown",
   "id": "b019fe52-931c-4757-a03a-56105db4f981",
   "metadata": {},
   "source": [
    "> _Примітка. Поле варіант буде використано у наступних завданнях, тому важливо його вказати правильно._"
   ]
  },
  {
   "cell_type": "markdown",
   "id": "51fedda2-9662-4d3f-9a35-c5091a726b82",
   "metadata": {},
   "source": [
    "---"
   ]
  },
  {
   "cell_type": "markdown",
   "id": "fa184bba-0abc-4db4-a834-a42090451dcf",
   "metadata": {},
   "source": [
    "## 1. Дати визначення (1 бал)"
   ]
  },
  {
   "cell_type": "markdown",
   "id": "904e9e3a-5b60-4c49-a57d-510f6a6b801c",
   "metadata": {},
   "source": [
    "> Потрібно дати визначення усіх понять в контексті курсу, що вивчається. Кожне поняття оформити у окремій комірці з виділенням важливих компонентів та вказанням джерела інформації, як, наприклад, нижче. "
   ]
  },
  {
   "cell_type": "markdown",
   "id": "57ffe36c-d4b2-4e79-9aa3-569e2d90f44a",
   "metadata": {},
   "source": [
    "**Data-driven marketing** - це процес, який використовується маркетологами для `отримання інформації` та `визначення тенденцій` щодо **_споживачів_** і їхньої **_поведінки_** — що вони купують, **_ефективності реклами_** та **_способів отримання інформації_**.\n",
    "\n",
    "_Джерело: [https://en.wikipedia.org/wiki/Data_driven_marketing](https://en.wikipedia.org/wiki/Data_driven_marketing)_"
   ]
  },
  {
   "cell_type": "markdown",
   "id": "56da4e94-88dc-4e07-9fc0-dfb1444db887",
   "metadata": {},
   "source": [
    "Перелік визначень: `вектор`, `data-frame`, `розгалуження`, `цикл`, `аналіз даних`, `програмування`."
   ]
  },
  {
   "cell_type": "markdown",
   "id": "4bfac9f7-a330-40c3-b2d0-9c651ad241cc",
   "metadata": {},
   "source": [
    "> _Додайте комірки нижче_..."
   ]
  },
  {
   "cell_type": "markdown",
   "id": "eba4bf45-f020-4f9a-80c7-4c23bb67791a",
   "metadata": {},
   "source": [
    "## 2. Основи алгоритмізації"
   ]
  },
  {
   "cell_type": "markdown",
   "id": "2eeacda9-1d0a-4ed4-8185-c1fb45113619",
   "metadata": {},
   "source": [
    "### 2.1. Оператори"
   ]
  },
  {
   "cell_type": "markdown",
   "id": "b5ba39f1-87e8-4913-a476-8c6e416c761a",
   "metadata": {},
   "source": [
    "> Опишіть 2-ма комірками (`Code` + `Markdown`) усі відомі Вам оператори у `R` (кожен окремо). У комірці з кодом наведіть приклади використання оператора, у комірці з розміткою пояснення: як оператор працює. Кожен оператор у звіті виділіть заголовком 4-го рівня (####) та піпишіть."
   ]
  },
  {
   "cell_type": "markdown",
   "id": "0ef733ab-b3f0-456c-959d-258faa0dc073",
   "metadata": {},
   "source": [
    "### 2.2. Типи даних"
   ]
  },
  {
   "cell_type": "markdown",
   "id": "d45e40d4-79e1-43a6-b160-52cb23a55176",
   "metadata": {},
   "source": [
    "> Створіть приклади векторів/об'єктів різник типів даних (кожен в окремій комірці ноутбука) та виведіть їх:\n",
    "> - вектор цілих чисел;\n",
    "> - вектор чисел з дробовою частиною;\n",
    "> - вектор факторів;\n",
    "> - вектор \"текстів\";\n",
    "> - матрицю;\n",
    "> - дата-фрейм;\n",
    "> - список.\n",
    "> Іменуйте змінні у форматі `назва_типу_V`, де `V` - номер Вашого варіанту. Наприклад, `dataframe_5`."
   ]
  },
  {
   "cell_type": "markdown",
   "id": "a45b1fc6-a290-4f6d-bf38-70fb0ded82dd",
   "metadata": {},
   "source": [
    "### 2.3. Вектори"
   ]
  },
  {
   "cell_type": "markdown",
   "id": "5971f3f4-4525-4c2c-936e-d531de94acd3",
   "metadata": {},
   "source": [
    "### 2.2. Дата-фрейми"
   ]
  },
  {
   "cell_type": "markdown",
   "id": "4f754660-5b42-49f2-bfa7-6f5e70d938a1",
   "metadata": {},
   "source": [
    "#### 2.2.1. Обчислення"
   ]
  },
  {
   "cell_type": "markdown",
   "id": "37e9db2b-9609-42dd-9e6b-dd2915e9425c",
   "metadata": {},
   "source": [
    "Відповідно до обраного/отриманого варіанту завдання створити data.frame та заповнити його значеннями `X`. Значення `Y` записати на першому етапі як пропуски у даних."
   ]
  },
  {
   "cell_type": "markdown",
   "id": "2b8e64d0-88ed-4778-849c-738a1b4d00f4",
   "metadata": {},
   "source": [
    "### 2.3. Функції"
   ]
  },
  {
   "cell_type": "markdown",
   "id": "46fb0ec9-773c-4f8f-8207-a95093fd4cec",
   "metadata": {},
   "source": [
    "Створіть data.frame з урахуванням варіанту завдання, де `x` - число з послідовності "
   ]
  },
  {
   "cell_type": "markdown",
   "id": "ae517088-2d07-4dfd-aad8-19649157e48e",
   "metadata": {},
   "source": [
    "## 3. Статистика"
   ]
  },
  {
   "cell_type": "markdown",
   "id": "79407cf7-ead9-4b9c-a11a-2ba8aa055a19",
   "metadata": {},
   "source": [
    "Створіть data.frame зі стовпцями даних, що мають наступні типи на певну тему з маркетингу (наприклад, щоденні спотереження за рекламною кампанією у `Instagram`):\n",
    "\n",
    "- цілі числа (з діапазону [№варіанту; №варіанту + 20]\n",
    "- цілі числа (послідовність чисел від 0 до \n",
    "- числа з дробовою частиною ()\n",
    "- фактор (3-4 різних значення)\n",
    "\n",
    "> _Примітка. Використайте як seed номер варіанту._"
   ]
  },
  {
   "cell_type": "code",
   "execution_count": 4,
   "id": "7021479d-5a58-48c3-96f1-ed9432587e85",
   "metadata": {},
   "outputs": [
    {
     "ename": "ERROR",
     "evalue": "Error in parse(text = x, srcfile = src): <text>:1:8: unexpected symbol\n1: Знайти і\n           ^\n",
     "output_type": "error",
     "traceback": [
      "Error in parse(text = x, srcfile = src): <text>:1:8: unexpected symbol\n1: Знайти і\n           ^\nTraceback:\n"
     ]
    }
   ],
   "source": [
    "Знайти і описати"
   ]
  },
  {
   "cell_type": "markdown",
   "id": "b13865b7-984d-4754-85c4-0c03923c4c6f",
   "metadata": {},
   "source": [
    "## 4. Робота з даними"
   ]
  },
  {
   "cell_type": "markdown",
   "id": "13514ab0-80c2-46c8-9424-44d52ca94504",
   "metadata": {},
   "source": [
    "### 4.1. Генерація набору даних"
   ]
  },
  {
   "cell_type": "markdown",
   "id": "5744ca7e-401d-41c0-8737-62dcaa97aa9e",
   "metadata": {},
   "source": [
    "Створіть набір даних, відповідно до варіанту завдання.\n",
    "\n",
    "> **Увага. Генеруйте дані таким чином, щоб вони були реалістичними для сценарію Вашої теми. Наприклад, якщо це продажі автомобілів, то мають бути присутні справжні марки, реалістичні роки випуску, ціни та пробіги.**\n",
    ">\n",
    "> P.S. Не забувайте про seed."
   ]
  },
  {
   "cell_type": "markdown",
   "id": "ea88ab18-48db-46c2-998e-300c0c1ce40f",
   "metadata": {},
   "source": [
    "### 4.2. Дайте відповіді на завдання обчислень."
   ]
  },
  {
   "cell_type": "markdown",
   "id": "c55bf14b-d46f-481e-bf95-5532501fb983",
   "metadata": {},
   "source": [
    "> Кожну відповідь окремо опишіть коміркою коду та коміркою тексту з поясненнями."
   ]
  },
  {
   "cell_type": "markdown",
   "id": "bae4a25a-43d2-4293-91a7-badf621df4e2",
   "metadata": {},
   "source": [
    "### 4.3. Читання та запис файлів"
   ]
  },
  {
   "cell_type": "markdown",
   "id": "bdfbe0f7-62be-4047-ab3f-f692f5949e16",
   "metadata": {},
   "source": [
    "> Для згенерованого набору даних напишіть алгоритми читання та запису з/у наступних форматів даних:\n",
    "> - csv\n",
    "> - json\n",
    "> - xml\n",
    "> - xlsx\n",
    "> Кожен приклад читання та запису зробити окремою коміркою."
   ]
  },
  {
   "cell_type": "markdown",
   "id": "88a99ad4-880c-420a-af18-714e49d051b9",
   "metadata": {},
   "source": [
    "---"
   ]
  },
  {
   "cell_type": "markdown",
   "id": "b0cba05a-d9fb-4da6-a9dd-1121e4ac5935",
   "metadata": {},
   "source": [
    "&copy; 2024 Юрій Клебан"
   ]
  }
 ],
 "metadata": {
  "kernelspec": {
   "display_name": "R",
   "language": "R",
   "name": "ir"
  },
  "language_info": {
   "codemirror_mode": "r",
   "file_extension": ".r",
   "mimetype": "text/x-r-source",
   "name": "R",
   "pygments_lexer": "r",
   "version": "4.1.3"
  }
 },
 "nbformat": 4,
 "nbformat_minor": 5
}

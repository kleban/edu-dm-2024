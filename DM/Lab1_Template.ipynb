{
 "cells": [
  {
   "cell_type": "markdown",
   "id": "d695257e-c7dd-44a9-af12-cef60b7d7e12",
   "metadata": {},
   "source": [
    "# Лабораторна робота №1 \"Основи програмування та аналізу даних в R\""
   ]
  },
  {
   "cell_type": "markdown",
   "id": "8769faee-414c-495a-8d70-3cf524d455a8",
   "metadata": {},
   "source": [
    "з курсу \"DATA-аналіз у маркетингу\", для студентів 1 курсу спеціальності 072 DATA-маркетинг"
   ]
  },
  {
   "cell_type": "markdown",
   "id": "48124904-af1b-433e-b681-b714f5fbd412",
   "metadata": {},
   "source": [
    "---"
   ]
  },
  {
   "cell_type": "markdown",
   "id": "3c1c4713-593a-4976-949d-5490fe0868cb",
   "metadata": {},
   "source": [
    "## Загальна інформація"
   ]
  },
  {
   "cell_type": "markdown",
   "id": "08fbacc2-7c6a-40a6-9375-a8c053f5920f",
   "metadata": {},
   "source": []
  },
  {
   "cell_type": "markdown",
   "id": "c503196a-47c0-4d7b-b0f6-f125296eef9d",
   "metadata": {},
   "source": [
    "---"
   ]
  },
  {
   "cell_type": "markdown",
   "id": "1479097b-0f42-44fa-b86f-3153bbc74f36",
   "metadata": {},
   "source": [
    "## 0. Додайте інформацію про себе"
   ]
  },
  {
   "cell_type": "markdown",
   "id": "ebd8236a-3f1d-4fbd-98f0-c1b5b68af3ce",
   "metadata": {},
   "source": [
    "Створіть список (`list`) з інформаціє про себе та виведіть інформацію. Вам потрібно відобразити у списку наступну інформацію: прізвище та і'мя, назва групи, населений пункт звідки Ви родом,  варіант завдання."
   ]
  },
  {
   "cell_type": "code",
   "execution_count": 3,
   "id": "988cbf28-ed6e-4cf5-b7d9-780e917a9665",
   "metadata": {},
   "outputs": [
    {
     "data": {
      "text/html": [
       "<strong>$Name</strong> = 'Yurii'"
      ],
      "text/latex": [
       "\\textbf{\\$Name} = 'Yurii'"
      ],
      "text/markdown": [
       "**$Name** = 'Yurii'"
      ],
      "text/plain": [
       "$Name\n",
       "[1] \"Yurii\"\n"
      ]
     },
     "metadata": {},
     "output_type": "display_data"
    }
   ],
   "source": [
    "data <- list(Name = 'Yurii')\n",
    "data"
   ]
  },
  {
   "cell_type": "markdown",
   "id": "51fedda2-9662-4d3f-9a35-c5091a726b82",
   "metadata": {},
   "source": [
    "---"
   ]
  },
  {
   "cell_type": "markdown",
   "id": "fa184bba-0abc-4db4-a834-a42090451dcf",
   "metadata": {},
   "source": [
    "## 1. Дати визначення (1 бал)"
   ]
  },
  {
   "cell_type": "markdown",
   "id": "904e9e3a-5b60-4c49-a57d-510f6a6b801c",
   "metadata": {},
   "source": [
    "> Потрібно дати визначення усіх понять в контексті курсу, що вивчається. Кожне поняття оформити у окремій комірці з виділенням важливих компонентів та вказанням джерела інформації, як, наприклад, нижче. "
   ]
  },
  {
   "cell_type": "markdown",
   "id": "57ffe36c-d4b2-4e79-9aa3-569e2d90f44a",
   "metadata": {},
   "source": [
    "**Data-driven marketing** - це процес, який використовується маркетологами для `отримання інформації` та `визначення тенденцій` щодо **_споживачів_** і їхньої **_поведінки_** — що вони купують, **_ефективності реклами_** та **_способів отримання інформації_**.\n",
    "\n",
    "_Джерело: [https://en.wikipedia.org/wiki/Data_driven_marketing](https://en.wikipedia.org/wiki/Data_driven_marketing)_"
   ]
  },
  {
   "cell_type": "markdown",
   "id": "56da4e94-88dc-4e07-9fc0-dfb1444db887",
   "metadata": {},
   "source": [
    "Перелік визначень: `вектор`, `data-frame`, `розгалуження`, `цикл`, `аналіз даних`, `програмування`, ``."
   ]
  },
  {
   "cell_type": "markdown",
   "id": "eba4bf45-f020-4f9a-80c7-4c23bb67791a",
   "metadata": {},
   "source": [
    "## 2. Основи алгоритмізації"
   ]
  },
  {
   "cell_type": "markdown",
   "id": "a45b1fc6-a290-4f6d-bf38-70fb0ded82dd",
   "metadata": {},
   "source": [
    "🔥"
   ]
  },
  {
   "cell_type": "markdown",
   "id": "b13865b7-984d-4754-85c4-0c03923c4c6f",
   "metadata": {},
   "source": [
    "## 3. Робота з даними"
   ]
  },
  {
   "cell_type": "markdown",
   "id": "88a99ad4-880c-420a-af18-714e49d051b9",
   "metadata": {},
   "source": [
    "---"
   ]
  }
 ],
 "metadata": {
  "kernelspec": {
   "display_name": "R",
   "language": "R",
   "name": "ir"
  },
  "language_info": {
   "codemirror_mode": "r",
   "file_extension": ".r",
   "mimetype": "text/x-r-source",
   "name": "R",
   "pygments_lexer": "r",
   "version": "4.1.3"
  }
 },
 "nbformat": 4,
 "nbformat_minor": 5
}

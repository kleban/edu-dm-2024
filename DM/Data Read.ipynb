{
 "cells": [
  {
   "cell_type": "markdown",
   "id": "42c5e1aa-8e20-424f-9086-1ec24dc8dfa7",
   "metadata": {},
   "source": [
    "Data Read"
   ]
  },
  {
   "cell_type": "code",
   "execution_count": 6,
   "id": "a28c1a24-c616-43a2-ad9e-f93c2c388326",
   "metadata": {},
   "outputs": [],
   "source": [
    "#install.packages(\"openxlsx\")"
   ]
  },
  {
   "cell_type": "code",
   "execution_count": 7,
   "id": "18ebcc7a-1c01-4d06-be86-e66e50b2c4a7",
   "metadata": {},
   "outputs": [],
   "source": [
    "library(openxlsx)"
   ]
  },
  {
   "cell_type": "code",
   "execution_count": 1,
   "id": "85c185c6-e429-454a-8489-377b4c67bb7c",
   "metadata": {},
   "outputs": [
    {
     "ename": "ERROR",
     "evalue": "Error in read.xlsx(\"data/kn1.xlsx\", sheet = 1): could not find function \"read.xlsx\"\n",
     "output_type": "error",
     "traceback": [
      "Error in read.xlsx(\"data/kn1.xlsx\", sheet = 1): could not find function \"read.xlsx\"\nTraceback:\n"
     ]
    }
   ],
   "source": [
    "data <- read.xlsx(\"data/kn1.xlsx\",  sheet = 1)"
   ]
  },
  {
   "cell_type": "code",
   "execution_count": 12,
   "id": "0e16f5c1-bd0a-4f14-95b7-cd4d170f4d64",
   "metadata": {},
   "outputs": [
    {
     "data": {
      "text/html": [
       "<table class=\"dataframe\">\n",
       "<caption>A data.frame: 6 x 4</caption>\n",
       "<thead>\n",
       "\t<tr><th></th><th scope=col>N</th><th scope=col>Name</th><th scope=col>Group</th><th scope=col>Email</th></tr>\n",
       "\t<tr><th></th><th scope=col>&lt;dbl&gt;</th><th scope=col>&lt;chr&gt;</th><th scope=col>&lt;dbl&gt;</th><th scope=col>&lt;chr&gt;</th></tr>\n",
       "</thead>\n",
       "<tbody>\n",
       "\t<tr><th scope=row>1</th><td>1</td><td>Андрощук Роман Вікторович </td><td>1</td><td>roman.androshchuk@oa.edu.ua  </td></tr>\n",
       "\t<tr><th scope=row>2</th><td>2</td><td>Башмаков Богдан Олегович  </td><td>1</td><td>bohdan.bashmakov@oa.edu.ua   </td></tr>\n",
       "\t<tr><th scope=row>3</th><td>3</td><td>Боженко Анастасія Ігорівна</td><td>1</td><td>anastasiia.bozhenko@oa.edu.ua</td></tr>\n",
       "\t<tr><th scope=row>4</th><td>4</td><td>Власенко Андрій Максимович</td><td>1</td><td>andrii.vlasenko@oa.edu.ua    </td></tr>\n",
       "\t<tr><th scope=row>5</th><td>5</td><td>Войтюк Назарій Васильович </td><td>1</td><td>nazarii.voitiuk@oa.edu.ua    </td></tr>\n",
       "\t<tr><th scope=row>6</th><td>6</td><td>Воробей Юрій Вікторович   </td><td>1</td><td>yurii.vorobei@oa.edu.ua      </td></tr>\n",
       "</tbody>\n",
       "</table>\n"
      ],
      "text/latex": [
       "A data.frame: 6 x 4\n",
       "\\begin{tabular}{r|llll}\n",
       "  & N & Name & Group & Email\\\\\n",
       "  & <dbl> & <chr> & <dbl> & <chr>\\\\\n",
       "\\hline\n",
       "\t1 & 1 & Андрощук Роман Вікторович  & 1 & roman.androshchuk@oa.edu.ua  \\\\\n",
       "\t2 & 2 & Башмаков Богдан Олегович   & 1 & bohdan.bashmakov@oa.edu.ua   \\\\\n",
       "\t3 & 3 & Боженко Анастасія Ігорівна & 1 & anastasiia.bozhenko@oa.edu.ua\\\\\n",
       "\t4 & 4 & Власенко Андрій Максимович & 1 & andrii.vlasenko@oa.edu.ua    \\\\\n",
       "\t5 & 5 & Войтюк Назарій Васильович  & 1 & nazarii.voitiuk@oa.edu.ua    \\\\\n",
       "\t6 & 6 & Воробей Юрій Вікторович    & 1 & yurii.vorobei@oa.edu.ua      \\\\\n",
       "\\end{tabular}\n"
      ],
      "text/markdown": [
       "\n",
       "A data.frame: 6 x 4\n",
       "\n",
       "| <!--/--> | N &lt;dbl&gt; | Name &lt;chr&gt; | Group &lt;dbl&gt; | Email &lt;chr&gt; |\n",
       "|---|---|---|---|---|\n",
       "| 1 | 1 | Андрощук Роман Вікторович  | 1 | roman.androshchuk@oa.edu.ua   |\n",
       "| 2 | 2 | Башмаков Богдан Олегович   | 1 | bohdan.bashmakov@oa.edu.ua    |\n",
       "| 3 | 3 | Боженко Анастасія Ігорівна | 1 | anastasiia.bozhenko@oa.edu.ua |\n",
       "| 4 | 4 | Власенко Андрій Максимович | 1 | andrii.vlasenko@oa.edu.ua     |\n",
       "| 5 | 5 | Войтюк Назарій Васильович  | 1 | nazarii.voitiuk@oa.edu.ua     |\n",
       "| 6 | 6 | Воробей Юрій Вікторович    | 1 | yurii.vorobei@oa.edu.ua       |\n",
       "\n"
      ],
      "text/plain": [
       "  N Name                       Group Email                        \n",
       "1 1 Андрощук Роман Вікторович  1     roman.androshchuk@oa.edu.ua  \n",
       "2 2 Башмаков Богдан Олегович   1     bohdan.bashmakov@oa.edu.ua   \n",
       "3 3 Боженко Анастасія Ігорівна 1     anastasiia.bozhenko@oa.edu.ua\n",
       "4 4 Власенко Андрій Максимович 1     andrii.vlasenko@oa.edu.ua    \n",
       "5 5 Войтюк Назарій Васильович  1     nazarii.voitiuk@oa.edu.ua    \n",
       "6 6 Воробей Юрій Вікторович    1     yurii.vorobei@oa.edu.ua      "
      ]
     },
     "metadata": {},
     "output_type": "display_data"
    }
   ],
   "source": [
    "head(data)"
   ]
  },
  {
   "cell_type": "code",
   "execution_count": 16,
   "id": "11fe3838-8174-4060-81d1-da1a31c0d4c7",
   "metadata": {},
   "outputs": [
    {
     "data": {
      "text/html": [
       "<style>\n",
       ".list-inline {list-style: none; margin:0; padding: 0}\n",
       ".list-inline>li {display: inline-block}\n",
       ".list-inline>li:not(:last-child)::after {content: \"\\00b7\"; padding: 0 .5ex}\n",
       "</style>\n",
       "<ol class=list-inline><li>'КН11'</li><li>'КН11'</li><li>'КН11'</li><li>'КН11'</li><li>'КН11'</li><li>'КН11'</li><li>'КН11'</li><li>'КН11'</li><li>'КН11'</li><li>'КН11'</li><li>'КН11'</li><li>'КН12'</li><li>'КН12'</li><li>'КН12'</li><li>'КН12'</li><li>'КН12'</li><li>'КН12'</li><li>'КН12'</li><li>'КН12'</li><li>'КН12'</li><li>'КН12'</li><li>'КН12'</li></ol>\n"
      ],
      "text/latex": [
       "\\begin{enumerate*}\n",
       "\\item 'КН11'\n",
       "\\item 'КН11'\n",
       "\\item 'КН11'\n",
       "\\item 'КН11'\n",
       "\\item 'КН11'\n",
       "\\item 'КН11'\n",
       "\\item 'КН11'\n",
       "\\item 'КН11'\n",
       "\\item 'КН11'\n",
       "\\item 'КН11'\n",
       "\\item 'КН11'\n",
       "\\item 'КН12'\n",
       "\\item 'КН12'\n",
       "\\item 'КН12'\n",
       "\\item 'КН12'\n",
       "\\item 'КН12'\n",
       "\\item 'КН12'\n",
       "\\item 'КН12'\n",
       "\\item 'КН12'\n",
       "\\item 'КН12'\n",
       "\\item 'КН12'\n",
       "\\item 'КН12'\n",
       "\\end{enumerate*}\n"
      ],
      "text/markdown": [
       "1. 'КН11'\n",
       "2. 'КН11'\n",
       "3. 'КН11'\n",
       "4. 'КН11'\n",
       "5. 'КН11'\n",
       "6. 'КН11'\n",
       "7. 'КН11'\n",
       "8. 'КН11'\n",
       "9. 'КН11'\n",
       "10. 'КН11'\n",
       "11. 'КН11'\n",
       "12. 'КН12'\n",
       "13. 'КН12'\n",
       "14. 'КН12'\n",
       "15. 'КН12'\n",
       "16. 'КН12'\n",
       "17. 'КН12'\n",
       "18. 'КН12'\n",
       "19. 'КН12'\n",
       "20. 'КН12'\n",
       "21. 'КН12'\n",
       "22. 'КН12'\n",
       "\n",
       "\n"
      ],
      "text/plain": [
       " [1] \"КН11\" \"КН11\" \"КН11\" \"КН11\" \"КН11\" \"КН11\" \"КН11\" \"КН11\" \"КН11\" \"КН11\"\n",
       "[11] \"КН11\" \"КН12\" \"КН12\" \"КН12\" \"КН12\" \"КН12\" \"КН12\" \"КН12\" \"КН12\" \"КН12\"\n",
       "[21] \"КН12\" \"КН12\""
      ]
     },
     "metadata": {},
     "output_type": "display_data"
    }
   ],
   "source": []
  },
  {
   "cell_type": "code",
   "execution_count": 21,
   "id": "34fa4b45-d26b-436a-9b02-827aa5bb4918",
   "metadata": {},
   "outputs": [],
   "source": [
    "data$Group <- paste(\"КН1\", data$Group, sep = \"\")"
   ]
  },
  {
   "cell_type": "code",
   "execution_count": 26,
   "id": "330657d3-df85-4fbc-a56a-b61690cbacd2",
   "metadata": {},
   "outputs": [
    {
     "data": {
      "text/html": [
       "<table class=\"dataframe\">\n",
       "<caption>A data.frame: 6 x 4</caption>\n",
       "<thead>\n",
       "\t<tr><th></th><th scope=col>N</th><th scope=col>Name</th><th scope=col>Group</th><th scope=col>Email</th></tr>\n",
       "\t<tr><th></th><th scope=col>&lt;dbl&gt;</th><th scope=col>&lt;chr&gt;</th><th scope=col>&lt;chr&gt;</th><th scope=col>&lt;chr&gt;</th></tr>\n",
       "</thead>\n",
       "<tbody>\n",
       "\t<tr><th scope=row>1</th><td>1</td><td>Андрощук Роман Вікторович </td><td>КН11</td><td>roman.androshchuk@oa.edu.ua  </td></tr>\n",
       "\t<tr><th scope=row>2</th><td>2</td><td>Башмаков Богдан Олегович  </td><td>КН11</td><td>bohdan.bashmakov@oa.edu.ua   </td></tr>\n",
       "\t<tr><th scope=row>3</th><td>3</td><td>Боженко Анастасія Ігорівна</td><td>КН11</td><td>anastasiia.bozhenko@oa.edu.ua</td></tr>\n",
       "\t<tr><th scope=row>4</th><td>4</td><td>Власенко Андрій Максимович</td><td>КН11</td><td>andrii.vlasenko@oa.edu.ua    </td></tr>\n",
       "\t<tr><th scope=row>5</th><td>5</td><td>Войтюк Назарій Васильович </td><td>КН11</td><td>nazarii.voitiuk@oa.edu.ua    </td></tr>\n",
       "\t<tr><th scope=row>6</th><td>6</td><td>Воробей Юрій Вікторович   </td><td>КН11</td><td>yurii.vorobei@oa.edu.ua      </td></tr>\n",
       "</tbody>\n",
       "</table>\n"
      ],
      "text/latex": [
       "A data.frame: 6 x 4\n",
       "\\begin{tabular}{r|llll}\n",
       "  & N & Name & Group & Email\\\\\n",
       "  & <dbl> & <chr> & <chr> & <chr>\\\\\n",
       "\\hline\n",
       "\t1 & 1 & Андрощук Роман Вікторович  & КН11 & roman.androshchuk@oa.edu.ua  \\\\\n",
       "\t2 & 2 & Башмаков Богдан Олегович   & КН11 & bohdan.bashmakov@oa.edu.ua   \\\\\n",
       "\t3 & 3 & Боженко Анастасія Ігорівна & КН11 & anastasiia.bozhenko@oa.edu.ua\\\\\n",
       "\t4 & 4 & Власенко Андрій Максимович & КН11 & andrii.vlasenko@oa.edu.ua    \\\\\n",
       "\t5 & 5 & Войтюк Назарій Васильович  & КН11 & nazarii.voitiuk@oa.edu.ua    \\\\\n",
       "\t6 & 6 & Воробей Юрій Вікторович    & КН11 & yurii.vorobei@oa.edu.ua      \\\\\n",
       "\\end{tabular}\n"
      ],
      "text/markdown": [
       "\n",
       "A data.frame: 6 x 4\n",
       "\n",
       "| <!--/--> | N &lt;dbl&gt; | Name &lt;chr&gt; | Group &lt;chr&gt; | Email &lt;chr&gt; |\n",
       "|---|---|---|---|---|\n",
       "| 1 | 1 | Андрощук Роман Вікторович  | КН11 | roman.androshchuk@oa.edu.ua   |\n",
       "| 2 | 2 | Башмаков Богдан Олегович   | КН11 | bohdan.bashmakov@oa.edu.ua    |\n",
       "| 3 | 3 | Боженко Анастасія Ігорівна | КН11 | anastasiia.bozhenko@oa.edu.ua |\n",
       "| 4 | 4 | Власенко Андрій Максимович | КН11 | andrii.vlasenko@oa.edu.ua     |\n",
       "| 5 | 5 | Войтюк Назарій Васильович  | КН11 | nazarii.voitiuk@oa.edu.ua     |\n",
       "| 6 | 6 | Воробей Юрій Вікторович    | КН11 | yurii.vorobei@oa.edu.ua       |\n",
       "\n"
      ],
      "text/plain": [
       "  N Name                       Group Email                        \n",
       "1 1 Андрощук Роман Вікторович  КН11  roman.androshchuk@oa.edu.ua  \n",
       "2 2 Башмаков Богдан Олегович   КН11  bohdan.bashmakov@oa.edu.ua   \n",
       "3 3 Боженко Анастасія Ігорівна КН11  anastasiia.bozhenko@oa.edu.ua\n",
       "4 4 Власенко Андрій Максимович КН11  andrii.vlasenko@oa.edu.ua    \n",
       "5 5 Войтюк Назарій Васильович  КН11  nazarii.voitiuk@oa.edu.ua    \n",
       "6 6 Воробей Юрій Вікторович    КН11  yurii.vorobei@oa.edu.ua      "
      ]
     },
     "metadata": {},
     "output_type": "display_data"
    }
   ],
   "source": [
    "head(data)"
   ]
  },
  {
   "cell_type": "code",
   "execution_count": null,
   "id": "9cf397ed-8b20-49df-a18d-e0b6f688b0ce",
   "metadata": {},
   "outputs": [],
   "source": []
  },
  {
   "cell_type": "code",
   "execution_count": 27,
   "id": "95e89486-9fbc-4122-92c4-f5669d6fe1ee",
   "metadata": {},
   "outputs": [],
   "source": [
    "write.xlsx(data, \"data/kn1_new.xlsx\", colNames = TRUE)"
   ]
  },
  {
   "cell_type": "markdown",
   "id": "8a0eba57-0b69-4a50-92ed-38e1c17a2f8e",
   "metadata": {},
   "source": [
    "## XML"
   ]
  },
  {
   "cell_type": "code",
   "execution_count": 28,
   "id": "3a24e8d5-d58a-40c7-96f4-7b1150054006",
   "metadata": {},
   "outputs": [],
   "source": [
    "xml_path <- \"data/workers.xml\""
   ]
  },
  {
   "cell_type": "code",
   "execution_count": 31,
   "id": "19c2792a-8d13-4845-b292-c9cc683ed469",
   "metadata": {},
   "outputs": [],
   "source": [
    "#install.packages(\"XML\")\n",
    "#install.packages(\"methods\")"
   ]
  },
  {
   "cell_type": "code",
   "execution_count": 32,
   "id": "c208e6a6-6604-4ded-8580-82a01f33c4f3",
   "metadata": {},
   "outputs": [],
   "source": [
    "library(\"XML\")\n",
    "library(\"methods\")"
   ]
  },
  {
   "cell_type": "code",
   "execution_count": 35,
   "id": "745f6de2-6185-4da2-84b9-0106d1b54ff6",
   "metadata": {},
   "outputs": [
    {
     "name": "stdout",
     "output_type": "stream",
     "text": [
      "<?xml version=\"1.0\"?>\n",
      "<RECORDS>\n",
      "  <EMPLOYEE>\n",
      "    <ID>1</ID>\n",
      "    <NAME>Rick</NAME>\n",
      "    <SALARY>623.3</SALARY>\n",
      "    <STARTDATE>1/1/2012</STARTDATE>\n",
      "    <DEPT>IT</DEPT>\n",
      "  </EMPLOYEE>\n",
      "  <EMPLOYEE>\n",
      "    <ID>2</ID>\n",
      "    <NAME>Dan</NAME>\n",
      "    <SALARY>515.2</SALARY>\n",
      "    <STARTDATE>9/23/2013</STARTDATE>\n",
      "    <DEPT>Operations</DEPT>\n",
      "  </EMPLOYEE>\n",
      "  <EMPLOYEE>\n",
      "    <ID>3</ID>\n",
      "    <NAME>Michelle</NAME>\n",
      "    <SALARY>611</SALARY>\n",
      "    <STARTDATE>11/15/2014</STARTDATE>\n",
      "    <DEPT>IT</DEPT>\n",
      "  </EMPLOYEE>\n",
      "  <EMPLOYEE>\n",
      "    <ID>4</ID>\n",
      "    <NAME>Ryan</NAME>\n",
      "    <SALARY>729</SALARY>\n",
      "    <STARTDATE>5/11/2014</STARTDATE>\n",
      "    <DEPT>HR</DEPT>\n",
      "  </EMPLOYEE>\n",
      "  <EMPLOYEE>\n",
      "    <ID>5</ID>\n",
      "    <NAME>Gary</NAME>\n",
      "    <SALARY>843.25</SALARY>\n",
      "    <STARTDATE>3/27/2015</STARTDATE>\n",
      "    <DEPT>Finance</DEPT>\n",
      "  </EMPLOYEE>\n",
      "  <EMPLOYEE>\n",
      "    <ID>6</ID>\n",
      "    <NAME>Nina</NAME>\n",
      "    <SALARY>578</SALARY>\n",
      "    <STARTDATE>5/21/2013</STARTDATE>\n",
      "    <DEPT>IT</DEPT>\n",
      "  </EMPLOYEE>\n",
      "  <EMPLOYEE>\n",
      "    <ID>7</ID>\n",
      "    <NAME>Simon</NAME>\n",
      "    <SALARY>632.8</SALARY>\n",
      "    <STARTDATE>7/30/2013</STARTDATE>\n",
      "    <DEPT>Operations</DEPT>\n",
      "  </EMPLOYEE>\n",
      "  <EMPLOYEE>\n",
      "    <ID>8</ID>\n",
      "    <NAME>Guru</NAME>\n",
      "    <SALARY>722.5</SALARY>\n",
      "    <STARTDATE>6/17/2014</STARTDATE>\n",
      "    <DEPT>Finance</DEPT>\n",
      "  </EMPLOYEE>\n",
      "</RECORDS>\n",
      " \n"
     ]
    }
   ],
   "source": [
    "result <- xmlParse(file = xml_path)\n",
    "print(result)"
   ]
  },
  {
   "cell_type": "code",
   "execution_count": 38,
   "id": "e54ffd99-10ee-49e7-b411-8c728b294f6b",
   "metadata": {},
   "outputs": [
    {
     "data": {
      "text/plain": [
       "<EMPLOYEE>\n",
       "  <ID>2</ID>\n",
       "  <NAME>Dan</NAME>\n",
       "  <SALARY>515.2</SALARY>\n",
       "  <STARTDATE>9/23/2013</STARTDATE>\n",
       "  <DEPT>Operations</DEPT>\n",
       "</EMPLOYEE> "
      ]
     },
     "metadata": {},
     "output_type": "display_data"
    }
   ],
   "source": [
    "rootnode <- xmlRoot(result) # reading rootnode of xml document\n",
    "rootnode[[2]]"
   ]
  },
  {
   "cell_type": "code",
   "execution_count": 42,
   "id": "7fcdbb7d-617a-4eaf-9b72-757b50bfcc5d",
   "metadata": {},
   "outputs": [
    {
     "data": {
      "text/html": [
       "<table class=\"dataframe\">\n",
       "<caption>A data.frame: 8 x 5</caption>\n",
       "<thead>\n",
       "\t<tr><th scope=col>ID</th><th scope=col>NAME</th><th scope=col>SALARY</th><th scope=col>STARTDATE</th><th scope=col>DEPT</th></tr>\n",
       "\t<tr><th scope=col>&lt;chr&gt;</th><th scope=col>&lt;chr&gt;</th><th scope=col>&lt;chr&gt;</th><th scope=col>&lt;chr&gt;</th><th scope=col>&lt;chr&gt;</th></tr>\n",
       "</thead>\n",
       "<tbody>\n",
       "\t<tr><td>1</td><td>Rick    </td><td>623.3 </td><td>1/1/2012  </td><td>IT        </td></tr>\n",
       "\t<tr><td>2</td><td>Dan     </td><td>515.2 </td><td>9/23/2013 </td><td>Operations</td></tr>\n",
       "\t<tr><td>3</td><td>Michelle</td><td>611   </td><td>11/15/2014</td><td>IT        </td></tr>\n",
       "\t<tr><td>4</td><td>Ryan    </td><td>729   </td><td>5/11/2014 </td><td>HR        </td></tr>\n",
       "\t<tr><td>5</td><td>Gary    </td><td>843.25</td><td>3/27/2015 </td><td>Finance   </td></tr>\n",
       "\t<tr><td>6</td><td>Nina    </td><td>578   </td><td>5/21/2013 </td><td>IT        </td></tr>\n",
       "\t<tr><td>7</td><td>Simon   </td><td>632.8 </td><td>7/30/2013 </td><td>Operations</td></tr>\n",
       "\t<tr><td>8</td><td>Guru    </td><td>722.5 </td><td>6/17/2014 </td><td>Finance   </td></tr>\n",
       "</tbody>\n",
       "</table>\n"
      ],
      "text/latex": [
       "A data.frame: 8 x 5\n",
       "\\begin{tabular}{lllll}\n",
       " ID & NAME & SALARY & STARTDATE & DEPT\\\\\n",
       " <chr> & <chr> & <chr> & <chr> & <chr>\\\\\n",
       "\\hline\n",
       "\t 1 & Rick     & 623.3  & 1/1/2012   & IT        \\\\\n",
       "\t 2 & Dan      & 515.2  & 9/23/2013  & Operations\\\\\n",
       "\t 3 & Michelle & 611    & 11/15/2014 & IT        \\\\\n",
       "\t 4 & Ryan     & 729    & 5/11/2014  & HR        \\\\\n",
       "\t 5 & Gary     & 843.25 & 3/27/2015  & Finance   \\\\\n",
       "\t 6 & Nina     & 578    & 5/21/2013  & IT        \\\\\n",
       "\t 7 & Simon    & 632.8  & 7/30/2013  & Operations\\\\\n",
       "\t 8 & Guru     & 722.5  & 6/17/2014  & Finance   \\\\\n",
       "\\end{tabular}\n"
      ],
      "text/markdown": [
       "\n",
       "A data.frame: 8 x 5\n",
       "\n",
       "| ID &lt;chr&gt; | NAME &lt;chr&gt; | SALARY &lt;chr&gt; | STARTDATE &lt;chr&gt; | DEPT &lt;chr&gt; |\n",
       "|---|---|---|---|---|\n",
       "| 1 | Rick     | 623.3  | 1/1/2012   | IT         |\n",
       "| 2 | Dan      | 515.2  | 9/23/2013  | Operations |\n",
       "| 3 | Michelle | 611    | 11/15/2014 | IT         |\n",
       "| 4 | Ryan     | 729    | 5/11/2014  | HR         |\n",
       "| 5 | Gary     | 843.25 | 3/27/2015  | Finance    |\n",
       "| 6 | Nina     | 578    | 5/21/2013  | IT         |\n",
       "| 7 | Simon    | 632.8  | 7/30/2013  | Operations |\n",
       "| 8 | Guru     | 722.5  | 6/17/2014  | Finance    |\n",
       "\n"
      ],
      "text/plain": [
       "  ID NAME     SALARY STARTDATE  DEPT      \n",
       "1 1  Rick     623.3  1/1/2012   IT        \n",
       "2 2  Dan      515.2  9/23/2013  Operations\n",
       "3 3  Michelle 611    11/15/2014 IT        \n",
       "4 4  Ryan     729    5/11/2014  HR        \n",
       "5 5  Gary     843.25 3/27/2015  Finance   \n",
       "6 6  Nina     578    5/21/2013  IT        \n",
       "7 7  Simon    632.8  7/30/2013  Operations\n",
       "8 8  Guru     722.5  6/17/2014  Finance   "
      ]
     },
     "metadata": {},
     "output_type": "display_data"
    }
   ],
   "source": [
    "data <- xmlToDataFrame(xml_path)\n",
    "data"
   ]
  },
  {
   "cell_type": "code",
   "execution_count": 44,
   "id": "4d59c929-0fa0-4d0c-b7e3-dee548d68bb8",
   "metadata": {},
   "outputs": [],
   "source": [
    "data$SALARY <- as.numeric(data$SALARY)"
   ]
  },
  {
   "cell_type": "code",
   "execution_count": 45,
   "id": "4ef179a2-58c8-4249-b81e-6cb4cbe5eb2c",
   "metadata": {},
   "outputs": [
    {
     "data": {
      "text/html": [
       "<table class=\"dataframe\">\n",
       "<caption>A data.frame: 6 x 5</caption>\n",
       "<thead>\n",
       "\t<tr><th></th><th scope=col>ID</th><th scope=col>NAME</th><th scope=col>SALARY</th><th scope=col>STARTDATE</th><th scope=col>DEPT</th></tr>\n",
       "\t<tr><th></th><th scope=col>&lt;chr&gt;</th><th scope=col>&lt;chr&gt;</th><th scope=col>&lt;dbl&gt;</th><th scope=col>&lt;chr&gt;</th><th scope=col>&lt;chr&gt;</th></tr>\n",
       "</thead>\n",
       "<tbody>\n",
       "\t<tr><th scope=row>1</th><td>1</td><td>Rick    </td><td>623.30</td><td>1/1/2012  </td><td>IT        </td></tr>\n",
       "\t<tr><th scope=row>2</th><td>2</td><td>Dan     </td><td>515.20</td><td>9/23/2013 </td><td>Operations</td></tr>\n",
       "\t<tr><th scope=row>3</th><td>3</td><td>Michelle</td><td>611.00</td><td>11/15/2014</td><td>IT        </td></tr>\n",
       "\t<tr><th scope=row>4</th><td>4</td><td>Ryan    </td><td>729.00</td><td>5/11/2014 </td><td>HR        </td></tr>\n",
       "\t<tr><th scope=row>5</th><td>5</td><td>Gary    </td><td>843.25</td><td>3/27/2015 </td><td>Finance   </td></tr>\n",
       "\t<tr><th scope=row>6</th><td>6</td><td>Nina    </td><td>578.00</td><td>5/21/2013 </td><td>IT        </td></tr>\n",
       "</tbody>\n",
       "</table>\n"
      ],
      "text/latex": [
       "A data.frame: 6 x 5\n",
       "\\begin{tabular}{r|lllll}\n",
       "  & ID & NAME & SALARY & STARTDATE & DEPT\\\\\n",
       "  & <chr> & <chr> & <dbl> & <chr> & <chr>\\\\\n",
       "\\hline\n",
       "\t1 & 1 & Rick     & 623.30 & 1/1/2012   & IT        \\\\\n",
       "\t2 & 2 & Dan      & 515.20 & 9/23/2013  & Operations\\\\\n",
       "\t3 & 3 & Michelle & 611.00 & 11/15/2014 & IT        \\\\\n",
       "\t4 & 4 & Ryan     & 729.00 & 5/11/2014  & HR        \\\\\n",
       "\t5 & 5 & Gary     & 843.25 & 3/27/2015  & Finance   \\\\\n",
       "\t6 & 6 & Nina     & 578.00 & 5/21/2013  & IT        \\\\\n",
       "\\end{tabular}\n"
      ],
      "text/markdown": [
       "\n",
       "A data.frame: 6 x 5\n",
       "\n",
       "| <!--/--> | ID &lt;chr&gt; | NAME &lt;chr&gt; | SALARY &lt;dbl&gt; | STARTDATE &lt;chr&gt; | DEPT &lt;chr&gt; |\n",
       "|---|---|---|---|---|---|\n",
       "| 1 | 1 | Rick     | 623.30 | 1/1/2012   | IT         |\n",
       "| 2 | 2 | Dan      | 515.20 | 9/23/2013  | Operations |\n",
       "| 3 | 3 | Michelle | 611.00 | 11/15/2014 | IT         |\n",
       "| 4 | 4 | Ryan     | 729.00 | 5/11/2014  | HR         |\n",
       "| 5 | 5 | Gary     | 843.25 | 3/27/2015  | Finance    |\n",
       "| 6 | 6 | Nina     | 578.00 | 5/21/2013  | IT         |\n",
       "\n"
      ],
      "text/plain": [
       "  ID NAME     SALARY STARTDATE  DEPT      \n",
       "1 1  Rick     623.30 1/1/2012   IT        \n",
       "2 2  Dan      515.20 9/23/2013  Operations\n",
       "3 3  Michelle 611.00 11/15/2014 IT        \n",
       "4 4  Ryan     729.00 5/11/2014  HR        \n",
       "5 5  Gary     843.25 3/27/2015  Finance   \n",
       "6 6  Nina     578.00 5/21/2013  IT        "
      ]
     },
     "metadata": {},
     "output_type": "display_data"
    }
   ],
   "source": [
    "head(data)"
   ]
  },
  {
   "cell_type": "markdown",
   "id": "b4729494-d139-462d-b435-f9dfd70d2605",
   "metadata": {},
   "source": [
    "## API demo"
   ]
  },
  {
   "cell_type": "code",
   "execution_count": 48,
   "id": "ff933c6a-af4c-4900-bd9d-a7cb71e03282",
   "metadata": {},
   "outputs": [],
   "source": [
    "# install.packages(\"jsonlite\")"
   ]
  },
  {
   "cell_type": "code",
   "execution_count": 49,
   "id": "f5dcfcd2-547b-4981-b9bb-71deba29742c",
   "metadata": {},
   "outputs": [],
   "source": [
    "library(jsonlite)"
   ]
  },
  {
   "cell_type": "code",
   "execution_count": 50,
   "id": "85a5c645-589b-46a2-88b7-810f121d0a10",
   "metadata": {},
   "outputs": [],
   "source": [
    "# https://api.binance.com/api/v3/klines?symbol="
   ]
  },
  {
   "cell_type": "code",
   "execution_count": 52,
   "id": "a7f6b1fc-85de-46e2-9aff-96a6602a21b0",
   "metadata": {},
   "outputs": [
    {
     "name": "stdout",
     "output_type": "stream",
     "text": [
      "[1] \"https://api.binance.com/api/v3/klines?symbol=BTCUSDT&interval=1h&limit=100\"\n"
     ]
    }
   ],
   "source": [
    "market = 'BTCUSDT'\n",
    "interval = '1h'\n",
    "limit = 100\n",
    "\n",
    "url <- paste0(url = \"https://api.binance.com/api/v3/klines?symbol=\", market ,\"&interval=\", interval,\"&limit=\", limit)\n",
    "print(url) "
   ]
  },
  {
   "cell_type": "code",
   "execution_count": 53,
   "id": "584c3396-77bc-4b75-ae94-7d00f3ff9887",
   "metadata": {},
   "outputs": [],
   "source": [
    "data <- fromJSON(url)"
   ]
  },
  {
   "cell_type": "code",
   "execution_count": 55,
   "id": "a653bfdb-be9a-4bc6-ba12-9e2fb612e39d",
   "metadata": {},
   "outputs": [
    {
     "data": {
      "text/html": [
       "<table class=\"dataframe\">\n",
       "<caption>A matrix: 6 x 12 of type chr</caption>\n",
       "<tbody>\n",
       "\t<tr><td>1711173600000</td><td>64075.13000000</td><td>64289.98000000</td><td>63984.00000000</td><td>64166.00000000</td><td>672.35298000 </td><td>1711177199999</td><td>43113708.68458750</td><td>56229</td><td>309.68436000</td><td>19861860.52178710</td><td>0</td></tr>\n",
       "\t<tr><td>1711177200000</td><td>64166.01000000</td><td>64856.01000000</td><td>64162.02000000</td><td>64575.41000000</td><td>1460.39196000</td><td>1711180799999</td><td>94311129.87050390</td><td>80378</td><td>781.38791000</td><td>50463847.18794910</td><td>0</td></tr>\n",
       "\t<tr><td>1711180800000</td><td>64575.41000000</td><td>64857.14000000</td><td>64220.00000000</td><td>64521.99000000</td><td>1135.10972000</td><td>1711184399999</td><td>73243153.58298440</td><td>69721</td><td>518.17415000</td><td>33444854.17441850</td><td>0</td></tr>\n",
       "\t<tr><td>1711184400000</td><td>64522.00000000</td><td>64597.64000000</td><td>64186.21000000</td><td>64470.00000000</td><td>802.07123000 </td><td>1711187999999</td><td>51611101.36205060</td><td>62709</td><td>364.71520000</td><td>23469890.50670210</td><td>0</td></tr>\n",
       "\t<tr><td>1.711188e+12 </td><td>64470.00000000</td><td>64712.33000000</td><td>64204.09000000</td><td>64320.01000000</td><td>884.49724000 </td><td>1711191599999</td><td>57036577.46246520</td><td>72727</td><td>374.39768000</td><td>24150030.56328060</td><td>0</td></tr>\n",
       "\t<tr><td>1711191600000</td><td>64320.00000000</td><td>64629.62000000</td><td>64234.00000000</td><td>64629.62000000</td><td>639.87361000 </td><td>1711195199999</td><td>41260831.35308810</td><td>57022</td><td>350.87398000</td><td>22627680.88648620</td><td>0</td></tr>\n",
       "</tbody>\n",
       "</table>\n"
      ],
      "text/latex": [
       "A matrix: 6 x 12 of type chr\n",
       "\\begin{tabular}{llllllllllll}\n",
       "\t 1711173600000 & 64075.13000000 & 64289.98000000 & 63984.00000000 & 64166.00000000 & 672.35298000  & 1711177199999 & 43113708.68458750 & 56229 & 309.68436000 & 19861860.52178710 & 0\\\\\n",
       "\t 1711177200000 & 64166.01000000 & 64856.01000000 & 64162.02000000 & 64575.41000000 & 1460.39196000 & 1711180799999 & 94311129.87050390 & 80378 & 781.38791000 & 50463847.18794910 & 0\\\\\n",
       "\t 1711180800000 & 64575.41000000 & 64857.14000000 & 64220.00000000 & 64521.99000000 & 1135.10972000 & 1711184399999 & 73243153.58298440 & 69721 & 518.17415000 & 33444854.17441850 & 0\\\\\n",
       "\t 1711184400000 & 64522.00000000 & 64597.64000000 & 64186.21000000 & 64470.00000000 & 802.07123000  & 1711187999999 & 51611101.36205060 & 62709 & 364.71520000 & 23469890.50670210 & 0\\\\\n",
       "\t 1.711188e+12  & 64470.00000000 & 64712.33000000 & 64204.09000000 & 64320.01000000 & 884.49724000  & 1711191599999 & 57036577.46246520 & 72727 & 374.39768000 & 24150030.56328060 & 0\\\\\n",
       "\t 1711191600000 & 64320.00000000 & 64629.62000000 & 64234.00000000 & 64629.62000000 & 639.87361000  & 1711195199999 & 41260831.35308810 & 57022 & 350.87398000 & 22627680.88648620 & 0\\\\\n",
       "\\end{tabular}\n"
      ],
      "text/markdown": [
       "\n",
       "A matrix: 6 x 12 of type chr\n",
       "\n",
       "| 1711173600000 | 64075.13000000 | 64289.98000000 | 63984.00000000 | 64166.00000000 | 672.35298000  | 1711177199999 | 43113708.68458750 | 56229 | 309.68436000 | 19861860.52178710 | 0 |\n",
       "| 1711177200000 | 64166.01000000 | 64856.01000000 | 64162.02000000 | 64575.41000000 | 1460.39196000 | 1711180799999 | 94311129.87050390 | 80378 | 781.38791000 | 50463847.18794910 | 0 |\n",
       "| 1711180800000 | 64575.41000000 | 64857.14000000 | 64220.00000000 | 64521.99000000 | 1135.10972000 | 1711184399999 | 73243153.58298440 | 69721 | 518.17415000 | 33444854.17441850 | 0 |\n",
       "| 1711184400000 | 64522.00000000 | 64597.64000000 | 64186.21000000 | 64470.00000000 | 802.07123000  | 1711187999999 | 51611101.36205060 | 62709 | 364.71520000 | 23469890.50670210 | 0 |\n",
       "| 1.711188e+12  | 64470.00000000 | 64712.33000000 | 64204.09000000 | 64320.01000000 | 884.49724000  | 1711191599999 | 57036577.46246520 | 72727 | 374.39768000 | 24150030.56328060 | 0 |\n",
       "| 1711191600000 | 64320.00000000 | 64629.62000000 | 64234.00000000 | 64629.62000000 | 639.87361000  | 1711195199999 | 41260831.35308810 | 57022 | 350.87398000 | 22627680.88648620 | 0 |\n",
       "\n"
      ],
      "text/plain": [
       "     [,1]          [,2]           [,3]           [,4]           [,5]          \n",
       "[1,] 1711173600000 64075.13000000 64289.98000000 63984.00000000 64166.00000000\n",
       "[2,] 1711177200000 64166.01000000 64856.01000000 64162.02000000 64575.41000000\n",
       "[3,] 1711180800000 64575.41000000 64857.14000000 64220.00000000 64521.99000000\n",
       "[4,] 1711184400000 64522.00000000 64597.64000000 64186.21000000 64470.00000000\n",
       "[5,] 1.711188e+12  64470.00000000 64712.33000000 64204.09000000 64320.01000000\n",
       "[6,] 1711191600000 64320.00000000 64629.62000000 64234.00000000 64629.62000000\n",
       "     [,6]          [,7]          [,8]              [,9]  [,10]       \n",
       "[1,] 672.35298000  1711177199999 43113708.68458750 56229 309.68436000\n",
       "[2,] 1460.39196000 1711180799999 94311129.87050390 80378 781.38791000\n",
       "[3,] 1135.10972000 1711184399999 73243153.58298440 69721 518.17415000\n",
       "[4,] 802.07123000  1711187999999 51611101.36205060 62709 364.71520000\n",
       "[5,] 884.49724000  1711191599999 57036577.46246520 72727 374.39768000\n",
       "[6,] 639.87361000  1711195199999 41260831.35308810 57022 350.87398000\n",
       "     [,11]             [,12]\n",
       "[1,] 19861860.52178710 0    \n",
       "[2,] 50463847.18794910 0    \n",
       "[3,] 33444854.17441850 0    \n",
       "[4,] 23469890.50670210 0    \n",
       "[5,] 24150030.56328060 0    \n",
       "[6,] 22627680.88648620 0    "
      ]
     },
     "metadata": {},
     "output_type": "display_data"
    }
   ],
   "source": [
    "head(data)"
   ]
  },
  {
   "cell_type": "code",
   "execution_count": 57,
   "id": "bd1ea3a0-4008-4a71-a1b3-bee43abe512b",
   "metadata": {},
   "outputs": [
    {
     "data": {
      "text/html": [
       "<table class=\"dataframe\">\n",
       "<caption>A matrix: 6 x 7 of type chr</caption>\n",
       "<tbody>\n",
       "\t<tr><td>1711173600000</td><td>64075.13000000</td><td>64289.98000000</td><td>63984.00000000</td><td>64166.00000000</td><td>672.35298000 </td><td>1711177199999</td></tr>\n",
       "\t<tr><td>1711177200000</td><td>64166.01000000</td><td>64856.01000000</td><td>64162.02000000</td><td>64575.41000000</td><td>1460.39196000</td><td>1711180799999</td></tr>\n",
       "\t<tr><td>1711180800000</td><td>64575.41000000</td><td>64857.14000000</td><td>64220.00000000</td><td>64521.99000000</td><td>1135.10972000</td><td>1711184399999</td></tr>\n",
       "\t<tr><td>1711184400000</td><td>64522.00000000</td><td>64597.64000000</td><td>64186.21000000</td><td>64470.00000000</td><td>802.07123000 </td><td>1711187999999</td></tr>\n",
       "\t<tr><td>1.711188e+12 </td><td>64470.00000000</td><td>64712.33000000</td><td>64204.09000000</td><td>64320.01000000</td><td>884.49724000 </td><td>1711191599999</td></tr>\n",
       "\t<tr><td>1711191600000</td><td>64320.00000000</td><td>64629.62000000</td><td>64234.00000000</td><td>64629.62000000</td><td>639.87361000 </td><td>1711195199999</td></tr>\n",
       "</tbody>\n",
       "</table>\n"
      ],
      "text/latex": [
       "A matrix: 6 x 7 of type chr\n",
       "\\begin{tabular}{lllllll}\n",
       "\t 1711173600000 & 64075.13000000 & 64289.98000000 & 63984.00000000 & 64166.00000000 & 672.35298000  & 1711177199999\\\\\n",
       "\t 1711177200000 & 64166.01000000 & 64856.01000000 & 64162.02000000 & 64575.41000000 & 1460.39196000 & 1711180799999\\\\\n",
       "\t 1711180800000 & 64575.41000000 & 64857.14000000 & 64220.00000000 & 64521.99000000 & 1135.10972000 & 1711184399999\\\\\n",
       "\t 1711184400000 & 64522.00000000 & 64597.64000000 & 64186.21000000 & 64470.00000000 & 802.07123000  & 1711187999999\\\\\n",
       "\t 1.711188e+12  & 64470.00000000 & 64712.33000000 & 64204.09000000 & 64320.01000000 & 884.49724000  & 1711191599999\\\\\n",
       "\t 1711191600000 & 64320.00000000 & 64629.62000000 & 64234.00000000 & 64629.62000000 & 639.87361000  & 1711195199999\\\\\n",
       "\\end{tabular}\n"
      ],
      "text/markdown": [
       "\n",
       "A matrix: 6 x 7 of type chr\n",
       "\n",
       "| 1711173600000 | 64075.13000000 | 64289.98000000 | 63984.00000000 | 64166.00000000 | 672.35298000  | 1711177199999 |\n",
       "| 1711177200000 | 64166.01000000 | 64856.01000000 | 64162.02000000 | 64575.41000000 | 1460.39196000 | 1711180799999 |\n",
       "| 1711180800000 | 64575.41000000 | 64857.14000000 | 64220.00000000 | 64521.99000000 | 1135.10972000 | 1711184399999 |\n",
       "| 1711184400000 | 64522.00000000 | 64597.64000000 | 64186.21000000 | 64470.00000000 | 802.07123000  | 1711187999999 |\n",
       "| 1.711188e+12  | 64470.00000000 | 64712.33000000 | 64204.09000000 | 64320.01000000 | 884.49724000  | 1711191599999 |\n",
       "| 1711191600000 | 64320.00000000 | 64629.62000000 | 64234.00000000 | 64629.62000000 | 639.87361000  | 1711195199999 |\n",
       "\n"
      ],
      "text/plain": [
       "     [,1]          [,2]           [,3]           [,4]           [,5]          \n",
       "[1,] 1711173600000 64075.13000000 64289.98000000 63984.00000000 64166.00000000\n",
       "[2,] 1711177200000 64166.01000000 64856.01000000 64162.02000000 64575.41000000\n",
       "[3,] 1711180800000 64575.41000000 64857.14000000 64220.00000000 64521.99000000\n",
       "[4,] 1711184400000 64522.00000000 64597.64000000 64186.21000000 64470.00000000\n",
       "[5,] 1.711188e+12  64470.00000000 64712.33000000 64204.09000000 64320.01000000\n",
       "[6,] 1711191600000 64320.00000000 64629.62000000 64234.00000000 64629.62000000\n",
       "     [,6]          [,7]         \n",
       "[1,] 672.35298000  1711177199999\n",
       "[2,] 1460.39196000 1711180799999\n",
       "[3,] 1135.10972000 1711184399999\n",
       "[4,] 802.07123000  1711187999999\n",
       "[5,] 884.49724000  1711191599999\n",
       "[6,] 639.87361000  1711195199999"
      ]
     },
     "metadata": {},
     "output_type": "display_data"
    }
   ],
   "source": [
    "data <- data[, 1:7]\n",
    "head(data)"
   ]
  },
  {
   "cell_type": "code",
   "execution_count": 59,
   "id": "2fe8c6c0-464f-4b53-ae1f-804b6dd39bfc",
   "metadata": {},
   "outputs": [
    {
     "data": {
      "text/html": [
       "<table class=\"dataframe\">\n",
       "<caption>A data.frame: 6 x 7</caption>\n",
       "<thead>\n",
       "\t<tr><th></th><th scope=col>V1</th><th scope=col>V2</th><th scope=col>V3</th><th scope=col>V4</th><th scope=col>V5</th><th scope=col>V6</th><th scope=col>V7</th></tr>\n",
       "\t<tr><th></th><th scope=col>&lt;chr&gt;</th><th scope=col>&lt;chr&gt;</th><th scope=col>&lt;chr&gt;</th><th scope=col>&lt;chr&gt;</th><th scope=col>&lt;chr&gt;</th><th scope=col>&lt;chr&gt;</th><th scope=col>&lt;chr&gt;</th></tr>\n",
       "</thead>\n",
       "<tbody>\n",
       "\t<tr><th scope=row>1</th><td>1711173600000</td><td>64075.13000000</td><td>64289.98000000</td><td>63984.00000000</td><td>64166.00000000</td><td>672.35298000 </td><td>1711177199999</td></tr>\n",
       "\t<tr><th scope=row>2</th><td>1711177200000</td><td>64166.01000000</td><td>64856.01000000</td><td>64162.02000000</td><td>64575.41000000</td><td>1460.39196000</td><td>1711180799999</td></tr>\n",
       "\t<tr><th scope=row>3</th><td>1711180800000</td><td>64575.41000000</td><td>64857.14000000</td><td>64220.00000000</td><td>64521.99000000</td><td>1135.10972000</td><td>1711184399999</td></tr>\n",
       "\t<tr><th scope=row>4</th><td>1711184400000</td><td>64522.00000000</td><td>64597.64000000</td><td>64186.21000000</td><td>64470.00000000</td><td>802.07123000 </td><td>1711187999999</td></tr>\n",
       "\t<tr><th scope=row>5</th><td>1.711188e+12 </td><td>64470.00000000</td><td>64712.33000000</td><td>64204.09000000</td><td>64320.01000000</td><td>884.49724000 </td><td>1711191599999</td></tr>\n",
       "\t<tr><th scope=row>6</th><td>1711191600000</td><td>64320.00000000</td><td>64629.62000000</td><td>64234.00000000</td><td>64629.62000000</td><td>639.87361000 </td><td>1711195199999</td></tr>\n",
       "</tbody>\n",
       "</table>\n"
      ],
      "text/latex": [
       "A data.frame: 6 x 7\n",
       "\\begin{tabular}{r|lllllll}\n",
       "  & V1 & V2 & V3 & V4 & V5 & V6 & V7\\\\\n",
       "  & <chr> & <chr> & <chr> & <chr> & <chr> & <chr> & <chr>\\\\\n",
       "\\hline\n",
       "\t1 & 1711173600000 & 64075.13000000 & 64289.98000000 & 63984.00000000 & 64166.00000000 & 672.35298000  & 1711177199999\\\\\n",
       "\t2 & 1711177200000 & 64166.01000000 & 64856.01000000 & 64162.02000000 & 64575.41000000 & 1460.39196000 & 1711180799999\\\\\n",
       "\t3 & 1711180800000 & 64575.41000000 & 64857.14000000 & 64220.00000000 & 64521.99000000 & 1135.10972000 & 1711184399999\\\\\n",
       "\t4 & 1711184400000 & 64522.00000000 & 64597.64000000 & 64186.21000000 & 64470.00000000 & 802.07123000  & 1711187999999\\\\\n",
       "\t5 & 1.711188e+12  & 64470.00000000 & 64712.33000000 & 64204.09000000 & 64320.01000000 & 884.49724000  & 1711191599999\\\\\n",
       "\t6 & 1711191600000 & 64320.00000000 & 64629.62000000 & 64234.00000000 & 64629.62000000 & 639.87361000  & 1711195199999\\\\\n",
       "\\end{tabular}\n"
      ],
      "text/markdown": [
       "\n",
       "A data.frame: 6 x 7\n",
       "\n",
       "| <!--/--> | V1 &lt;chr&gt; | V2 &lt;chr&gt; | V3 &lt;chr&gt; | V4 &lt;chr&gt; | V5 &lt;chr&gt; | V6 &lt;chr&gt; | V7 &lt;chr&gt; |\n",
       "|---|---|---|---|---|---|---|---|\n",
       "| 1 | 1711173600000 | 64075.13000000 | 64289.98000000 | 63984.00000000 | 64166.00000000 | 672.35298000  | 1711177199999 |\n",
       "| 2 | 1711177200000 | 64166.01000000 | 64856.01000000 | 64162.02000000 | 64575.41000000 | 1460.39196000 | 1711180799999 |\n",
       "| 3 | 1711180800000 | 64575.41000000 | 64857.14000000 | 64220.00000000 | 64521.99000000 | 1135.10972000 | 1711184399999 |\n",
       "| 4 | 1711184400000 | 64522.00000000 | 64597.64000000 | 64186.21000000 | 64470.00000000 | 802.07123000  | 1711187999999 |\n",
       "| 5 | 1.711188e+12  | 64470.00000000 | 64712.33000000 | 64204.09000000 | 64320.01000000 | 884.49724000  | 1711191599999 |\n",
       "| 6 | 1711191600000 | 64320.00000000 | 64629.62000000 | 64234.00000000 | 64629.62000000 | 639.87361000  | 1711195199999 |\n",
       "\n"
      ],
      "text/plain": [
       "  V1            V2             V3             V4             V5            \n",
       "1 1711173600000 64075.13000000 64289.98000000 63984.00000000 64166.00000000\n",
       "2 1711177200000 64166.01000000 64856.01000000 64162.02000000 64575.41000000\n",
       "3 1711180800000 64575.41000000 64857.14000000 64220.00000000 64521.99000000\n",
       "4 1711184400000 64522.00000000 64597.64000000 64186.21000000 64470.00000000\n",
       "5 1.711188e+12  64470.00000000 64712.33000000 64204.09000000 64320.01000000\n",
       "6 1711191600000 64320.00000000 64629.62000000 64234.00000000 64629.62000000\n",
       "  V6            V7           \n",
       "1 672.35298000  1711177199999\n",
       "2 1460.39196000 1711180799999\n",
       "3 1135.10972000 1711184399999\n",
       "4 802.07123000  1711187999999\n",
       "5 884.49724000  1711191599999\n",
       "6 639.87361000  1711195199999"
      ]
     },
     "metadata": {},
     "output_type": "display_data"
    }
   ],
   "source": [
    "data <- as.data.frame(data) \n",
    "head(data)"
   ]
  },
  {
   "cell_type": "code",
   "execution_count": 60,
   "id": "a068bfc5-c36b-4ed9-97fb-02d330db2fd0",
   "metadata": {},
   "outputs": [
    {
     "data": {
      "text/html": [
       "<table class=\"dataframe\">\n",
       "<caption>A data.frame: 6 x 7</caption>\n",
       "<thead>\n",
       "\t<tr><th></th><th scope=col>Open_time</th><th scope=col>Open</th><th scope=col>High</th><th scope=col>Low</th><th scope=col>Close</th><th scope=col>Volume</th><th scope=col>Close_time</th></tr>\n",
       "\t<tr><th></th><th scope=col>&lt;chr&gt;</th><th scope=col>&lt;chr&gt;</th><th scope=col>&lt;chr&gt;</th><th scope=col>&lt;chr&gt;</th><th scope=col>&lt;chr&gt;</th><th scope=col>&lt;chr&gt;</th><th scope=col>&lt;chr&gt;</th></tr>\n",
       "</thead>\n",
       "<tbody>\n",
       "\t<tr><th scope=row>1</th><td>1711173600000</td><td>64075.13000000</td><td>64289.98000000</td><td>63984.00000000</td><td>64166.00000000</td><td>672.35298000 </td><td>1711177199999</td></tr>\n",
       "\t<tr><th scope=row>2</th><td>1711177200000</td><td>64166.01000000</td><td>64856.01000000</td><td>64162.02000000</td><td>64575.41000000</td><td>1460.39196000</td><td>1711180799999</td></tr>\n",
       "\t<tr><th scope=row>3</th><td>1711180800000</td><td>64575.41000000</td><td>64857.14000000</td><td>64220.00000000</td><td>64521.99000000</td><td>1135.10972000</td><td>1711184399999</td></tr>\n",
       "\t<tr><th scope=row>4</th><td>1711184400000</td><td>64522.00000000</td><td>64597.64000000</td><td>64186.21000000</td><td>64470.00000000</td><td>802.07123000 </td><td>1711187999999</td></tr>\n",
       "\t<tr><th scope=row>5</th><td>1.711188e+12 </td><td>64470.00000000</td><td>64712.33000000</td><td>64204.09000000</td><td>64320.01000000</td><td>884.49724000 </td><td>1711191599999</td></tr>\n",
       "\t<tr><th scope=row>6</th><td>1711191600000</td><td>64320.00000000</td><td>64629.62000000</td><td>64234.00000000</td><td>64629.62000000</td><td>639.87361000 </td><td>1711195199999</td></tr>\n",
       "</tbody>\n",
       "</table>\n"
      ],
      "text/latex": [
       "A data.frame: 6 x 7\n",
       "\\begin{tabular}{r|lllllll}\n",
       "  & Open\\_time & Open & High & Low & Close & Volume & Close\\_time\\\\\n",
       "  & <chr> & <chr> & <chr> & <chr> & <chr> & <chr> & <chr>\\\\\n",
       "\\hline\n",
       "\t1 & 1711173600000 & 64075.13000000 & 64289.98000000 & 63984.00000000 & 64166.00000000 & 672.35298000  & 1711177199999\\\\\n",
       "\t2 & 1711177200000 & 64166.01000000 & 64856.01000000 & 64162.02000000 & 64575.41000000 & 1460.39196000 & 1711180799999\\\\\n",
       "\t3 & 1711180800000 & 64575.41000000 & 64857.14000000 & 64220.00000000 & 64521.99000000 & 1135.10972000 & 1711184399999\\\\\n",
       "\t4 & 1711184400000 & 64522.00000000 & 64597.64000000 & 64186.21000000 & 64470.00000000 & 802.07123000  & 1711187999999\\\\\n",
       "\t5 & 1.711188e+12  & 64470.00000000 & 64712.33000000 & 64204.09000000 & 64320.01000000 & 884.49724000  & 1711191599999\\\\\n",
       "\t6 & 1711191600000 & 64320.00000000 & 64629.62000000 & 64234.00000000 & 64629.62000000 & 639.87361000  & 1711195199999\\\\\n",
       "\\end{tabular}\n"
      ],
      "text/markdown": [
       "\n",
       "A data.frame: 6 x 7\n",
       "\n",
       "| <!--/--> | Open_time &lt;chr&gt; | Open &lt;chr&gt; | High &lt;chr&gt; | Low &lt;chr&gt; | Close &lt;chr&gt; | Volume &lt;chr&gt; | Close_time &lt;chr&gt; |\n",
       "|---|---|---|---|---|---|---|---|\n",
       "| 1 | 1711173600000 | 64075.13000000 | 64289.98000000 | 63984.00000000 | 64166.00000000 | 672.35298000  | 1711177199999 |\n",
       "| 2 | 1711177200000 | 64166.01000000 | 64856.01000000 | 64162.02000000 | 64575.41000000 | 1460.39196000 | 1711180799999 |\n",
       "| 3 | 1711180800000 | 64575.41000000 | 64857.14000000 | 64220.00000000 | 64521.99000000 | 1135.10972000 | 1711184399999 |\n",
       "| 4 | 1711184400000 | 64522.00000000 | 64597.64000000 | 64186.21000000 | 64470.00000000 | 802.07123000  | 1711187999999 |\n",
       "| 5 | 1.711188e+12  | 64470.00000000 | 64712.33000000 | 64204.09000000 | 64320.01000000 | 884.49724000  | 1711191599999 |\n",
       "| 6 | 1711191600000 | 64320.00000000 | 64629.62000000 | 64234.00000000 | 64629.62000000 | 639.87361000  | 1711195199999 |\n",
       "\n"
      ],
      "text/plain": [
       "  Open_time     Open           High           Low            Close         \n",
       "1 1711173600000 64075.13000000 64289.98000000 63984.00000000 64166.00000000\n",
       "2 1711177200000 64166.01000000 64856.01000000 64162.02000000 64575.41000000\n",
       "3 1711180800000 64575.41000000 64857.14000000 64220.00000000 64521.99000000\n",
       "4 1711184400000 64522.00000000 64597.64000000 64186.21000000 64470.00000000\n",
       "5 1.711188e+12  64470.00000000 64712.33000000 64204.09000000 64320.01000000\n",
       "6 1711191600000 64320.00000000 64629.62000000 64234.00000000 64629.62000000\n",
       "  Volume        Close_time   \n",
       "1 672.35298000  1711177199999\n",
       "2 1460.39196000 1711180799999\n",
       "3 1135.10972000 1711184399999\n",
       "4 802.07123000  1711187999999\n",
       "5 884.49724000  1711191599999\n",
       "6 639.87361000  1711195199999"
      ]
     },
     "metadata": {},
     "output_type": "display_data"
    }
   ],
   "source": [
    "colnames(data) <- c(\"Open_time\", \"Open\", \"High\", \"Low\", \"Close\", \"Volume\", \"Close_time\")\n",
    "head(data)"
   ]
  },
  {
   "cell_type": "code",
   "execution_count": 63,
   "id": "451fab75-9559-45fa-8f1e-d5b69be4c1a0",
   "metadata": {},
   "outputs": [],
   "source": [
    "data <-  data.frame(sapply(data, as.numeric))"
   ]
  },
  {
   "cell_type": "code",
   "execution_count": 65,
   "id": "4dff7a05-f863-434a-a836-6d5b19a9cec5",
   "metadata": {},
   "outputs": [
    {
     "data": {
      "text/html": [
       "<table class=\"dataframe\">\n",
       "<caption>A data.frame: 6 x 7</caption>\n",
       "<thead>\n",
       "\t<tr><th></th><th scope=col>Open_time</th><th scope=col>Open</th><th scope=col>High</th><th scope=col>Low</th><th scope=col>Close</th><th scope=col>Volume</th><th scope=col>Close_time</th></tr>\n",
       "\t<tr><th></th><th scope=col>&lt;dbl&gt;</th><th scope=col>&lt;dbl&gt;</th><th scope=col>&lt;dbl&gt;</th><th scope=col>&lt;dbl&gt;</th><th scope=col>&lt;dbl&gt;</th><th scope=col>&lt;dbl&gt;</th><th scope=col>&lt;dbl&gt;</th></tr>\n",
       "</thead>\n",
       "<tbody>\n",
       "\t<tr><th scope=row>1</th><td>1.711174e+12</td><td>64075.13</td><td>64289.98</td><td>63984.00</td><td>64166.00</td><td> 672.3530</td><td>1.711177e+12</td></tr>\n",
       "\t<tr><th scope=row>2</th><td>1.711177e+12</td><td>64166.01</td><td>64856.01</td><td>64162.02</td><td>64575.41</td><td>1460.3920</td><td>1.711181e+12</td></tr>\n",
       "\t<tr><th scope=row>3</th><td>1.711181e+12</td><td>64575.41</td><td>64857.14</td><td>64220.00</td><td>64521.99</td><td>1135.1097</td><td>1.711184e+12</td></tr>\n",
       "\t<tr><th scope=row>4</th><td>1.711184e+12</td><td>64522.00</td><td>64597.64</td><td>64186.21</td><td>64470.00</td><td> 802.0712</td><td>1.711188e+12</td></tr>\n",
       "\t<tr><th scope=row>5</th><td>1.711188e+12</td><td>64470.00</td><td>64712.33</td><td>64204.09</td><td>64320.01</td><td> 884.4972</td><td>1.711192e+12</td></tr>\n",
       "\t<tr><th scope=row>6</th><td>1.711192e+12</td><td>64320.00</td><td>64629.62</td><td>64234.00</td><td>64629.62</td><td> 639.8736</td><td>1.711195e+12</td></tr>\n",
       "</tbody>\n",
       "</table>\n"
      ],
      "text/latex": [
       "A data.frame: 6 x 7\n",
       "\\begin{tabular}{r|lllllll}\n",
       "  & Open\\_time & Open & High & Low & Close & Volume & Close\\_time\\\\\n",
       "  & <dbl> & <dbl> & <dbl> & <dbl> & <dbl> & <dbl> & <dbl>\\\\\n",
       "\\hline\n",
       "\t1 & 1.711174e+12 & 64075.13 & 64289.98 & 63984.00 & 64166.00 &  672.3530 & 1.711177e+12\\\\\n",
       "\t2 & 1.711177e+12 & 64166.01 & 64856.01 & 64162.02 & 64575.41 & 1460.3920 & 1.711181e+12\\\\\n",
       "\t3 & 1.711181e+12 & 64575.41 & 64857.14 & 64220.00 & 64521.99 & 1135.1097 & 1.711184e+12\\\\\n",
       "\t4 & 1.711184e+12 & 64522.00 & 64597.64 & 64186.21 & 64470.00 &  802.0712 & 1.711188e+12\\\\\n",
       "\t5 & 1.711188e+12 & 64470.00 & 64712.33 & 64204.09 & 64320.01 &  884.4972 & 1.711192e+12\\\\\n",
       "\t6 & 1.711192e+12 & 64320.00 & 64629.62 & 64234.00 & 64629.62 &  639.8736 & 1.711195e+12\\\\\n",
       "\\end{tabular}\n"
      ],
      "text/markdown": [
       "\n",
       "A data.frame: 6 x 7\n",
       "\n",
       "| <!--/--> | Open_time &lt;dbl&gt; | Open &lt;dbl&gt; | High &lt;dbl&gt; | Low &lt;dbl&gt; | Close &lt;dbl&gt; | Volume &lt;dbl&gt; | Close_time &lt;dbl&gt; |\n",
       "|---|---|---|---|---|---|---|---|\n",
       "| 1 | 1.711174e+12 | 64075.13 | 64289.98 | 63984.00 | 64166.00 |  672.3530 | 1.711177e+12 |\n",
       "| 2 | 1.711177e+12 | 64166.01 | 64856.01 | 64162.02 | 64575.41 | 1460.3920 | 1.711181e+12 |\n",
       "| 3 | 1.711181e+12 | 64575.41 | 64857.14 | 64220.00 | 64521.99 | 1135.1097 | 1.711184e+12 |\n",
       "| 4 | 1.711184e+12 | 64522.00 | 64597.64 | 64186.21 | 64470.00 |  802.0712 | 1.711188e+12 |\n",
       "| 5 | 1.711188e+12 | 64470.00 | 64712.33 | 64204.09 | 64320.01 |  884.4972 | 1.711192e+12 |\n",
       "| 6 | 1.711192e+12 | 64320.00 | 64629.62 | 64234.00 | 64629.62 |  639.8736 | 1.711195e+12 |\n",
       "\n"
      ],
      "text/plain": [
       "  Open_time    Open     High     Low      Close    Volume    Close_time  \n",
       "1 1.711174e+12 64075.13 64289.98 63984.00 64166.00  672.3530 1.711177e+12\n",
       "2 1.711177e+12 64166.01 64856.01 64162.02 64575.41 1460.3920 1.711181e+12\n",
       "3 1.711181e+12 64575.41 64857.14 64220.00 64521.99 1135.1097 1.711184e+12\n",
       "4 1.711184e+12 64522.00 64597.64 64186.21 64470.00  802.0712 1.711188e+12\n",
       "5 1.711188e+12 64470.00 64712.33 64204.09 64320.01  884.4972 1.711192e+12\n",
       "6 1.711192e+12 64320.00 64629.62 64234.00 64629.62  639.8736 1.711195e+12"
      ]
     },
     "metadata": {},
     "output_type": "display_data"
    }
   ],
   "source": [
    "head(data)"
   ]
  },
  {
   "cell_type": "code",
   "execution_count": 68,
   "id": "44af373b-f2f8-4094-a06a-1ac9be37a984",
   "metadata": {},
   "outputs": [
    {
     "ename": "ERROR",
     "evalue": "Error in Ops.POSIXt(data$Open_time, 1000): '/' not defined for \"POSIXt\" objects\n",
     "output_type": "error",
     "traceback": [
      "Error in Ops.POSIXt(data$Open_time, 1000): '/' not defined for \"POSIXt\" objects\nTraceback:\n",
      "1. as.POSIXct(data$Open_time/1000, origin = \"1970-01-01\")",
      "2. Ops.POSIXt(data$Open_time, 1000)",
      "3. stop(gettextf(\"'%s' not defined for \\\"POSIXt\\\" objects\", .Generic), \n .     domain = NA)"
     ]
    }
   ],
   "source": [
    "data$Open_time <- as.POSIXct(data$Open_time/1e3, origin = '1970-01-01')\n",
    "data$Close_time <- as.POSIXct(data$Close_time/1e3, origin = '1970-01-01')"
   ]
  },
  {
   "cell_type": "code",
   "execution_count": 73,
   "id": "d01cff42-e3b1-4333-9f46-e4cfe20a008d",
   "metadata": {},
   "outputs": [
    {
     "data": {
      "text/html": [
       "<table class=\"dataframe\">\n",
       "<caption>A data.frame: 6 x 7</caption>\n",
       "<thead>\n",
       "\t<tr><th></th><th scope=col>Open_time</th><th scope=col>Open</th><th scope=col>High</th><th scope=col>Low</th><th scope=col>Close</th><th scope=col>Volume</th><th scope=col>Close_time</th></tr>\n",
       "\t<tr><th></th><th scope=col>&lt;dttm&gt;</th><th scope=col>&lt;dbl&gt;</th><th scope=col>&lt;dbl&gt;</th><th scope=col>&lt;dbl&gt;</th><th scope=col>&lt;dbl&gt;</th><th scope=col>&lt;dbl&gt;</th><th scope=col>&lt;dttm&gt;</th></tr>\n",
       "</thead>\n",
       "<tbody>\n",
       "\t<tr><th scope=row>95</th><td>2024-03-27 06:00:00</td><td>70388.00</td><td>70487.37</td><td>70034.45</td><td>70190.00</td><td>1011.9958</td><td>2024-03-27 06:59:59</td></tr>\n",
       "\t<tr><th scope=row>96</th><td>2024-03-27 07:00:00</td><td>70190.00</td><td>70519.99</td><td>70154.37</td><td>70475.07</td><td> 830.0696</td><td>2024-03-27 07:59:59</td></tr>\n",
       "\t<tr><th scope=row>97</th><td>2024-03-27 08:00:00</td><td>70475.06</td><td>70598.00</td><td>70164.46</td><td>70309.99</td><td> 785.6260</td><td>2024-03-27 08:59:59</td></tr>\n",
       "\t<tr><th scope=row>98</th><td>2024-03-27 09:00:00</td><td>70310.00</td><td>70331.62</td><td>69640.00</td><td>69725.99</td><td>1565.7144</td><td>2024-03-27 09:59:59</td></tr>\n",
       "\t<tr><th scope=row>99</th><td>2024-03-27 10:00:00</td><td>69726.00</td><td>69991.71</td><td>69510.00</td><td>69547.91</td><td>1124.4161</td><td>2024-03-27 10:59:59</td></tr>\n",
       "\t<tr><th scope=row>100</th><td>2024-03-27 11:00:00</td><td>69547.91</td><td>69759.43</td><td>69407.00</td><td>69734.00</td><td> 610.5105</td><td>2024-03-27 11:59:59</td></tr>\n",
       "</tbody>\n",
       "</table>\n"
      ],
      "text/latex": [
       "A data.frame: 6 x 7\n",
       "\\begin{tabular}{r|lllllll}\n",
       "  & Open\\_time & Open & High & Low & Close & Volume & Close\\_time\\\\\n",
       "  & <dttm> & <dbl> & <dbl> & <dbl> & <dbl> & <dbl> & <dttm>\\\\\n",
       "\\hline\n",
       "\t95 & 2024-03-27 06:00:00 & 70388.00 & 70487.37 & 70034.45 & 70190.00 & 1011.9958 & 2024-03-27 06:59:59\\\\\n",
       "\t96 & 2024-03-27 07:00:00 & 70190.00 & 70519.99 & 70154.37 & 70475.07 &  830.0696 & 2024-03-27 07:59:59\\\\\n",
       "\t97 & 2024-03-27 08:00:00 & 70475.06 & 70598.00 & 70164.46 & 70309.99 &  785.6260 & 2024-03-27 08:59:59\\\\\n",
       "\t98 & 2024-03-27 09:00:00 & 70310.00 & 70331.62 & 69640.00 & 69725.99 & 1565.7144 & 2024-03-27 09:59:59\\\\\n",
       "\t99 & 2024-03-27 10:00:00 & 69726.00 & 69991.71 & 69510.00 & 69547.91 & 1124.4161 & 2024-03-27 10:59:59\\\\\n",
       "\t100 & 2024-03-27 11:00:00 & 69547.91 & 69759.43 & 69407.00 & 69734.00 &  610.5105 & 2024-03-27 11:59:59\\\\\n",
       "\\end{tabular}\n"
      ],
      "text/markdown": [
       "\n",
       "A data.frame: 6 x 7\n",
       "\n",
       "| <!--/--> | Open_time &lt;dttm&gt; | Open &lt;dbl&gt; | High &lt;dbl&gt; | Low &lt;dbl&gt; | Close &lt;dbl&gt; | Volume &lt;dbl&gt; | Close_time &lt;dttm&gt; |\n",
       "|---|---|---|---|---|---|---|---|\n",
       "| 95 | 2024-03-27 06:00:00 | 70388.00 | 70487.37 | 70034.45 | 70190.00 | 1011.9958 | 2024-03-27 06:59:59 |\n",
       "| 96 | 2024-03-27 07:00:00 | 70190.00 | 70519.99 | 70154.37 | 70475.07 |  830.0696 | 2024-03-27 07:59:59 |\n",
       "| 97 | 2024-03-27 08:00:00 | 70475.06 | 70598.00 | 70164.46 | 70309.99 |  785.6260 | 2024-03-27 08:59:59 |\n",
       "| 98 | 2024-03-27 09:00:00 | 70310.00 | 70331.62 | 69640.00 | 69725.99 | 1565.7144 | 2024-03-27 09:59:59 |\n",
       "| 99 | 2024-03-27 10:00:00 | 69726.00 | 69991.71 | 69510.00 | 69547.91 | 1124.4161 | 2024-03-27 10:59:59 |\n",
       "| 100 | 2024-03-27 11:00:00 | 69547.91 | 69759.43 | 69407.00 | 69734.00 |  610.5105 | 2024-03-27 11:59:59 |\n",
       "\n"
      ],
      "text/plain": [
       "    Open_time           Open     High     Low      Close    Volume   \n",
       "95  2024-03-27 06:00:00 70388.00 70487.37 70034.45 70190.00 1011.9958\n",
       "96  2024-03-27 07:00:00 70190.00 70519.99 70154.37 70475.07  830.0696\n",
       "97  2024-03-27 08:00:00 70475.06 70598.00 70164.46 70309.99  785.6260\n",
       "98  2024-03-27 09:00:00 70310.00 70331.62 69640.00 69725.99 1565.7144\n",
       "99  2024-03-27 10:00:00 69726.00 69991.71 69510.00 69547.91 1124.4161\n",
       "100 2024-03-27 11:00:00 69547.91 69759.43 69407.00 69734.00  610.5105\n",
       "    Close_time         \n",
       "95  2024-03-27 06:59:59\n",
       "96  2024-03-27 07:59:59\n",
       "97  2024-03-27 08:59:59\n",
       "98  2024-03-27 09:59:59\n",
       "99  2024-03-27 10:59:59\n",
       "100 2024-03-27 11:59:59"
      ]
     },
     "metadata": {},
     "output_type": "display_data"
    }
   ],
   "source": [
    "\n",
    "tail(data)\n"
   ]
  },
  {
   "cell_type": "code",
   "execution_count": 78,
   "id": "eaf723cf-c0ca-4791-ae9e-96b9c4588881",
   "metadata": {},
   "outputs": [
    {
     "data": {
      "text/html": [
       "100"
      ],
      "text/latex": [
       "100"
      ],
      "text/markdown": [
       "100"
      ],
      "text/plain": [
       "[1] 100"
      ]
     },
     "metadata": {},
     "output_type": "display_data"
    }
   ],
   "source": [
    "length((data$Open + data$Close)/2)"
   ]
  },
  {
   "cell_type": "code",
   "execution_count": 79,
   "id": "c7295e13-4202-4c2c-b991-56893bb953a7",
   "metadata": {},
   "outputs": [
    {
     "data": {
      "text/html": [
       "0"
      ],
      "text/latex": [
       "0"
      ],
      "text/markdown": [
       "0"
      ],
      "text/plain": [
       "[1] 0"
      ]
     },
     "metadata": {},
     "output_type": "display_data"
    }
   ],
   "source": [
    "length(data$Open_Time)"
   ]
  },
  {
   "cell_type": "code",
   "execution_count": 80,
   "id": "3abbad74-d721-4eea-9e1c-1c6030ec62af",
   "metadata": {},
   "outputs": [],
   "source": [
    "data_final <- data.frame(Date = data$Open_time,\n",
    "                        MeanPrice = (data$Open + data$Close) / 2)"
   ]
  },
  {
   "cell_type": "code",
   "execution_count": 82,
   "id": "1592a866-3771-4220-9f59-00c719ba4333",
   "metadata": {},
   "outputs": [
    {
     "data": {
      "image/png": "[encoded data removed]",
      "text/plain": [
       "plot without title"
      ]
     },
     "metadata": {
      "image/png": {
       "height": 420,
       "width": 420
      }
     },
     "output_type": "display_data"
    }
   ],
   "source": [
    "plot(data_final)"
   ]
  },
  {
   "cell_type": "markdown",
   "id": "de566f74-8262-45b1-8de5-191fde204b29",
   "metadata": {},
   "source": [
    "## Data from web"
   ]
  },
  {
   "cell_type": "code",
   "execution_count": 84,
   "id": "22c66274-ee69-42da-9823-9028fd49d97d",
   "metadata": {},
   "outputs": [],
   "source": [
    "# install.packages(\"rvest\")"
   ]
  },
  {
   "cell_type": "code",
   "execution_count": 86,
   "id": "86e6ff85-5516-41c6-bdfc-59226438979e",
   "metadata": {},
   "outputs": [],
   "source": [
    "library(rvest)"
   ]
  },
  {
   "cell_type": "code",
   "execution_count": 88,
   "id": "90f52131-1f2f-4546-bff6-02438e343dda",
   "metadata": {},
   "outputs": [],
   "source": [
    "url <- \"https://en.wikipedia.org/wiki/List_of_largest_banks\""
   ]
  },
  {
   "cell_type": "code",
   "execution_count": 90,
   "id": "3c523796-090b-4e28-9b79-4f33ba5fefab",
   "metadata": {},
   "outputs": [
    {
     "data": {
      "text/plain": [
       "{html_document}\n",
       "<html class=\"client-nojs vector-feature-language-in-header-enabled vector-feature-language-in-main-page-header-disabled vector-feature-sticky-header-disabled vector-feature-page-tools-pinned-disabled vector-feature-toc-pinned-clientpref-1 vector-feature-main-menu-pinned-disabled vector-feature-limited-width-clientpref-1 vector-feature-limited-width-content-enabled vector-feature-custom-font-size-clientpref-0 vector-feature-client-preferences-disabled vector-feature-client-prefs-pinned-disabled vector-feature-night-mode-disabled skin-night-mode-clientpref-0 vector-toc-available\" lang=\"en\" dir=\"ltr\">\n",
       "[1] <head>\\n<meta http-equiv=\"Content-Type\" content=\"text/html; charset=UTF-8 ...\n",
       "[2] <body class=\"skin-vector skin-vector-search-vue mediawiki ltr sitedir-ltr ..."
      ]
     },
     "metadata": {},
     "output_type": "display_data"
    }
   ],
   "source": [
    "page <- read_html(url)\n",
    "page"
   ]
  },
  {
   "cell_type": "code",
   "execution_count": 92,
   "id": "42e7c24e-3c93-473d-8fe1-bda6ec1c4aec",
   "metadata": {},
   "outputs": [
    {
     "data": {
      "text/plain": [
       "{xml_nodeset (3)}\n",
       "[1] <table class=\"wikitable sortable mw-collapsible\"><tbody>\\n<tr>\\n<th data- ...\n",
       "[2] <table class=\"wikitable sortable mw-collapsible\"><tbody>\\n<tr>\\n<th data- ...\n",
       "[3] <table class=\"wikitable sortable mw-collapsible\">\\n<caption>Number of ban ..."
      ]
     },
     "metadata": {},
     "output_type": "display_data"
    }
   ],
   "source": [
    "tables <- html_nodes(page, \"table\")\n",
    "tables"
   ]
  },
  {
   "cell_type": "code",
   "execution_count": 98,
   "id": "71c3644c-be1b-473a-a3d1-8a2144f2e390",
   "metadata": {},
   "outputs": [],
   "source": [
    "data <- data.frame(html_table(tables[1]))"
   ]
  },
  {
   "cell_type": "code",
   "execution_count": 99,
   "id": "28f48024-84c1-4f12-82f4-117adcbc8b2c",
   "metadata": {},
   "outputs": [
    {
     "data": {
      "text/html": [
       "<table class=\"dataframe\">\n",
       "<caption>A data.frame: 6 x 3</caption>\n",
       "<thead>\n",
       "\t<tr><th></th><th scope=col>Rank</th><th scope=col>Bank.name</th><th scope=col>Market.cap.US..billion.</th></tr>\n",
       "\t<tr><th></th><th scope=col>&lt;int&gt;</th><th scope=col>&lt;chr&gt;</th><th scope=col>&lt;dbl&gt;</th></tr>\n",
       "</thead>\n",
       "<tbody>\n",
       "\t<tr><th scope=row>1</th><td>1</td><td>JPMorgan Chase                         </td><td>491.76</td></tr>\n",
       "\t<tr><th scope=row>2</th><td>2</td><td>Bank of America                        </td><td>266.45</td></tr>\n",
       "\t<tr><th scope=row>3</th><td>3</td><td>Industrial and Commercial Bank of China</td><td>219.45</td></tr>\n",
       "\t<tr><th scope=row>4</th><td>4</td><td>Wells Fargo                            </td><td>178.74</td></tr>\n",
       "\t<tr><th scope=row>5</th><td>5</td><td>Agricultural Bank of China             </td><td>175.69</td></tr>\n",
       "\t<tr><th scope=row>6</th><td>6</td><td>HDFC Bank                              </td><td>169.84</td></tr>\n",
       "</tbody>\n",
       "</table>\n"
      ],
      "text/latex": [
       "A data.frame: 6 x 3\n",
       "\\begin{tabular}{r|lll}\n",
       "  & Rank & Bank.name & Market.cap.US..billion.\\\\\n",
       "  & <int> & <chr> & <dbl>\\\\\n",
       "\\hline\n",
       "\t1 & 1 & JPMorgan Chase                          & 491.76\\\\\n",
       "\t2 & 2 & Bank of America                         & 266.45\\\\\n",
       "\t3 & 3 & Industrial and Commercial Bank of China & 219.45\\\\\n",
       "\t4 & 4 & Wells Fargo                             & 178.74\\\\\n",
       "\t5 & 5 & Agricultural Bank of China              & 175.69\\\\\n",
       "\t6 & 6 & HDFC Bank                               & 169.84\\\\\n",
       "\\end{tabular}\n"
      ],
      "text/markdown": [
       "\n",
       "A data.frame: 6 x 3\n",
       "\n",
       "| <!--/--> | Rank &lt;int&gt; | Bank.name &lt;chr&gt; | Market.cap.US..billion. &lt;dbl&gt; |\n",
       "|---|---|---|---|\n",
       "| 1 | 1 | JPMorgan Chase                          | 491.76 |\n",
       "| 2 | 2 | Bank of America                         | 266.45 |\n",
       "| 3 | 3 | Industrial and Commercial Bank of China | 219.45 |\n",
       "| 4 | 4 | Wells Fargo                             | 178.74 |\n",
       "| 5 | 5 | Agricultural Bank of China              | 175.69 |\n",
       "| 6 | 6 | HDFC Bank                               | 169.84 |\n",
       "\n"
      ],
      "text/plain": [
       "  Rank Bank.name                               Market.cap.US..billion.\n",
       "1 1    JPMorgan Chase                          491.76                 \n",
       "2 2    Bank of America                         266.45                 \n",
       "3 3    Industrial and Commercial Bank of China 219.45                 \n",
       "4 4    Wells Fargo                             178.74                 \n",
       "5 5    Agricultural Bank of China              175.69                 \n",
       "6 6    HDFC Bank                               169.84                 "
      ]
     },
     "metadata": {},
     "output_type": "display_data"
    }
   ],
   "source": [
    "head(data)"
   ]
  },
  {
   "cell_type": "code",
   "execution_count": 101,
   "id": "4569b01d-c169-47aa-b08c-48050b012616",
   "metadata": {},
   "outputs": [],
   "source": [
    "colnames(data) <- c(\"Rank\", \"Name\", \"MarketCap\")"
   ]
  },
  {
   "cell_type": "code",
   "execution_count": 103,
   "id": "d71ca89c-5774-4792-9d7a-63b0ef1bfa1e",
   "metadata": {},
   "outputs": [
    {
     "data": {
      "text/html": [
       "<table class=\"dataframe\">\n",
       "<caption>A data.frame: 6 x 3</caption>\n",
       "<thead>\n",
       "\t<tr><th></th><th scope=col>Rank</th><th scope=col>Name</th><th scope=col>MarketCap</th></tr>\n",
       "\t<tr><th></th><th scope=col>&lt;int&gt;</th><th scope=col>&lt;chr&gt;</th><th scope=col>&lt;dbl&gt;</th></tr>\n",
       "</thead>\n",
       "<tbody>\n",
       "\t<tr><th scope=row>1</th><td>1</td><td>JPMorgan Chase                         </td><td>491.76</td></tr>\n",
       "\t<tr><th scope=row>2</th><td>2</td><td>Bank of America                        </td><td>266.45</td></tr>\n",
       "\t<tr><th scope=row>3</th><td>3</td><td>Industrial and Commercial Bank of China</td><td>219.45</td></tr>\n",
       "\t<tr><th scope=row>4</th><td>4</td><td>Wells Fargo                            </td><td>178.74</td></tr>\n",
       "\t<tr><th scope=row>5</th><td>5</td><td>Agricultural Bank of China             </td><td>175.69</td></tr>\n",
       "\t<tr><th scope=row>6</th><td>6</td><td>HDFC Bank                              </td><td>169.84</td></tr>\n",
       "</tbody>\n",
       "</table>\n"
      ],
      "text/latex": [
       "A data.frame: 6 x 3\n",
       "\\begin{tabular}{r|lll}\n",
       "  & Rank & Name & MarketCap\\\\\n",
       "  & <int> & <chr> & <dbl>\\\\\n",
       "\\hline\n",
       "\t1 & 1 & JPMorgan Chase                          & 491.76\\\\\n",
       "\t2 & 2 & Bank of America                         & 266.45\\\\\n",
       "\t3 & 3 & Industrial and Commercial Bank of China & 219.45\\\\\n",
       "\t4 & 4 & Wells Fargo                             & 178.74\\\\\n",
       "\t5 & 5 & Agricultural Bank of China              & 175.69\\\\\n",
       "\t6 & 6 & HDFC Bank                               & 169.84\\\\\n",
       "\\end{tabular}\n"
      ],
      "text/markdown": [
       "\n",
       "A data.frame: 6 x 3\n",
       "\n",
       "| <!--/--> | Rank &lt;int&gt; | Name &lt;chr&gt; | MarketCap &lt;dbl&gt; |\n",
       "|---|---|---|---|\n",
       "| 1 | 1 | JPMorgan Chase                          | 491.76 |\n",
       "| 2 | 2 | Bank of America                         | 266.45 |\n",
       "| 3 | 3 | Industrial and Commercial Bank of China | 219.45 |\n",
       "| 4 | 4 | Wells Fargo                             | 178.74 |\n",
       "| 5 | 5 | Agricultural Bank of China              | 175.69 |\n",
       "| 6 | 6 | HDFC Bank                               | 169.84 |\n",
       "\n"
      ],
      "text/plain": [
       "  Rank Name                                    MarketCap\n",
       "1 1    JPMorgan Chase                          491.76   \n",
       "2 2    Bank of America                         266.45   \n",
       "3 3    Industrial and Commercial Bank of China 219.45   \n",
       "4 4    Wells Fargo                             178.74   \n",
       "5 5    Agricultural Bank of China              175.69   \n",
       "6 6    HDFC Bank                               169.84   "
      ]
     },
     "metadata": {},
     "output_type": "display_data"
    }
   ],
   "source": [
    "head(data)"
   ]
  },
  {
   "cell_type": "code",
   "execution_count": 104,
   "id": "cd27a3e0-6535-46f8-8b7a-ac577ee42091",
   "metadata": {},
   "outputs": [
    {
     "data": {
      "text/html": [
       "<style>\n",
       ".list-inline {list-style: none; margin:0; padding: 0}\n",
       ".list-inline>li {display: inline-block}\n",
       ".list-inline>li:not(:last-child)::after {content: \"\\00b7\"; padding: 0 .5ex}\n",
       "</style>\n",
       "<ol class=list-inline><li>150.39</li><li>491.76</li></ol>\n"
      ],
      "text/latex": [
       "\\begin{enumerate*}\n",
       "\\item 150.39\n",
       "\\item 491.76\n",
       "\\end{enumerate*}\n"
      ],
      "text/markdown": [
       "1. 150.39\n",
       "2. 491.76\n",
       "\n",
       "\n"
      ],
      "text/plain": [
       "[1] 150.39 491.76"
      ]
     },
     "metadata": {},
     "output_type": "display_data"
    }
   ],
   "source": [
    "range(data$MarketCap)"
   ]
  }
 ],
 "metadata": {
  "kernelspec": {
   "display_name": "R",
   "language": "R",
   "name": "ir"
  },
  "language_info": {
   "codemirror_mode": "r",
   "file_extension": ".r",
   "mimetype": "text/x-r-source",
   "name": "R",
   "pygments_lexer": "r",
   "version": "4.1.3"
  }
 },
 "nbformat": 4,
 "nbformat_minor": 5
}

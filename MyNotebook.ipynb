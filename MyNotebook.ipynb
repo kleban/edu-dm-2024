{
 "cells": [
  {
   "cell_type": "code",
   "execution_count": null,
   "id": "65cbf64d-35cc-44a4-8860-599ddd2942ab",
   "metadata": {},
   "outputs": [],
   "source": []
  }
 ],
 "metadata": {
  "kernelspec": {
   "display_name": "R",
   "language": "R",
   "name": "ir"
  },
  "language_info": {
   "codemirror_mode": "r",
   "file_extension": ".r",
   "mimetype": "text/x-r-source",
   "name": "R",
   "pygments_lexer": "r",
   "version": "4.1.3"
  }
 },
 "nbformat": 4,
 "nbformat_minor": 5
}

{
 "cells": [
  {
   "cell_type": "markdown",
   "id": "320b1bb6-5b5a-4718-b2c0-10cc7a62bc24",
   "metadata": {},
   "source": [
    "# Аналіз модуля №1 (Тест). КН-1 2024"
   ]
  },
  {
   "cell_type": "markdown",
   "id": "5909957b-1ee6-4a6e-8885-86603ea8dc0a",
   "metadata": {},
   "source": [
    "---"
   ]
  },
  {
   "cell_type": "markdown",
   "id": "6da7b3b8-708d-42e6-8426-0325a9a6dc42",
   "metadata": {},
   "source": [
    "## 1. Пакети"
   ]
  },
  {
   "cell_type": "code",
   "execution_count": 5,
   "id": "9ffd7908-5e2a-435e-9b26-e030355f00f7",
   "metadata": {},
   "outputs": [],
   "source": [
    "# install.packages(\"tidyverse\")"
   ]
  },
  {
   "cell_type": "code",
   "execution_count": 2,
   "id": "51f54945-e5c5-488d-a93f-aa1c21f37eef",
   "metadata": {},
   "outputs": [],
   "source": [
    "library(tidyverse)\n",
    "library(readxl)"
   ]
  },
  {
   "cell_type": "markdown",
   "id": "e76f9cfe-ea3f-4bbf-887d-b3a847897fa5",
   "metadata": {},
   "source": [
    "## 2. Читання документа"
   ]
  },
  {
   "cell_type": "code",
   "execution_count": 3,
   "id": "a3e22ceb-3416-4b10-86c5-d12acc375946",
   "metadata": {},
   "outputs": [],
   "source": [
    "path <- \"data/test.xlsx\""
   ]
  },
  {
   "cell_type": "code",
   "execution_count": 4,
   "id": "47c8aa68-68e4-4da2-9aa3-394a915ff480",
   "metadata": {},
   "outputs": [],
   "source": [
    "group <- \"kn1\" #ek2"
   ]
  },
  {
   "cell_type": "code",
   "execution_count": 5,
   "id": "cd57b931-4161-4919-974a-f29aba577a68",
   "metadata": {},
   "outputs": [],
   "source": [
    "test_data <- read_excel(path, sheet = group)\n",
    "keys_data <- read_excel(path, sheet = \"keys\")"
   ]
  },
  {
   "cell_type": "code",
   "execution_count": 19,
   "id": "4e15a283-9440-4083-b1f6-5b019cf0a8ee",
   "metadata": {},
   "outputs": [
    {
     "data": {
      "text/html": [
       "<table class=\"dataframe\">\n",
       "<caption>A tibble: 6 x 25</caption>\n",
       "<thead>\n",
       "\t<tr><th scope=col>No</th><th scope=col>Std</th><th scope=col>Group</th><th scope=col>V</th><th scope=col>Q1</th><th scope=col>Q2</th><th scope=col>Q3</th><th scope=col>Q4</th><th scope=col>Q5</th><th scope=col>Q6</th><th scope=col>...</th><th scope=col>Q12</th><th scope=col>Q13</th><th scope=col>Q14</th><th scope=col>Q15</th><th scope=col>Q16</th><th scope=col>Q17</th><th scope=col>Q18</th><th scope=col>Q19</th><th scope=col>Q20</th><th scope=col>Check</th></tr>\n",
       "\t<tr><th scope=col>&lt;dbl&gt;</th><th scope=col>&lt;chr&gt;</th><th scope=col>&lt;chr&gt;</th><th scope=col>&lt;dbl&gt;</th><th scope=col>&lt;fct&gt;</th><th scope=col>&lt;fct&gt;</th><th scope=col>&lt;fct&gt;</th><th scope=col>&lt;fct&gt;</th><th scope=col>&lt;fct&gt;</th><th scope=col>&lt;fct&gt;</th><th scope=col>...</th><th scope=col>&lt;fct&gt;</th><th scope=col>&lt;fct&gt;</th><th scope=col>&lt;fct&gt;</th><th scope=col>&lt;fct&gt;</th><th scope=col>&lt;fct&gt;</th><th scope=col>&lt;fct&gt;</th><th scope=col>&lt;fct&gt;</th><th scope=col>&lt;fct&gt;</th><th scope=col>&lt;fct&gt;</th><th scope=col>&lt;dbl&gt;</th></tr>\n",
       "</thead>\n",
       "<tbody>\n",
       "\t<tr><td> 4</td><td>Башмаков Богдан Олегович        </td><td>КН-1(5)-1</td><td>8</td><td>D</td><td>B</td><td>D</td><td>A</td><td>B</td><td>B</td><td>...</td><td>C</td><td>A</td><td>D</td><td>B</td><td>A</td><td>C</td><td>C</td><td>D</td><td>D</td><td>5.25</td></tr>\n",
       "\t<tr><td>23</td><td>Котюк Богдан Юрійович           </td><td>КН-1(5)-5</td><td>5</td><td>C</td><td>C</td><td>A</td><td>B</td><td>D</td><td>C</td><td>...</td><td>C</td><td>D</td><td>B</td><td>A</td><td>C</td><td>C</td><td>A</td><td>C</td><td>C</td><td>6.00</td></tr>\n",
       "\t<tr><td>35</td><td>Нечипорук Марія Ярославівна     </td><td>КН-1(5)-5</td><td>9</td><td>C</td><td>B</td><td>A</td><td>C</td><td>C</td><td>C</td><td>...</td><td>C</td><td>B</td><td>A</td><td>B</td><td>D</td><td>A</td><td>B</td><td>B</td><td>D</td><td>6.75</td></tr>\n",
       "\t<tr><td>40</td><td>Онуфрієнко Владислава Вікторівна</td><td>КН-1(5)-5</td><td>8</td><td>B</td><td>B</td><td>B</td><td>A</td><td>B</td><td>D</td><td>...</td><td>A</td><td>D</td><td>A</td><td>D</td><td>B</td><td>B</td><td>A</td><td>C</td><td>C</td><td>3.00</td></tr>\n",
       "\t<tr><td>41</td><td>Остапчук Микола Валентинович    </td><td>КН-1(5)-2</td><td>5</td><td>D</td><td>A</td><td>B</td><td>B</td><td>A</td><td>C</td><td>...</td><td>B</td><td>B</td><td>A</td><td>B</td><td>D</td><td>C</td><td>D</td><td>D</td><td>C</td><td>3.75</td></tr>\n",
       "\t<tr><td>54</td><td>Стуга Едуард Леонідович         </td><td>КН-1(5)-1</td><td>8</td><td>C</td><td>C</td><td>B</td><td>A</td><td>B</td><td>B</td><td>...</td><td>D</td><td>D</td><td>D</td><td>B</td><td>D</td><td>D</td><td>C</td><td>C</td><td>D</td><td>2.25</td></tr>\n",
       "</tbody>\n",
       "</table>\n"
      ],
      "text/latex": [
       "A tibble: 6 x 25\n",
       "\\begin{tabular}{lllllllllllllllllllll}\n",
       " No & Std & Group & V & Q1 & Q2 & Q3 & Q4 & Q5 & Q6 & ... & Q12 & Q13 & Q14 & Q15 & Q16 & Q17 & Q18 & Q19 & Q20 & Check\\\\\n",
       " <dbl> & <chr> & <chr> & <dbl> & <fct> & <fct> & <fct> & <fct> & <fct> & <fct> & ... & <fct> & <fct> & <fct> & <fct> & <fct> & <fct> & <fct> & <fct> & <fct> & <dbl>\\\\\n",
       "\\hline\n",
       "\t  4 & Башмаков Богдан Олегович         & КН-1(5)-1 & 8 & D & B & D & A & B & B & ... & C & A & D & B & A & C & C & D & D & 5.25\\\\\n",
       "\t 23 & Котюк Богдан Юрійович            & КН-1(5)-5 & 5 & C & C & A & B & D & C & ... & C & D & B & A & C & C & A & C & C & 6.00\\\\\n",
       "\t 35 & Нечипорук Марія Ярославівна      & КН-1(5)-5 & 9 & C & B & A & C & C & C & ... & C & B & A & B & D & A & B & B & D & 6.75\\\\\n",
       "\t 40 & Онуфрієнко Владислава Вікторівна & КН-1(5)-5 & 8 & B & B & B & A & B & D & ... & A & D & A & D & B & B & A & C & C & 3.00\\\\\n",
       "\t 41 & Остапчук Микола Валентинович     & КН-1(5)-2 & 5 & D & A & B & B & A & C & ... & B & B & A & B & D & C & D & D & C & 3.75\\\\\n",
       "\t 54 & Стуга Едуард Леонідович          & КН-1(5)-1 & 8 & C & C & B & A & B & B & ... & D & D & D & B & D & D & C & C & D & 2.25\\\\\n",
       "\\end{tabular}\n"
      ],
      "text/markdown": [
       "\n",
       "A tibble: 6 x 25\n",
       "\n",
       "| No &lt;dbl&gt; | Std &lt;chr&gt; | Group &lt;chr&gt; | V &lt;dbl&gt; | Q1 &lt;fct&gt; | Q2 &lt;fct&gt; | Q3 &lt;fct&gt; | Q4 &lt;fct&gt; | Q5 &lt;fct&gt; | Q6 &lt;fct&gt; | ... ... | Q12 &lt;fct&gt; | Q13 &lt;fct&gt; | Q14 &lt;fct&gt; | Q15 &lt;fct&gt; | Q16 &lt;fct&gt; | Q17 &lt;fct&gt; | Q18 &lt;fct&gt; | Q19 &lt;fct&gt; | Q20 &lt;fct&gt; | Check &lt;dbl&gt; |\n",
       "|---|---|---|---|---|---|---|---|---|---|---|---|---|---|---|---|---|---|---|---|---|\n",
       "|  4 | Башмаков Богдан Олегович         | КН-1(5)-1 | 8 | D | B | D | A | B | B | ... | C | A | D | B | A | C | C | D | D | 5.25 |\n",
       "| 23 | Котюк Богдан Юрійович            | КН-1(5)-5 | 5 | C | C | A | B | D | C | ... | C | D | B | A | C | C | A | C | C | 6.00 |\n",
       "| 35 | Нечипорук Марія Ярославівна      | КН-1(5)-5 | 9 | C | B | A | C | C | C | ... | C | B | A | B | D | A | B | B | D | 6.75 |\n",
       "| 40 | Онуфрієнко Владислава Вікторівна | КН-1(5)-5 | 8 | B | B | B | A | B | D | ... | A | D | A | D | B | B | A | C | C | 3.00 |\n",
       "| 41 | Остапчук Микола Валентинович     | КН-1(5)-2 | 5 | D | A | B | B | A | C | ... | B | B | A | B | D | C | D | D | C | 3.75 |\n",
       "| 54 | Стуга Едуард Леонідович          | КН-1(5)-1 | 8 | C | C | B | A | B | B | ... | D | D | D | B | D | D | C | C | D | 2.25 |\n",
       "\n"
      ],
      "text/plain": [
       "  No Std                              Group     V Q1 Q2 Q3 Q4 Q5 Q6 ... Q12 Q13\n",
       "1  4 Башмаков Богдан Олегович         КН-1(5)-1 8 D  B  D  A  B  B  ... C   A  \n",
       "2 23 Котюк Богдан Юрійович            КН-1(5)-5 5 C  C  A  B  D  C  ... C   D  \n",
       "3 35 Нечипорук Марія Ярославівна      КН-1(5)-5 9 C  B  A  C  C  C  ... C   B  \n",
       "4 40 Онуфрієнко Владислава Вікторівна КН-1(5)-5 8 B  B  B  A  B  D  ... A   D  \n",
       "5 41 Остапчук Микола Валентинович     КН-1(5)-2 5 D  A  B  B  A  C  ... B   B  \n",
       "6 54 Стуга Едуард Леонідович          КН-1(5)-1 8 C  C  B  A  B  B  ... D   D  \n",
       "  Q14 Q15 Q16 Q17 Q18 Q19 Q20 Check\n",
       "1 D   B   A   C   C   D   D   5.25 \n",
       "2 B   A   C   C   A   C   C   6.00 \n",
       "3 A   B   D   A   B   B   D   6.75 \n",
       "4 A   D   B   B   A   C   C   3.00 \n",
       "5 A   B   D   C   D   D   C   3.75 \n",
       "6 D   B   D   D   C   C   D   2.25 "
      ]
     },
     "metadata": {},
     "output_type": "display_data"
    }
   ],
   "source": [
    "colnames(test_data) <- c(\"No\", \"Std\", \"Group\", \"V\", paste0(\"Q\", 1:20), \"Check\")\n",
    "test_data |> head()"
   ]
  },
  {
   "cell_type": "code",
   "execution_count": 21,
   "id": "f021411e-df39-431d-8fa5-6db00978e570",
   "metadata": {},
   "outputs": [
    {
     "data": {
      "text/html": [
       "<table class=\"dataframe\">\n",
       "<caption>A tibble: 6 x 25</caption>\n",
       "<thead>\n",
       "\t<tr><th scope=col>No</th><th scope=col>Std</th><th scope=col>Group</th><th scope=col>V</th><th scope=col>Q1</th><th scope=col>Q2</th><th scope=col>Q3</th><th scope=col>Q4</th><th scope=col>Q5</th><th scope=col>Q6</th><th scope=col>...</th><th scope=col>Q12</th><th scope=col>Q13</th><th scope=col>Q14</th><th scope=col>Q15</th><th scope=col>Q16</th><th scope=col>Q17</th><th scope=col>Q18</th><th scope=col>Q19</th><th scope=col>Q20</th><th scope=col>Check</th></tr>\n",
       "\t<tr><th scope=col>&lt;dbl&gt;</th><th scope=col>&lt;chr&gt;</th><th scope=col>&lt;chr&gt;</th><th scope=col>&lt;dbl&gt;</th><th scope=col>&lt;fct&gt;</th><th scope=col>&lt;fct&gt;</th><th scope=col>&lt;fct&gt;</th><th scope=col>&lt;fct&gt;</th><th scope=col>&lt;fct&gt;</th><th scope=col>&lt;fct&gt;</th><th scope=col>...</th><th scope=col>&lt;fct&gt;</th><th scope=col>&lt;fct&gt;</th><th scope=col>&lt;fct&gt;</th><th scope=col>&lt;fct&gt;</th><th scope=col>&lt;fct&gt;</th><th scope=col>&lt;fct&gt;</th><th scope=col>&lt;fct&gt;</th><th scope=col>&lt;fct&gt;</th><th scope=col>&lt;fct&gt;</th><th scope=col>&lt;dbl&gt;</th></tr>\n",
       "</thead>\n",
       "<tbody>\n",
       "\t<tr><td> 4</td><td>Башмаков Богдан Олегович        </td><td>КН-1(5)-1</td><td>8</td><td>D</td><td>B</td><td>D</td><td>A</td><td>B</td><td>B</td><td>...</td><td>C</td><td>A</td><td>D</td><td>B</td><td>A</td><td>C</td><td>C</td><td>D</td><td>D</td><td>5.25</td></tr>\n",
       "\t<tr><td>23</td><td>Котюк Богдан Юрійович           </td><td>КН-1(5)-5</td><td>5</td><td>C</td><td>C</td><td>A</td><td>B</td><td>D</td><td>C</td><td>...</td><td>C</td><td>D</td><td>B</td><td>A</td><td>C</td><td>C</td><td>A</td><td>C</td><td>C</td><td>6.00</td></tr>\n",
       "\t<tr><td>35</td><td>Нечипорук Марія Ярославівна     </td><td>КН-1(5)-5</td><td>9</td><td>C</td><td>B</td><td>A</td><td>C</td><td>C</td><td>C</td><td>...</td><td>C</td><td>B</td><td>A</td><td>B</td><td>D</td><td>A</td><td>B</td><td>B</td><td>D</td><td>6.75</td></tr>\n",
       "\t<tr><td>40</td><td>Онуфрієнко Владислава Вікторівна</td><td>КН-1(5)-5</td><td>8</td><td>B</td><td>B</td><td>B</td><td>A</td><td>B</td><td>D</td><td>...</td><td>A</td><td>D</td><td>A</td><td>D</td><td>B</td><td>B</td><td>A</td><td>C</td><td>C</td><td>3.00</td></tr>\n",
       "\t<tr><td>41</td><td>Остапчук Микола Валентинович    </td><td>КН-1(5)-2</td><td>5</td><td>D</td><td>A</td><td>B</td><td>B</td><td>A</td><td>C</td><td>...</td><td>B</td><td>B</td><td>A</td><td>B</td><td>D</td><td>C</td><td>D</td><td>D</td><td>C</td><td>3.75</td></tr>\n",
       "\t<tr><td>54</td><td>Стуга Едуард Леонідович         </td><td>КН-1(5)-1</td><td>8</td><td>C</td><td>C</td><td>B</td><td>A</td><td>B</td><td>B</td><td>...</td><td>D</td><td>D</td><td>D</td><td>B</td><td>D</td><td>D</td><td>C</td><td>C</td><td>D</td><td>2.25</td></tr>\n",
       "</tbody>\n",
       "</table>\n"
      ],
      "text/latex": [
       "A tibble: 6 x 25\n",
       "\\begin{tabular}{lllllllllllllllllllll}\n",
       " No & Std & Group & V & Q1 & Q2 & Q3 & Q4 & Q5 & Q6 & ... & Q12 & Q13 & Q14 & Q15 & Q16 & Q17 & Q18 & Q19 & Q20 & Check\\\\\n",
       " <dbl> & <chr> & <chr> & <dbl> & <fct> & <fct> & <fct> & <fct> & <fct> & <fct> & ... & <fct> & <fct> & <fct> & <fct> & <fct> & <fct> & <fct> & <fct> & <fct> & <dbl>\\\\\n",
       "\\hline\n",
       "\t  4 & Башмаков Богдан Олегович         & КН-1(5)-1 & 8 & D & B & D & A & B & B & ... & C & A & D & B & A & C & C & D & D & 5.25\\\\\n",
       "\t 23 & Котюк Богдан Юрійович            & КН-1(5)-5 & 5 & C & C & A & B & D & C & ... & C & D & B & A & C & C & A & C & C & 6.00\\\\\n",
       "\t 35 & Нечипорук Марія Ярославівна      & КН-1(5)-5 & 9 & C & B & A & C & C & C & ... & C & B & A & B & D & A & B & B & D & 6.75\\\\\n",
       "\t 40 & Онуфрієнко Владислава Вікторівна & КН-1(5)-5 & 8 & B & B & B & A & B & D & ... & A & D & A & D & B & B & A & C & C & 3.00\\\\\n",
       "\t 41 & Остапчук Микола Валентинович     & КН-1(5)-2 & 5 & D & A & B & B & A & C & ... & B & B & A & B & D & C & D & D & C & 3.75\\\\\n",
       "\t 54 & Стуга Едуард Леонідович          & КН-1(5)-1 & 8 & C & C & B & A & B & B & ... & D & D & D & B & D & D & C & C & D & 2.25\\\\\n",
       "\\end{tabular}\n"
      ],
      "text/markdown": [
       "\n",
       "A tibble: 6 x 25\n",
       "\n",
       "| No &lt;dbl&gt; | Std &lt;chr&gt; | Group &lt;chr&gt; | V &lt;dbl&gt; | Q1 &lt;fct&gt; | Q2 &lt;fct&gt; | Q3 &lt;fct&gt; | Q4 &lt;fct&gt; | Q5 &lt;fct&gt; | Q6 &lt;fct&gt; | ... ... | Q12 &lt;fct&gt; | Q13 &lt;fct&gt; | Q14 &lt;fct&gt; | Q15 &lt;fct&gt; | Q16 &lt;fct&gt; | Q17 &lt;fct&gt; | Q18 &lt;fct&gt; | Q19 &lt;fct&gt; | Q20 &lt;fct&gt; | Check &lt;dbl&gt; |\n",
       "|---|---|---|---|---|---|---|---|---|---|---|---|---|---|---|---|---|---|---|---|---|\n",
       "|  4 | Башмаков Богдан Олегович         | КН-1(5)-1 | 8 | D | B | D | A | B | B | ... | C | A | D | B | A | C | C | D | D | 5.25 |\n",
       "| 23 | Котюк Богдан Юрійович            | КН-1(5)-5 | 5 | C | C | A | B | D | C | ... | C | D | B | A | C | C | A | C | C | 6.00 |\n",
       "| 35 | Нечипорук Марія Ярославівна      | КН-1(5)-5 | 9 | C | B | A | C | C | C | ... | C | B | A | B | D | A | B | B | D | 6.75 |\n",
       "| 40 | Онуфрієнко Владислава Вікторівна | КН-1(5)-5 | 8 | B | B | B | A | B | D | ... | A | D | A | D | B | B | A | C | C | 3.00 |\n",
       "| 41 | Остапчук Микола Валентинович     | КН-1(5)-2 | 5 | D | A | B | B | A | C | ... | B | B | A | B | D | C | D | D | C | 3.75 |\n",
       "| 54 | Стуга Едуард Леонідович          | КН-1(5)-1 | 8 | C | C | B | A | B | B | ... | D | D | D | B | D | D | C | C | D | 2.25 |\n",
       "\n"
      ],
      "text/plain": [
       "  No Std                              Group     V Q1 Q2 Q3 Q4 Q5 Q6 ... Q12 Q13\n",
       "1  4 Башмаков Богдан Олегович         КН-1(5)-1 8 D  B  D  A  B  B  ... C   A  \n",
       "2 23 Котюк Богдан Юрійович            КН-1(5)-5 5 C  C  A  B  D  C  ... C   D  \n",
       "3 35 Нечипорук Марія Ярославівна      КН-1(5)-5 9 C  B  A  C  C  C  ... C   B  \n",
       "4 40 Онуфрієнко Владислава Вікторівна КН-1(5)-5 8 B  B  B  A  B  D  ... A   D  \n",
       "5 41 Остапчук Микола Валентинович     КН-1(5)-2 5 D  A  B  B  A  C  ... B   B  \n",
       "6 54 Стуга Едуард Леонідович          КН-1(5)-1 8 C  C  B  A  B  B  ... D   D  \n",
       "  Q14 Q15 Q16 Q17 Q18 Q19 Q20 Check\n",
       "1 D   B   A   C   C   D   D   5.25 \n",
       "2 B   A   C   C   A   C   C   6.00 \n",
       "3 A   B   D   A   B   B   D   6.75 \n",
       "4 A   D   B   B   A   C   C   3.00 \n",
       "5 A   B   D   C   D   D   C   3.75 \n",
       "6 D   B   D   D   C   C   D   2.25 "
      ]
     },
     "metadata": {},
     "output_type": "display_data"
    }
   ],
   "source": [
    "test_data <- test_data |>\n",
    "    #mutate(Std = \"****** ****\") |>\n",
    "    mutate_at(colnames(test_data)[5:24], factor, levels = c(\"A\", \"B\", \"C\", \"D\", \"X\")) |>\n",
    "    mutate(across(contains(\"Q\"), ~replace_na(.x, \"X\")))\n",
    "#head(test_data)\n",
    "\n",
    "test_data |> head()"
   ]
  },
  {
   "cell_type": "markdown",
   "id": "f04603c0-c98a-4c22-8067-204450081ef0",
   "metadata": {},
   "source": [
    "## 3. Перевірка правильності обчислень"
   ]
  },
  {
   "cell_type": "code",
   "execution_count": 25,
   "id": "3b193e77-ef91-4ce9-bd0a-93201c39c6d7",
   "metadata": {},
   "outputs": [
    {
     "data": {
      "text/html": [
       "<table class=\"dataframe\">\n",
       "<caption>A tibble: 6 x 25</caption>\n",
       "<thead>\n",
       "\t<tr><th scope=col>No</th><th scope=col>Std</th><th scope=col>Group</th><th scope=col>V</th><th scope=col>Q1</th><th scope=col>Q2</th><th scope=col>Q3</th><th scope=col>Q4</th><th scope=col>Q5</th><th scope=col>Q6</th><th scope=col>...</th><th scope=col>Q12</th><th scope=col>Q13</th><th scope=col>Q14</th><th scope=col>Q15</th><th scope=col>Q16</th><th scope=col>Q17</th><th scope=col>Q18</th><th scope=col>Q19</th><th scope=col>Q20</th><th scope=col>Check</th></tr>\n",
       "\t<tr><th scope=col>&lt;dbl&gt;</th><th scope=col>&lt;chr&gt;</th><th scope=col>&lt;chr&gt;</th><th scope=col>&lt;dbl&gt;</th><th scope=col>&lt;fct&gt;</th><th scope=col>&lt;fct&gt;</th><th scope=col>&lt;fct&gt;</th><th scope=col>&lt;fct&gt;</th><th scope=col>&lt;fct&gt;</th><th scope=col>&lt;fct&gt;</th><th scope=col>...</th><th scope=col>&lt;fct&gt;</th><th scope=col>&lt;fct&gt;</th><th scope=col>&lt;fct&gt;</th><th scope=col>&lt;fct&gt;</th><th scope=col>&lt;fct&gt;</th><th scope=col>&lt;fct&gt;</th><th scope=col>&lt;fct&gt;</th><th scope=col>&lt;fct&gt;</th><th scope=col>&lt;fct&gt;</th><th scope=col>&lt;dbl&gt;</th></tr>\n",
       "</thead>\n",
       "<tbody>\n",
       "\t<tr><td> 4</td><td>Башмаков Богдан Олегович        </td><td>КН-1(5)-1</td><td>8</td><td>D</td><td>B</td><td>D</td><td>A</td><td>B</td><td>B</td><td>...</td><td>C</td><td>A</td><td>D</td><td>B</td><td>A</td><td>C</td><td>C</td><td>D</td><td>D</td><td>5.25</td></tr>\n",
       "\t<tr><td>23</td><td>Котюк Богдан Юрійович           </td><td>КН-1(5)-5</td><td>5</td><td>C</td><td>C</td><td>A</td><td>B</td><td>D</td><td>C</td><td>...</td><td>C</td><td>D</td><td>B</td><td>A</td><td>C</td><td>C</td><td>A</td><td>C</td><td>C</td><td>6.00</td></tr>\n",
       "\t<tr><td>35</td><td>Нечипорук Марія Ярославівна     </td><td>КН-1(5)-5</td><td>9</td><td>C</td><td>B</td><td>A</td><td>C</td><td>C</td><td>C</td><td>...</td><td>C</td><td>B</td><td>A</td><td>B</td><td>D</td><td>A</td><td>B</td><td>B</td><td>D</td><td>6.75</td></tr>\n",
       "\t<tr><td>40</td><td>Онуфрієнко Владислава Вікторівна</td><td>КН-1(5)-5</td><td>8</td><td>B</td><td>B</td><td>B</td><td>A</td><td>B</td><td>D</td><td>...</td><td>A</td><td>D</td><td>A</td><td>D</td><td>B</td><td>B</td><td>A</td><td>C</td><td>C</td><td>3.00</td></tr>\n",
       "\t<tr><td>41</td><td>Остапчук Микола Валентинович    </td><td>КН-1(5)-2</td><td>5</td><td>D</td><td>A</td><td>B</td><td>B</td><td>A</td><td>C</td><td>...</td><td>B</td><td>B</td><td>A</td><td>B</td><td>D</td><td>C</td><td>D</td><td>D</td><td>C</td><td>3.75</td></tr>\n",
       "\t<tr><td>54</td><td>Стуга Едуард Леонідович         </td><td>КН-1(5)-1</td><td>8</td><td>C</td><td>C</td><td>B</td><td>A</td><td>B</td><td>B</td><td>...</td><td>D</td><td>D</td><td>D</td><td>B</td><td>D</td><td>D</td><td>C</td><td>C</td><td>D</td><td>2.25</td></tr>\n",
       "</tbody>\n",
       "</table>\n"
      ],
      "text/latex": [
       "A tibble: 6 x 25\n",
       "\\begin{tabular}{lllllllllllllllllllll}\n",
       " No & Std & Group & V & Q1 & Q2 & Q3 & Q4 & Q5 & Q6 & ... & Q12 & Q13 & Q14 & Q15 & Q16 & Q17 & Q18 & Q19 & Q20 & Check\\\\\n",
       " <dbl> & <chr> & <chr> & <dbl> & <fct> & <fct> & <fct> & <fct> & <fct> & <fct> & ... & <fct> & <fct> & <fct> & <fct> & <fct> & <fct> & <fct> & <fct> & <fct> & <dbl>\\\\\n",
       "\\hline\n",
       "\t  4 & Башмаков Богдан Олегович         & КН-1(5)-1 & 8 & D & B & D & A & B & B & ... & C & A & D & B & A & C & C & D & D & 5.25\\\\\n",
       "\t 23 & Котюк Богдан Юрійович            & КН-1(5)-5 & 5 & C & C & A & B & D & C & ... & C & D & B & A & C & C & A & C & C & 6.00\\\\\n",
       "\t 35 & Нечипорук Марія Ярославівна      & КН-1(5)-5 & 9 & C & B & A & C & C & C & ... & C & B & A & B & D & A & B & B & D & 6.75\\\\\n",
       "\t 40 & Онуфрієнко Владислава Вікторівна & КН-1(5)-5 & 8 & B & B & B & A & B & D & ... & A & D & A & D & B & B & A & C & C & 3.00\\\\\n",
       "\t 41 & Остапчук Микола Валентинович     & КН-1(5)-2 & 5 & D & A & B & B & A & C & ... & B & B & A & B & D & C & D & D & C & 3.75\\\\\n",
       "\t 54 & Стуга Едуард Леонідович          & КН-1(5)-1 & 8 & C & C & B & A & B & B & ... & D & D & D & B & D & D & C & C & D & 2.25\\\\\n",
       "\\end{tabular}\n"
      ],
      "text/markdown": [
       "\n",
       "A tibble: 6 x 25\n",
       "\n",
       "| No &lt;dbl&gt; | Std &lt;chr&gt; | Group &lt;chr&gt; | V &lt;dbl&gt; | Q1 &lt;fct&gt; | Q2 &lt;fct&gt; | Q3 &lt;fct&gt; | Q4 &lt;fct&gt; | Q5 &lt;fct&gt; | Q6 &lt;fct&gt; | ... ... | Q12 &lt;fct&gt; | Q13 &lt;fct&gt; | Q14 &lt;fct&gt; | Q15 &lt;fct&gt; | Q16 &lt;fct&gt; | Q17 &lt;fct&gt; | Q18 &lt;fct&gt; | Q19 &lt;fct&gt; | Q20 &lt;fct&gt; | Check &lt;dbl&gt; |\n",
       "|---|---|---|---|---|---|---|---|---|---|---|---|---|---|---|---|---|---|---|---|---|\n",
       "|  4 | Башмаков Богдан Олегович         | КН-1(5)-1 | 8 | D | B | D | A | B | B | ... | C | A | D | B | A | C | C | D | D | 5.25 |\n",
       "| 23 | Котюк Богдан Юрійович            | КН-1(5)-5 | 5 | C | C | A | B | D | C | ... | C | D | B | A | C | C | A | C | C | 6.00 |\n",
       "| 35 | Нечипорук Марія Ярославівна      | КН-1(5)-5 | 9 | C | B | A | C | C | C | ... | C | B | A | B | D | A | B | B | D | 6.75 |\n",
       "| 40 | Онуфрієнко Владислава Вікторівна | КН-1(5)-5 | 8 | B | B | B | A | B | D | ... | A | D | A | D | B | B | A | C | C | 3.00 |\n",
       "| 41 | Остапчук Микола Валентинович     | КН-1(5)-2 | 5 | D | A | B | B | A | C | ... | B | B | A | B | D | C | D | D | C | 3.75 |\n",
       "| 54 | Стуга Едуард Леонідович          | КН-1(5)-1 | 8 | C | C | B | A | B | B | ... | D | D | D | B | D | D | C | C | D | 2.25 |\n",
       "\n"
      ],
      "text/plain": [
       "  No Std                              Group     V Q1 Q2 Q3 Q4 Q5 Q6 ... Q12 Q13\n",
       "1  4 Башмаков Богдан Олегович         КН-1(5)-1 8 D  B  D  A  B  B  ... C   A  \n",
       "2 23 Котюк Богдан Юрійович            КН-1(5)-5 5 C  C  A  B  D  C  ... C   D  \n",
       "3 35 Нечипорук Марія Ярославівна      КН-1(5)-5 9 C  B  A  C  C  C  ... C   B  \n",
       "4 40 Онуфрієнко Владислава Вікторівна КН-1(5)-5 8 B  B  B  A  B  D  ... A   D  \n",
       "5 41 Остапчук Микола Валентинович     КН-1(5)-2 5 D  A  B  B  A  C  ... B   B  \n",
       "6 54 Стуга Едуард Леонідович          КН-1(5)-1 8 C  C  B  A  B  B  ... D   D  \n",
       "  Q14 Q15 Q16 Q17 Q18 Q19 Q20 Check\n",
       "1 D   B   A   C   C   D   D   5.25 \n",
       "2 B   A   C   C   A   C   C   6.00 \n",
       "3 A   B   D   A   B   B   D   6.75 \n",
       "4 A   D   B   B   A   C   C   3.00 \n",
       "5 A   B   D   C   D   D   C   3.75 \n",
       "6 D   B   D   D   C   C   D   2.25 "
      ]
     },
     "metadata": {},
     "output_type": "display_data"
    }
   ],
   "source": [
    "test_data_check <- test_data |> filter(!is.na(Check))\n",
    "test_data_check"
   ]
  },
  {
   "cell_type": "markdown",
   "id": "8816a844-8ed5-4d67-afa0-d75fbb4f97d3",
   "metadata": {},
   "source": [
    "## 3.1. Перевірка для непарних варіантів"
   ]
  },
  {
   "cell_type": "code",
   "execution_count": 28,
   "id": "1186d417-3bf2-4826-a804-0a4e99a69958",
   "metadata": {},
   "outputs": [
    {
     "data": {
      "text/html": [
       "<table class=\"dataframe\">\n",
       "<caption>A tibble: 3 x 25</caption>\n",
       "<thead>\n",
       "\t<tr><th scope=col>No</th><th scope=col>Std</th><th scope=col>Group</th><th scope=col>V</th><th scope=col>Q1</th><th scope=col>Q2</th><th scope=col>Q3</th><th scope=col>Q4</th><th scope=col>Q5</th><th scope=col>Q6</th><th scope=col>...</th><th scope=col>Q12</th><th scope=col>Q13</th><th scope=col>Q14</th><th scope=col>Q15</th><th scope=col>Q16</th><th scope=col>Q17</th><th scope=col>Q18</th><th scope=col>Q19</th><th scope=col>Q20</th><th scope=col>Check</th></tr>\n",
       "\t<tr><th scope=col>&lt;dbl&gt;</th><th scope=col>&lt;chr&gt;</th><th scope=col>&lt;chr&gt;</th><th scope=col>&lt;dbl&gt;</th><th scope=col>&lt;fct&gt;</th><th scope=col>&lt;fct&gt;</th><th scope=col>&lt;fct&gt;</th><th scope=col>&lt;fct&gt;</th><th scope=col>&lt;fct&gt;</th><th scope=col>&lt;fct&gt;</th><th scope=col>...</th><th scope=col>&lt;fct&gt;</th><th scope=col>&lt;fct&gt;</th><th scope=col>&lt;fct&gt;</th><th scope=col>&lt;fct&gt;</th><th scope=col>&lt;fct&gt;</th><th scope=col>&lt;fct&gt;</th><th scope=col>&lt;fct&gt;</th><th scope=col>&lt;fct&gt;</th><th scope=col>&lt;fct&gt;</th><th scope=col>&lt;dbl&gt;</th></tr>\n",
       "</thead>\n",
       "<tbody>\n",
       "\t<tr><td>23</td><td>Котюк Богдан Юрійович       </td><td>КН-1(5)-5</td><td>5</td><td>C</td><td>C</td><td>A</td><td>B</td><td>D</td><td>C</td><td>...</td><td>C</td><td>D</td><td>B</td><td>A</td><td>C</td><td>C</td><td>A</td><td>C</td><td>C</td><td>6.00</td></tr>\n",
       "\t<tr><td>35</td><td>Нечипорук Марія Ярославівна </td><td>КН-1(5)-5</td><td>9</td><td>C</td><td>B</td><td>A</td><td>C</td><td>C</td><td>C</td><td>...</td><td>C</td><td>B</td><td>A</td><td>B</td><td>D</td><td>A</td><td>B</td><td>B</td><td>D</td><td>6.75</td></tr>\n",
       "\t<tr><td>41</td><td>Остапчук Микола Валентинович</td><td>КН-1(5)-2</td><td>5</td><td>D</td><td>A</td><td>B</td><td>B</td><td>A</td><td>C</td><td>...</td><td>B</td><td>B</td><td>A</td><td>B</td><td>D</td><td>C</td><td>D</td><td>D</td><td>C</td><td>3.75</td></tr>\n",
       "</tbody>\n",
       "</table>\n"
      ],
      "text/latex": [
       "A tibble: 3 x 25\n",
       "\\begin{tabular}{lllllllllllllllllllll}\n",
       " No & Std & Group & V & Q1 & Q2 & Q3 & Q4 & Q5 & Q6 & ... & Q12 & Q13 & Q14 & Q15 & Q16 & Q17 & Q18 & Q19 & Q20 & Check\\\\\n",
       " <dbl> & <chr> & <chr> & <dbl> & <fct> & <fct> & <fct> & <fct> & <fct> & <fct> & ... & <fct> & <fct> & <fct> & <fct> & <fct> & <fct> & <fct> & <fct> & <fct> & <dbl>\\\\\n",
       "\\hline\n",
       "\t 23 & Котюк Богдан Юрійович        & КН-1(5)-5 & 5 & C & C & A & B & D & C & ... & C & D & B & A & C & C & A & C & C & 6.00\\\\\n",
       "\t 35 & Нечипорук Марія Ярославівна  & КН-1(5)-5 & 9 & C & B & A & C & C & C & ... & C & B & A & B & D & A & B & B & D & 6.75\\\\\n",
       "\t 41 & Остапчук Микола Валентинович & КН-1(5)-2 & 5 & D & A & B & B & A & C & ... & B & B & A & B & D & C & D & D & C & 3.75\\\\\n",
       "\\end{tabular}\n"
      ],
      "text/markdown": [
       "\n",
       "A tibble: 3 x 25\n",
       "\n",
       "| No &lt;dbl&gt; | Std &lt;chr&gt; | Group &lt;chr&gt; | V &lt;dbl&gt; | Q1 &lt;fct&gt; | Q2 &lt;fct&gt; | Q3 &lt;fct&gt; | Q4 &lt;fct&gt; | Q5 &lt;fct&gt; | Q6 &lt;fct&gt; | ... ... | Q12 &lt;fct&gt; | Q13 &lt;fct&gt; | Q14 &lt;fct&gt; | Q15 &lt;fct&gt; | Q16 &lt;fct&gt; | Q17 &lt;fct&gt; | Q18 &lt;fct&gt; | Q19 &lt;fct&gt; | Q20 &lt;fct&gt; | Check &lt;dbl&gt; |\n",
       "|---|---|---|---|---|---|---|---|---|---|---|---|---|---|---|---|---|---|---|---|---|\n",
       "| 23 | Котюк Богдан Юрійович        | КН-1(5)-5 | 5 | C | C | A | B | D | C | ... | C | D | B | A | C | C | A | C | C | 6.00 |\n",
       "| 35 | Нечипорук Марія Ярославівна  | КН-1(5)-5 | 9 | C | B | A | C | C | C | ... | C | B | A | B | D | A | B | B | D | 6.75 |\n",
       "| 41 | Остапчук Микола Валентинович | КН-1(5)-2 | 5 | D | A | B | B | A | C | ... | B | B | A | B | D | C | D | D | C | 3.75 |\n",
       "\n"
      ],
      "text/plain": [
       "  No Std                          Group     V Q1 Q2 Q3 Q4 Q5 Q6 ... Q12 Q13 Q14\n",
       "1 23 Котюк Богдан Юрійович        КН-1(5)-5 5 C  C  A  B  D  C  ... C   D   B  \n",
       "2 35 Нечипорук Марія Ярославівна  КН-1(5)-5 9 C  B  A  C  C  C  ... C   B   A  \n",
       "3 41 Остапчук Микола Валентинович КН-1(5)-2 5 D  A  B  B  A  C  ... B   B   A  \n",
       "  Q15 Q16 Q17 Q18 Q19 Q20 Check\n",
       "1 A   C   C   A   C   C   6.00 \n",
       "2 B   D   A   B   B   D   6.75 \n",
       "3 B   D   C   D   D   C   3.75 "
      ]
     },
     "metadata": {},
     "output_type": "display_data"
    }
   ],
   "source": [
    "test_data_np <- test_data_check |> filter(V %% 2 == 1)\n",
    "test_data_np"
   ]
  },
  {
   "cell_type": "code",
   "execution_count": 39,
   "id": "0e50bf55-f231-4409-897c-42b2b57e9e82",
   "metadata": {},
   "outputs": [
    {
     "data": {
      "text/html": [
       "<table class=\"dataframe\">\n",
       "<caption>A matrix: 3 x 20 of type chr</caption>\n",
       "<thead>\n",
       "\t<tr><th scope=col>Q1</th><th scope=col>Q2</th><th scope=col>Q3</th><th scope=col>Q4</th><th scope=col>Q5</th><th scope=col>Q6</th><th scope=col>Q7</th><th scope=col>Q8</th><th scope=col>Q9</th><th scope=col>Q10</th><th scope=col>Q11</th><th scope=col>Q12</th><th scope=col>Q13</th><th scope=col>Q14</th><th scope=col>Q15</th><th scope=col>Q16</th><th scope=col>Q17</th><th scope=col>Q18</th><th scope=col>Q19</th><th scope=col>Q20</th></tr>\n",
       "</thead>\n",
       "<tbody>\n",
       "\t<tr><td>C</td><td>C</td><td>A</td><td>B</td><td>D</td><td>C</td><td>B</td><td>C</td><td>A</td><td>C</td><td>B</td><td>C</td><td>D</td><td>B</td><td>A</td><td>C</td><td>C</td><td>A</td><td>C</td><td>C</td></tr>\n",
       "\t<tr><td>C</td><td>B</td><td>A</td><td>C</td><td>C</td><td>C</td><td>D</td><td>D</td><td>A</td><td>D</td><td>D</td><td>C</td><td>B</td><td>A</td><td>B</td><td>D</td><td>A</td><td>B</td><td>B</td><td>D</td></tr>\n",
       "\t<tr><td>D</td><td>A</td><td>B</td><td>B</td><td>A</td><td>C</td><td>C</td><td>D</td><td>D</td><td>B</td><td>A</td><td>B</td><td>B</td><td>A</td><td>B</td><td>D</td><td>C</td><td>D</td><td>D</td><td>C</td></tr>\n",
       "</tbody>\n",
       "</table>\n"
      ],
      "text/latex": [
       "A matrix: 3 x 20 of type chr\n",
       "\\begin{tabular}{llllllllllllllllllll}\n",
       " Q1 & Q2 & Q3 & Q4 & Q5 & Q6 & Q7 & Q8 & Q9 & Q10 & Q11 & Q12 & Q13 & Q14 & Q15 & Q16 & Q17 & Q18 & Q19 & Q20\\\\\n",
       "\\hline\n",
       "\t C & C & A & B & D & C & B & C & A & C & B & C & D & B & A & C & C & A & C & C\\\\\n",
       "\t C & B & A & C & C & C & D & D & A & D & D & C & B & A & B & D & A & B & B & D\\\\\n",
       "\t D & A & B & B & A & C & C & D & D & B & A & B & B & A & B & D & C & D & D & C\\\\\n",
       "\\end{tabular}\n"
      ],
      "text/markdown": [
       "\n",
       "A matrix: 3 x 20 of type chr\n",
       "\n",
       "| Q1 | Q2 | Q3 | Q4 | Q5 | Q6 | Q7 | Q8 | Q9 | Q10 | Q11 | Q12 | Q13 | Q14 | Q15 | Q16 | Q17 | Q18 | Q19 | Q20 |\n",
       "|---|---|---|---|---|---|---|---|---|---|---|---|---|---|---|---|---|---|---|---|\n",
       "| C | C | A | B | D | C | B | C | A | C | B | C | D | B | A | C | C | A | C | C |\n",
       "| C | B | A | C | C | C | D | D | A | D | D | C | B | A | B | D | A | B | B | D |\n",
       "| D | A | B | B | A | C | C | D | D | B | A | B | B | A | B | D | C | D | D | C |\n",
       "\n"
      ],
      "text/plain": [
       "     Q1 Q2 Q3 Q4 Q5 Q6 Q7 Q8 Q9 Q10 Q11 Q12 Q13 Q14 Q15 Q16 Q17 Q18 Q19 Q20\n",
       "[1,] C  C  A  B  D  C  B  C  A  C   B   C   D   B   A   C   C   A   C   C  \n",
       "[2,] C  B  A  C  C  C  D  D  A  D   D   C   B   A   B   D   A   B   B   D  \n",
       "[3,] D  A  B  B  A  C  C  D  D  B   A   B   B   A   B   D   C   D   D   C  "
      ]
     },
     "metadata": {},
     "output_type": "display_data"
    }
   ],
   "source": [
    "answers_matrix <-  test_data_np |> select(Q1:Q20) |> as.matrix()\n",
    "answers_matrix"
   ]
  },
  {
   "cell_type": "code",
   "execution_count": 40,
   "id": "09dc20bb-b7fb-4cef-b53a-d6767b402aa8",
   "metadata": {},
   "outputs": [
    {
     "data": {
      "text/html": [
       "<style>\n",
       ".list-inline {list-style: none; margin:0; padding: 0}\n",
       ".list-inline>li {display: inline-block}\n",
       ".list-inline>li:not(:last-child)::after {content: \"\\00b7\"; padding: 0 .5ex}\n",
       "</style>\n",
       "<ol class=list-inline><li>'C'</li><li>'C'</li><li>'C'</li><li>'D'</li><li>'D'</li><li>'C'</li><li>'A'</li><li>'C'</li><li>'A'</li><li>'A'</li><li>'D'</li><li>'D'</li><li>'C'</li><li>'B'</li><li>'C'</li><li>'B'</li><li>'D'</li><li>'A'</li><li>'A'</li><li>'A'</li></ol>\n"
      ],
      "text/latex": [
       "\\begin{enumerate*}\n",
       "\\item 'C'\n",
       "\\item 'C'\n",
       "\\item 'C'\n",
       "\\item 'D'\n",
       "\\item 'D'\n",
       "\\item 'C'\n",
       "\\item 'A'\n",
       "\\item 'C'\n",
       "\\item 'A'\n",
       "\\item 'A'\n",
       "\\item 'D'\n",
       "\\item 'D'\n",
       "\\item 'C'\n",
       "\\item 'B'\n",
       "\\item 'C'\n",
       "\\item 'B'\n",
       "\\item 'D'\n",
       "\\item 'A'\n",
       "\\item 'A'\n",
       "\\item 'A'\n",
       "\\end{enumerate*}\n"
      ],
      "text/markdown": [
       "1. 'C'\n",
       "2. 'C'\n",
       "3. 'C'\n",
       "4. 'D'\n",
       "5. 'D'\n",
       "6. 'C'\n",
       "7. 'A'\n",
       "8. 'C'\n",
       "9. 'A'\n",
       "10. 'A'\n",
       "11. 'D'\n",
       "12. 'D'\n",
       "13. 'C'\n",
       "14. 'B'\n",
       "15. 'C'\n",
       "16. 'B'\n",
       "17. 'D'\n",
       "18. 'A'\n",
       "19. 'A'\n",
       "20. 'A'\n",
       "\n",
       "\n"
      ],
      "text/plain": [
       " [1] \"C\" \"C\" \"C\" \"D\" \"D\" \"C\" \"A\" \"C\" \"A\" \"A\" \"D\" \"D\" \"C\" \"B\" \"C\" \"B\" \"D\" \"A\" \"A\"\n",
       "[20] \"A\""
      ]
     },
     "metadata": {},
     "output_type": "display_data"
    }
   ],
   "source": [
    "correct_answers <- keys_data$V1\n",
    "correct_answers"
   ]
  },
  {
   "cell_type": "code",
   "execution_count": 42,
   "id": "f3155743-325f-447b-b68e-f9f381044edc",
   "metadata": {},
   "outputs": [
    {
     "data": {
      "text/html": [
       "<table class=\"dataframe\">\n",
       "<caption>A matrix: 3 x 20 of type dbl</caption>\n",
       "<thead>\n",
       "\t<tr><th></th><th scope=col>Q1</th><th scope=col>Q2</th><th scope=col>Q3</th><th scope=col>Q4</th><th scope=col>Q5</th><th scope=col>Q6</th><th scope=col>Q7</th><th scope=col>Q8</th><th scope=col>Q9</th><th scope=col>Q10</th><th scope=col>Q11</th><th scope=col>Q12</th><th scope=col>Q13</th><th scope=col>Q14</th><th scope=col>Q15</th><th scope=col>Q16</th><th scope=col>Q17</th><th scope=col>Q18</th><th scope=col>Q19</th><th scope=col>Q20</th></tr>\n",
       "</thead>\n",
       "<tbody>\n",
       "\t<tr><th scope=row>Котюк Богдан Юрійович</th><td>1</td><td>1</td><td>0</td><td>0</td><td>1</td><td>1</td><td>0</td><td>1</td><td>1</td><td>0</td><td>0</td><td>0</td><td>0</td><td>1</td><td>0</td><td>0</td><td>0</td><td>1</td><td>0</td><td>0</td></tr>\n",
       "\t<tr><th scope=row>Нечипорук Марія Ярославівна</th><td>1</td><td>0</td><td>0</td><td>0</td><td>0</td><td>1</td><td>0</td><td>0</td><td>1</td><td>0</td><td>1</td><td>0</td><td>0</td><td>0</td><td>0</td><td>0</td><td>0</td><td>0</td><td>0</td><td>0</td></tr>\n",
       "\t<tr><th scope=row>Остапчук Микола Валентинович</th><td>0</td><td>0</td><td>0</td><td>0</td><td>0</td><td>1</td><td>0</td><td>0</td><td>0</td><td>0</td><td>0</td><td>0</td><td>0</td><td>0</td><td>0</td><td>0</td><td>0</td><td>0</td><td>0</td><td>0</td></tr>\n",
       "</tbody>\n",
       "</table>\n"
      ],
      "text/latex": [
       "A matrix: 3 x 20 of type dbl\n",
       "\\begin{tabular}{r|llllllllllllllllllll}\n",
       "  & Q1 & Q2 & Q3 & Q4 & Q5 & Q6 & Q7 & Q8 & Q9 & Q10 & Q11 & Q12 & Q13 & Q14 & Q15 & Q16 & Q17 & Q18 & Q19 & Q20\\\\\n",
       "\\hline\n",
       "\tКотюк Богдан Юрійович & 1 & 1 & 0 & 0 & 1 & 1 & 0 & 1 & 1 & 0 & 0 & 0 & 0 & 1 & 0 & 0 & 0 & 1 & 0 & 0\\\\\n",
       "\tНечипорук Марія Ярославівна & 1 & 0 & 0 & 0 & 0 & 1 & 0 & 0 & 1 & 0 & 1 & 0 & 0 & 0 & 0 & 0 & 0 & 0 & 0 & 0\\\\\n",
       "\tОстапчук Микола Валентинович & 0 & 0 & 0 & 0 & 0 & 1 & 0 & 0 & 0 & 0 & 0 & 0 & 0 & 0 & 0 & 0 & 0 & 0 & 0 & 0\\\\\n",
       "\\end{tabular}\n"
      ],
      "text/markdown": [
       "\n",
       "A matrix: 3 x 20 of type dbl\n",
       "\n",
       "| <!--/--> | Q1 | Q2 | Q3 | Q4 | Q5 | Q6 | Q7 | Q8 | Q9 | Q10 | Q11 | Q12 | Q13 | Q14 | Q15 | Q16 | Q17 | Q18 | Q19 | Q20 |\n",
       "|---|---|---|---|---|---|---|---|---|---|---|---|---|---|---|---|---|---|---|---|---|\n",
       "| Котюк Богдан Юрійович | 1 | 1 | 0 | 0 | 1 | 1 | 0 | 1 | 1 | 0 | 0 | 0 | 0 | 1 | 0 | 0 | 0 | 1 | 0 | 0 |\n",
       "| Нечипорук Марія Ярославівна | 1 | 0 | 0 | 0 | 0 | 1 | 0 | 0 | 1 | 0 | 1 | 0 | 0 | 0 | 0 | 0 | 0 | 0 | 0 | 0 |\n",
       "| Остапчук Микола Валентинович | 0 | 0 | 0 | 0 | 0 | 1 | 0 | 0 | 0 | 0 | 0 | 0 | 0 | 0 | 0 | 0 | 0 | 0 | 0 | 0 |\n",
       "\n"
      ],
      "text/plain": [
       "                             Q1 Q2 Q3 Q4 Q5 Q6 Q7 Q8 Q9 Q10 Q11 Q12 Q13 Q14 Q15\n",
       "Котюк Богдан Юрійович        1  1  0  0  1  1  0  1  1  0   0   0   0   1   0  \n",
       "Нечипорук Марія Ярославівна  1  0  0  0  0  1  0  0  1  0   1   0   0   0   0  \n",
       "Остапчук Микола Валентинович 0  0  0  0  0  1  0  0  0  0   0   0   0   0   0  \n",
       "                             Q16 Q17 Q18 Q19 Q20\n",
       "Котюк Богдан Юрійович        0   0   1   0   0  \n",
       "Нечипорук Марія Ярославівна  0   0   0   0   0  \n",
       "Остапчук Микола Валентинович 0   0   0   0   0  "
      ]
     },
     "metadata": {},
     "output_type": "display_data"
    }
   ],
   "source": [
    "final_matrix <- matrix(FALSE, nrow = nrow(answers_matrix), ncol = ncol(answers_matrix))\n",
    "\n",
    "for(i in 1:ncol(answers_matrix)) \n",
    "{\n",
    "    final_matrix[,i] <- ifelse(answers_matrix[, i] == correct_answers[i], 1, 0)\n",
    "}\n",
    "colnames(final_matrix) <- colnames(answers_matrix)\n",
    "rownames(final_matrix) <- test_data_np$Std\n",
    "final_matrix"
   ]
  },
  {
   "cell_type": "code",
   "execution_count": 61,
   "id": "5b1bef30-90e9-4cae-b6b0-40a2bd51dfde",
   "metadata": {},
   "outputs": [
    {
     "data": {
      "text/html": [
       "<table class=\"dataframe\">\n",
       "<caption>A rowwise_df: 3 x 7</caption>\n",
       "<thead>\n",
       "\t<tr><th scope=col>No</th><th scope=col>Std</th><th scope=col>Group</th><th scope=col>V</th><th scope=col>Check</th><th scope=col>Correct</th><th scope=col>Grade</th></tr>\n",
       "\t<tr><th scope=col>&lt;dbl&gt;</th><th scope=col>&lt;chr&gt;</th><th scope=col>&lt;chr&gt;</th><th scope=col>&lt;dbl&gt;</th><th scope=col>&lt;dbl&gt;</th><th scope=col>&lt;dbl&gt;</th><th scope=col>&lt;dbl&gt;</th></tr>\n",
       "</thead>\n",
       "<tbody>\n",
       "\t<tr><td>23</td><td>Котюк Богдан Юрійович       </td><td>КН-1(5)-5</td><td>5</td><td>6.00</td><td>8</td><td>6.00</td></tr>\n",
       "\t<tr><td>35</td><td>Нечипорук Марія Ярославівна </td><td>КН-1(5)-5</td><td>9</td><td>6.75</td><td>4</td><td>3.00</td></tr>\n",
       "\t<tr><td>41</td><td>Остапчук Микола Валентинович</td><td>КН-1(5)-2</td><td>5</td><td>3.75</td><td>1</td><td>0.75</td></tr>\n",
       "</tbody>\n",
       "</table>\n"
      ],
      "text/latex": [
       "A rowwise\\_df: 3 x 7\n",
       "\\begin{tabular}{lllllll}\n",
       " No & Std & Group & V & Check & Correct & Grade\\\\\n",
       " <dbl> & <chr> & <chr> & <dbl> & <dbl> & <dbl> & <dbl>\\\\\n",
       "\\hline\n",
       "\t 23 & Котюк Богдан Юрійович        & КН-1(5)-5 & 5 & 6.00 & 8 & 6.00\\\\\n",
       "\t 35 & Нечипорук Марія Ярославівна  & КН-1(5)-5 & 9 & 6.75 & 4 & 3.00\\\\\n",
       "\t 41 & Остапчук Микола Валентинович & КН-1(5)-2 & 5 & 3.75 & 1 & 0.75\\\\\n",
       "\\end{tabular}\n"
      ],
      "text/markdown": [
       "\n",
       "A rowwise_df: 3 x 7\n",
       "\n",
       "| No &lt;dbl&gt; | Std &lt;chr&gt; | Group &lt;chr&gt; | V &lt;dbl&gt; | Check &lt;dbl&gt; | Correct &lt;dbl&gt; | Grade &lt;dbl&gt; |\n",
       "|---|---|---|---|---|---|---|\n",
       "| 23 | Котюк Богдан Юрійович        | КН-1(5)-5 | 5 | 6.00 | 8 | 6.00 |\n",
       "| 35 | Нечипорук Марія Ярославівна  | КН-1(5)-5 | 9 | 6.75 | 4 | 3.00 |\n",
       "| 41 | Остапчук Микола Валентинович | КН-1(5)-2 | 5 | 3.75 | 1 | 0.75 |\n",
       "\n"
      ],
      "text/plain": [
       "  No Std                          Group     V Check Correct Grade\n",
       "1 23 Котюк Богдан Юрійович        КН-1(5)-5 5 6.00  8       6.00 \n",
       "2 35 Нечипорук Марія Ярославівна  КН-1(5)-5 9 6.75  4       3.00 \n",
       "3 41 Остапчук Микола Валентинович КН-1(5)-2 5 3.75  1       0.75 "
      ]
     },
     "metadata": {},
     "output_type": "display_data"
    }
   ],
   "source": [
    "# grade <- 15/20\n",
    "\n",
    "final_grades <- test_data_np |> select(1:4) |>\n",
    "    bind_cols(as.data.frame(final_matrix)) |>\n",
    "    bind_cols(test_data_np |> select(Check)) |>\n",
    "    rowwise() |>\n",
    "    mutate(Correct = sum(across(Q1:Q20), na.rm = T)) |>\n",
    "    mutate(Grade = Correct * grade)\n",
    "\n",
    "colnames(final_matrix) <- colnames(answers_matrix)\n",
    "\n",
    "#final_grades <- final_grades |>\n",
    "  # mutate_if(is.logical, function(x) {ifelse(x, grade, 0)}) \n",
    "#final_grades <- final_grades |>\n",
    "   # rowwise() |>\n",
    "#   mutate(Total = sum(across(Q1:Q20), na.rm = T)) \n",
    "\n",
    "final_grades |> select(1:4, 25:27)"
   ]
  },
  {
   "cell_type": "code",
   "execution_count": null,
   "id": "61ed512f-fbf9-40ef-b07e-dba6404e7e0f",
   "metadata": {},
   "outputs": [],
   "source": []
  },
  {
   "cell_type": "code",
   "execution_count": null,
   "id": "c98bd4a5-1d3b-411d-b84b-c696225ad5e1",
   "metadata": {},
   "outputs": [],
   "source": []
  },
  {
   "cell_type": "code",
   "execution_count": null,
   "id": "ee583fe2-90b4-47f4-a610-1cca7febc473",
   "metadata": {},
   "outputs": [],
   "source": []
  },
  {
   "cell_type": "code",
   "execution_count": null,
   "id": "78a36b35-73c9-4743-86d2-33b7da937a00",
   "metadata": {},
   "outputs": [],
   "source": []
  },
  {
   "cell_type": "code",
   "execution_count": null,
   "id": "4c6ec5fb-0126-4cad-9843-c9490fd53973",
   "metadata": {},
   "outputs": [],
   "source": []
  },
  {
   "cell_type": "code",
   "execution_count": null,
   "id": "9c3489b3-9e07-4a50-8d5b-5c6a1d1db68f",
   "metadata": {},
   "outputs": [],
   "source": []
  },
  {
   "cell_type": "code",
   "execution_count": null,
   "id": "c4dd4684-3e18-48cd-a752-4ac107a89962",
   "metadata": {},
   "outputs": [],
   "source": []
  },
  {
   "cell_type": "code",
   "execution_count": null,
   "id": "b3d03a49-b7a1-43b6-8216-5e2278686e2b",
   "metadata": {},
   "outputs": [],
   "source": []
  },
  {
   "cell_type": "code",
   "execution_count": 11,
   "id": "3e0d8b95-ec3c-4634-ae55-a0d191b7cfc9",
   "metadata": {},
   "outputs": [
    {
     "data": {
      "text/html": [
       "0"
      ],
      "text/latex": [
       "0"
      ],
      "text/markdown": [
       "0"
      ],
      "text/plain": [
       "[1] 0"
      ]
     },
     "metadata": {},
     "output_type": "display_data"
    },
    {
     "data": {
      "text/html": [
       "6"
      ],
      "text/latex": [
       "6"
      ],
      "text/markdown": [
       "6"
      ],
      "text/plain": [
       "[1] 6"
      ]
     },
     "metadata": {},
     "output_type": "display_data"
    }
   ],
   "source": [
    "test_data_v1 <- test_data |> filter(V %% 2 == 1)\n",
    "nrow(test_data_v1)\n",
    "test_data_v2 <- test_data |> filter(V %% 2 == 0)\n",
    "nrow(test_data_v2)"
   ]
  },
  {
   "cell_type": "code",
   "execution_count": 12,
   "id": "0e5e4708-c8a4-4785-9453-108c6164222d",
   "metadata": {},
   "outputs": [
    {
     "data": {
      "text/html": [
       "<table class=\"dataframe\">\n",
       "<caption>A tibble: 6 x 25</caption>\n",
       "<thead>\n",
       "\t<tr><th scope=col>No</th><th scope=col>Std</th><th scope=col>V</th><th scope=col>Group</th><th scope=col>Q1</th><th scope=col>Q2</th><th scope=col>Q3</th><th scope=col>Q4</th><th scope=col>Q5</th><th scope=col>Q6</th><th scope=col>...</th><th scope=col>Q12</th><th scope=col>Q13</th><th scope=col>Q14</th><th scope=col>Q15</th><th scope=col>Q16</th><th scope=col>Q17</th><th scope=col>Q18</th><th scope=col>Q19</th><th scope=col>Q20</th><th scope=col>Check</th></tr>\n",
       "\t<tr><th scope=col>&lt;dbl&gt;</th><th scope=col>&lt;chr&gt;</th><th scope=col>&lt;dbl&gt;</th><th scope=col>&lt;chr&gt;</th><th scope=col>&lt;fct&gt;</th><th scope=col>&lt;fct&gt;</th><th scope=col>&lt;fct&gt;</th><th scope=col>&lt;fct&gt;</th><th scope=col>&lt;fct&gt;</th><th scope=col>&lt;fct&gt;</th><th scope=col>...</th><th scope=col>&lt;fct&gt;</th><th scope=col>&lt;fct&gt;</th><th scope=col>&lt;fct&gt;</th><th scope=col>&lt;fct&gt;</th><th scope=col>&lt;fct&gt;</th><th scope=col>&lt;fct&gt;</th><th scope=col>&lt;fct&gt;</th><th scope=col>&lt;fct&gt;</th><th scope=col>&lt;fct&gt;</th><th scope=col>&lt;dbl&gt;</th></tr>\n",
       "</thead>\n",
       "<tbody>\n",
       "\t<tr><td> 4</td><td>Башмаков Богдан Олегович        </td><td>8</td><td>КН-1(5)-1</td><td>D</td><td>B</td><td>D</td><td>A</td><td>B</td><td>B</td><td>...</td><td>C</td><td>A</td><td>D</td><td>B</td><td>A</td><td>C</td><td>C</td><td>D</td><td>D</td><td>5.25</td></tr>\n",
       "\t<tr><td>23</td><td>Котюк Богдан Юрійович           </td><td>5</td><td>КН-1(5)-5</td><td>C</td><td>C</td><td>A</td><td>B</td><td>D</td><td>C</td><td>...</td><td>C</td><td>D</td><td>B</td><td>A</td><td>C</td><td>C</td><td>A</td><td>C</td><td>C</td><td>6.00</td></tr>\n",
       "\t<tr><td>35</td><td>Нечипорук Марія Ярославівна     </td><td>9</td><td>КН-1(5)-5</td><td>C</td><td>B</td><td>A</td><td>C</td><td>C</td><td>C</td><td>...</td><td>C</td><td>B</td><td>A</td><td>B</td><td>D</td><td>A</td><td>B</td><td>B</td><td>D</td><td>6.75</td></tr>\n",
       "\t<tr><td>40</td><td>Онуфрієнко Владислава Вікторівна</td><td>8</td><td>КН-1(5)-5</td><td>B</td><td>B</td><td>B</td><td>A</td><td>B</td><td>D</td><td>...</td><td>A</td><td>D</td><td>A</td><td>D</td><td>B</td><td>B</td><td>A</td><td>C</td><td>C</td><td>3.00</td></tr>\n",
       "\t<tr><td>41</td><td>Остапчук Микола Валентинович    </td><td>5</td><td>КН-1(5)-2</td><td>D</td><td>A</td><td>B</td><td>B</td><td>A</td><td>C</td><td>...</td><td>B</td><td>B</td><td>A</td><td>B</td><td>D</td><td>C</td><td>D</td><td>D</td><td>C</td><td>3.75</td></tr>\n",
       "\t<tr><td>54</td><td>Стуга Едуард Леонідович         </td><td>8</td><td>КН-1(5)-1</td><td>C</td><td>C</td><td>B</td><td>A</td><td>B</td><td>B</td><td>...</td><td>D</td><td>D</td><td>D</td><td>B</td><td>D</td><td>D</td><td>C</td><td>C</td><td>D</td><td>2.25</td></tr>\n",
       "</tbody>\n",
       "</table>\n"
      ],
      "text/latex": [
       "A tibble: 6 x 25\n",
       "\\begin{tabular}{lllllllllllllllllllll}\n",
       " No & Std & V & Group & Q1 & Q2 & Q3 & Q4 & Q5 & Q6 & ... & Q12 & Q13 & Q14 & Q15 & Q16 & Q17 & Q18 & Q19 & Q20 & Check\\\\\n",
       " <dbl> & <chr> & <dbl> & <chr> & <fct> & <fct> & <fct> & <fct> & <fct> & <fct> & ... & <fct> & <fct> & <fct> & <fct> & <fct> & <fct> & <fct> & <fct> & <fct> & <dbl>\\\\\n",
       "\\hline\n",
       "\t  4 & Башмаков Богдан Олегович         & 8 & КН-1(5)-1 & D & B & D & A & B & B & ... & C & A & D & B & A & C & C & D & D & 5.25\\\\\n",
       "\t 23 & Котюк Богдан Юрійович            & 5 & КН-1(5)-5 & C & C & A & B & D & C & ... & C & D & B & A & C & C & A & C & C & 6.00\\\\\n",
       "\t 35 & Нечипорук Марія Ярославівна      & 9 & КН-1(5)-5 & C & B & A & C & C & C & ... & C & B & A & B & D & A & B & B & D & 6.75\\\\\n",
       "\t 40 & Онуфрієнко Владислава Вікторівна & 8 & КН-1(5)-5 & B & B & B & A & B & D & ... & A & D & A & D & B & B & A & C & C & 3.00\\\\\n",
       "\t 41 & Остапчук Микола Валентинович     & 5 & КН-1(5)-2 & D & A & B & B & A & C & ... & B & B & A & B & D & C & D & D & C & 3.75\\\\\n",
       "\t 54 & Стуга Едуард Леонідович          & 8 & КН-1(5)-1 & C & C & B & A & B & B & ... & D & D & D & B & D & D & C & C & D & 2.25\\\\\n",
       "\\end{tabular}\n"
      ],
      "text/markdown": [
       "\n",
       "A tibble: 6 x 25\n",
       "\n",
       "| No &lt;dbl&gt; | Std &lt;chr&gt; | V &lt;dbl&gt; | Group &lt;chr&gt; | Q1 &lt;fct&gt; | Q2 &lt;fct&gt; | Q3 &lt;fct&gt; | Q4 &lt;fct&gt; | Q5 &lt;fct&gt; | Q6 &lt;fct&gt; | ... ... | Q12 &lt;fct&gt; | Q13 &lt;fct&gt; | Q14 &lt;fct&gt; | Q15 &lt;fct&gt; | Q16 &lt;fct&gt; | Q17 &lt;fct&gt; | Q18 &lt;fct&gt; | Q19 &lt;fct&gt; | Q20 &lt;fct&gt; | Check &lt;dbl&gt; |\n",
       "|---|---|---|---|---|---|---|---|---|---|---|---|---|---|---|---|---|---|---|---|---|\n",
       "|  4 | Башмаков Богдан Олегович         | 8 | КН-1(5)-1 | D | B | D | A | B | B | ... | C | A | D | B | A | C | C | D | D | 5.25 |\n",
       "| 23 | Котюк Богдан Юрійович            | 5 | КН-1(5)-5 | C | C | A | B | D | C | ... | C | D | B | A | C | C | A | C | C | 6.00 |\n",
       "| 35 | Нечипорук Марія Ярославівна      | 9 | КН-1(5)-5 | C | B | A | C | C | C | ... | C | B | A | B | D | A | B | B | D | 6.75 |\n",
       "| 40 | Онуфрієнко Владислава Вікторівна | 8 | КН-1(5)-5 | B | B | B | A | B | D | ... | A | D | A | D | B | B | A | C | C | 3.00 |\n",
       "| 41 | Остапчук Микола Валентинович     | 5 | КН-1(5)-2 | D | A | B | B | A | C | ... | B | B | A | B | D | C | D | D | C | 3.75 |\n",
       "| 54 | Стуга Едуард Леонідович          | 8 | КН-1(5)-1 | C | C | B | A | B | B | ... | D | D | D | B | D | D | C | C | D | 2.25 |\n",
       "\n"
      ],
      "text/plain": [
       "  No Std                              V Group     Q1 Q2 Q3 Q4 Q5 Q6 ... Q12 Q13\n",
       "1  4 Башмаков Богдан Олегович         8 КН-1(5)-1 D  B  D  A  B  B  ... C   A  \n",
       "2 23 Котюк Богдан Юрійович            5 КН-1(5)-5 C  C  A  B  D  C  ... C   D  \n",
       "3 35 Нечипорук Марія Ярославівна      9 КН-1(5)-5 C  B  A  C  C  C  ... C   B  \n",
       "4 40 Онуфрієнко Владислава Вікторівна 8 КН-1(5)-5 B  B  B  A  B  D  ... A   D  \n",
       "5 41 Остапчук Микола Валентинович     5 КН-1(5)-2 D  A  B  B  A  C  ... B   B  \n",
       "6 54 Стуга Едуард Леонідович          8 КН-1(5)-1 C  C  B  A  B  B  ... D   D  \n",
       "  Q14 Q15 Q16 Q17 Q18 Q19 Q20 Check\n",
       "1 D   B   A   C   C   D   D   5.25 \n",
       "2 B   A   C   C   A   C   C   6.00 \n",
       "3 A   B   D   A   B   B   D   6.75 \n",
       "4 A   D   B   B   A   C   C   3.00 \n",
       "5 A   B   D   C   D   D   C   3.75 \n",
       "6 D   B   D   D   C   C   D   2.25 "
      ]
     },
     "metadata": {},
     "output_type": "display_data"
    }
   ],
   "source": [
    "colnames(test_data_v2) <- c(\"No\", \"Std\", \"Group\", \"V\", paste0(\"Q\", keys_data$V2N), \"Check\")\n",
    "test_data_v2 <- test_data_v2 |> select(No, Std, V, Group, paste0(\"Q\", 1:20), Check)\n",
    "head(test_data_v2)"
   ]
  },
  {
   "cell_type": "code",
   "execution_count": 13,
   "id": "d2dff252-669e-49dc-a173-fde173dfeea2",
   "metadata": {},
   "outputs": [],
   "source": [
    "test_data <- test_data_v1 |>\n",
    "    bind_rows(test_data_v2)"
   ]
  },
  {
   "cell_type": "code",
   "execution_count": 14,
   "id": "dbd6ad1e-da10-4f49-b775-df602b9055cb",
   "metadata": {
    "scrolled": true
   },
   "outputs": [
    {
     "data": {
      "text/html": [
       "<table class=\"dataframe\">\n",
       "<caption>A matrix: 6 x 20 of type chr</caption>\n",
       "<thead>\n",
       "\t<tr><th scope=col>Q1</th><th scope=col>Q2</th><th scope=col>Q3</th><th scope=col>Q4</th><th scope=col>Q5</th><th scope=col>Q6</th><th scope=col>Q7</th><th scope=col>Q8</th><th scope=col>Q9</th><th scope=col>Q10</th><th scope=col>Q11</th><th scope=col>Q12</th><th scope=col>Q13</th><th scope=col>Q14</th><th scope=col>Q15</th><th scope=col>Q16</th><th scope=col>Q17</th><th scope=col>Q18</th><th scope=col>Q19</th><th scope=col>Q20</th></tr>\n",
       "</thead>\n",
       "<tbody>\n",
       "\t<tr><td>D</td><td>B</td><td>D</td><td>A</td><td>B</td><td>B</td><td>C</td><td>D</td><td>C</td><td>A</td><td>C</td><td>C</td><td>A</td><td>D</td><td>B</td><td>A</td><td>C</td><td>C</td><td>D</td><td>D</td></tr>\n",
       "\t<tr><td>C</td><td>C</td><td>A</td><td>B</td><td>D</td><td>C</td><td>B</td><td>C</td><td>A</td><td>C</td><td>B</td><td>C</td><td>D</td><td>B</td><td>A</td><td>C</td><td>C</td><td>A</td><td>C</td><td>C</td></tr>\n",
       "\t<tr><td>C</td><td>B</td><td>A</td><td>C</td><td>C</td><td>C</td><td>D</td><td>D</td><td>A</td><td>D</td><td>D</td><td>C</td><td>B</td><td>A</td><td>B</td><td>D</td><td>A</td><td>B</td><td>B</td><td>D</td></tr>\n",
       "\t<tr><td>B</td><td>B</td><td>B</td><td>A</td><td>B</td><td>D</td><td>C</td><td>B</td><td>B</td><td>D</td><td>C</td><td>A</td><td>D</td><td>A</td><td>D</td><td>B</td><td>B</td><td>A</td><td>C</td><td>C</td></tr>\n",
       "\t<tr><td>D</td><td>A</td><td>B</td><td>B</td><td>A</td><td>C</td><td>C</td><td>D</td><td>D</td><td>B</td><td>A</td><td>B</td><td>B</td><td>A</td><td>B</td><td>D</td><td>C</td><td>D</td><td>D</td><td>C</td></tr>\n",
       "\t<tr><td>C</td><td>C</td><td>B</td><td>A</td><td>B</td><td>B</td><td>A</td><td>D</td><td>D</td><td>B</td><td>C</td><td>D</td><td>D</td><td>D</td><td>B</td><td>D</td><td>D</td><td>C</td><td>C</td><td>D</td></tr>\n",
       "</tbody>\n",
       "</table>\n"
      ],
      "text/latex": [
       "A matrix: 6 x 20 of type chr\n",
       "\\begin{tabular}{llllllllllllllllllll}\n",
       " Q1 & Q2 & Q3 & Q4 & Q5 & Q6 & Q7 & Q8 & Q9 & Q10 & Q11 & Q12 & Q13 & Q14 & Q15 & Q16 & Q17 & Q18 & Q19 & Q20\\\\\n",
       "\\hline\n",
       "\t D & B & D & A & B & B & C & D & C & A & C & C & A & D & B & A & C & C & D & D\\\\\n",
       "\t C & C & A & B & D & C & B & C & A & C & B & C & D & B & A & C & C & A & C & C\\\\\n",
       "\t C & B & A & C & C & C & D & D & A & D & D & C & B & A & B & D & A & B & B & D\\\\\n",
       "\t B & B & B & A & B & D & C & B & B & D & C & A & D & A & D & B & B & A & C & C\\\\\n",
       "\t D & A & B & B & A & C & C & D & D & B & A & B & B & A & B & D & C & D & D & C\\\\\n",
       "\t C & C & B & A & B & B & A & D & D & B & C & D & D & D & B & D & D & C & C & D\\\\\n",
       "\\end{tabular}\n"
      ],
      "text/markdown": [
       "\n",
       "A matrix: 6 x 20 of type chr\n",
       "\n",
       "| Q1 | Q2 | Q3 | Q4 | Q5 | Q6 | Q7 | Q8 | Q9 | Q10 | Q11 | Q12 | Q13 | Q14 | Q15 | Q16 | Q17 | Q18 | Q19 | Q20 |\n",
       "|---|---|---|---|---|---|---|---|---|---|---|---|---|---|---|---|---|---|---|---|\n",
       "| D | B | D | A | B | B | C | D | C | A | C | C | A | D | B | A | C | C | D | D |\n",
       "| C | C | A | B | D | C | B | C | A | C | B | C | D | B | A | C | C | A | C | C |\n",
       "| C | B | A | C | C | C | D | D | A | D | D | C | B | A | B | D | A | B | B | D |\n",
       "| B | B | B | A | B | D | C | B | B | D | C | A | D | A | D | B | B | A | C | C |\n",
       "| D | A | B | B | A | C | C | D | D | B | A | B | B | A | B | D | C | D | D | C |\n",
       "| C | C | B | A | B | B | A | D | D | B | C | D | D | D | B | D | D | C | C | D |\n",
       "\n"
      ],
      "text/plain": [
       "     Q1 Q2 Q3 Q4 Q5 Q6 Q7 Q8 Q9 Q10 Q11 Q12 Q13 Q14 Q15 Q16 Q17 Q18 Q19 Q20\n",
       "[1,] D  B  D  A  B  B  C  D  C  A   C   C   A   D   B   A   C   C   D   D  \n",
       "[2,] C  C  A  B  D  C  B  C  A  C   B   C   D   B   A   C   C   A   C   C  \n",
       "[3,] C  B  A  C  C  C  D  D  A  D   D   C   B   A   B   D   A   B   B   D  \n",
       "[4,] B  B  B  A  B  D  C  B  B  D   C   A   D   A   D   B   B   A   C   C  \n",
       "[5,] D  A  B  B  A  C  C  D  D  B   A   B   B   A   B   D   C   D   D   C  \n",
       "[6,] C  C  B  A  B  B  A  D  D  B   C   D   D   D   B   D   D   C   C   D  "
      ]
     },
     "metadata": {},
     "output_type": "display_data"
    }
   ],
   "source": [
    "answers_matrix <-  test_data |> select(Q1:Q20) |> as.matrix()\n",
    "answers_matrix "
   ]
  },
  {
   "cell_type": "code",
   "execution_count": 35,
   "id": "84297f33-aa3a-4801-83f8-9e2c4de12d6f",
   "metadata": {},
   "outputs": [
    {
     "data": {
      "text/html": [
       "<style>\n",
       ".list-inline {list-style: none; margin:0; padding: 0}\n",
       ".list-inline>li {display: inline-block}\n",
       ".list-inline>li:not(:last-child)::after {content: \"\\00b7\"; padding: 0 .5ex}\n",
       "</style>\n",
       "<ol class=list-inline><li>'C'</li><li>'C'</li><li>'C'</li><li>'D'</li><li>'D'</li><li>'C'</li><li>'A'</li><li>'C'</li><li>'A'</li><li>'A'</li><li>'D'</li><li>'D'</li><li>'C'</li><li>'B'</li><li>'C'</li><li>'B'</li><li>'D'</li><li>'A'</li><li>'A'</li><li>'A'</li></ol>\n"
      ],
      "text/latex": [
       "\\begin{enumerate*}\n",
       "\\item 'C'\n",
       "\\item 'C'\n",
       "\\item 'C'\n",
       "\\item 'D'\n",
       "\\item 'D'\n",
       "\\item 'C'\n",
       "\\item 'A'\n",
       "\\item 'C'\n",
       "\\item 'A'\n",
       "\\item 'A'\n",
       "\\item 'D'\n",
       "\\item 'D'\n",
       "\\item 'C'\n",
       "\\item 'B'\n",
       "\\item 'C'\n",
       "\\item 'B'\n",
       "\\item 'D'\n",
       "\\item 'A'\n",
       "\\item 'A'\n",
       "\\item 'A'\n",
       "\\end{enumerate*}\n"
      ],
      "text/markdown": [
       "1. 'C'\n",
       "2. 'C'\n",
       "3. 'C'\n",
       "4. 'D'\n",
       "5. 'D'\n",
       "6. 'C'\n",
       "7. 'A'\n",
       "8. 'C'\n",
       "9. 'A'\n",
       "10. 'A'\n",
       "11. 'D'\n",
       "12. 'D'\n",
       "13. 'C'\n",
       "14. 'B'\n",
       "15. 'C'\n",
       "16. 'B'\n",
       "17. 'D'\n",
       "18. 'A'\n",
       "19. 'A'\n",
       "20. 'A'\n",
       "\n",
       "\n"
      ],
      "text/plain": [
       " [1] \"C\" \"C\" \"C\" \"D\" \"D\" \"C\" \"A\" \"C\" \"A\" \"A\" \"D\" \"D\" \"C\" \"B\" \"C\" \"B\" \"D\" \"A\" \"A\"\n",
       "[20] \"A\""
      ]
     },
     "metadata": {},
     "output_type": "display_data"
    }
   ],
   "source": [
    "correct_answers <- keys_data$V1\n",
    "correct_answers"
   ]
  },
  {
   "cell_type": "code",
   "execution_count": 37,
   "id": "a91de827-f5fa-4fde-bf1c-8fb1398e8c4a",
   "metadata": {},
   "outputs": [
    {
     "data": {
      "text/html": [
       "<table class=\"dataframe\">\n",
       "<caption>A matrix: 6 x 20 of type dbl</caption>\n",
       "<thead>\n",
       "\t<tr><th scope=col>Q1</th><th scope=col>Q2</th><th scope=col>Q3</th><th scope=col>Q4</th><th scope=col>Q5</th><th scope=col>Q6</th><th scope=col>Q7</th><th scope=col>Q8</th><th scope=col>Q9</th><th scope=col>Q10</th><th scope=col>Q11</th><th scope=col>Q12</th><th scope=col>Q13</th><th scope=col>Q14</th><th scope=col>Q15</th><th scope=col>Q16</th><th scope=col>Q17</th><th scope=col>Q18</th><th scope=col>Q19</th><th scope=col>Q20</th></tr>\n",
       "</thead>\n",
       "<tbody>\n",
       "\t<tr><td>0</td><td>0</td><td>0</td><td>0</td><td>0</td><td>0</td><td>0</td><td>0</td><td>0</td><td>1</td><td>0</td><td>0</td><td>0</td><td>0</td><td>0</td><td>0</td><td>0</td><td>0</td><td>0</td><td>0</td></tr>\n",
       "\t<tr><td>1</td><td>1</td><td>0</td><td>0</td><td>1</td><td>1</td><td>0</td><td>1</td><td>1</td><td>0</td><td>0</td><td>0</td><td>0</td><td>1</td><td>0</td><td>0</td><td>0</td><td>1</td><td>0</td><td>0</td></tr>\n",
       "\t<tr><td>1</td><td>0</td><td>0</td><td>0</td><td>0</td><td>1</td><td>0</td><td>0</td><td>1</td><td>0</td><td>1</td><td>0</td><td>0</td><td>0</td><td>0</td><td>0</td><td>0</td><td>0</td><td>0</td><td>0</td></tr>\n",
       "\t<tr><td>0</td><td>0</td><td>0</td><td>0</td><td>0</td><td>0</td><td>0</td><td>0</td><td>0</td><td>0</td><td>0</td><td>0</td><td>0</td><td>0</td><td>0</td><td>1</td><td>0</td><td>1</td><td>0</td><td>0</td></tr>\n",
       "\t<tr><td>0</td><td>0</td><td>0</td><td>0</td><td>0</td><td>1</td><td>0</td><td>0</td><td>0</td><td>0</td><td>0</td><td>0</td><td>0</td><td>0</td><td>0</td><td>0</td><td>0</td><td>0</td><td>0</td><td>0</td></tr>\n",
       "\t<tr><td>1</td><td>1</td><td>0</td><td>0</td><td>0</td><td>0</td><td>1</td><td>0</td><td>0</td><td>0</td><td>0</td><td>1</td><td>0</td><td>0</td><td>0</td><td>0</td><td>1</td><td>0</td><td>0</td><td>0</td></tr>\n",
       "</tbody>\n",
       "</table>\n"
      ],
      "text/latex": [
       "A matrix: 6 x 20 of type dbl\n",
       "\\begin{tabular}{llllllllllllllllllll}\n",
       " Q1 & Q2 & Q3 & Q4 & Q5 & Q6 & Q7 & Q8 & Q9 & Q10 & Q11 & Q12 & Q13 & Q14 & Q15 & Q16 & Q17 & Q18 & Q19 & Q20\\\\\n",
       "\\hline\n",
       "\t 0 & 0 & 0 & 0 & 0 & 0 & 0 & 0 & 0 & 1 & 0 & 0 & 0 & 0 & 0 & 0 & 0 & 0 & 0 & 0\\\\\n",
       "\t 1 & 1 & 0 & 0 & 1 & 1 & 0 & 1 & 1 & 0 & 0 & 0 & 0 & 1 & 0 & 0 & 0 & 1 & 0 & 0\\\\\n",
       "\t 1 & 0 & 0 & 0 & 0 & 1 & 0 & 0 & 1 & 0 & 1 & 0 & 0 & 0 & 0 & 0 & 0 & 0 & 0 & 0\\\\\n",
       "\t 0 & 0 & 0 & 0 & 0 & 0 & 0 & 0 & 0 & 0 & 0 & 0 & 0 & 0 & 0 & 1 & 0 & 1 & 0 & 0\\\\\n",
       "\t 0 & 0 & 0 & 0 & 0 & 1 & 0 & 0 & 0 & 0 & 0 & 0 & 0 & 0 & 0 & 0 & 0 & 0 & 0 & 0\\\\\n",
       "\t 1 & 1 & 0 & 0 & 0 & 0 & 1 & 0 & 0 & 0 & 0 & 1 & 0 & 0 & 0 & 0 & 1 & 0 & 0 & 0\\\\\n",
       "\\end{tabular}\n"
      ],
      "text/markdown": [
       "\n",
       "A matrix: 6 x 20 of type dbl\n",
       "\n",
       "| Q1 | Q2 | Q3 | Q4 | Q5 | Q6 | Q7 | Q8 | Q9 | Q10 | Q11 | Q12 | Q13 | Q14 | Q15 | Q16 | Q17 | Q18 | Q19 | Q20 |\n",
       "|---|---|---|---|---|---|---|---|---|---|---|---|---|---|---|---|---|---|---|---|\n",
       "| 0 | 0 | 0 | 0 | 0 | 0 | 0 | 0 | 0 | 1 | 0 | 0 | 0 | 0 | 0 | 0 | 0 | 0 | 0 | 0 |\n",
       "| 1 | 1 | 0 | 0 | 1 | 1 | 0 | 1 | 1 | 0 | 0 | 0 | 0 | 1 | 0 | 0 | 0 | 1 | 0 | 0 |\n",
       "| 1 | 0 | 0 | 0 | 0 | 1 | 0 | 0 | 1 | 0 | 1 | 0 | 0 | 0 | 0 | 0 | 0 | 0 | 0 | 0 |\n",
       "| 0 | 0 | 0 | 0 | 0 | 0 | 0 | 0 | 0 | 0 | 0 | 0 | 0 | 0 | 0 | 1 | 0 | 1 | 0 | 0 |\n",
       "| 0 | 0 | 0 | 0 | 0 | 1 | 0 | 0 | 0 | 0 | 0 | 0 | 0 | 0 | 0 | 0 | 0 | 0 | 0 | 0 |\n",
       "| 1 | 1 | 0 | 0 | 0 | 0 | 1 | 0 | 0 | 0 | 0 | 1 | 0 | 0 | 0 | 0 | 1 | 0 | 0 | 0 |\n",
       "\n"
      ],
      "text/plain": [
       "     Q1 Q2 Q3 Q4 Q5 Q6 Q7 Q8 Q9 Q10 Q11 Q12 Q13 Q14 Q15 Q16 Q17 Q18 Q19 Q20\n",
       "[1,] 0  0  0  0  0  0  0  0  0  1   0   0   0   0   0   0   0   0   0   0  \n",
       "[2,] 1  1  0  0  1  1  0  1  1  0   0   0   0   1   0   0   0   1   0   0  \n",
       "[3,] 1  0  0  0  0  1  0  0  1  0   1   0   0   0   0   0   0   0   0   0  \n",
       "[4,] 0  0  0  0  0  0  0  0  0  0   0   0   0   0   0   1   0   1   0   0  \n",
       "[5,] 0  0  0  0  0  1  0  0  0  0   0   0   0   0   0   0   0   0   0   0  \n",
       "[6,] 1  1  0  0  0  0  1  0  0  0   0   1   0   0   0   0   1   0   0   0  "
      ]
     },
     "metadata": {},
     "output_type": "display_data"
    }
   ],
   "source": [
    "final_matrix <- matrix(FALSE, nrow = nrow(answers_matrix), ncol = ncol(answers_matrix))\n",
    "\n",
    "for(i in 1:ncol(answers_matrix)) \n",
    "{\n",
    "    final_matrix[,i] <- ifelse(answers_matrix[, i] == correct_answers[i], 1, 0)\n",
    "}\n",
    "colnames(final_matrix) <- colnames(answers_matrix)\n",
    "rownames(final_matrix) <- \n",
    "final_matrix"
   ]
  },
  {
   "cell_type": "code",
   "execution_count": 16,
   "id": "e7456c0a-a865-4296-8d3e-4d2c553c2247",
   "metadata": {},
   "outputs": [],
   "source": [
    "final_matrix <- matrix(FALSE, nrow = nrow(answers_matrix), ncol = ncol(answers_matrix))\n",
    "\n",
    "for(i in 1:ncol(answers_matrix)) \n",
    "{\n",
    "    final_matrix[,i] <- answers_matrix[, i] == correct_answers[i]\n",
    "}"
   ]
  },
  {
   "cell_type": "code",
   "execution_count": 17,
   "id": "bdd09b8b-01a8-4b68-a7a5-1f0a9f4a48eb",
   "metadata": {},
   "outputs": [
    {
     "data": {
      "text/html": [
       "<table class=\"dataframe\">\n",
       "<caption>A rowwise_df: 6 x 26</caption>\n",
       "<thead>\n",
       "\t<tr><th scope=col>No</th><th scope=col>Std</th><th scope=col>Group</th><th scope=col>V</th><th scope=col>Q1</th><th scope=col>Q2</th><th scope=col>Q3</th><th scope=col>Q4</th><th scope=col>Q5</th><th scope=col>Q6</th><th scope=col>...</th><th scope=col>Q13</th><th scope=col>Q14</th><th scope=col>Q15</th><th scope=col>Q16</th><th scope=col>Q17</th><th scope=col>Q18</th><th scope=col>Q19</th><th scope=col>Q20</th><th scope=col>Check</th><th scope=col>Total</th></tr>\n",
       "\t<tr><th scope=col>&lt;dbl&gt;</th><th scope=col>&lt;chr&gt;</th><th scope=col>&lt;chr&gt;</th><th scope=col>&lt;dbl&gt;</th><th scope=col>&lt;dbl&gt;</th><th scope=col>&lt;dbl&gt;</th><th scope=col>&lt;dbl&gt;</th><th scope=col>&lt;dbl&gt;</th><th scope=col>&lt;dbl&gt;</th><th scope=col>&lt;dbl&gt;</th><th scope=col>...</th><th scope=col>&lt;dbl&gt;</th><th scope=col>&lt;dbl&gt;</th><th scope=col>&lt;dbl&gt;</th><th scope=col>&lt;dbl&gt;</th><th scope=col>&lt;dbl&gt;</th><th scope=col>&lt;dbl&gt;</th><th scope=col>&lt;dbl&gt;</th><th scope=col>&lt;dbl&gt;</th><th scope=col>&lt;dbl&gt;</th><th scope=col>&lt;dbl&gt;</th></tr>\n",
       "</thead>\n",
       "<tbody>\n",
       "\t<tr><td> 4</td><td>Башмаков Богдан Олегович        </td><td>КН-1(5)-1</td><td>8</td><td>0.00</td><td>0.00</td><td>0</td><td>0</td><td>0.00</td><td>0.00</td><td>...</td><td>0</td><td>0.00</td><td>0</td><td>0.00</td><td>0.00</td><td>0.00</td><td>0</td><td>0</td><td>5.25</td><td>0.75</td></tr>\n",
       "\t<tr><td>23</td><td>Котюк Богдан Юрійович           </td><td>КН-1(5)-5</td><td>5</td><td>0.75</td><td>0.75</td><td>0</td><td>0</td><td>0.75</td><td>0.75</td><td>...</td><td>0</td><td>0.75</td><td>0</td><td>0.00</td><td>0.00</td><td>0.75</td><td>0</td><td>0</td><td>6.00</td><td>6.00</td></tr>\n",
       "\t<tr><td>35</td><td>Нечипорук Марія Ярославівна     </td><td>КН-1(5)-5</td><td>9</td><td>0.75</td><td>0.00</td><td>0</td><td>0</td><td>0.00</td><td>0.75</td><td>...</td><td>0</td><td>0.00</td><td>0</td><td>0.00</td><td>0.00</td><td>0.00</td><td>0</td><td>0</td><td>6.75</td><td>3.00</td></tr>\n",
       "\t<tr><td>40</td><td>Онуфрієнко Владислава Вікторівна</td><td>КН-1(5)-5</td><td>8</td><td>0.00</td><td>0.00</td><td>0</td><td>0</td><td>0.00</td><td>0.00</td><td>...</td><td>0</td><td>0.00</td><td>0</td><td>0.75</td><td>0.00</td><td>0.75</td><td>0</td><td>0</td><td>3.00</td><td>1.50</td></tr>\n",
       "\t<tr><td>41</td><td>Остапчук Микола Валентинович    </td><td>КН-1(5)-2</td><td>5</td><td>0.00</td><td>0.00</td><td>0</td><td>0</td><td>0.00</td><td>0.75</td><td>...</td><td>0</td><td>0.00</td><td>0</td><td>0.00</td><td>0.00</td><td>0.00</td><td>0</td><td>0</td><td>3.75</td><td>0.75</td></tr>\n",
       "\t<tr><td>54</td><td>Стуга Едуард Леонідович         </td><td>КН-1(5)-1</td><td>8</td><td>0.75</td><td>0.75</td><td>0</td><td>0</td><td>0.00</td><td>0.00</td><td>...</td><td>0</td><td>0.00</td><td>0</td><td>0.00</td><td>0.75</td><td>0.00</td><td>0</td><td>0</td><td>2.25</td><td>3.75</td></tr>\n",
       "</tbody>\n",
       "</table>\n"
      ],
      "text/latex": [
       "A rowwise\\_df: 6 x 26\n",
       "\\begin{tabular}{lllllllllllllllllllll}\n",
       " No & Std & Group & V & Q1 & Q2 & Q3 & Q4 & Q5 & Q6 & ... & Q13 & Q14 & Q15 & Q16 & Q17 & Q18 & Q19 & Q20 & Check & Total\\\\\n",
       " <dbl> & <chr> & <chr> & <dbl> & <dbl> & <dbl> & <dbl> & <dbl> & <dbl> & <dbl> & ... & <dbl> & <dbl> & <dbl> & <dbl> & <dbl> & <dbl> & <dbl> & <dbl> & <dbl> & <dbl>\\\\\n",
       "\\hline\n",
       "\t  4 & Башмаков Богдан Олегович         & КН-1(5)-1 & 8 & 0.00 & 0.00 & 0 & 0 & 0.00 & 0.00 & ... & 0 & 0.00 & 0 & 0.00 & 0.00 & 0.00 & 0 & 0 & 5.25 & 0.75\\\\\n",
       "\t 23 & Котюк Богдан Юрійович            & КН-1(5)-5 & 5 & 0.75 & 0.75 & 0 & 0 & 0.75 & 0.75 & ... & 0 & 0.75 & 0 & 0.00 & 0.00 & 0.75 & 0 & 0 & 6.00 & 6.00\\\\\n",
       "\t 35 & Нечипорук Марія Ярославівна      & КН-1(5)-5 & 9 & 0.75 & 0.00 & 0 & 0 & 0.00 & 0.75 & ... & 0 & 0.00 & 0 & 0.00 & 0.00 & 0.00 & 0 & 0 & 6.75 & 3.00\\\\\n",
       "\t 40 & Онуфрієнко Владислава Вікторівна & КН-1(5)-5 & 8 & 0.00 & 0.00 & 0 & 0 & 0.00 & 0.00 & ... & 0 & 0.00 & 0 & 0.75 & 0.00 & 0.75 & 0 & 0 & 3.00 & 1.50\\\\\n",
       "\t 41 & Остапчук Микола Валентинович     & КН-1(5)-2 & 5 & 0.00 & 0.00 & 0 & 0 & 0.00 & 0.75 & ... & 0 & 0.00 & 0 & 0.00 & 0.00 & 0.00 & 0 & 0 & 3.75 & 0.75\\\\\n",
       "\t 54 & Стуга Едуард Леонідович          & КН-1(5)-1 & 8 & 0.75 & 0.75 & 0 & 0 & 0.00 & 0.00 & ... & 0 & 0.00 & 0 & 0.00 & 0.75 & 0.00 & 0 & 0 & 2.25 & 3.75\\\\\n",
       "\\end{tabular}\n"
      ],
      "text/markdown": [
       "\n",
       "A rowwise_df: 6 x 26\n",
       "\n",
       "| No &lt;dbl&gt; | Std &lt;chr&gt; | Group &lt;chr&gt; | V &lt;dbl&gt; | Q1 &lt;dbl&gt; | Q2 &lt;dbl&gt; | Q3 &lt;dbl&gt; | Q4 &lt;dbl&gt; | Q5 &lt;dbl&gt; | Q6 &lt;dbl&gt; | ... ... | Q13 &lt;dbl&gt; | Q14 &lt;dbl&gt; | Q15 &lt;dbl&gt; | Q16 &lt;dbl&gt; | Q17 &lt;dbl&gt; | Q18 &lt;dbl&gt; | Q19 &lt;dbl&gt; | Q20 &lt;dbl&gt; | Check &lt;dbl&gt; | Total &lt;dbl&gt; |\n",
       "|---|---|---|---|---|---|---|---|---|---|---|---|---|---|---|---|---|---|---|---|---|\n",
       "|  4 | Башмаков Богдан Олегович         | КН-1(5)-1 | 8 | 0.00 | 0.00 | 0 | 0 | 0.00 | 0.00 | ... | 0 | 0.00 | 0 | 0.00 | 0.00 | 0.00 | 0 | 0 | 5.25 | 0.75 |\n",
       "| 23 | Котюк Богдан Юрійович            | КН-1(5)-5 | 5 | 0.75 | 0.75 | 0 | 0 | 0.75 | 0.75 | ... | 0 | 0.75 | 0 | 0.00 | 0.00 | 0.75 | 0 | 0 | 6.00 | 6.00 |\n",
       "| 35 | Нечипорук Марія Ярославівна      | КН-1(5)-5 | 9 | 0.75 | 0.00 | 0 | 0 | 0.00 | 0.75 | ... | 0 | 0.00 | 0 | 0.00 | 0.00 | 0.00 | 0 | 0 | 6.75 | 3.00 |\n",
       "| 40 | Онуфрієнко Владислава Вікторівна | КН-1(5)-5 | 8 | 0.00 | 0.00 | 0 | 0 | 0.00 | 0.00 | ... | 0 | 0.00 | 0 | 0.75 | 0.00 | 0.75 | 0 | 0 | 3.00 | 1.50 |\n",
       "| 41 | Остапчук Микола Валентинович     | КН-1(5)-2 | 5 | 0.00 | 0.00 | 0 | 0 | 0.00 | 0.75 | ... | 0 | 0.00 | 0 | 0.00 | 0.00 | 0.00 | 0 | 0 | 3.75 | 0.75 |\n",
       "| 54 | Стуга Едуард Леонідович          | КН-1(5)-1 | 8 | 0.75 | 0.75 | 0 | 0 | 0.00 | 0.00 | ... | 0 | 0.00 | 0 | 0.00 | 0.75 | 0.00 | 0 | 0 | 2.25 | 3.75 |\n",
       "\n"
      ],
      "text/plain": [
       "  No Std                              Group     V Q1   Q2   Q3 Q4 Q5   Q6   ...\n",
       "1  4 Башмаков Богдан Олегович         КН-1(5)-1 8 0.00 0.00 0  0  0.00 0.00 ...\n",
       "2 23 Котюк Богдан Юрійович            КН-1(5)-5 5 0.75 0.75 0  0  0.75 0.75 ...\n",
       "3 35 Нечипорук Марія Ярославівна      КН-1(5)-5 9 0.75 0.00 0  0  0.00 0.75 ...\n",
       "4 40 Онуфрієнко Владислава Вікторівна КН-1(5)-5 8 0.00 0.00 0  0  0.00 0.00 ...\n",
       "5 41 Остапчук Микола Валентинович     КН-1(5)-2 5 0.00 0.00 0  0  0.00 0.75 ...\n",
       "6 54 Стуга Едуард Леонідович          КН-1(5)-1 8 0.75 0.75 0  0  0.00 0.00 ...\n",
       "  Q13 Q14  Q15 Q16  Q17  Q18  Q19 Q20 Check Total\n",
       "1 0   0.00 0   0.00 0.00 0.00 0   0   5.25  0.75 \n",
       "2 0   0.75 0   0.00 0.00 0.75 0   0   6.00  6.00 \n",
       "3 0   0.00 0   0.00 0.00 0.00 0   0   6.75  3.00 \n",
       "4 0   0.00 0   0.75 0.00 0.75 0   0   3.00  1.50 \n",
       "5 0   0.00 0   0.00 0.00 0.00 0   0   3.75  0.75 \n",
       "6 0   0.00 0   0.00 0.75 0.00 0   0   2.25  3.75 "
      ]
     },
     "metadata": {},
     "output_type": "display_data"
    }
   ],
   "source": [
    "grade <- 15/20\n",
    "\n",
    "final_grades <- test_data |> select(1:4) |>\n",
    "    bind_cols(as.data.frame(final_matrix)) |>\n",
    "    bind_cols(test_data |> select(Check))\n",
    "colnames(final_grades) <- colnames(test_data)\n",
    "\n",
    "final_grades <- final_grades |>\n",
    "   mutate_if(is.logical, function(x) {ifelse(x, grade, 0)}) \n",
    "final_grades <- final_grades |>\n",
    "    rowwise() |>\n",
    "   mutate(Total = sum(across(Q1:Q20), na.rm = T)) \n",
    "\n",
    "final_grades"
   ]
  },
  {
   "cell_type": "code",
   "execution_count": 107,
   "id": "1ae57aca-d7f6-4dff-af53-980775409332",
   "metadata": {},
   "outputs": [
    {
     "name": "stderr",
     "output_type": "stream",
     "text": [
      "Warning message in max():\n",
      "\"no non-missing arguments to max; returning -Inf\"\n"
     ]
    },
    {
     "data": {
      "text/html": [
       "-Inf"
      ],
      "text/latex": [
       "-Inf"
      ],
      "text/markdown": [
       "-Inf"
      ],
      "text/plain": [
       "[1] -Inf"
      ]
     },
     "metadata": {},
     "output_type": "display_data"
    }
   ],
   "source": []
  },
  {
   "cell_type": "code",
   "execution_count": 56,
   "id": "60360653-c6de-4d29-a537-f5a56568ccff",
   "metadata": {},
   "outputs": [
    {
     "data": {
      "text/html": [
       "<table class=\"dataframe\">\n",
       "<caption>A rowwise_df: 62 x 3</caption>\n",
       "<thead>\n",
       "\t<tr><th scope=col>Std</th><th scope=col>Total</th><th scope=col>TotalFinal</th></tr>\n",
       "\t<tr><th scope=col>&lt;chr&gt;</th><th scope=col>&lt;dbl&gt;</th><th scope=col>&lt;dbl&gt;</th></tr>\n",
       "</thead>\n",
       "<tbody>\n",
       "\t<tr><td>Лізак Даниїл Станіславович     </td><td>12.00</td><td>15</td></tr>\n",
       "\t<tr><td>Анпілогов Антон Юрійович       </td><td> 9.00</td><td>12</td></tr>\n",
       "\t<tr><td>Клименко Анастасія Вячеславівна</td><td> 9.00</td><td>12</td></tr>\n",
       "\t<tr><td>Нечипорук Марія Ярославівна    </td><td> 8.25</td><td>11</td></tr>\n",
       "\t<tr><td>Воробей Юрій Вікторович        </td><td> 7.50</td><td>10</td></tr>\n",
       "\t<tr><td>Мукомела Богдан Олексійович    </td><td> 7.50</td><td>10</td></tr>\n",
       "\t<tr><td>Герасимчук Наталія Миколаївна  </td><td> 6.75</td><td> 9</td></tr>\n",
       "\t<tr><td>Гулієв Артур Борисович         </td><td> 6.75</td><td> 9</td></tr>\n",
       "\t<tr><td>Маринич Данило Віталійович     </td><td> 6.75</td><td> 9</td></tr>\n",
       "\t<tr><td>Гомон Христина Вікторівна      </td><td> 6.00</td><td> 8</td></tr>\n",
       "\t<tr><td>Котюк Богдан Юрійович          </td><td> 6.00</td><td> 8</td></tr>\n",
       "\t<tr><td>Фесюк Сергій Сергійович        </td><td> 6.00</td><td> 8</td></tr>\n",
       "\t<tr><td>Івасюк Денис Михайлович        </td><td> 6.00</td><td> 8</td></tr>\n",
       "\t<tr><td>Йойна Дарина Сергіївна         </td><td> 6.00</td><td> 8</td></tr>\n",
       "\t<tr><td>Кутас Кіра Сергіївна           </td><td> 6.00</td><td> 8</td></tr>\n",
       "\t<tr><td>Марний Данило Петрович         </td><td> 5.25</td><td> 7</td></tr>\n",
       "\t<tr><td>Новачок Богдан Ігорович        </td><td> 5.25</td><td> 7</td></tr>\n",
       "\t<tr><td>Радчук Наталія Василівна       </td><td> 5.25</td><td> 7</td></tr>\n",
       "\t<tr><td>Федюшко Арсеній Романович      </td><td> 5.25</td><td> 7</td></tr>\n",
       "\t<tr><td>Юрків Денис Михайлович         </td><td> 5.25</td><td> 7</td></tr>\n",
       "\t<tr><td>Мазурок Анна Сергіївна         </td><td> 5.25</td><td> 7</td></tr>\n",
       "\t<tr><td>Процюк Ярослав Євгенович       </td><td> 5.25</td><td> 7</td></tr>\n",
       "\t<tr><td>Андрощук Роман Вікторович      </td><td> 4.50</td><td> 6</td></tr>\n",
       "\t<tr><td>Остапчук Микола Валентинович   </td><td> 4.50</td><td> 6</td></tr>\n",
       "\t<tr><td>Матяк Денис Ігорович           </td><td> 4.50</td><td> 6</td></tr>\n",
       "\t<tr><td>Нікітчук Роман Миколайович     </td><td> 4.50</td><td> 6</td></tr>\n",
       "\t<tr><td>Пушка Роман Миколайович        </td><td> 4.50</td><td> 6</td></tr>\n",
       "\t<tr><td>Форманюк Дмитро Ігорович       </td><td> 4.50</td><td> 6</td></tr>\n",
       "\t<tr><td>Дячук Дарина Олегівна          </td><td> 3.75</td><td> 5</td></tr>\n",
       "\t<tr><td>Злотенко Андрій Вікторович     </td><td> 3.75</td><td> 5</td></tr>\n",
       "\t<tr><td>...</td><td>...</td><td>...</td></tr>\n",
       "\t<tr><td>Рибалкін Олексій Андрійович     </td><td>3.75</td><td>5</td></tr>\n",
       "\t<tr><td>Басок Максим Олександрович      </td><td>3.75</td><td>5</td></tr>\n",
       "\t<tr><td>Грицаюк Богдан Вікторович       </td><td>3.75</td><td>5</td></tr>\n",
       "\t<tr><td>Савенко Лілія Анатоліївна       </td><td>3.75</td><td>5</td></tr>\n",
       "\t<tr><td>Соболюк Назарій Анатолійович    </td><td>3.75</td><td>5</td></tr>\n",
       "\t<tr><td>Стуга Едуард Леонідович         </td><td>3.75</td><td>5</td></tr>\n",
       "\t<tr><td>Чечотка Андрій Вікторович       </td><td>3.75</td><td>5</td></tr>\n",
       "\t<tr><td>Войтюк Назарій Васильович       </td><td>3.00</td><td>4</td></tr>\n",
       "\t<tr><td>Рацієвський Олексій Юрійович    </td><td>3.00</td><td>4</td></tr>\n",
       "\t<tr><td>Холічева Єлізавета Володимирівна</td><td>3.00</td><td>4</td></tr>\n",
       "\t<tr><td>Киричук Олексій Миколайович     </td><td>3.00</td><td>4</td></tr>\n",
       "\t<tr><td>Куришко Дмитро Сергійович       </td><td>3.00</td><td>4</td></tr>\n",
       "\t<tr><td>Махній Анна Сергіївна           </td><td>3.00</td><td>4</td></tr>\n",
       "\t<tr><td>Садов'ик Аліна Віталіївна       </td><td>3.00</td><td>4</td></tr>\n",
       "\t<tr><td>Семенчук Денис В’ячеславович    </td><td>3.00</td><td>4</td></tr>\n",
       "\t<tr><td>Ставський Андрій Віталійович    </td><td>3.00</td><td>4</td></tr>\n",
       "\t<tr><td>Бенедик Олександр Сергійович    </td><td>2.25</td><td>3</td></tr>\n",
       "\t<tr><td>Боженко Анастасія Ігорівна      </td><td>2.25</td><td>3</td></tr>\n",
       "\t<tr><td>Левицький Владислав Романович   </td><td>2.25</td><td>3</td></tr>\n",
       "\t<tr><td>Саприкін Іван Анатолійович      </td><td>2.25</td><td>3</td></tr>\n",
       "\t<tr><td>Шмигельський Давид Володимирович</td><td>2.25</td><td>3</td></tr>\n",
       "\t<tr><td>Гулюк Станіслав Юрійович        </td><td>1.50</td><td>2</td></tr>\n",
       "\t<tr><td>Табачук Олександр Ігорович      </td><td>1.50</td><td>2</td></tr>\n",
       "\t<tr><td>Власенко Андрій Максимович      </td><td>1.50</td><td>2</td></tr>\n",
       "\t<tr><td>Долженко Дмитро Юрійович        </td><td>1.50</td><td>2</td></tr>\n",
       "\t<tr><td>Коза'чек Владислав Юрійович     </td><td>1.50</td><td>2</td></tr>\n",
       "\t<tr><td>Кудерчук Владислав Віталійович  </td><td>1.50</td><td>2</td></tr>\n",
       "\t<tr><td>Онуфрієнко Владислава Вікторівна</td><td>1.50</td><td>2</td></tr>\n",
       "\t<tr><td>Словіковський Павло Миколайович </td><td>0.75</td><td>1</td></tr>\n",
       "\t<tr><td>Башмаков Богдан Олегович        </td><td>0.75</td><td>1</td></tr>\n",
       "</tbody>\n",
       "</table>\n"
      ],
      "text/latex": [
       "A rowwise\\_df: 62 x 3\n",
       "\\begin{tabular}{lll}\n",
       " Std & Total & TotalFinal\\\\\n",
       " <chr> & <dbl> & <dbl>\\\\\n",
       "\\hline\n",
       "\t Лізак Даниїл Станіславович      & 12.00 & 15\\\\\n",
       "\t Анпілогов Антон Юрійович        &  9.00 & 12\\\\\n",
       "\t Клименко Анастасія Вячеславівна &  9.00 & 12\\\\\n",
       "\t Нечипорук Марія Ярославівна     &  8.25 & 11\\\\\n",
       "\t Воробей Юрій Вікторович         &  7.50 & 10\\\\\n",
       "\t Мукомела Богдан Олексійович     &  7.50 & 10\\\\\n",
       "\t Герасимчук Наталія Миколаївна   &  6.75 &  9\\\\\n",
       "\t Гулієв Артур Борисович          &  6.75 &  9\\\\\n",
       "\t Маринич Данило Віталійович      &  6.75 &  9\\\\\n",
       "\t Гомон Христина Вікторівна       &  6.00 &  8\\\\\n",
       "\t Котюк Богдан Юрійович           &  6.00 &  8\\\\\n",
       "\t Фесюк Сергій Сергійович         &  6.00 &  8\\\\\n",
       "\t Івасюк Денис Михайлович         &  6.00 &  8\\\\\n",
       "\t Йойна Дарина Сергіївна          &  6.00 &  8\\\\\n",
       "\t Кутас Кіра Сергіївна            &  6.00 &  8\\\\\n",
       "\t Марний Данило Петрович          &  5.25 &  7\\\\\n",
       "\t Новачок Богдан Ігорович         &  5.25 &  7\\\\\n",
       "\t Радчук Наталія Василівна        &  5.25 &  7\\\\\n",
       "\t Федюшко Арсеній Романович       &  5.25 &  7\\\\\n",
       "\t Юрків Денис Михайлович          &  5.25 &  7\\\\\n",
       "\t Мазурок Анна Сергіївна          &  5.25 &  7\\\\\n",
       "\t Процюк Ярослав Євгенович        &  5.25 &  7\\\\\n",
       "\t Андрощук Роман Вікторович       &  4.50 &  6\\\\\n",
       "\t Остапчук Микола Валентинович    &  4.50 &  6\\\\\n",
       "\t Матяк Денис Ігорович            &  4.50 &  6\\\\\n",
       "\t Нікітчук Роман Миколайович      &  4.50 &  6\\\\\n",
       "\t Пушка Роман Миколайович         &  4.50 &  6\\\\\n",
       "\t Форманюк Дмитро Ігорович        &  4.50 &  6\\\\\n",
       "\t Дячук Дарина Олегівна           &  3.75 &  5\\\\\n",
       "\t Злотенко Андрій Вікторович      &  3.75 &  5\\\\\n",
       "\t ... & ... & ...\\\\\n",
       "\t Рибалкін Олексій Андрійович      & 3.75 & 5\\\\\n",
       "\t Басок Максим Олександрович       & 3.75 & 5\\\\\n",
       "\t Грицаюк Богдан Вікторович        & 3.75 & 5\\\\\n",
       "\t Савенко Лілія Анатоліївна        & 3.75 & 5\\\\\n",
       "\t Соболюк Назарій Анатолійович     & 3.75 & 5\\\\\n",
       "\t Стуга Едуард Леонідович          & 3.75 & 5\\\\\n",
       "\t Чечотка Андрій Вікторович        & 3.75 & 5\\\\\n",
       "\t Войтюк Назарій Васильович        & 3.00 & 4\\\\\n",
       "\t Рацієвський Олексій Юрійович     & 3.00 & 4\\\\\n",
       "\t Холічева Єлізавета Володимирівна & 3.00 & 4\\\\\n",
       "\t Киричук Олексій Миколайович      & 3.00 & 4\\\\\n",
       "\t Куришко Дмитро Сергійович        & 3.00 & 4\\\\\n",
       "\t Махній Анна Сергіївна            & 3.00 & 4\\\\\n",
       "\t Садов'ик Аліна Віталіївна        & 3.00 & 4\\\\\n",
       "\t Семенчук Денис В’ячеславович     & 3.00 & 4\\\\\n",
       "\t Ставський Андрій Віталійович     & 3.00 & 4\\\\\n",
       "\t Бенедик Олександр Сергійович     & 2.25 & 3\\\\\n",
       "\t Боженко Анастасія Ігорівна       & 2.25 & 3\\\\\n",
       "\t Левицький Владислав Романович    & 2.25 & 3\\\\\n",
       "\t Саприкін Іван Анатолійович       & 2.25 & 3\\\\\n",
       "\t Шмигельський Давид Володимирович & 2.25 & 3\\\\\n",
       "\t Гулюк Станіслав Юрійович         & 1.50 & 2\\\\\n",
       "\t Табачук Олександр Ігорович       & 1.50 & 2\\\\\n",
       "\t Власенко Андрій Максимович       & 1.50 & 2\\\\\n",
       "\t Долженко Дмитро Юрійович         & 1.50 & 2\\\\\n",
       "\t Коза'чек Владислав Юрійович      & 1.50 & 2\\\\\n",
       "\t Кудерчук Владислав Віталійович   & 1.50 & 2\\\\\n",
       "\t Онуфрієнко Владислава Вікторівна & 1.50 & 2\\\\\n",
       "\t Словіковський Павло Миколайович  & 0.75 & 1\\\\\n",
       "\t Башмаков Богдан Олегович         & 0.75 & 1\\\\\n",
       "\\end{tabular}\n"
      ],
      "text/markdown": [
       "\n",
       "A rowwise_df: 62 x 3\n",
       "\n",
       "| Std &lt;chr&gt; | Total &lt;dbl&gt; | TotalFinal &lt;dbl&gt; |\n",
       "|---|---|---|\n",
       "| Лізак Даниїл Станіславович      | 12.00 | 15 |\n",
       "| Анпілогов Антон Юрійович        |  9.00 | 12 |\n",
       "| Клименко Анастасія Вячеславівна |  9.00 | 12 |\n",
       "| Нечипорук Марія Ярославівна     |  8.25 | 11 |\n",
       "| Воробей Юрій Вікторович         |  7.50 | 10 |\n",
       "| Мукомела Богдан Олексійович     |  7.50 | 10 |\n",
       "| Герасимчук Наталія Миколаївна   |  6.75 |  9 |\n",
       "| Гулієв Артур Борисович          |  6.75 |  9 |\n",
       "| Маринич Данило Віталійович      |  6.75 |  9 |\n",
       "| Гомон Христина Вікторівна       |  6.00 |  8 |\n",
       "| Котюк Богдан Юрійович           |  6.00 |  8 |\n",
       "| Фесюк Сергій Сергійович         |  6.00 |  8 |\n",
       "| Івасюк Денис Михайлович         |  6.00 |  8 |\n",
       "| Йойна Дарина Сергіївна          |  6.00 |  8 |\n",
       "| Кутас Кіра Сергіївна            |  6.00 |  8 |\n",
       "| Марний Данило Петрович          |  5.25 |  7 |\n",
       "| Новачок Богдан Ігорович         |  5.25 |  7 |\n",
       "| Радчук Наталія Василівна        |  5.25 |  7 |\n",
       "| Федюшко Арсеній Романович       |  5.25 |  7 |\n",
       "| Юрків Денис Михайлович          |  5.25 |  7 |\n",
       "| Мазурок Анна Сергіївна          |  5.25 |  7 |\n",
       "| Процюк Ярослав Євгенович        |  5.25 |  7 |\n",
       "| Андрощук Роман Вікторович       |  4.50 |  6 |\n",
       "| Остапчук Микола Валентинович    |  4.50 |  6 |\n",
       "| Матяк Денис Ігорович            |  4.50 |  6 |\n",
       "| Нікітчук Роман Миколайович      |  4.50 |  6 |\n",
       "| Пушка Роман Миколайович         |  4.50 |  6 |\n",
       "| Форманюк Дмитро Ігорович        |  4.50 |  6 |\n",
       "| Дячук Дарина Олегівна           |  3.75 |  5 |\n",
       "| Злотенко Андрій Вікторович      |  3.75 |  5 |\n",
       "| ... | ... | ... |\n",
       "| Рибалкін Олексій Андрійович      | 3.75 | 5 |\n",
       "| Басок Максим Олександрович       | 3.75 | 5 |\n",
       "| Грицаюк Богдан Вікторович        | 3.75 | 5 |\n",
       "| Савенко Лілія Анатоліївна        | 3.75 | 5 |\n",
       "| Соболюк Назарій Анатолійович     | 3.75 | 5 |\n",
       "| Стуга Едуард Леонідович          | 3.75 | 5 |\n",
       "| Чечотка Андрій Вікторович        | 3.75 | 5 |\n",
       "| Войтюк Назарій Васильович        | 3.00 | 4 |\n",
       "| Рацієвський Олексій Юрійович     | 3.00 | 4 |\n",
       "| Холічева Єлізавета Володимирівна | 3.00 | 4 |\n",
       "| Киричук Олексій Миколайович      | 3.00 | 4 |\n",
       "| Куришко Дмитро Сергійович        | 3.00 | 4 |\n",
       "| Махній Анна Сергіївна            | 3.00 | 4 |\n",
       "| Садов'ик Аліна Віталіївна        | 3.00 | 4 |\n",
       "| Семенчук Денис В’ячеславович     | 3.00 | 4 |\n",
       "| Ставський Андрій Віталійович     | 3.00 | 4 |\n",
       "| Бенедик Олександр Сергійович     | 2.25 | 3 |\n",
       "| Боженко Анастасія Ігорівна       | 2.25 | 3 |\n",
       "| Левицький Владислав Романович    | 2.25 | 3 |\n",
       "| Саприкін Іван Анатолійович       | 2.25 | 3 |\n",
       "| Шмигельський Давид Володимирович | 2.25 | 3 |\n",
       "| Гулюк Станіслав Юрійович         | 1.50 | 2 |\n",
       "| Табачук Олександр Ігорович       | 1.50 | 2 |\n",
       "| Власенко Андрій Максимович       | 1.50 | 2 |\n",
       "| Долженко Дмитро Юрійович         | 1.50 | 2 |\n",
       "| Коза'чек Владислав Юрійович      | 1.50 | 2 |\n",
       "| Кудерчук Владислав Віталійович   | 1.50 | 2 |\n",
       "| Онуфрієнко Владислава Вікторівна | 1.50 | 2 |\n",
       "| Словіковський Павло Миколайович  | 0.75 | 1 |\n",
       "| Башмаков Богдан Олегович         | 0.75 | 1 |\n",
       "\n"
      ],
      "text/plain": [
       "    Std                              Total TotalFinal\n",
       "1   Лізак Даниїл Станіславович       12.00 15        \n",
       "2   Анпілогов Антон Юрійович          9.00 12        \n",
       "3   Клименко Анастасія Вячеславівна   9.00 12        \n",
       "4   Нечипорук Марія Ярославівна       8.25 11        \n",
       "5   Воробей Юрій Вікторович           7.50 10        \n",
       "6   Мукомела Богдан Олексійович       7.50 10        \n",
       "7   Герасимчук Наталія Миколаївна     6.75  9        \n",
       "8   Гулієв Артур Борисович            6.75  9        \n",
       "9   Маринич Данило Віталійович        6.75  9        \n",
       "10  Гомон Христина Вікторівна         6.00  8        \n",
       "11  Котюк Богдан Юрійович             6.00  8        \n",
       "12  Фесюк Сергій Сергійович           6.00  8        \n",
       "13  Івасюк Денис Михайлович           6.00  8        \n",
       "14  Йойна Дарина Сергіївна            6.00  8        \n",
       "15  Кутас Кіра Сергіївна              6.00  8        \n",
       "16  Марний Данило Петрович            5.25  7        \n",
       "17  Новачок Богдан Ігорович           5.25  7        \n",
       "18  Радчук Наталія Василівна          5.25  7        \n",
       "19  Федюшко Арсеній Романович         5.25  7        \n",
       "20  Юрків Денис Михайлович            5.25  7        \n",
       "21  Мазурок Анна Сергіївна            5.25  7        \n",
       "22  Процюк Ярослав Євгенович          5.25  7        \n",
       "23  Андрощук Роман Вікторович         4.50  6        \n",
       "24  Остапчук Микола Валентинович      4.50  6        \n",
       "25  Матяк Денис Ігорович              4.50  6        \n",
       "26  Нікітчук Роман Миколайович        4.50  6        \n",
       "27  Пушка Роман Миколайович           4.50  6        \n",
       "28  Форманюк Дмитро Ігорович          4.50  6        \n",
       "29  Дячук Дарина Олегівна             3.75  5        \n",
       "30  Злотенко Андрій Вікторович        3.75  5        \n",
       "... ...                              ...   ...       \n",
       "33  Рибалкін Олексій Андрійович      3.75  5         \n",
       "34  Басок Максим Олександрович       3.75  5         \n",
       "35  Грицаюк Богдан Вікторович        3.75  5         \n",
       "36  Савенко Лілія Анатоліївна        3.75  5         \n",
       "37  Соболюк Назарій Анатолійович     3.75  5         \n",
       "38  Стуга Едуард Леонідович          3.75  5         \n",
       "39  Чечотка Андрій Вікторович        3.75  5         \n",
       "40  Войтюк Назарій Васильович        3.00  4         \n",
       "41  Рацієвський Олексій Юрійович     3.00  4         \n",
       "42  Холічева Єлізавета Володимирівна 3.00  4         \n",
       "43  Киричук Олексій Миколайович      3.00  4         \n",
       "44  Куришко Дмитро Сергійович        3.00  4         \n",
       "45  Махній Анна Сергіївна            3.00  4         \n",
       "46  Садов'ик Аліна Віталіївна        3.00  4         \n",
       "47  Семенчук Денис В’ячеславович     3.00  4         \n",
       "48  Ставський Андрій Віталійович     3.00  4         \n",
       "49  Бенедик Олександр Сергійович     2.25  3         \n",
       "50  Боженко Анастасія Ігорівна       2.25  3         \n",
       "51  Левицький Владислав Романович    2.25  3         \n",
       "52  Саприкін Іван Анатолійович       2.25  3         \n",
       "53  Шмигельський Давид Володимирович 2.25  3         \n",
       "54  Гулюк Станіслав Юрійович         1.50  2         \n",
       "55  Табачук Олександр Ігорович       1.50  2         \n",
       "56  Власенко Андрій Максимович       1.50  2         \n",
       "57  Долженко Дмитро Юрійович         1.50  2         \n",
       "58  Коза'чек Владислав Юрійович      1.50  2         \n",
       "59  Кудерчук Владислав Віталійович   1.50  2         \n",
       "60  Онуфрієнко Владислава Вікторівна 1.50  2         \n",
       "61  Словіковський Павло Миколайович  0.75  1         \n",
       "62  Башмаков Богдан Олегович         0.75  1         "
      ]
     },
     "metadata": {},
     "output_type": "display_data"
    }
   ],
   "source": [
    "final_grades |> \n",
    "select(2,26) |> \n",
    "arrange(desc(Total)) |> \n",
    "mutate(TotalFinal = ceiling(Total/max(final_grades$Total)*15))"
   ]
  },
  {
   "cell_type": "code",
   "execution_count": 109,
   "id": "af698e90-e984-483b-bcde-65d33845326d",
   "metadata": {},
   "outputs": [
    {
     "data": {
      "text/html": [
       "4.27016129032258"
      ],
      "text/latex": [
       "4.27016129032258"
      ],
      "text/markdown": [
       "4.27016129032258"
      ],
      "text/plain": [
       "[1] 4.270161"
      ]
     },
     "metadata": {},
     "output_type": "display_data"
    }
   ],
   "source": [
    "mean(final_grades$Total)"
   ]
  },
  {
   "cell_type": "code",
   "execution_count": 110,
   "id": "4d0f2097-3f77-4fa0-8de5-cb8d350a80b3",
   "metadata": {},
   "outputs": [
    {
     "ename": "ERROR",
     "evalue": "Error in table(test1_data$V): object 'test1_data' not found\n",
     "output_type": "error",
     "traceback": [
      "Error in table(test1_data$V): object 'test1_data' not found\nTraceback:\n",
      "1. table(test1_data$V)"
     ]
    }
   ],
   "source": [
    "table(test1_data$V)"
   ]
  },
  {
   "cell_type": "code",
   "execution_count": 111,
   "id": "ff4c790d-9bc5-42aa-955e-d70c61c9d90b",
   "metadata": {},
   "outputs": [
    {
     "data": {
      "text/html": [
       "<table class=\"dataframe\">\n",
       "<caption>A data.frame: 5 x 2</caption>\n",
       "<thead>\n",
       "\t<tr><th scope=col>Var1</th><th scope=col>Freq</th></tr>\n",
       "\t<tr><th scope=col>&lt;fct&gt;</th><th scope=col>&lt;dbl&gt;</th></tr>\n",
       "</thead>\n",
       "<tbody>\n",
       "\t<tr><td>A</td><td>0.208870968</td></tr>\n",
       "\t<tr><td>B</td><td>0.258870968</td></tr>\n",
       "\t<tr><td>C</td><td>0.299193548</td></tr>\n",
       "\t<tr><td>D</td><td>0.223387097</td></tr>\n",
       "\t<tr><td>X</td><td>0.009677419</td></tr>\n",
       "</tbody>\n",
       "</table>\n"
      ],
      "text/latex": [
       "A data.frame: 5 x 2\n",
       "\\begin{tabular}{ll}\n",
       " Var1 & Freq\\\\\n",
       " <fct> & <dbl>\\\\\n",
       "\\hline\n",
       "\t A & 0.208870968\\\\\n",
       "\t B & 0.258870968\\\\\n",
       "\t C & 0.299193548\\\\\n",
       "\t D & 0.223387097\\\\\n",
       "\t X & 0.009677419\\\\\n",
       "\\end{tabular}\n"
      ],
      "text/markdown": [
       "\n",
       "A data.frame: 5 x 2\n",
       "\n",
       "| Var1 &lt;fct&gt; | Freq &lt;dbl&gt; |\n",
       "|---|---|\n",
       "| A | 0.208870968 |\n",
       "| B | 0.258870968 |\n",
       "| C | 0.299193548 |\n",
       "| D | 0.223387097 |\n",
       "| X | 0.009677419 |\n",
       "\n"
      ],
      "text/plain": [
       "  Var1 Freq       \n",
       "1 A    0.208870968\n",
       "2 B    0.258870968\n",
       "3 C    0.299193548\n",
       "4 D    0.223387097\n",
       "5 X    0.009677419"
      ]
     },
     "metadata": {},
     "output_type": "display_data"
    }
   ],
   "source": [
    "x <- test_data |> select(Q1:Q20) |> unlist() |> table() |> prop.table() |> as.data.frame() \n",
    "x"
   ]
  },
  {
   "cell_type": "code",
   "execution_count": 112,
   "id": "fd30a6f9-64ff-4ec3-87f7-7e99746daecf",
   "metadata": {},
   "outputs": [
    {
     "data": {
      "image/png": "[encoded data removed]",
      "text/plain": [
       "plot without title"
      ]
     },
     "metadata": {
      "image/png": {
       "height": 420,
       "width": 420
      }
     },
     "output_type": "display_data"
    }
   ],
   "source": [
    "plot(x)"
   ]
  },
  {
   "cell_type": "code",
   "execution_count": 113,
   "id": "75815105-8273-4243-9525-9170e441310c",
   "metadata": {},
   "outputs": [
    {
     "ename": "ERROR",
     "evalue": "Error in summary(test1_data): object 'test1_data' not found\n",
     "output_type": "error",
     "traceback": [
      "Error in summary(test1_data): object 'test1_data' not found\nTraceback:\n",
      "1. summary(test1_data)"
     ]
    }
   ],
   "source": [
    "summary(test1_data)"
   ]
  },
  {
   "cell_type": "code",
   "execution_count": 114,
   "id": "a9561111-d6de-47e5-b6b4-38a2b31529f6",
   "metadata": {},
   "outputs": [
    {
     "data": {
      "text/html": [
       "<table class=\"dataframe\">\n",
       "<caption>A tibble: 62 x 23</caption>\n",
       "<thead>\n",
       "\t<tr><th scope=col>No</th><th scope=col>Std</th><th scope=col>V</th><th scope=col>Q1</th><th scope=col>Q2</th><th scope=col>Q3</th><th scope=col>Q4</th><th scope=col>Q5</th><th scope=col>Q6</th><th scope=col>Q7</th><th scope=col>...</th><th scope=col>Q11</th><th scope=col>Q12</th><th scope=col>Q13</th><th scope=col>Q14</th><th scope=col>Q15</th><th scope=col>Q16</th><th scope=col>Q17</th><th scope=col>Q18</th><th scope=col>Q19</th><th scope=col>Q20</th></tr>\n",
       "\t<tr><th scope=col>&lt;dbl&gt;</th><th scope=col>&lt;chr&gt;</th><th scope=col>&lt;dbl&gt;</th><th scope=col>&lt;fct&gt;</th><th scope=col>&lt;fct&gt;</th><th scope=col>&lt;fct&gt;</th><th scope=col>&lt;fct&gt;</th><th scope=col>&lt;fct&gt;</th><th scope=col>&lt;fct&gt;</th><th scope=col>&lt;fct&gt;</th><th scope=col>...</th><th scope=col>&lt;fct&gt;</th><th scope=col>&lt;fct&gt;</th><th scope=col>&lt;fct&gt;</th><th scope=col>&lt;fct&gt;</th><th scope=col>&lt;fct&gt;</th><th scope=col>&lt;fct&gt;</th><th scope=col>&lt;fct&gt;</th><th scope=col>&lt;fct&gt;</th><th scope=col>&lt;fct&gt;</th><th scope=col>&lt;fct&gt;</th></tr>\n",
       "</thead>\n",
       "<tbody>\n",
       "\t<tr><td> 1</td><td>Фесюк Сергій       </td><td>1</td><td>C</td><td>B</td><td>C</td><td>A</td><td>D</td><td>B</td><td>B</td><td>...</td><td>B</td><td>C</td><td>C</td><td>B</td><td>C</td><td>A</td><td>B</td><td>D</td><td>A</td><td>B</td></tr>\n",
       "\t<tr><td> 5</td><td>РАДЧУК НАТАЛІЯ     </td><td>1</td><td>C</td><td>C</td><td>C</td><td>C</td><td>B</td><td>B</td><td>C</td><td>...</td><td>C</td><td>C</td><td>C</td><td>A</td><td>B</td><td>A</td><td>D</td><td>D</td><td>B</td><td>A</td></tr>\n",
       "\t<tr><td> 7</td><td>АНПІЛОГОВ АНТОН    </td><td>1</td><td>C</td><td>C</td><td>C</td><td>C</td><td>C</td><td>B</td><td>B</td><td>...</td><td>C</td><td>C</td><td>C</td><td>B</td><td>C</td><td>B</td><td>B</td><td>A</td><td>A</td><td>B</td></tr>\n",
       "\t<tr><td> 8</td><td>ЗЛОЖЕНКО АНДРІЙ    </td><td>1</td><td>C</td><td>B</td><td>B</td><td>C</td><td>C</td><td>B</td><td>D</td><td>...</td><td>C</td><td>C</td><td>C</td><td>B</td><td>B</td><td>A</td><td>C</td><td>D</td><td>A</td><td>B</td></tr>\n",
       "\t<tr><td> 9</td><td>ГЕРАСИМЧУК НАТАЛІЯ </td><td>1</td><td>C</td><td>C</td><td>D</td><td>D</td><td>C</td><td>C</td><td>B</td><td>...</td><td>D</td><td>C</td><td>C</td><td>A</td><td>B</td><td>X</td><td>X</td><td>X</td><td>X</td><td>X</td></tr>\n",
       "\t<tr><td>10</td><td>АНУКОЩУК РОМАН     </td><td>1</td><td>B</td><td>C</td><td>C</td><td>C</td><td>B</td><td>A</td><td>B</td><td>...</td><td>B</td><td>C</td><td>C</td><td>C</td><td>B</td><td>B</td><td>A</td><td>C</td><td>C</td><td>B</td></tr>\n",
       "\t<tr><td>11</td><td>ЮРКІВ ДЕНИС        </td><td>1</td><td>D</td><td>C</td><td>B</td><td>C</td><td>D</td><td>C</td><td>B</td><td>...</td><td>B</td><td>C</td><td>B</td><td>D</td><td>A</td><td>B</td><td>B</td><td>D</td><td>A</td><td>A</td></tr>\n",
       "\t<tr><td>13</td><td>ТАБАЧУК ОЛЕКСАНДР  </td><td>1</td><td>B</td><td>B</td><td>A</td><td>C</td><td>C</td><td>D</td><td>C</td><td>...</td><td>D</td><td>C</td><td>B</td><td>C</td><td>B</td><td>A</td><td>C</td><td>D</td><td>C</td><td>A</td></tr>\n",
       "\t<tr><td>14</td><td>ДЯЧУК ДАРИНА       </td><td>1</td><td>C</td><td>B</td><td>D</td><td>A</td><td>C</td><td>B</td><td>B</td><td>...</td><td>A</td><td>D</td><td>C</td><td>A</td><td>C</td><td>A</td><td>C</td><td>D</td><td>A</td><td>B</td></tr>\n",
       "\t<tr><td>15</td><td>МУКОМЕЛ БОГДАН     </td><td>1</td><td>C</td><td>B</td><td>D</td><td>D</td><td>C</td><td>B</td><td>D</td><td>...</td><td>C</td><td>C</td><td>C</td><td>B</td><td>C</td><td>D</td><td>D</td><td>A</td><td>A</td><td>A</td></tr>\n",
       "\t<tr><td>23</td><td>РАЦІЄВСЬКИЙ ОЛЕКСІЙ</td><td>1</td><td>D</td><td>D</td><td>D</td><td>B</td><td>B</td><td>C</td><td>A</td><td>...</td><td>B</td><td>C</td><td>C</td><td>B</td><td>B</td><td>C</td><td>A</td><td>B</td><td>C</td><td>B</td></tr>\n",
       "\t<tr><td>24</td><td>ФЕДЮЛІНО АРСЕНІЙ   </td><td>1</td><td>B</td><td>B</td><td>C</td><td>D</td><td>B</td><td>B</td><td>B</td><td>...</td><td>C</td><td>C</td><td>C</td><td>B</td><td>A</td><td>B</td><td>C</td><td>C</td><td>A</td><td>B</td></tr>\n",
       "\t<tr><td>25</td><td>ОЛЕНІН БОГДАН      </td><td>1</td><td>D</td><td>C</td><td>C</td><td>C</td><td>C</td><td>A</td><td>B</td><td>...</td><td>C</td><td>D</td><td>A</td><td>B</td><td>B</td><td>C</td><td>D</td><td>D</td><td>B</td><td>B</td></tr>\n",
       "\t<tr><td>30</td><td>ГУЛІЄВ АРТУР       </td><td>1</td><td>C</td><td>B</td><td>C</td><td>A</td><td>C</td><td>C</td><td>A</td><td>...</td><td>D</td><td>C</td><td>D</td><td>C</td><td>B</td><td>B</td><td>B</td><td>D</td><td>A</td><td>D</td></tr>\n",
       "\t<tr><td>35</td><td>СЛОВКОВСЬКИЙ ПАВЛО </td><td>1</td><td>C</td><td>D</td><td>D</td><td>A</td><td>C</td><td>A</td><td>D</td><td>...</td><td>C</td><td>C</td><td>D</td><td>C</td><td>B</td><td>D</td><td>B</td><td>C</td><td>C</td><td>D</td></tr>\n",
       "\t<tr><td>36</td><td>МАРНИЙ ДАНИЛО      </td><td>1</td><td>B</td><td>B</td><td>B</td><td>A</td><td>C</td><td>D</td><td>B</td><td>...</td><td>D</td><td>D</td><td>C</td><td>C</td><td>B</td><td>B</td><td>D</td><td>D</td><td>C</td><td>D</td></tr>\n",
       "\t<tr><td>37</td><td>НОВАЧОК БОГДАН     </td><td>1</td><td>C</td><td>C</td><td>C</td><td>D</td><td>C</td><td>C</td><td>B</td><td>...</td><td>D</td><td>C</td><td>C</td><td>A</td><td>B</td><td>A</td><td>B</td><td>D</td><td>B</td><td>B</td></tr>\n",
       "\t<tr><td>38</td><td>ХОЛІЧЕВА ЄЛІЗАВЕТА </td><td>1</td><td>C</td><td>B</td><td>B</td><td>A</td><td>C</td><td>B</td><td>A</td><td>...</td><td>B</td><td>B</td><td>C</td><td>A</td><td>A</td><td>B</td><td>B</td><td>D</td><td>C</td><td>B</td></tr>\n",
       "\t<tr><td>41</td><td>ВОЙТЮК НАЗАРІЙ     </td><td>1</td><td>C</td><td>C</td><td>B</td><td>C</td><td>C</td><td>A</td><td>D</td><td>...</td><td>A</td><td>C</td><td>B</td><td>C</td><td>D</td><td>D</td><td>B</td><td>B</td><td>A</td><td>B</td></tr>\n",
       "\t<tr><td>42</td><td>КОТЮК БОГДАН       </td><td>1</td><td>C</td><td>C</td><td>D</td><td>A</td><td>C</td><td>C</td><td>B</td><td>...</td><td>C</td><td>C</td><td>C</td><td>C</td><td>B</td><td>D</td><td>B</td><td>A</td><td>C</td><td>B</td></tr>\n",
       "\t<tr><td>44</td><td>НОВАК ДАРІЯ        </td><td>1</td><td>B</td><td>C</td><td>D</td><td>D</td><td>C</td><td>C</td><td>D</td><td>...</td><td>B</td><td>C</td><td>B</td><td>D</td><td>B</td><td>C</td><td>D</td><td>D</td><td>B</td><td>D</td></tr>\n",
       "\t<tr><td>46</td><td>ГУЛЮК СТАНІСЛАВ    </td><td>1</td><td>A</td><td>D</td><td>D</td><td>C</td><td>C</td><td>B</td><td>C</td><td>...</td><td>C</td><td>C</td><td>B</td><td>A</td><td>B</td><td>A</td><td>C</td><td>D</td><td>A</td><td>B</td></tr>\n",
       "\t<tr><td>49</td><td>ЛІЗАК ДАНИЇЛ       </td><td>1</td><td>B</td><td>C</td><td>C</td><td>A</td><td>D</td><td>C</td><td>D</td><td>...</td><td>D</td><td>D</td><td>C</td><td>B</td><td>C</td><td>B</td><td>B</td><td>A</td><td>A</td><td>A</td></tr>\n",
       "\t<tr><td>50</td><td>ГОМОН ХРИСТИНА     </td><td>1</td><td>C</td><td>B</td><td>A</td><td>B</td><td>D</td><td>A</td><td>A</td><td>...</td><td>C</td><td>B</td><td>C</td><td>A</td><td>D</td><td>D</td><td>A</td><td>D</td><td>A</td><td>A</td></tr>\n",
       "\t<tr><td>54</td><td>КЛИМЕНКО АНАСТАСІЯ </td><td>1</td><td>C</td><td>B</td><td>B</td><td>C</td><td>D</td><td>C</td><td>A</td><td>...</td><td>D</td><td>D</td><td>C</td><td>A</td><td>B</td><td>B</td><td>B</td><td>D</td><td>A</td><td>A</td></tr>\n",
       "\t<tr><td>55</td><td>ВОРОБЕЙ ЮРІЙ       </td><td>1</td><td>X</td><td>C</td><td>B</td><td>A</td><td>C</td><td>X</td><td>B</td><td>...</td><td>D</td><td>C</td><td>C</td><td>B</td><td>C</td><td>B</td><td>X</td><td>X</td><td>X</td><td>A</td></tr>\n",
       "\t<tr><td>57</td><td>РИБАЛКІН ОЛЕКСІЙ   </td><td>1</td><td>B</td><td>C</td><td>A</td><td>A</td><td>C</td><td>D</td><td>B</td><td>...</td><td>C</td><td>C</td><td>A</td><td>B</td><td>C</td><td>C</td><td>A</td><td>D</td><td>A</td><td>B</td></tr>\n",
       "\t<tr><td>59</td><td>НЕЧИПУРУК МАРІЯ    </td><td>1</td><td>C</td><td>C</td><td>B</td><td>A</td><td>D</td><td>A</td><td>A</td><td>...</td><td>D</td><td>D</td><td>C</td><td>B</td><td>C</td><td>C</td><td>D</td><td>A</td><td>D</td><td>D</td></tr>\n",
       "\t<tr><td>61</td><td>ОСТАПЧУК МИКОЛА    </td><td>1</td><td>C</td><td>B</td><td>B</td><td>D</td><td>B</td><td>C</td><td>A</td><td>...</td><td>D</td><td>C</td><td>D</td><td>A</td><td>B</td><td>A</td><td>C</td><td>B</td><td>D</td><td>A</td></tr>\n",
       "\t<tr><td> 2</td><td>ГРИЦАЮК БОГДАН     </td><td>2</td><td>A</td><td>C</td><td>C</td><td>A</td><td>C</td><td>C</td><td>D</td><td>...</td><td>C</td><td>B</td><td>D</td><td>B</td><td>B</td><td>A</td><td>B</td><td>B</td><td>C</td><td>B</td></tr>\n",
       "\t<tr><td>...</td><td>...</td><td>...</td><td>...</td><td>...</td><td>...</td><td>...</td><td>...</td><td>...</td><td>...</td><td></td><td>...</td><td>...</td><td>...</td><td>...</td><td>...</td><td>...</td><td>...</td><td>...</td><td>...</td><td>...</td></tr>\n",
       "\t<tr><td> 6</td><td>БОЖЕНКО АНАСТАСІЯ   </td><td>2</td><td>D</td><td>B</td><td>D</td><td>A</td><td>D</td><td>D</td><td>A</td><td>...</td><td>C</td><td>B</td><td>A</td><td>D</td><td>B</td><td>A</td><td>C</td><td>D</td><td>A</td><td>C</td></tr>\n",
       "\t<tr><td>12</td><td>ПУШКА РОМАН         </td><td>2</td><td>C</td><td>A</td><td>D</td><td>D</td><td>C</td><td>A</td><td>A</td><td>...</td><td>C</td><td>A</td><td>B</td><td>B</td><td>C</td><td>B</td><td>C</td><td>C</td><td>C</td><td>C</td></tr>\n",
       "\t<tr><td>16</td><td>МАХНІЙ АННА         </td><td>2</td><td>C</td><td>D</td><td>A</td><td>A</td><td>C</td><td>C</td><td>B</td><td>...</td><td>C</td><td>B</td><td>D</td><td>D</td><td>B</td><td>D</td><td>A</td><td>C</td><td>A</td><td>A</td></tr>\n",
       "\t<tr><td>17</td><td>ВАСЕЛЕНКО АНДРІЙ    </td><td>2</td><td>B</td><td>C</td><td>A</td><td>A</td><td>B</td><td>A</td><td>D</td><td>...</td><td>C</td><td>B</td><td>D</td><td>C</td><td>B</td><td>C</td><td>A</td><td>A</td><td>D</td><td>B</td></tr>\n",
       "\t<tr><td>18</td><td>ІВАСЮК ДЕНИС        </td><td>2</td><td>D</td><td>C</td><td>B</td><td>D</td><td>D</td><td>B</td><td>A</td><td>...</td><td>C</td><td>A</td><td>D</td><td>B</td><td>C</td><td>D</td><td>C</td><td>D</td><td>C</td><td>A</td></tr>\n",
       "\t<tr><td>19</td><td>САПРИКІН ІВАН       </td><td>2</td><td>B</td><td>A</td><td>A</td><td>B</td><td>D</td><td>A</td><td>B</td><td>...</td><td>C</td><td>B</td><td>D</td><td>C</td><td>A</td><td>B</td><td>C</td><td>B</td><td>D</td><td>C</td></tr>\n",
       "\t<tr><td>20</td><td>САДОВИЧ АМІНА       </td><td>2</td><td>A</td><td>D</td><td>A</td><td>C</td><td>C</td><td>C</td><td>D</td><td>...</td><td>B</td><td>B</td><td>D</td><td>C</td><td>B</td><td>B</td><td>D</td><td>D</td><td>C</td><td>D</td></tr>\n",
       "\t<tr><td>21</td><td>БЕНЕДИК ОЛЕКСАНДР   </td><td>2</td><td>B</td><td>D</td><td>A</td><td>A</td><td>B</td><td>D</td><td>C</td><td>...</td><td>C</td><td>B</td><td>A</td><td>D</td><td>B</td><td>C</td><td>D</td><td>C</td><td>C</td><td>A</td></tr>\n",
       "\t<tr><td>22</td><td>КИРИЧУК ОЛЕКСІЙ     </td><td>2</td><td>C</td><td>B</td><td>C</td><td>B</td><td>B</td><td>A</td><td>C</td><td>...</td><td>D</td><td>A</td><td>A</td><td>D</td><td>A</td><td>B</td><td>A</td><td>D</td><td>B</td><td>B</td></tr>\n",
       "\t<tr><td>26</td><td>СОБОЛЮК НАЗАРІЙ     </td><td>2</td><td>C</td><td>B</td><td>D</td><td>A</td><td>C</td><td>C</td><td>B</td><td>...</td><td>C</td><td>B</td><td>D</td><td>D</td><td>D</td><td>D</td><td>C</td><td>A</td><td>A</td><td>C</td></tr>\n",
       "\t<tr><td>27</td><td>МАРИНІН ДАНИЛ       </td><td>2</td><td>A</td><td>C</td><td>C</td><td>D</td><td>B</td><td>C</td><td>A</td><td>...</td><td>C</td><td>C</td><td>D</td><td>B</td><td>C</td><td>B</td><td>C</td><td>C</td><td>A</td><td>C</td></tr>\n",
       "\t<tr><td>28</td><td>КУДЕРЧУК ВЛАДИСЛАВ  </td><td>2</td><td>D</td><td>D</td><td>B</td><td>A</td><td>B</td><td>D</td><td>B</td><td>...</td><td>C</td><td>A</td><td>D</td><td>D</td><td>C</td><td>D</td><td>A</td><td>D</td><td>D</td><td>C</td></tr>\n",
       "\t<tr><td>29</td><td>ФОРМАНЮК ДМИТРО     </td><td>2</td><td>A</td><td>C</td><td>A</td><td>D</td><td>C</td><td>C</td><td>D</td><td>...</td><td>C</td><td>C</td><td>D</td><td>B</td><td>C</td><td>C</td><td>C</td><td>C</td><td>A</td><td>B</td></tr>\n",
       "\t<tr><td>31</td><td>ЛЕВИЦЬКИЙ ВЛАДИСЛАВ </td><td>2</td><td>B</td><td>B</td><td>D</td><td>B</td><td>C</td><td>C</td><td>B</td><td>...</td><td>C</td><td>B</td><td>A</td><td>D</td><td>D</td><td>D</td><td>C</td><td>A</td><td>A</td><td>C</td></tr>\n",
       "\t<tr><td>32</td><td>НІКІЧУК РОМАН       </td><td>2</td><td>B</td><td>B</td><td>C</td><td>D</td><td>A</td><td>B</td><td>A</td><td>...</td><td>C</td><td>A</td><td>A</td><td>B</td><td>C</td><td>A</td><td>D</td><td>C</td><td>B</td><td>C</td></tr>\n",
       "\t<tr><td>33</td><td>ШИШГАЛЬСТКИЙ ДАВИД  </td><td>2</td><td>D</td><td>B</td><td>D</td><td>B</td><td>C</td><td>D</td><td>B</td><td>...</td><td>C</td><td>A</td><td>A</td><td>D</td><td>D</td><td>D</td><td>C</td><td>A</td><td>A</td><td>D</td></tr>\n",
       "\t<tr><td>34</td><td>МАТЯК ДЕНИС         </td><td>2</td><td>B</td><td>C</td><td>C</td><td>A</td><td>D</td><td>A</td><td>C</td><td>...</td><td>A</td><td>D</td><td>D</td><td>D</td><td>B</td><td>C</td><td>C</td><td>B</td><td>A</td><td>D</td></tr>\n",
       "\t<tr><td>39</td><td>КУТАС КІРА          </td><td>2</td><td>D</td><td>B</td><td>B</td><td>D</td><td>D</td><td>B</td><td>A</td><td>...</td><td>C</td><td>B</td><td>D</td><td>D</td><td>C</td><td>B</td><td>A</td><td>A</td><td>C</td><td>D</td></tr>\n",
       "\t<tr><td>40</td><td>СЕМЕНЧУК ДЕНИС      </td><td>2</td><td>B</td><td>C</td><td>A</td><td>A</td><td>C</td><td>D</td><td>B</td><td>...</td><td>C</td><td>A</td><td>A</td><td>D</td><td>C</td><td>A</td><td>B</td><td>A</td><td>A</td><td>C</td></tr>\n",
       "\t<tr><td>43</td><td>КУРИШКО Д.          </td><td>2</td><td>B</td><td>D</td><td>D</td><td>A</td><td>D</td><td>C</td><td>A</td><td>...</td><td>C</td><td>B</td><td>A</td><td>D</td><td>D</td><td>A</td><td>C</td><td>C</td><td>A</td><td>C</td></tr>\n",
       "\t<tr><td>45</td><td>ПРОЦЮК ЯРОСЛАВ      </td><td>2</td><td>B</td><td>C</td><td>C</td><td>D</td><td>C</td><td>D</td><td>C</td><td>...</td><td>C</td><td>A</td><td>D</td><td>D</td><td>C</td><td>C</td><td>B</td><td>A</td><td>D</td><td>C</td></tr>\n",
       "\t<tr><td>47</td><td>МАЗУРОК АННА        </td><td>2</td><td>B</td><td>B</td><td>B</td><td>A</td><td>C</td><td>C</td><td>A</td><td>...</td><td>D</td><td>C</td><td>A</td><td>D</td><td>D</td><td>D</td><td>A</td><td>A</td><td>A</td><td>C</td></tr>\n",
       "\t<tr><td>48</td><td>ЧЕЧОТКА АНДРІЙ      </td><td>2</td><td>A</td><td>D</td><td>B</td><td>D</td><td>B</td><td>B</td><td>A</td><td>...</td><td>C</td><td>A</td><td>A</td><td>B</td><td>B</td><td>C</td><td>D</td><td>B</td><td>C</td><td>C</td></tr>\n",
       "\t<tr><td>51</td><td>КОЗИЧЕН ВЛАДИСЛАВ   </td><td>2</td><td>B</td><td>D</td><td>B</td><td>A</td><td>B</td><td>A</td><td>C</td><td>...</td><td>C</td><td>B</td><td>A</td><td>D</td><td>D</td><td>D</td><td>C</td><td>B</td><td>B</td><td>B</td></tr>\n",
       "\t<tr><td>52</td><td>ЙОЙНА               </td><td>2</td><td>B</td><td>C</td><td>C</td><td>B</td><td>A</td><td>C</td><td>C</td><td>...</td><td>A</td><td>C</td><td>C</td><td>C</td><td>C</td><td>B</td><td>C</td><td>A</td><td>A</td><td>C</td></tr>\n",
       "\t<tr><td>53</td><td>ДОВЖЕНКО ДМИТРО     </td><td>2</td><td>A</td><td>B</td><td>D</td><td>A</td><td>C</td><td>D</td><td>A</td><td>...</td><td>C</td><td>A</td><td>A</td><td>D</td><td>A</td><td>D</td><td>B</td><td>A</td><td>D</td><td>C</td></tr>\n",
       "\t<tr><td>56</td><td>САВЕНКО ЛІЛІЯ       </td><td>2</td><td>A</td><td>C</td><td>B</td><td>B</td><td>C</td><td>D</td><td>B</td><td>...</td><td>D</td><td>B</td><td>D</td><td>B</td><td>D</td><td>C</td><td>X</td><td>A</td><td>B</td><td>D</td></tr>\n",
       "\t<tr><td>58</td><td>СТУГА ЕДУАРД        </td><td>2</td><td>C</td><td>C</td><td>B</td><td>A</td><td>B</td><td>B</td><td>A</td><td>...</td><td>C</td><td>D</td><td>D</td><td>D</td><td>B</td><td>D</td><td>D</td><td>C</td><td>C</td><td>D</td></tr>\n",
       "\t<tr><td>60</td><td>ОМУФРІЄНКО ВЛАДИСЛАВ</td><td>2</td><td>B</td><td>B</td><td>B</td><td>A</td><td>B</td><td>D</td><td>C</td><td>...</td><td>C</td><td>A</td><td>D</td><td>A</td><td>D</td><td>B</td><td>B</td><td>A</td><td>C</td><td>C</td></tr>\n",
       "\t<tr><td>62</td><td>БАШМАКОВ БОГДАН     </td><td>2</td><td>D</td><td>B</td><td>D</td><td>A</td><td>B</td><td>B</td><td>C</td><td>...</td><td>C</td><td>C</td><td>A</td><td>D</td><td>B</td><td>A</td><td>C</td><td>C</td><td>D</td><td>D</td></tr>\n",
       "</tbody>\n",
       "</table>\n"
      ],
      "text/latex": [
       "A tibble: 62 x 23\n",
       "\\begin{tabular}{lllllllllllllllllllll}\n",
       " No & Std & V & Q1 & Q2 & Q3 & Q4 & Q5 & Q6 & Q7 & ... & Q11 & Q12 & Q13 & Q14 & Q15 & Q16 & Q17 & Q18 & Q19 & Q20\\\\\n",
       " <dbl> & <chr> & <dbl> & <fct> & <fct> & <fct> & <fct> & <fct> & <fct> & <fct> & ... & <fct> & <fct> & <fct> & <fct> & <fct> & <fct> & <fct> & <fct> & <fct> & <fct>\\\\\n",
       "\\hline\n",
       "\t  1 & Фесюк Сергій        & 1 & C & B & C & A & D & B & B & ... & B & C & C & B & C & A & B & D & A & B\\\\\n",
       "\t  5 & РАДЧУК НАТАЛІЯ      & 1 & C & C & C & C & B & B & C & ... & C & C & C & A & B & A & D & D & B & A\\\\\n",
       "\t  7 & АНПІЛОГОВ АНТОН     & 1 & C & C & C & C & C & B & B & ... & C & C & C & B & C & B & B & A & A & B\\\\\n",
       "\t  8 & ЗЛОЖЕНКО АНДРІЙ     & 1 & C & B & B & C & C & B & D & ... & C & C & C & B & B & A & C & D & A & B\\\\\n",
       "\t  9 & ГЕРАСИМЧУК НАТАЛІЯ  & 1 & C & C & D & D & C & C & B & ... & D & C & C & A & B & X & X & X & X & X\\\\\n",
       "\t 10 & АНУКОЩУК РОМАН      & 1 & B & C & C & C & B & A & B & ... & B & C & C & C & B & B & A & C & C & B\\\\\n",
       "\t 11 & ЮРКІВ ДЕНИС         & 1 & D & C & B & C & D & C & B & ... & B & C & B & D & A & B & B & D & A & A\\\\\n",
       "\t 13 & ТАБАЧУК ОЛЕКСАНДР   & 1 & B & B & A & C & C & D & C & ... & D & C & B & C & B & A & C & D & C & A\\\\\n",
       "\t 14 & ДЯЧУК ДАРИНА        & 1 & C & B & D & A & C & B & B & ... & A & D & C & A & C & A & C & D & A & B\\\\\n",
       "\t 15 & МУКОМЕЛ БОГДАН      & 1 & C & B & D & D & C & B & D & ... & C & C & C & B & C & D & D & A & A & A\\\\\n",
       "\t 23 & РАЦІЄВСЬКИЙ ОЛЕКСІЙ & 1 & D & D & D & B & B & C & A & ... & B & C & C & B & B & C & A & B & C & B\\\\\n",
       "\t 24 & ФЕДЮЛІНО АРСЕНІЙ    & 1 & B & B & C & D & B & B & B & ... & C & C & C & B & A & B & C & C & A & B\\\\\n",
       "\t 25 & ОЛЕНІН БОГДАН       & 1 & D & C & C & C & C & A & B & ... & C & D & A & B & B & C & D & D & B & B\\\\\n",
       "\t 30 & ГУЛІЄВ АРТУР        & 1 & C & B & C & A & C & C & A & ... & D & C & D & C & B & B & B & D & A & D\\\\\n",
       "\t 35 & СЛОВКОВСЬКИЙ ПАВЛО  & 1 & C & D & D & A & C & A & D & ... & C & C & D & C & B & D & B & C & C & D\\\\\n",
       "\t 36 & МАРНИЙ ДАНИЛО       & 1 & B & B & B & A & C & D & B & ... & D & D & C & C & B & B & D & D & C & D\\\\\n",
       "\t 37 & НОВАЧОК БОГДАН      & 1 & C & C & C & D & C & C & B & ... & D & C & C & A & B & A & B & D & B & B\\\\\n",
       "\t 38 & ХОЛІЧЕВА ЄЛІЗАВЕТА  & 1 & C & B & B & A & C & B & A & ... & B & B & C & A & A & B & B & D & C & B\\\\\n",
       "\t 41 & ВОЙТЮК НАЗАРІЙ      & 1 & C & C & B & C & C & A & D & ... & A & C & B & C & D & D & B & B & A & B\\\\\n",
       "\t 42 & КОТЮК БОГДАН        & 1 & C & C & D & A & C & C & B & ... & C & C & C & C & B & D & B & A & C & B\\\\\n",
       "\t 44 & НОВАК ДАРІЯ         & 1 & B & C & D & D & C & C & D & ... & B & C & B & D & B & C & D & D & B & D\\\\\n",
       "\t 46 & ГУЛЮК СТАНІСЛАВ     & 1 & A & D & D & C & C & B & C & ... & C & C & B & A & B & A & C & D & A & B\\\\\n",
       "\t 49 & ЛІЗАК ДАНИЇЛ        & 1 & B & C & C & A & D & C & D & ... & D & D & C & B & C & B & B & A & A & A\\\\\n",
       "\t 50 & ГОМОН ХРИСТИНА      & 1 & C & B & A & B & D & A & A & ... & C & B & C & A & D & D & A & D & A & A\\\\\n",
       "\t 54 & КЛИМЕНКО АНАСТАСІЯ  & 1 & C & B & B & C & D & C & A & ... & D & D & C & A & B & B & B & D & A & A\\\\\n",
       "\t 55 & ВОРОБЕЙ ЮРІЙ        & 1 & X & C & B & A & C & X & B & ... & D & C & C & B & C & B & X & X & X & A\\\\\n",
       "\t 57 & РИБАЛКІН ОЛЕКСІЙ    & 1 & B & C & A & A & C & D & B & ... & C & C & A & B & C & C & A & D & A & B\\\\\n",
       "\t 59 & НЕЧИПУРУК МАРІЯ     & 1 & C & C & B & A & D & A & A & ... & D & D & C & B & C & C & D & A & D & D\\\\\n",
       "\t 61 & ОСТАПЧУК МИКОЛА     & 1 & C & B & B & D & B & C & A & ... & D & C & D & A & B & A & C & B & D & A\\\\\n",
       "\t  2 & ГРИЦАЮК БОГДАН      & 2 & A & C & C & A & C & C & D & ... & C & B & D & B & B & A & B & B & C & B\\\\\n",
       "\t ... & ... & ... & ... & ... & ... & ... & ... & ... & ... &  & ... & ... & ... & ... & ... & ... & ... & ... & ... & ...\\\\\n",
       "\t  6 & БОЖЕНКО АНАСТАСІЯ    & 2 & D & B & D & A & D & D & A & ... & C & B & A & D & B & A & C & D & A & C\\\\\n",
       "\t 12 & ПУШКА РОМАН          & 2 & C & A & D & D & C & A & A & ... & C & A & B & B & C & B & C & C & C & C\\\\\n",
       "\t 16 & МАХНІЙ АННА          & 2 & C & D & A & A & C & C & B & ... & C & B & D & D & B & D & A & C & A & A\\\\\n",
       "\t 17 & ВАСЕЛЕНКО АНДРІЙ     & 2 & B & C & A & A & B & A & D & ... & C & B & D & C & B & C & A & A & D & B\\\\\n",
       "\t 18 & ІВАСЮК ДЕНИС         & 2 & D & C & B & D & D & B & A & ... & C & A & D & B & C & D & C & D & C & A\\\\\n",
       "\t 19 & САПРИКІН ІВАН        & 2 & B & A & A & B & D & A & B & ... & C & B & D & C & A & B & C & B & D & C\\\\\n",
       "\t 20 & САДОВИЧ АМІНА        & 2 & A & D & A & C & C & C & D & ... & B & B & D & C & B & B & D & D & C & D\\\\\n",
       "\t 21 & БЕНЕДИК ОЛЕКСАНДР    & 2 & B & D & A & A & B & D & C & ... & C & B & A & D & B & C & D & C & C & A\\\\\n",
       "\t 22 & КИРИЧУК ОЛЕКСІЙ      & 2 & C & B & C & B & B & A & C & ... & D & A & A & D & A & B & A & D & B & B\\\\\n",
       "\t 26 & СОБОЛЮК НАЗАРІЙ      & 2 & C & B & D & A & C & C & B & ... & C & B & D & D & D & D & C & A & A & C\\\\\n",
       "\t 27 & МАРИНІН ДАНИЛ        & 2 & A & C & C & D & B & C & A & ... & C & C & D & B & C & B & C & C & A & C\\\\\n",
       "\t 28 & КУДЕРЧУК ВЛАДИСЛАВ   & 2 & D & D & B & A & B & D & B & ... & C & A & D & D & C & D & A & D & D & C\\\\\n",
       "\t 29 & ФОРМАНЮК ДМИТРО      & 2 & A & C & A & D & C & C & D & ... & C & C & D & B & C & C & C & C & A & B\\\\\n",
       "\t 31 & ЛЕВИЦЬКИЙ ВЛАДИСЛАВ  & 2 & B & B & D & B & C & C & B & ... & C & B & A & D & D & D & C & A & A & C\\\\\n",
       "\t 32 & НІКІЧУК РОМАН        & 2 & B & B & C & D & A & B & A & ... & C & A & A & B & C & A & D & C & B & C\\\\\n",
       "\t 33 & ШИШГАЛЬСТКИЙ ДАВИД   & 2 & D & B & D & B & C & D & B & ... & C & A & A & D & D & D & C & A & A & D\\\\\n",
       "\t 34 & МАТЯК ДЕНИС          & 2 & B & C & C & A & D & A & C & ... & A & D & D & D & B & C & C & B & A & D\\\\\n",
       "\t 39 & КУТАС КІРА           & 2 & D & B & B & D & D & B & A & ... & C & B & D & D & C & B & A & A & C & D\\\\\n",
       "\t 40 & СЕМЕНЧУК ДЕНИС       & 2 & B & C & A & A & C & D & B & ... & C & A & A & D & C & A & B & A & A & C\\\\\n",
       "\t 43 & КУРИШКО Д.           & 2 & B & D & D & A & D & C & A & ... & C & B & A & D & D & A & C & C & A & C\\\\\n",
       "\t 45 & ПРОЦЮК ЯРОСЛАВ       & 2 & B & C & C & D & C & D & C & ... & C & A & D & D & C & C & B & A & D & C\\\\\n",
       "\t 47 & МАЗУРОК АННА         & 2 & B & B & B & A & C & C & A & ... & D & C & A & D & D & D & A & A & A & C\\\\\n",
       "\t 48 & ЧЕЧОТКА АНДРІЙ       & 2 & A & D & B & D & B & B & A & ... & C & A & A & B & B & C & D & B & C & C\\\\\n",
       "\t 51 & КОЗИЧЕН ВЛАДИСЛАВ    & 2 & B & D & B & A & B & A & C & ... & C & B & A & D & D & D & C & B & B & B\\\\\n",
       "\t 52 & ЙОЙНА                & 2 & B & C & C & B & A & C & C & ... & A & C & C & C & C & B & C & A & A & C\\\\\n",
       "\t 53 & ДОВЖЕНКО ДМИТРО      & 2 & A & B & D & A & C & D & A & ... & C & A & A & D & A & D & B & A & D & C\\\\\n",
       "\t 56 & САВЕНКО ЛІЛІЯ        & 2 & A & C & B & B & C & D & B & ... & D & B & D & B & D & C & X & A & B & D\\\\\n",
       "\t 58 & СТУГА ЕДУАРД         & 2 & C & C & B & A & B & B & A & ... & C & D & D & D & B & D & D & C & C & D\\\\\n",
       "\t 60 & ОМУФРІЄНКО ВЛАДИСЛАВ & 2 & B & B & B & A & B & D & C & ... & C & A & D & A & D & B & B & A & C & C\\\\\n",
       "\t 62 & БАШМАКОВ БОГДАН      & 2 & D & B & D & A & B & B & C & ... & C & C & A & D & B & A & C & C & D & D\\\\\n",
       "\\end{tabular}\n"
      ],
      "text/markdown": [
       "\n",
       "A tibble: 62 x 23\n",
       "\n",
       "| No &lt;dbl&gt; | Std &lt;chr&gt; | V &lt;dbl&gt; | Q1 &lt;fct&gt; | Q2 &lt;fct&gt; | Q3 &lt;fct&gt; | Q4 &lt;fct&gt; | Q5 &lt;fct&gt; | Q6 &lt;fct&gt; | Q7 &lt;fct&gt; | ... ... | Q11 &lt;fct&gt; | Q12 &lt;fct&gt; | Q13 &lt;fct&gt; | Q14 &lt;fct&gt; | Q15 &lt;fct&gt; | Q16 &lt;fct&gt; | Q17 &lt;fct&gt; | Q18 &lt;fct&gt; | Q19 &lt;fct&gt; | Q20 &lt;fct&gt; |\n",
       "|---|---|---|---|---|---|---|---|---|---|---|---|---|---|---|---|---|---|---|---|---|\n",
       "|  1 | Фесюк Сергій        | 1 | C | B | C | A | D | B | B | ... | B | C | C | B | C | A | B | D | A | B |\n",
       "|  5 | РАДЧУК НАТАЛІЯ      | 1 | C | C | C | C | B | B | C | ... | C | C | C | A | B | A | D | D | B | A |\n",
       "|  7 | АНПІЛОГОВ АНТОН     | 1 | C | C | C | C | C | B | B | ... | C | C | C | B | C | B | B | A | A | B |\n",
       "|  8 | ЗЛОЖЕНКО АНДРІЙ     | 1 | C | B | B | C | C | B | D | ... | C | C | C | B | B | A | C | D | A | B |\n",
       "|  9 | ГЕРАСИМЧУК НАТАЛІЯ  | 1 | C | C | D | D | C | C | B | ... | D | C | C | A | B | X | X | X | X | X |\n",
       "| 10 | АНУКОЩУК РОМАН      | 1 | B | C | C | C | B | A | B | ... | B | C | C | C | B | B | A | C | C | B |\n",
       "| 11 | ЮРКІВ ДЕНИС         | 1 | D | C | B | C | D | C | B | ... | B | C | B | D | A | B | B | D | A | A |\n",
       "| 13 | ТАБАЧУК ОЛЕКСАНДР   | 1 | B | B | A | C | C | D | C | ... | D | C | B | C | B | A | C | D | C | A |\n",
       "| 14 | ДЯЧУК ДАРИНА        | 1 | C | B | D | A | C | B | B | ... | A | D | C | A | C | A | C | D | A | B |\n",
       "| 15 | МУКОМЕЛ БОГДАН      | 1 | C | B | D | D | C | B | D | ... | C | C | C | B | C | D | D | A | A | A |\n",
       "| 23 | РАЦІЄВСЬКИЙ ОЛЕКСІЙ | 1 | D | D | D | B | B | C | A | ... | B | C | C | B | B | C | A | B | C | B |\n",
       "| 24 | ФЕДЮЛІНО АРСЕНІЙ    | 1 | B | B | C | D | B | B | B | ... | C | C | C | B | A | B | C | C | A | B |\n",
       "| 25 | ОЛЕНІН БОГДАН       | 1 | D | C | C | C | C | A | B | ... | C | D | A | B | B | C | D | D | B | B |\n",
       "| 30 | ГУЛІЄВ АРТУР        | 1 | C | B | C | A | C | C | A | ... | D | C | D | C | B | B | B | D | A | D |\n",
       "| 35 | СЛОВКОВСЬКИЙ ПАВЛО  | 1 | C | D | D | A | C | A | D | ... | C | C | D | C | B | D | B | C | C | D |\n",
       "| 36 | МАРНИЙ ДАНИЛО       | 1 | B | B | B | A | C | D | B | ... | D | D | C | C | B | B | D | D | C | D |\n",
       "| 37 | НОВАЧОК БОГДАН      | 1 | C | C | C | D | C | C | B | ... | D | C | C | A | B | A | B | D | B | B |\n",
       "| 38 | ХОЛІЧЕВА ЄЛІЗАВЕТА  | 1 | C | B | B | A | C | B | A | ... | B | B | C | A | A | B | B | D | C | B |\n",
       "| 41 | ВОЙТЮК НАЗАРІЙ      | 1 | C | C | B | C | C | A | D | ... | A | C | B | C | D | D | B | B | A | B |\n",
       "| 42 | КОТЮК БОГДАН        | 1 | C | C | D | A | C | C | B | ... | C | C | C | C | B | D | B | A | C | B |\n",
       "| 44 | НОВАК ДАРІЯ         | 1 | B | C | D | D | C | C | D | ... | B | C | B | D | B | C | D | D | B | D |\n",
       "| 46 | ГУЛЮК СТАНІСЛАВ     | 1 | A | D | D | C | C | B | C | ... | C | C | B | A | B | A | C | D | A | B |\n",
       "| 49 | ЛІЗАК ДАНИЇЛ        | 1 | B | C | C | A | D | C | D | ... | D | D | C | B | C | B | B | A | A | A |\n",
       "| 50 | ГОМОН ХРИСТИНА      | 1 | C | B | A | B | D | A | A | ... | C | B | C | A | D | D | A | D | A | A |\n",
       "| 54 | КЛИМЕНКО АНАСТАСІЯ  | 1 | C | B | B | C | D | C | A | ... | D | D | C | A | B | B | B | D | A | A |\n",
       "| 55 | ВОРОБЕЙ ЮРІЙ        | 1 | X | C | B | A | C | X | B | ... | D | C | C | B | C | B | X | X | X | A |\n",
       "| 57 | РИБАЛКІН ОЛЕКСІЙ    | 1 | B | C | A | A | C | D | B | ... | C | C | A | B | C | C | A | D | A | B |\n",
       "| 59 | НЕЧИПУРУК МАРІЯ     | 1 | C | C | B | A | D | A | A | ... | D | D | C | B | C | C | D | A | D | D |\n",
       "| 61 | ОСТАПЧУК МИКОЛА     | 1 | C | B | B | D | B | C | A | ... | D | C | D | A | B | A | C | B | D | A |\n",
       "|  2 | ГРИЦАЮК БОГДАН      | 2 | A | C | C | A | C | C | D | ... | C | B | D | B | B | A | B | B | C | B |\n",
       "| ... | ... | ... | ... | ... | ... | ... | ... | ... | ... | <!----> | ... | ... | ... | ... | ... | ... | ... | ... | ... | ... |\n",
       "|  6 | БОЖЕНКО АНАСТАСІЯ    | 2 | D | B | D | A | D | D | A | ... | C | B | A | D | B | A | C | D | A | C |\n",
       "| 12 | ПУШКА РОМАН          | 2 | C | A | D | D | C | A | A | ... | C | A | B | B | C | B | C | C | C | C |\n",
       "| 16 | МАХНІЙ АННА          | 2 | C | D | A | A | C | C | B | ... | C | B | D | D | B | D | A | C | A | A |\n",
       "| 17 | ВАСЕЛЕНКО АНДРІЙ     | 2 | B | C | A | A | B | A | D | ... | C | B | D | C | B | C | A | A | D | B |\n",
       "| 18 | ІВАСЮК ДЕНИС         | 2 | D | C | B | D | D | B | A | ... | C | A | D | B | C | D | C | D | C | A |\n",
       "| 19 | САПРИКІН ІВАН        | 2 | B | A | A | B | D | A | B | ... | C | B | D | C | A | B | C | B | D | C |\n",
       "| 20 | САДОВИЧ АМІНА        | 2 | A | D | A | C | C | C | D | ... | B | B | D | C | B | B | D | D | C | D |\n",
       "| 21 | БЕНЕДИК ОЛЕКСАНДР    | 2 | B | D | A | A | B | D | C | ... | C | B | A | D | B | C | D | C | C | A |\n",
       "| 22 | КИРИЧУК ОЛЕКСІЙ      | 2 | C | B | C | B | B | A | C | ... | D | A | A | D | A | B | A | D | B | B |\n",
       "| 26 | СОБОЛЮК НАЗАРІЙ      | 2 | C | B | D | A | C | C | B | ... | C | B | D | D | D | D | C | A | A | C |\n",
       "| 27 | МАРИНІН ДАНИЛ        | 2 | A | C | C | D | B | C | A | ... | C | C | D | B | C | B | C | C | A | C |\n",
       "| 28 | КУДЕРЧУК ВЛАДИСЛАВ   | 2 | D | D | B | A | B | D | B | ... | C | A | D | D | C | D | A | D | D | C |\n",
       "| 29 | ФОРМАНЮК ДМИТРО      | 2 | A | C | A | D | C | C | D | ... | C | C | D | B | C | C | C | C | A | B |\n",
       "| 31 | ЛЕВИЦЬКИЙ ВЛАДИСЛАВ  | 2 | B | B | D | B | C | C | B | ... | C | B | A | D | D | D | C | A | A | C |\n",
       "| 32 | НІКІЧУК РОМАН        | 2 | B | B | C | D | A | B | A | ... | C | A | A | B | C | A | D | C | B | C |\n",
       "| 33 | ШИШГАЛЬСТКИЙ ДАВИД   | 2 | D | B | D | B | C | D | B | ... | C | A | A | D | D | D | C | A | A | D |\n",
       "| 34 | МАТЯК ДЕНИС          | 2 | B | C | C | A | D | A | C | ... | A | D | D | D | B | C | C | B | A | D |\n",
       "| 39 | КУТАС КІРА           | 2 | D | B | B | D | D | B | A | ... | C | B | D | D | C | B | A | A | C | D |\n",
       "| 40 | СЕМЕНЧУК ДЕНИС       | 2 | B | C | A | A | C | D | B | ... | C | A | A | D | C | A | B | A | A | C |\n",
       "| 43 | КУРИШКО Д.           | 2 | B | D | D | A | D | C | A | ... | C | B | A | D | D | A | C | C | A | C |\n",
       "| 45 | ПРОЦЮК ЯРОСЛАВ       | 2 | B | C | C | D | C | D | C | ... | C | A | D | D | C | C | B | A | D | C |\n",
       "| 47 | МАЗУРОК АННА         | 2 | B | B | B | A | C | C | A | ... | D | C | A | D | D | D | A | A | A | C |\n",
       "| 48 | ЧЕЧОТКА АНДРІЙ       | 2 | A | D | B | D | B | B | A | ... | C | A | A | B | B | C | D | B | C | C |\n",
       "| 51 | КОЗИЧЕН ВЛАДИСЛАВ    | 2 | B | D | B | A | B | A | C | ... | C | B | A | D | D | D | C | B | B | B |\n",
       "| 52 | ЙОЙНА                | 2 | B | C | C | B | A | C | C | ... | A | C | C | C | C | B | C | A | A | C |\n",
       "| 53 | ДОВЖЕНКО ДМИТРО      | 2 | A | B | D | A | C | D | A | ... | C | A | A | D | A | D | B | A | D | C |\n",
       "| 56 | САВЕНКО ЛІЛІЯ        | 2 | A | C | B | B | C | D | B | ... | D | B | D | B | D | C | X | A | B | D |\n",
       "| 58 | СТУГА ЕДУАРД         | 2 | C | C | B | A | B | B | A | ... | C | D | D | D | B | D | D | C | C | D |\n",
       "| 60 | ОМУФРІЄНКО ВЛАДИСЛАВ | 2 | B | B | B | A | B | D | C | ... | C | A | D | A | D | B | B | A | C | C |\n",
       "| 62 | БАШМАКОВ БОГДАН      | 2 | D | B | D | A | B | B | C | ... | C | C | A | D | B | A | C | C | D | D |\n",
       "\n"
      ],
      "text/plain": [
       "    No  Std                  V   Q1  Q2  Q3  Q4  Q5  Q6  Q7  ... Q11 Q12 Q13\n",
       "1    1  Фесюк Сергій         1   C   B   C   A   D   B   B   ... B   C   C  \n",
       "2    5  РАДЧУК НАТАЛІЯ       1   C   C   C   C   B   B   C   ... C   C   C  \n",
       "3    7  АНПІЛОГОВ АНТОН      1   C   C   C   C   C   B   B   ... C   C   C  \n",
       "4    8  ЗЛОЖЕНКО АНДРІЙ      1   C   B   B   C   C   B   D   ... C   C   C  \n",
       "5    9  ГЕРАСИМЧУК НАТАЛІЯ   1   C   C   D   D   C   C   B   ... D   C   C  \n",
       "6   10  АНУКОЩУК РОМАН       1   B   C   C   C   B   A   B   ... B   C   C  \n",
       "7   11  ЮРКІВ ДЕНИС          1   D   C   B   C   D   C   B   ... B   C   B  \n",
       "8   13  ТАБАЧУК ОЛЕКСАНДР    1   B   B   A   C   C   D   C   ... D   C   B  \n",
       "9   14  ДЯЧУК ДАРИНА         1   C   B   D   A   C   B   B   ... A   D   C  \n",
       "10  15  МУКОМЕЛ БОГДАН       1   C   B   D   D   C   B   D   ... C   C   C  \n",
       "11  23  РАЦІЄВСЬКИЙ ОЛЕКСІЙ  1   D   D   D   B   B   C   A   ... B   C   C  \n",
       "12  24  ФЕДЮЛІНО АРСЕНІЙ     1   B   B   C   D   B   B   B   ... C   C   C  \n",
       "13  25  ОЛЕНІН БОГДАН        1   D   C   C   C   C   A   B   ... C   D   A  \n",
       "14  30  ГУЛІЄВ АРТУР         1   C   B   C   A   C   C   A   ... D   C   D  \n",
       "15  35  СЛОВКОВСЬКИЙ ПАВЛО   1   C   D   D   A   C   A   D   ... C   C   D  \n",
       "16  36  МАРНИЙ ДАНИЛО        1   B   B   B   A   C   D   B   ... D   D   C  \n",
       "17  37  НОВАЧОК БОГДАН       1   C   C   C   D   C   C   B   ... D   C   C  \n",
       "18  38  ХОЛІЧЕВА ЄЛІЗАВЕТА   1   C   B   B   A   C   B   A   ... B   B   C  \n",
       "19  41  ВОЙТЮК НАЗАРІЙ       1   C   C   B   C   C   A   D   ... A   C   B  \n",
       "20  42  КОТЮК БОГДАН         1   C   C   D   A   C   C   B   ... C   C   C  \n",
       "21  44  НОВАК ДАРІЯ          1   B   C   D   D   C   C   D   ... B   C   B  \n",
       "22  46  ГУЛЮК СТАНІСЛАВ      1   A   D   D   C   C   B   C   ... C   C   B  \n",
       "23  49  ЛІЗАК ДАНИЇЛ         1   B   C   C   A   D   C   D   ... D   D   C  \n",
       "24  50  ГОМОН ХРИСТИНА       1   C   B   A   B   D   A   A   ... C   B   C  \n",
       "25  54  КЛИМЕНКО АНАСТАСІЯ   1   C   B   B   C   D   C   A   ... D   D   C  \n",
       "26  55  ВОРОБЕЙ ЮРІЙ         1   X   C   B   A   C   X   B   ... D   C   C  \n",
       "27  57  РИБАЛКІН ОЛЕКСІЙ     1   B   C   A   A   C   D   B   ... C   C   A  \n",
       "28  59  НЕЧИПУРУК МАРІЯ      1   C   C   B   A   D   A   A   ... D   D   C  \n",
       "29  61  ОСТАПЧУК МИКОЛА      1   C   B   B   D   B   C   A   ... D   C   D  \n",
       "30   2  ГРИЦАЮК БОГДАН       2   A   C   C   A   C   C   D   ... C   B   D  \n",
       "... ... ...                  ... ... ... ... ... ... ... ...     ... ... ...\n",
       "33   6  БОЖЕНКО АНАСТАСІЯ    2   D   B   D   A   D   D   A   ... C   B   A  \n",
       "34  12  ПУШКА РОМАН          2   C   A   D   D   C   A   A   ... C   A   B  \n",
       "35  16  МАХНІЙ АННА          2   C   D   A   A   C   C   B   ... C   B   D  \n",
       "36  17  ВАСЕЛЕНКО АНДРІЙ     2   B   C   A   A   B   A   D   ... C   B   D  \n",
       "37  18  ІВАСЮК ДЕНИС         2   D   C   B   D   D   B   A   ... C   A   D  \n",
       "38  19  САПРИКІН ІВАН        2   B   A   A   B   D   A   B   ... C   B   D  \n",
       "39  20  САДОВИЧ АМІНА        2   A   D   A   C   C   C   D   ... B   B   D  \n",
       "40  21  БЕНЕДИК ОЛЕКСАНДР    2   B   D   A   A   B   D   C   ... C   B   A  \n",
       "41  22  КИРИЧУК ОЛЕКСІЙ      2   C   B   C   B   B   A   C   ... D   A   A  \n",
       "42  26  СОБОЛЮК НАЗАРІЙ      2   C   B   D   A   C   C   B   ... C   B   D  \n",
       "43  27  МАРИНІН ДАНИЛ        2   A   C   C   D   B   C   A   ... C   C   D  \n",
       "44  28  КУДЕРЧУК ВЛАДИСЛАВ   2   D   D   B   A   B   D   B   ... C   A   D  \n",
       "45  29  ФОРМАНЮК ДМИТРО      2   A   C   A   D   C   C   D   ... C   C   D  \n",
       "46  31  ЛЕВИЦЬКИЙ ВЛАДИСЛАВ  2   B   B   D   B   C   C   B   ... C   B   A  \n",
       "47  32  НІКІЧУК РОМАН        2   B   B   C   D   A   B   A   ... C   A   A  \n",
       "48  33  ШИШГАЛЬСТКИЙ ДАВИД   2   D   B   D   B   C   D   B   ... C   A   A  \n",
       "49  34  МАТЯК ДЕНИС          2   B   C   C   A   D   A   C   ... A   D   D  \n",
       "50  39  КУТАС КІРА           2   D   B   B   D   D   B   A   ... C   B   D  \n",
       "51  40  СЕМЕНЧУК ДЕНИС       2   B   C   A   A   C   D   B   ... C   A   A  \n",
       "52  43  КУРИШКО Д.           2   B   D   D   A   D   C   A   ... C   B   A  \n",
       "53  45  ПРОЦЮК ЯРОСЛАВ       2   B   C   C   D   C   D   C   ... C   A   D  \n",
       "54  47  МАЗУРОК АННА         2   B   B   B   A   C   C   A   ... D   C   A  \n",
       "55  48  ЧЕЧОТКА АНДРІЙ       2   A   D   B   D   B   B   A   ... C   A   A  \n",
       "56  51  КОЗИЧЕН ВЛАДИСЛАВ    2   B   D   B   A   B   A   C   ... C   B   A  \n",
       "57  52  ЙОЙНА                2   B   C   C   B   A   C   C   ... A   C   C  \n",
       "58  53  ДОВЖЕНКО ДМИТРО      2   A   B   D   A   C   D   A   ... C   A   A  \n",
       "59  56  САВЕНКО ЛІЛІЯ        2   A   C   B   B   C   D   B   ... D   B   D  \n",
       "60  58  СТУГА ЕДУАРД         2   C   C   B   A   B   B   A   ... C   D   D  \n",
       "61  60  ОМУФРІЄНКО ВЛАДИСЛАВ 2   B   B   B   A   B   D   C   ... C   A   D  \n",
       "62  62  БАШМАКОВ БОГДАН      2   D   B   D   A   B   B   C   ... C   C   A  \n",
       "    Q14 Q15 Q16 Q17 Q18 Q19 Q20\n",
       "1   B   C   A   B   D   A   B  \n",
       "2   A   B   A   D   D   B   A  \n",
       "3   B   C   B   B   A   A   B  \n",
       "4   B   B   A   C   D   A   B  \n",
       "5   A   B   X   X   X   X   X  \n",
       "6   C   B   B   A   C   C   B  \n",
       "7   D   A   B   B   D   A   A  \n",
       "8   C   B   A   C   D   C   A  \n",
       "9   A   C   A   C   D   A   B  \n",
       "10  B   C   D   D   A   A   A  \n",
       "11  B   B   C   A   B   C   B  \n",
       "12  B   A   B   C   C   A   B  \n",
       "13  B   B   C   D   D   B   B  \n",
       "14  C   B   B   B   D   A   D  \n",
       "15  C   B   D   B   C   C   D  \n",
       "16  C   B   B   D   D   C   D  \n",
       "17  A   B   A   B   D   B   B  \n",
       "18  A   A   B   B   D   C   B  \n",
       "19  C   D   D   B   B   A   B  \n",
       "20  C   B   D   B   A   C   B  \n",
       "21  D   B   C   D   D   B   D  \n",
       "22  A   B   A   C   D   A   B  \n",
       "23  B   C   B   B   A   A   A  \n",
       "24  A   D   D   A   D   A   A  \n",
       "25  A   B   B   B   D   A   A  \n",
       "26  B   C   B   X   X   X   A  \n",
       "27  B   C   C   A   D   A   B  \n",
       "28  B   C   C   D   A   D   D  \n",
       "29  A   B   A   C   B   D   A  \n",
       "30  B   B   A   B   B   C   B  \n",
       "... ... ... ... ... ... ... ...\n",
       "33  D   B   A   C   D   A   C  \n",
       "34  B   C   B   C   C   C   C  \n",
       "35  D   B   D   A   C   A   A  \n",
       "36  C   B   C   A   A   D   B  \n",
       "37  B   C   D   C   D   C   A  \n",
       "38  C   A   B   C   B   D   C  \n",
       "39  C   B   B   D   D   C   D  \n",
       "40  D   B   C   D   C   C   A  \n",
       "41  D   A   B   A   D   B   B  \n",
       "42  D   D   D   C   A   A   C  \n",
       "43  B   C   B   C   C   A   C  \n",
       "44  D   C   D   A   D   D   C  \n",
       "45  B   C   C   C   C   A   B  \n",
       "46  D   D   D   C   A   A   C  \n",
       "47  B   C   A   D   C   B   C  \n",
       "48  D   D   D   C   A   A   D  \n",
       "49  D   B   C   C   B   A   D  \n",
       "50  D   C   B   A   A   C   D  \n",
       "51  D   C   A   B   A   A   C  \n",
       "52  D   D   A   C   C   A   C  \n",
       "53  D   C   C   B   A   D   C  \n",
       "54  D   D   D   A   A   A   C  \n",
       "55  B   B   C   D   B   C   C  \n",
       "56  D   D   D   C   B   B   B  \n",
       "57  C   C   B   C   A   A   C  \n",
       "58  D   A   D   B   A   D   C  \n",
       "59  B   D   C   X   A   B   D  \n",
       "60  D   B   D   D   C   C   D  \n",
       "61  A   D   B   B   A   C   C  \n",
       "62  D   B   A   C   C   D   D  "
      ]
     },
     "metadata": {},
     "output_type": "display_data"
    }
   ],
   "source": [
    "test_data"
   ]
  },
  {
   "cell_type": "code",
   "execution_count": null,
   "id": "526c74d5-fa75-41b8-af26-bdee0a05a287",
   "metadata": {},
   "outputs": [],
   "source": []
  }
 ],
 "metadata": {
  "kernelspec": {
   "display_name": "R",
   "language": "R",
   "name": "ir"
  },
  "language_info": {
   "codemirror_mode": "r",
   "file_extension": ".r",
   "mimetype": "text/x-r-source",
   "name": "R",
   "pygments_lexer": "r",
   "version": "4.1.3"
  }
 },
 "nbformat": 4,
 "nbformat_minor": 5
}

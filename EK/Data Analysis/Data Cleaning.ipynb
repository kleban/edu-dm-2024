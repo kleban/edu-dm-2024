{
 "cells": [
  {
   "cell_type": "markdown",
   "id": "6f06c8f4-5784-4587-962f-c0c90a2b5494",
   "metadata": {},
   "source": [
    "# Очистка даних"
   ]
  },
  {
   "cell_type": "markdown",
   "id": "2c95ca7b-572b-4ff4-8f56-c200799b0336",
   "metadata": {},
   "source": [
    "## 1. Неіменовані дані"
   ]
  },
  {
   "cell_type": "code",
   "execution_count": 7,
   "id": "2bda4576-cdc8-4573-8516-06c68bd00bf5",
   "metadata": {},
   "outputs": [],
   "source": [
    "data <- read.csv(\"https://raw.githubusercontent.com/kleban/r-book-published/main/datasets/untitled.csv\")"
   ]
  },
  {
   "cell_type": "code",
   "execution_count": 6,
   "id": "529ff470-1bbd-4f4a-b72b-dbfa726e834f",
   "metadata": {},
   "outputs": [
    {
     "data": {
      "text/html": [
       "<table class=\"dataframe\">\n",
       "<caption>A data.frame: 5 x 4</caption>\n",
       "<thead>\n",
       "\t<tr><th scope=col>X23</th><th scope=col>X185</th><th scope=col>X85.7</th><th scope=col>Male</th></tr>\n",
       "\t<tr><th scope=col>&lt;int&gt;</th><th scope=col>&lt;chr&gt;</th><th scope=col>&lt;dbl&gt;</th><th scope=col>&lt;chr&gt;</th></tr>\n",
       "</thead>\n",
       "<tbody>\n",
       "\t<tr><td>41</td><td>175 </td><td>68.3</td><td>M               </td></tr>\n",
       "\t<tr><td>11</td><td>142*</td><td>55.4</td><td>Female          </td></tr>\n",
       "\t<tr><td>12</td><td>NA  </td><td>48.2</td><td>Man             </td></tr>\n",
       "\t<tr><td>54</td><td>171 </td><td>  NA</td><td>Looks like a man</td></tr>\n",
       "\t<tr><td>32</td><td>168 </td><td>78.0</td><td>F               </td></tr>\n",
       "</tbody>\n",
       "</table>\n"
      ],
      "text/latex": [
       "A data.frame: 5 x 4\n",
       "\\begin{tabular}{llll}\n",
       " X23 & X185 & X85.7 & Male\\\\\n",
       " <int> & <chr> & <dbl> & <chr>\\\\\n",
       "\\hline\n",
       "\t 41 & 175  & 68.3 & M               \\\\\n",
       "\t 11 & 142* & 55.4 & Female          \\\\\n",
       "\t 12 & NA   & 48.2 & Man             \\\\\n",
       "\t 54 & 171  &   NA & Looks like a man\\\\\n",
       "\t 32 & 168  & 78.0 & F               \\\\\n",
       "\\end{tabular}\n"
      ],
      "text/markdown": [
       "\n",
       "A data.frame: 5 x 4\n",
       "\n",
       "| X23 &lt;int&gt; | X185 &lt;chr&gt; | X85.7 &lt;dbl&gt; | Male &lt;chr&gt; |\n",
       "|---|---|---|---|\n",
       "| 41 | 175  | 68.3 | M                |\n",
       "| 11 | 142* | 55.4 | Female           |\n",
       "| 12 | NA   | 48.2 | Man              |\n",
       "| 54 | 171  |   NA | Looks like a man |\n",
       "| 32 | 168  | 78.0 | F                |\n",
       "\n"
      ],
      "text/plain": [
       "  X23 X185 X85.7 Male            \n",
       "1 41  175  68.3  M               \n",
       "2 11  142* 55.4  Female          \n",
       "3 12  NA   48.2  Man             \n",
       "4 54  171    NA  Looks like a man\n",
       "5 32  168  78.0  F               "
      ]
     },
     "metadata": {},
     "output_type": "display_data"
    }
   ],
   "source": [
    "data"
   ]
  },
  {
   "cell_type": "markdown",
   "id": "0073fe54-b2ae-49ef-9534-3324e923bf2c",
   "metadata": {},
   "source": [
    "```\n",
    "23,185,85.7,Male\n",
    "41,175,68.3,M\n",
    "11,142*,55.4,Female\n",
    "12,NA,48.2,Man\n",
    "54,171,NA,Looks like a man\n",
    "32,168,78,F\n",
    "```"
   ]
  },
  {
   "cell_type": "code",
   "execution_count": 9,
   "id": "5ba7c6d6-11a9-465c-864c-9bed0eaa8d6d",
   "metadata": {},
   "outputs": [
    {
     "data": {
      "text/html": [
       "<table class=\"dataframe\">\n",
       "<caption>A data.frame: 6 x 4</caption>\n",
       "<thead>\n",
       "\t<tr><th scope=col>V1</th><th scope=col>V2</th><th scope=col>V3</th><th scope=col>V4</th></tr>\n",
       "\t<tr><th scope=col>&lt;int&gt;</th><th scope=col>&lt;chr&gt;</th><th scope=col>&lt;dbl&gt;</th><th scope=col>&lt;chr&gt;</th></tr>\n",
       "</thead>\n",
       "<tbody>\n",
       "\t<tr><td>23</td><td>185 </td><td>85.7</td><td>Male            </td></tr>\n",
       "\t<tr><td>41</td><td>175 </td><td>68.3</td><td>M               </td></tr>\n",
       "\t<tr><td>11</td><td>142*</td><td>55.4</td><td>Female          </td></tr>\n",
       "\t<tr><td>12</td><td>NA  </td><td>48.2</td><td>Man             </td></tr>\n",
       "\t<tr><td>54</td><td>171 </td><td>  NA</td><td>Looks like a man</td></tr>\n",
       "\t<tr><td>32</td><td>168 </td><td>78.0</td><td>F               </td></tr>\n",
       "</tbody>\n",
       "</table>\n"
      ],
      "text/latex": [
       "A data.frame: 6 x 4\n",
       "\\begin{tabular}{llll}\n",
       " V1 & V2 & V3 & V4\\\\\n",
       " <int> & <chr> & <dbl> & <chr>\\\\\n",
       "\\hline\n",
       "\t 23 & 185  & 85.7 & Male            \\\\\n",
       "\t 41 & 175  & 68.3 & M               \\\\\n",
       "\t 11 & 142* & 55.4 & Female          \\\\\n",
       "\t 12 & NA   & 48.2 & Man             \\\\\n",
       "\t 54 & 171  &   NA & Looks like a man\\\\\n",
       "\t 32 & 168  & 78.0 & F               \\\\\n",
       "\\end{tabular}\n"
      ],
      "text/markdown": [
       "\n",
       "A data.frame: 6 x 4\n",
       "\n",
       "| V1 &lt;int&gt; | V2 &lt;chr&gt; | V3 &lt;dbl&gt; | V4 &lt;chr&gt; |\n",
       "|---|---|---|---|\n",
       "| 23 | 185  | 85.7 | Male             |\n",
       "| 41 | 175  | 68.3 | M                |\n",
       "| 11 | 142* | 55.4 | Female           |\n",
       "| 12 | NA   | 48.2 | Man              |\n",
       "| 54 | 171  |   NA | Looks like a man |\n",
       "| 32 | 168  | 78.0 | F                |\n",
       "\n"
      ],
      "text/plain": [
       "  V1 V2   V3   V4              \n",
       "1 23 185  85.7 Male            \n",
       "2 41 175  68.3 M               \n",
       "3 11 142* 55.4 Female          \n",
       "4 12 NA   48.2 Man             \n",
       "5 54 171    NA Looks like a man\n",
       "6 32 168  78.0 F               "
      ]
     },
     "metadata": {},
     "output_type": "display_data"
    }
   ],
   "source": [
    "data <- read.csv(\"https://raw.githubusercontent.com/kleban/r-book-published/main/datasets/untitled.csv\", header = F)\n",
    "data"
   ]
  },
  {
   "cell_type": "code",
   "execution_count": 10,
   "id": "94d54a25-c539-4d18-89ef-d6867d2414c7",
   "metadata": {},
   "outputs": [
    {
     "data": {
      "text/html": [
       "<table class=\"dataframe\">\n",
       "<caption>A data.frame: 6 x 4</caption>\n",
       "<thead>\n",
       "\t<tr><th scope=col>Age</th><th scope=col>Height</th><th scope=col>Weight</th><th scope=col>Gender</th></tr>\n",
       "\t<tr><th scope=col>&lt;int&gt;</th><th scope=col>&lt;chr&gt;</th><th scope=col>&lt;dbl&gt;</th><th scope=col>&lt;chr&gt;</th></tr>\n",
       "</thead>\n",
       "<tbody>\n",
       "\t<tr><td>23</td><td>185 </td><td>85.7</td><td>Male            </td></tr>\n",
       "\t<tr><td>41</td><td>175 </td><td>68.3</td><td>M               </td></tr>\n",
       "\t<tr><td>11</td><td>142*</td><td>55.4</td><td>Female          </td></tr>\n",
       "\t<tr><td>12</td><td>NA  </td><td>48.2</td><td>Man             </td></tr>\n",
       "\t<tr><td>54</td><td>171 </td><td>  NA</td><td>Looks like a man</td></tr>\n",
       "\t<tr><td>32</td><td>168 </td><td>78.0</td><td>F               </td></tr>\n",
       "</tbody>\n",
       "</table>\n"
      ],
      "text/latex": [
       "A data.frame: 6 x 4\n",
       "\\begin{tabular}{llll}\n",
       " Age & Height & Weight & Gender\\\\\n",
       " <int> & <chr> & <dbl> & <chr>\\\\\n",
       "\\hline\n",
       "\t 23 & 185  & 85.7 & Male            \\\\\n",
       "\t 41 & 175  & 68.3 & M               \\\\\n",
       "\t 11 & 142* & 55.4 & Female          \\\\\n",
       "\t 12 & NA   & 48.2 & Man             \\\\\n",
       "\t 54 & 171  &   NA & Looks like a man\\\\\n",
       "\t 32 & 168  & 78.0 & F               \\\\\n",
       "\\end{tabular}\n"
      ],
      "text/markdown": [
       "\n",
       "A data.frame: 6 x 4\n",
       "\n",
       "| Age &lt;int&gt; | Height &lt;chr&gt; | Weight &lt;dbl&gt; | Gender &lt;chr&gt; |\n",
       "|---|---|---|---|\n",
       "| 23 | 185  | 85.7 | Male             |\n",
       "| 41 | 175  | 68.3 | M                |\n",
       "| 11 | 142* | 55.4 | Female           |\n",
       "| 12 | NA   | 48.2 | Man              |\n",
       "| 54 | 171  |   NA | Looks like a man |\n",
       "| 32 | 168  | 78.0 | F                |\n",
       "\n"
      ],
      "text/plain": [
       "  Age Height Weight Gender          \n",
       "1 23  185    85.7   Male            \n",
       "2 41  175    68.3   M               \n",
       "3 11  142*   55.4   Female          \n",
       "4 12  NA     48.2   Man             \n",
       "5 54  171      NA   Looks like a man\n",
       "6 32  168    78.0   F               "
      ]
     },
     "metadata": {},
     "output_type": "display_data"
    }
   ],
   "source": [
    "data <- read.csv(\"https://raw.githubusercontent.com/kleban/r-book-published/main/datasets/untitled.csv\",\n",
    "                 header = F,\n",
    "                col.names = c(\"Age\", \"Height\", \"Weight\", \"Gender\"))\n",
    "data"
   ]
  },
  {
   "cell_type": "code",
   "execution_count": 25,
   "id": "82fcc037-365d-49ae-8c78-33a3a1609c91",
   "metadata": {},
   "outputs": [],
   "source": [
    "colnames(data) <- c(\"A\", \"H\", \"W\", \"G\")"
   ]
  },
  {
   "cell_type": "code",
   "execution_count": 16,
   "id": "f91085c9-df7f-4edf-908c-629dcf42bdd0",
   "metadata": {},
   "outputs": [
    {
     "data": {
      "text/html": [
       "<table class=\"dataframe\">\n",
       "<caption>A data.frame: 6 x 4</caption>\n",
       "<thead>\n",
       "\t<tr><th scope=col>A</th><th scope=col>H</th><th scope=col>W</th><th scope=col>G</th></tr>\n",
       "\t<tr><th scope=col>&lt;int&gt;</th><th scope=col>&lt;chr&gt;</th><th scope=col>&lt;dbl&gt;</th><th scope=col>&lt;chr&gt;</th></tr>\n",
       "</thead>\n",
       "<tbody>\n",
       "\t<tr><td>23</td><td>185 </td><td>85.7</td><td>Male            </td></tr>\n",
       "\t<tr><td>41</td><td>175 </td><td>68.3</td><td>M               </td></tr>\n",
       "\t<tr><td>11</td><td>142*</td><td>55.4</td><td>Female          </td></tr>\n",
       "\t<tr><td>12</td><td>NA  </td><td>48.2</td><td>Man             </td></tr>\n",
       "\t<tr><td>54</td><td>171 </td><td>  NA</td><td>Looks like a man</td></tr>\n",
       "\t<tr><td>32</td><td>168 </td><td>78.0</td><td>F               </td></tr>\n",
       "</tbody>\n",
       "</table>\n"
      ],
      "text/latex": [
       "A data.frame: 6 x 4\n",
       "\\begin{tabular}{llll}\n",
       " A & H & W & G\\\\\n",
       " <int> & <chr> & <dbl> & <chr>\\\\\n",
       "\\hline\n",
       "\t 23 & 185  & 85.7 & Male            \\\\\n",
       "\t 41 & 175  & 68.3 & M               \\\\\n",
       "\t 11 & 142* & 55.4 & Female          \\\\\n",
       "\t 12 & NA   & 48.2 & Man             \\\\\n",
       "\t 54 & 171  &   NA & Looks like a man\\\\\n",
       "\t 32 & 168  & 78.0 & F               \\\\\n",
       "\\end{tabular}\n"
      ],
      "text/markdown": [
       "\n",
       "A data.frame: 6 x 4\n",
       "\n",
       "| A &lt;int&gt; | H &lt;chr&gt; | W &lt;dbl&gt; | G &lt;chr&gt; |\n",
       "|---|---|---|---|\n",
       "| 23 | 185  | 85.7 | Male             |\n",
       "| 41 | 175  | 68.3 | M                |\n",
       "| 11 | 142* | 55.4 | Female           |\n",
       "| 12 | NA   | 48.2 | Man              |\n",
       "| 54 | 171  |   NA | Looks like a man |\n",
       "| 32 | 168  | 78.0 | F                |\n",
       "\n"
      ],
      "text/plain": [
       "  A  H    W    G               \n",
       "1 23 185  85.7 Male            \n",
       "2 41 175  68.3 M               \n",
       "3 11 142* 55.4 Female          \n",
       "4 12 NA   48.2 Man             \n",
       "5 54 171    NA Looks like a man\n",
       "6 32 168  78.0 F               "
      ]
     },
     "metadata": {},
     "output_type": "display_data"
    }
   ],
   "source": [
    "data"
   ]
  },
  {
   "cell_type": "code",
   "execution_count": 18,
   "id": "1b9a1e9f-18d0-45db-b11e-22e43be7ceba",
   "metadata": {},
   "outputs": [],
   "source": [
    "colnames(data)[2] <- \"HEIGHT\""
   ]
  },
  {
   "cell_type": "code",
   "execution_count": 20,
   "id": "157cc3dd-52e0-4ed8-94e9-08f97dfcb5de",
   "metadata": {},
   "outputs": [
    {
     "data": {
      "text/html": [
       "<table class=\"dataframe\">\n",
       "<caption>A data.frame: 6 x 4</caption>\n",
       "<thead>\n",
       "\t<tr><th scope=col>A</th><th scope=col>HEIGHT</th><th scope=col>W</th><th scope=col>G</th></tr>\n",
       "\t<tr><th scope=col>&lt;int&gt;</th><th scope=col>&lt;chr&gt;</th><th scope=col>&lt;dbl&gt;</th><th scope=col>&lt;chr&gt;</th></tr>\n",
       "</thead>\n",
       "<tbody>\n",
       "\t<tr><td>23</td><td>185 </td><td>85.7</td><td>Male            </td></tr>\n",
       "\t<tr><td>41</td><td>175 </td><td>68.3</td><td>M               </td></tr>\n",
       "\t<tr><td>11</td><td>142*</td><td>55.4</td><td>Female          </td></tr>\n",
       "\t<tr><td>12</td><td>NA  </td><td>48.2</td><td>Man             </td></tr>\n",
       "\t<tr><td>54</td><td>171 </td><td>  NA</td><td>Looks like a man</td></tr>\n",
       "\t<tr><td>32</td><td>168 </td><td>78.0</td><td>F               </td></tr>\n",
       "</tbody>\n",
       "</table>\n"
      ],
      "text/latex": [
       "A data.frame: 6 x 4\n",
       "\\begin{tabular}{llll}\n",
       " A & HEIGHT & W & G\\\\\n",
       " <int> & <chr> & <dbl> & <chr>\\\\\n",
       "\\hline\n",
       "\t 23 & 185  & 85.7 & Male            \\\\\n",
       "\t 41 & 175  & 68.3 & M               \\\\\n",
       "\t 11 & 142* & 55.4 & Female          \\\\\n",
       "\t 12 & NA   & 48.2 & Man             \\\\\n",
       "\t 54 & 171  &   NA & Looks like a man\\\\\n",
       "\t 32 & 168  & 78.0 & F               \\\\\n",
       "\\end{tabular}\n"
      ],
      "text/markdown": [
       "\n",
       "A data.frame: 6 x 4\n",
       "\n",
       "| A &lt;int&gt; | HEIGHT &lt;chr&gt; | W &lt;dbl&gt; | G &lt;chr&gt; |\n",
       "|---|---|---|---|\n",
       "| 23 | 185  | 85.7 | Male             |\n",
       "| 41 | 175  | 68.3 | M                |\n",
       "| 11 | 142* | 55.4 | Female           |\n",
       "| 12 | NA   | 48.2 | Man              |\n",
       "| 54 | 171  |   NA | Looks like a man |\n",
       "| 32 | 168  | 78.0 | F                |\n",
       "\n"
      ],
      "text/plain": [
       "  A  HEIGHT W    G               \n",
       "1 23 185    85.7 Male            \n",
       "2 41 175    68.3 M               \n",
       "3 11 142*   55.4 Female          \n",
       "4 12 NA     48.2 Man             \n",
       "5 54 171      NA Looks like a man\n",
       "6 32 168    78.0 F               "
      ]
     },
     "metadata": {},
     "output_type": "display_data"
    }
   ],
   "source": [
    "data"
   ]
  },
  {
   "cell_type": "code",
   "execution_count": 22,
   "id": "268ed81b-1306-4da7-96c7-ec72e9542023",
   "metadata": {},
   "outputs": [],
   "source": [
    "library(dplyr)"
   ]
  },
  {
   "cell_type": "code",
   "execution_count": 26,
   "id": "b7af0ce6-0b10-4bf6-989e-0064f586f697",
   "metadata": {},
   "outputs": [
    {
     "data": {
      "text/html": [
       "<table class=\"dataframe\">\n",
       "<caption>A data.frame: 6 x 4</caption>\n",
       "<thead>\n",
       "\t<tr><th scope=col>AGE</th><th scope=col>HEIGHT</th><th scope=col>WEIGHT</th><th scope=col>GENDER</th></tr>\n",
       "\t<tr><th scope=col>&lt;int&gt;</th><th scope=col>&lt;chr&gt;</th><th scope=col>&lt;dbl&gt;</th><th scope=col>&lt;chr&gt;</th></tr>\n",
       "</thead>\n",
       "<tbody>\n",
       "\t<tr><td>23</td><td>185 </td><td>85.7</td><td>Male            </td></tr>\n",
       "\t<tr><td>41</td><td>175 </td><td>68.3</td><td>M               </td></tr>\n",
       "\t<tr><td>11</td><td>142*</td><td>55.4</td><td>Female          </td></tr>\n",
       "\t<tr><td>12</td><td>NA  </td><td>48.2</td><td>Man             </td></tr>\n",
       "\t<tr><td>54</td><td>171 </td><td>  NA</td><td>Looks like a man</td></tr>\n",
       "\t<tr><td>32</td><td>168 </td><td>78.0</td><td>F               </td></tr>\n",
       "</tbody>\n",
       "</table>\n"
      ],
      "text/latex": [
       "A data.frame: 6 x 4\n",
       "\\begin{tabular}{llll}\n",
       " AGE & HEIGHT & WEIGHT & GENDER\\\\\n",
       " <int> & <chr> & <dbl> & <chr>\\\\\n",
       "\\hline\n",
       "\t 23 & 185  & 85.7 & Male            \\\\\n",
       "\t 41 & 175  & 68.3 & M               \\\\\n",
       "\t 11 & 142* & 55.4 & Female          \\\\\n",
       "\t 12 & NA   & 48.2 & Man             \\\\\n",
       "\t 54 & 171  &   NA & Looks like a man\\\\\n",
       "\t 32 & 168  & 78.0 & F               \\\\\n",
       "\\end{tabular}\n"
      ],
      "text/markdown": [
       "\n",
       "A data.frame: 6 x 4\n",
       "\n",
       "| AGE &lt;int&gt; | HEIGHT &lt;chr&gt; | WEIGHT &lt;dbl&gt; | GENDER &lt;chr&gt; |\n",
       "|---|---|---|---|\n",
       "| 23 | 185  | 85.7 | Male             |\n",
       "| 41 | 175  | 68.3 | M                |\n",
       "| 11 | 142* | 55.4 | Female           |\n",
       "| 12 | NA   | 48.2 | Man              |\n",
       "| 54 | 171  |   NA | Looks like a man |\n",
       "| 32 | 168  | 78.0 | F                |\n",
       "\n"
      ],
      "text/plain": [
       "  AGE HEIGHT WEIGHT GENDER          \n",
       "1 23  185    85.7   Male            \n",
       "2 41  175    68.3   M               \n",
       "3 11  142*   55.4   Female          \n",
       "4 12  NA     48.2   Man             \n",
       "5 54  171      NA   Looks like a man\n",
       "6 32  168    78.0   F               "
      ]
     },
     "metadata": {},
     "output_type": "display_data"
    }
   ],
   "source": [
    "data <- data |>\n",
    "    rename(AGE = A,\n",
    "          HEIGHT = H,\n",
    "          WEIGHT = W,\n",
    "          GENDER = G)\n",
    "data"
   ]
  },
  {
   "cell_type": "markdown",
   "id": "7e4eaac3-8afc-4edc-8a85-75b57b31e742",
   "metadata": {},
   "source": [
    "## Погано іменовані"
   ]
  },
  {
   "cell_type": "code",
   "execution_count": 30,
   "id": "3e2634c7-6e5d-46d1-a81c-c079fa6b5cbd",
   "metadata": {},
   "outputs": [
    {
     "data": {
      "text/html": [
       "<table class=\"dataframe\">\n",
       "<caption>A data.frame: 13 x 5</caption>\n",
       "<thead>\n",
       "\t<tr><th scope=col>Person.Age</th><th scope=col>Person__Height</th><th scope=col>person.Weight</th><th scope=col>Person.Gender</th><th scope=col>empty</th></tr>\n",
       "\t<tr><th scope=col>&lt;int&gt;</th><th scope=col>&lt;chr&gt;</th><th scope=col>&lt;dbl&gt;</th><th scope=col>&lt;chr&gt;</th><th scope=col>&lt;lgl&gt;</th></tr>\n",
       "</thead>\n",
       "<tbody>\n",
       "\t<tr><td>23</td><td>185 </td><td>  NA</td><td>Male  </td><td>NA</td></tr>\n",
       "\t<tr><td>41</td><td>175 </td><td>68.3</td><td>   M  </td><td>NA</td></tr>\n",
       "\t<tr><td>11</td><td>142*</td><td>55.4</td><td>Female</td><td>NA</td></tr>\n",
       "\t<tr><td>12</td><td>NA  </td><td>48.2</td><td>Man   </td><td>NA</td></tr>\n",
       "\t<tr><td>54</td><td>191 </td><td>  NA</td><td>female</td><td>NA</td></tr>\n",
       "\t<tr><td>32</td><td>168 </td><td>78.0</td><td>F     </td><td>NA</td></tr>\n",
       "\t<tr><td>22</td><td>NA  </td><td>54.0</td><td>male. </td><td>NA</td></tr>\n",
       "\t<tr><td>21</td><td>165 </td><td>  NA</td><td>m     </td><td>NA</td></tr>\n",
       "\t<tr><td>14</td><td>NA  </td><td>90.2</td><td>Man   </td><td>NA</td></tr>\n",
       "\t<tr><td>51</td><td>250 </td><td>  NA</td><td>female</td><td>NA</td></tr>\n",
       "\t<tr><td>41</td><td>20  </td><td>81.0</td><td>F     </td><td>NA</td></tr>\n",
       "\t<tr><td>66</td><td>NA  </td><td>59.0</td><td>male. </td><td>NA</td></tr>\n",
       "\t<tr><td>71</td><td>171 </td><td>  NA</td><td>m     </td><td>NA</td></tr>\n",
       "</tbody>\n",
       "</table>\n"
      ],
      "text/latex": [
       "A data.frame: 13 x 5\n",
       "\\begin{tabular}{lllll}\n",
       " Person.Age & Person\\_\\_Height & person.Weight & Person.Gender & empty\\\\\n",
       " <int> & <chr> & <dbl> & <chr> & <lgl>\\\\\n",
       "\\hline\n",
       "\t 23 & 185  &   NA & Male   & NA\\\\\n",
       "\t 41 & 175  & 68.3 &    M   & NA\\\\\n",
       "\t 11 & 142* & 55.4 & Female & NA\\\\\n",
       "\t 12 & NA   & 48.2 & Man    & NA\\\\\n",
       "\t 54 & 191  &   NA & female & NA\\\\\n",
       "\t 32 & 168  & 78.0 & F      & NA\\\\\n",
       "\t 22 & NA   & 54.0 & male.  & NA\\\\\n",
       "\t 21 & 165  &   NA & m      & NA\\\\\n",
       "\t 14 & NA   & 90.2 & Man    & NA\\\\\n",
       "\t 51 & 250  &   NA & female & NA\\\\\n",
       "\t 41 & 20   & 81.0 & F      & NA\\\\\n",
       "\t 66 & NA   & 59.0 & male.  & NA\\\\\n",
       "\t 71 & 171  &   NA & m      & NA\\\\\n",
       "\\end{tabular}\n"
      ],
      "text/markdown": [
       "\n",
       "A data.frame: 13 x 5\n",
       "\n",
       "| Person.Age &lt;int&gt; | Person__Height &lt;chr&gt; | person.Weight &lt;dbl&gt; | Person.Gender &lt;chr&gt; | empty &lt;lgl&gt; |\n",
       "|---|---|---|---|---|\n",
       "| 23 | 185  |   NA | Male   | NA |\n",
       "| 41 | 175  | 68.3 |    M   | NA |\n",
       "| 11 | 142* | 55.4 | Female | NA |\n",
       "| 12 | NA   | 48.2 | Man    | NA |\n",
       "| 54 | 191  |   NA | female | NA |\n",
       "| 32 | 168  | 78.0 | F      | NA |\n",
       "| 22 | NA   | 54.0 | male.  | NA |\n",
       "| 21 | 165  |   NA | m      | NA |\n",
       "| 14 | NA   | 90.2 | Man    | NA |\n",
       "| 51 | 250  |   NA | female | NA |\n",
       "| 41 | 20   | 81.0 | F      | NA |\n",
       "| 66 | NA   | 59.0 | male.  | NA |\n",
       "| 71 | 171  |   NA | m      | NA |\n",
       "\n"
      ],
      "text/plain": [
       "   Person.Age Person__Height person.Weight Person.Gender empty\n",
       "1  23         185              NA          Male          NA   \n",
       "2  41         175            68.3             M          NA   \n",
       "3  11         142*           55.4          Female        NA   \n",
       "4  12         NA             48.2          Man           NA   \n",
       "5  54         191              NA          female        NA   \n",
       "6  32         168            78.0          F             NA   \n",
       "7  22         NA             54.0          male.         NA   \n",
       "8  21         165              NA          m             NA   \n",
       "9  14         NA             90.2          Man           NA   \n",
       "10 51         250              NA          female        NA   \n",
       "11 41         20             81.0          F             NA   \n",
       "12 66         NA             59.0          male.         NA   \n",
       "13 71         171              NA          m             NA   "
      ]
     },
     "metadata": {},
     "output_type": "display_data"
    }
   ],
   "source": [
    "data <- read.csv(\"https://raw.githubusercontent.com/kleban/r-book-published/main/datasets/badtitled.csv\")\n",
    "data"
   ]
  },
  {
   "cell_type": "code",
   "execution_count": 32,
   "id": "104e97ea-31bd-4231-ba6e-8a398c803d72",
   "metadata": {},
   "outputs": [],
   "source": [
    "#install.packages(\"janitor\")"
   ]
  },
  {
   "cell_type": "code",
   "execution_count": 35,
   "id": "bbf8bf08-c8f7-4aac-981d-6c8da6dc16ba",
   "metadata": {},
   "outputs": [],
   "source": [
    "library(janitor)"
   ]
  },
  {
   "cell_type": "code",
   "execution_count": 37,
   "id": "8aa1cc4b-832e-4e17-ad05-064436d0ba96",
   "metadata": {},
   "outputs": [
    {
     "data": {
      "text/html": [
       "<style>\n",
       ".list-inline {list-style: none; margin:0; padding: 0}\n",
       ".list-inline>li {display: inline-block}\n",
       ".list-inline>li:not(:last-child)::after {content: \"\\00b7\"; padding: 0 .5ex}\n",
       "</style>\n",
       "<ol class=list-inline><li>'Person.Age'</li><li>'Person__Height'</li><li>'person.Weight'</li><li>'Person.Gender'</li><li>'empty'</li></ol>\n"
      ],
      "text/latex": [
       "\\begin{enumerate*}\n",
       "\\item 'Person.Age'\n",
       "\\item 'Person\\_\\_Height'\n",
       "\\item 'person.Weight'\n",
       "\\item 'Person.Gender'\n",
       "\\item 'empty'\n",
       "\\end{enumerate*}\n"
      ],
      "text/markdown": [
       "1. 'Person.Age'\n",
       "2. 'Person__Height'\n",
       "3. 'person.Weight'\n",
       "4. 'Person.Gender'\n",
       "5. 'empty'\n",
       "\n",
       "\n"
      ],
      "text/plain": [
       "[1] \"Person.Age\"     \"Person__Height\" \"person.Weight\"  \"Person.Gender\" \n",
       "[5] \"empty\"         "
      ]
     },
     "metadata": {},
     "output_type": "display_data"
    }
   ],
   "source": [
    "colnames(data)"
   ]
  },
  {
   "cell_type": "code",
   "execution_count": 39,
   "id": "d7fe1416-8265-4ff9-92fa-00684f04f734",
   "metadata": {},
   "outputs": [
    {
     "data": {
      "text/html": [
       "<style>\n",
       ".list-inline {list-style: none; margin:0; padding: 0}\n",
       ".list-inline>li {display: inline-block}\n",
       ".list-inline>li:not(:last-child)::after {content: \"\\00b7\"; padding: 0 .5ex}\n",
       "</style>\n",
       "<ol class=list-inline><li>'person_age'</li><li>'person_height'</li><li>'person_weight'</li><li>'person_gender'</li><li>'empty'</li></ol>\n"
      ],
      "text/latex": [
       "\\begin{enumerate*}\n",
       "\\item 'person\\_age'\n",
       "\\item 'person\\_height'\n",
       "\\item 'person\\_weight'\n",
       "\\item 'person\\_gender'\n",
       "\\item 'empty'\n",
       "\\end{enumerate*}\n"
      ],
      "text/markdown": [
       "1. 'person_age'\n",
       "2. 'person_height'\n",
       "3. 'person_weight'\n",
       "4. 'person_gender'\n",
       "5. 'empty'\n",
       "\n",
       "\n"
      ],
      "text/plain": [
       "[1] \"person_age\"    \"person_height\" \"person_weight\" \"person_gender\"\n",
       "[5] \"empty\"        "
      ]
     },
     "metadata": {},
     "output_type": "display_data"
    }
   ],
   "source": [
    "clean_data <- clean_names(data)\n",
    "colnames(clean_data)"
   ]
  },
  {
   "cell_type": "code",
   "execution_count": 43,
   "id": "7e738ee3-6d10-4023-919d-9b6c4a10fe3f",
   "metadata": {},
   "outputs": [
    {
     "data": {
      "text/html": [
       "\n",
       "<table width=\"100%\" summary=\"page for clean_names {janitor}\"><tr><td>clean_names {janitor}</td><td style=\"text-align: right;\">R Documentation</td></tr></table>\n",
       "\n",
       "<h2>Cleans names of an object (usually a data.frame).</h2>\n",
       "\n",
       "<h3>Description</h3>\n",
       "\n",
       "<p>Resulting names are unique and consist only of the <code>_</code> character, numbers, and letters.\n",
       "Capitalization preferences can be specified using the <code>case</code> parameter.\n",
       "</p>\n",
       "<p>Accented characters are transliterated to ASCII.  For example, an &quot;o&quot; with a\n",
       "German umlaut over it becomes &quot;o&quot;, and the Spanish character &quot;enye&quot; becomes\n",
       "&quot;n&quot;.\n",
       "</p>\n",
       "<p>This function takes and returns a data.frame, for ease of piping with\n",
       "<code>`%&gt;%`</code>. For the underlying function that works on a character vector\n",
       "of names, see <code>make_clean_names</code>.  <code>clean_names</code> \n",
       "relies on the versatile function <code>to_any_case</code>, which \n",
       "accepts many arguments.  See that function's documentation for ideas on getting \n",
       "the most out of <code>clean_names</code>.  A few examples are included below.\n",
       "</p>\n",
       "<p>A common issue is that the micro/mu symbol is replaced by &quot;m&quot; instead of &quot;u&quot;.\n",
       "The replacement with &quot;m&quot; is more correct when doing Greek-to-ASCII\n",
       "transliteration but less correct when doing scientific data-to-ASCII\n",
       "transliteration.  A warning will be generated if the &quot;m&quot; replacement occurs.\n",
       "To replace with &quot;u&quot;, please add the argument <code>replace=janitor:::mu_to_u</code>\n",
       "which is a character vector mapping all known mu or micro Unicode code points\n",
       "(characters) to &quot;u&quot;.\n",
       "</p>\n",
       "\n",
       "\n",
       "<h3>Usage</h3>\n",
       "\n",
       "<pre>\n",
       "clean_names(dat, ...)\n",
       "\n",
       "## Default S3 method:\n",
       "clean_names(dat, ...)\n",
       "\n",
       "## S3 method for class 'sf'\n",
       "clean_names(dat, ...)\n",
       "\n",
       "## S3 method for class 'tbl_graph'\n",
       "clean_names(dat, ...)\n",
       "\n",
       "## S3 method for class 'tbl_lazy'\n",
       "clean_names(dat, ...)\n",
       "</pre>\n",
       "\n",
       "\n",
       "<h3>Arguments</h3>\n",
       "\n",
       "<table summary=\"R argblock\">\n",
       "<tr valign=\"top\"><td><code>dat</code></td>\n",
       "<td>\n",
       "<p>the input data.frame.</p>\n",
       "</td></tr>\n",
       "<tr valign=\"top\"><td><code>...</code></td>\n",
       "<td>\n",
       "\n",
       "<p>Arguments passed on to <code>make_clean_names</code>\n",
       "</p>\n",
       "\n",
       "<dl>\n",
       "<dt><code>case</code></dt><dd><p>The desired target case (default is <code>\"snake\"</code>) will be\n",
       "passed to <code>snakecase::to_any_case()</code> with the exception of &quot;old_janitor&quot;,\n",
       "which exists only to support legacy code (it preserves the behavior of\n",
       "<code>clean_names()</code> prior to addition of the &quot;case&quot; argument (janitor\n",
       "versions &lt;= 0.3.1).  &quot;old_janitor&quot; is not intended for new code. See\n",
       "<code>to_any_case</code> for a wide variety of supported cases,\n",
       "including &quot;sentence&quot; and &quot;title&quot; case.</p>\n",
       "</dd>\n",
       "<dt><code>replace</code></dt><dd><p>A named character vector where the name is replaced by the\n",
       "value.</p>\n",
       "</dd>\n",
       "<dt><code>ascii</code></dt><dd><p>Convert the names to ASCII (<code>TRUE</code>, default) or not\n",
       "(<code>FALSE</code>).</p>\n",
       "</dd>\n",
       "<dt><code>use_make_names</code></dt><dd><p>Should <code>make.names()</code> be applied to ensure that the\n",
       "output is usable as a name without quoting?  (Avoiding <code>make.names()</code>\n",
       "ensures that the output is locale-independent but quoting may be required.)</p>\n",
       "</dd>\n",
       "<dt><code>allow_dupes</code></dt><dd><p>Allow duplicates in the returned names (<code>TRUE</code>) or not\n",
       "(<code>FALSE</code>, the default).</p>\n",
       "</dd>\n",
       "<dt><code>sep_in</code></dt><dd><p>(short for separator input) if character, is interpreted as a\n",
       "regular expression (wrapped internally into <code>stringr::regex()</code>). \n",
       "The default value is a regular expression that matches any sequence of\n",
       "non-alphanumeric values. All matches will be replaced by underscores \n",
       "(additionally to <code>\"_\"</code> and <code>\" \"</code>, for which this is always true, even\n",
       "if <code>NULL</code> is supplied). These underscores are used internally to split\n",
       "the strings into substrings and specify the word boundaries.</p>\n",
       "</dd>\n",
       "<dt><code>parsing_option</code></dt><dd><p>An integer that will determine the parsing_option.\n",
       "</p>\n",
       "\n",
       "<ul>\n",
       "<li><p>1: <code>\"RRRStudio\" -&gt; \"RRR_Studio\"</code>\n",
       "</p>\n",
       "</li>\n",
       "<li><p>2: <code>\"RRRStudio\" -&gt; \"RRRS_tudio\"</code>\n",
       "</p>\n",
       "</li>\n",
       "<li><p>3: <code>\"RRRStudio\" -&gt; \"RRRSStudio\"</code>. This will become for example <code>\"Rrrstudio\"</code> when we convert to lower camel case.\n",
       "</p>\n",
       "</li>\n",
       "<li><p>-1, -2, -3: These <code>parsing_options</code>'s will suppress the conversion after non-alphanumeric values.\n",
       "</p>\n",
       "</li>\n",
       "<li><p>0: no parsing\n",
       "</p>\n",
       "</li></ul>\n",
       "</dd>\n",
       "<dt><code>transliterations</code></dt><dd><p>A character vector (if not <code>NULL</code>). The entries of this argument\n",
       "need to be elements of <code>stringi::stri_trans_list()</code> (like &quot;Latin-ASCII&quot;, which is often useful) or names of lookup tables (currently only &quot;german&quot; is supported). In the order of the entries the letters of the input\n",
       "string will be transliterated via <code>stringi::stri_trans_general()</code> or replaced via the \n",
       "matches of the lookup table. When named character elements are supplied as part of 'transliterations', anything that matches the names is replaced by the corresponding value.\n",
       "You should use this feature with care in case of <code>case = \"parsed\"</code>, <code>case = \"internal_parsing\"</code> and \n",
       "<code>case = \"none\"</code>, since for upper case letters, which have transliterations/replacements\n",
       "of length 2, the second letter will be transliterated to lowercase, for example Oe, Ae, Ss, which\n",
       "might not always be what is intended. In this case you can make usage of the option to supply named elements and specify the transliterations yourself.</p>\n",
       "</dd>\n",
       "<dt><code>numerals</code></dt><dd><p>A character specifying the alignment of numerals (<code>\"middle\"</code>, <code>left</code>, <code>right</code>, <code>asis</code> or <code>tight</code>). I.e. <code>numerals = \"left\"</code> ensures that no output separator is in front of a digit.</p>\n",
       "</dd>\n",
       "</dl>\n",
       "</td></tr>\n",
       "</table>\n",
       "\n",
       "\n",
       "<h3>Details</h3>\n",
       "\n",
       "<p><code>clean_names()</code> is intended to be used on <code>data.frames</code>\n",
       "and <code>data.frame</code>-like objects. For this reason there are methods to\n",
       "support using <code>clean_names()</code> on <code>sf</code> and <code>tbl_graph</code> (from\n",
       "<code>tidygraph</code>) objects as well as on database connections through\n",
       "<code>dbplyr</code>. For cleaning other named objects like named lists \n",
       "and vectors, use <code>make_clean_names()</code>.\n",
       "</p>\n",
       "\n",
       "\n",
       "<h3>Value</h3>\n",
       "\n",
       "<p>Returns the data.frame with clean names.\n",
       "</p>\n",
       "\n",
       "\n",
       "<h3>See Also</h3>\n",
       "\n",
       "<p>Other Set names: \n",
       "<code>find_header()</code>,\n",
       "<code>mu_to_u</code>,\n",
       "<code>row_to_names()</code>\n",
       "</p>\n",
       "\n",
       "\n",
       "<h3>Examples</h3>\n",
       "\n",
       "<pre>\n",
       "\n",
       "# --- Simple Usage ---\n",
       "x &lt;- data.frame(caseID = 1, DOB = 2, Other = 3)\n",
       "clean_names(x)\n",
       "\n",
       "# or pipe in the input data.frame:\n",
       "x %&gt;%\n",
       "  clean_names()\n",
       "\n",
       "# if you prefer camelCase variable names:\n",
       "x %&gt;%\n",
       "  clean_names(., \"lower_camel\")\n",
       "\n",
       "# (not run) run clean_names after reading in a spreadsheet:\n",
       "# library(readxl)\n",
       "# read_excel(\"messy_excel_file.xlsx\") %&gt;%\n",
       "#   clean_names()\n",
       "\n",
       "# --- Taking advantage of the underlying snakecase::to_any_case arguments ---\n",
       "\n",
       "# Restore column names to Title Case, e.g., for plotting\n",
       "mtcars %&gt;%\n",
       "  clean_names(case = \"title\")\n",
       "  \n",
       "# Tell clean_names to leave certain abbreviations untouched:\n",
       "x %&gt;%\n",
       "  clean_names(case = \"upper_camel\", abbreviations = c(\"ID\", \"DOB\")) \n",
       "  \n",
       "</pre>\n",
       "\n",
       "<hr /><div style=\"text-align: center;\">[Package <em>janitor</em> version 2.2.0 ]</div>"
      ],
      "text/latex": [
       "\\inputencoding{utf8}\n",
       "\\HeaderA{clean\\_names}{Cleans names of an object (usually a data.frame).}{clean.Rul.names}\n",
       "\\methaliasA{clean\\_names.default}{clean\\_names}{clean.Rul.names.default}\n",
       "\\methaliasA{clean\\_names.sf}{clean\\_names}{clean.Rul.names.sf}\n",
       "\\methaliasA{clean\\_names.tbl\\_graph}{clean\\_names}{clean.Rul.names.tbl.Rul.graph}\n",
       "\\methaliasA{clean\\_names.tbl\\_lazy}{clean\\_names}{clean.Rul.names.tbl.Rul.lazy}\n",
       "\\keyword{Set names}{clean\\_names}\n",
       "%\n",
       "\\begin{Description}\\relax\n",
       "Resulting names are unique and consist only of the \\code{\\_} character, numbers, and letters.\n",
       "Capitalization preferences can be specified using the \\code{case} parameter.\n",
       "\n",
       "Accented characters are transliterated to ASCII.  For example, an \"o\" with a\n",
       "German umlaut over it becomes \"o\", and the Spanish character \"enye\" becomes\n",
       "\"n\".\n",
       "\n",
       "This function takes and returns a data.frame, for ease of piping with\n",
       "\\code{`\\%>\\%`}. For the underlying function that works on a character vector\n",
       "of names, see \\code{\\LinkA{make\\_clean\\_names}{make.Rul.clean.Rul.names}}.  \\code{clean\\_names} \n",
       "relies on the versatile function \\code{\\LinkA{to\\_any\\_case}{to.Rul.any.Rul.case}}, which \n",
       "accepts many arguments.  See that function's documentation for ideas on getting \n",
       "the most out of \\code{clean\\_names}.  A few examples are included below.\n",
       "\n",
       "A common issue is that the micro/mu symbol is replaced by \"m\" instead of \"u\".\n",
       "The replacement with \"m\" is more correct when doing Greek-to-ASCII\n",
       "transliteration but less correct when doing scientific data-to-ASCII\n",
       "transliteration.  A warning will be generated if the \"m\" replacement occurs.\n",
       "To replace with \"u\", please add the argument \\code{replace=janitor:::mu\\_to\\_u}\n",
       "which is a character vector mapping all known mu or micro Unicode code points\n",
       "(characters) to \"u\".\n",
       "\\end{Description}\n",
       "%\n",
       "\\begin{Usage}\n",
       "\\begin{verbatim}\n",
       "clean_names(dat, ...)\n",
       "\n",
       "## Default S3 method:\n",
       "clean_names(dat, ...)\n",
       "\n",
       "## S3 method for class 'sf'\n",
       "clean_names(dat, ...)\n",
       "\n",
       "## S3 method for class 'tbl_graph'\n",
       "clean_names(dat, ...)\n",
       "\n",
       "## S3 method for class 'tbl_lazy'\n",
       "clean_names(dat, ...)\n",
       "\\end{verbatim}\n",
       "\\end{Usage}\n",
       "%\n",
       "\\begin{Arguments}\n",
       "\\begin{ldescription}\n",
       "\\item[\\code{dat}] the input data.frame.\n",
       "\n",
       "\\item[\\code{...}] \n",
       "Arguments passed on to \\code{\\LinkA{make\\_clean\\_names}{make.Rul.clean.Rul.names}}\n",
       "\\begin{description}\n",
       "\n",
       "\\item[\\code{case}] The desired target case (default is \\code{\"snake\"}) will be\n",
       "passed to \\code{snakecase::to\\_any\\_case()} with the exception of \"old\\_janitor\",\n",
       "which exists only to support legacy code (it preserves the behavior of\n",
       "\\code{clean\\_names()} prior to addition of the \"case\" argument (janitor\n",
       "versions <= 0.3.1).  \"old\\_janitor\" is not intended for new code. See\n",
       "\\code{\\LinkA{to\\_any\\_case}{to.Rul.any.Rul.case}} for a wide variety of supported cases,\n",
       "including \"sentence\" and \"title\" case.\n",
       "\\item[\\code{replace}] A named character vector where the name is replaced by the\n",
       "value.\n",
       "\\item[\\code{ascii}] Convert the names to ASCII (\\code{TRUE}, default) or not\n",
       "(\\code{FALSE}).\n",
       "\\item[\\code{use\\_make\\_names}] Should \\code{make.names()} be applied to ensure that the\n",
       "output is usable as a name without quoting?  (Avoiding \\code{make.names()}\n",
       "ensures that the output is locale-independent but quoting may be required.)\n",
       "\\item[\\code{allow\\_dupes}] Allow duplicates in the returned names (\\code{TRUE}) or not\n",
       "(\\code{FALSE}, the default).\n",
       "\\item[\\code{sep\\_in}] (short for separator input) if character, is interpreted as a\n",
       "regular expression (wrapped internally into \\code{stringr::regex()}). \n",
       "The default value is a regular expression that matches any sequence of\n",
       "non-alphanumeric values. All matches will be replaced by underscores \n",
       "(additionally to \\code{\"\\_\"} and \\code{\" \"}, for which this is always true, even\n",
       "if \\code{NULL} is supplied). These underscores are used internally to split\n",
       "the strings into substrings and specify the word boundaries.\n",
       "\\item[\\code{parsing\\_option}] An integer that will determine the parsing\\_option.\n",
       "\\begin{itemize}\n",
       "\n",
       "\\item{} 1: \\code{\"RRRStudio\" -> \"RRR\\_Studio\"}\n",
       "\\item{} 2: \\code{\"RRRStudio\" -> \"RRRS\\_tudio\"}\n",
       "\\item{} 3: \\code{\"RRRStudio\" -> \"RRRSStudio\"}. This will become for example \\code{\"Rrrstudio\"} when we convert to lower camel case.\n",
       "\\item{} -1, -2, -3: These \\code{parsing\\_options}'s will suppress the conversion after non-alphanumeric values.\n",
       "\\item{} 0: no parsing\n",
       "\n",
       "\\end{itemize}\n",
       "\n",
       "\\item[\\code{transliterations}] A character vector (if not \\code{NULL}). The entries of this argument\n",
       "need to be elements of \\code{stringi::stri\\_trans\\_list()} (like \"Latin-ASCII\", which is often useful) or names of lookup tables (currently only \"german\" is supported). In the order of the entries the letters of the input\n",
       "string will be transliterated via \\code{stringi::stri\\_trans\\_general()} or replaced via the \n",
       "matches of the lookup table. When named character elements are supplied as part of `transliterations`, anything that matches the names is replaced by the corresponding value.\n",
       "You should use this feature with care in case of \\code{case = \"parsed\"}, \\code{case = \"internal\\_parsing\"} and \n",
       "\\code{case = \"none\"}, since for upper case letters, which have transliterations/replacements\n",
       "of length 2, the second letter will be transliterated to lowercase, for example Oe, Ae, Ss, which\n",
       "might not always be what is intended. In this case you can make usage of the option to supply named elements and specify the transliterations yourself.\n",
       "\\item[\\code{numerals}] A character specifying the alignment of numerals (\\code{\"middle\"}, \\code{left}, \\code{right}, \\code{asis} or \\code{tight}). I.e. \\code{numerals = \"left\"} ensures that no output separator is in front of a digit.\n",
       "\n",
       "\\end{description}\n",
       "\n",
       "\\end{ldescription}\n",
       "\\end{Arguments}\n",
       "%\n",
       "\\begin{Details}\\relax\n",
       "\\code{clean\\_names()} is intended to be used on \\code{data.frames}\n",
       "and \\code{data.frame}-like objects. For this reason there are methods to\n",
       "support using \\code{clean\\_names()} on \\code{sf} and \\code{tbl\\_graph} (from\n",
       "\\code{tidygraph}) objects as well as on database connections through\n",
       "\\code{dbplyr}. For cleaning other named objects like named lists \n",
       "and vectors, use \\code{make\\_clean\\_names()}.\n",
       "\\end{Details}\n",
       "%\n",
       "\\begin{Value}\n",
       "Returns the data.frame with clean names.\n",
       "\\end{Value}\n",
       "%\n",
       "\\begin{SeeAlso}\\relax\n",
       "Other Set names: \n",
       "\\code{\\LinkA{find\\_header}{find.Rul.header}()},\n",
       "\\code{\\LinkA{mu\\_to\\_u}{mu.Rul.to.Rul.u}},\n",
       "\\code{\\LinkA{row\\_to\\_names}{row.Rul.to.Rul.names}()}\n",
       "\\end{SeeAlso}\n",
       "%\n",
       "\\begin{Examples}\n",
       "\\begin{ExampleCode}\n",
       "\n",
       "# --- Simple Usage ---\n",
       "x <- data.frame(caseID = 1, DOB = 2, Other = 3)\n",
       "clean_names(x)\n",
       "\n",
       "# or pipe in the input data.frame:\n",
       "x %>%\n",
       "  clean_names()\n",
       "\n",
       "# if you prefer camelCase variable names:\n",
       "x %>%\n",
       "  clean_names(., \"lower_camel\")\n",
       "\n",
       "# (not run) run clean_names after reading in a spreadsheet:\n",
       "# library(readxl)\n",
       "# read_excel(\"messy_excel_file.xlsx\") %>%\n",
       "#   clean_names()\n",
       "\n",
       "# --- Taking advantage of the underlying snakecase::to_any_case arguments ---\n",
       "\n",
       "# Restore column names to Title Case, e.g., for plotting\n",
       "mtcars %>%\n",
       "  clean_names(case = \"title\")\n",
       "  \n",
       "# Tell clean_names to leave certain abbreviations untouched:\n",
       "x %>%\n",
       "  clean_names(case = \"upper_camel\", abbreviations = c(\"ID\", \"DOB\")) \n",
       "  \n",
       "\\end{ExampleCode}\n",
       "\\end{Examples}"
      ],
      "text/plain": [
       "clean_names              package:janitor               R Documentation\n",
       "\n",
       "_\bC_\bl_\be_\ba_\bn_\bs _\bn_\ba_\bm_\be_\bs _\bo_\bf _\ba_\bn _\bo_\bb_\bj_\be_\bc_\bt (_\bu_\bs_\bu_\ba_\bl_\bl_\by _\ba _\bd_\ba_\bt_\ba._\bf_\br_\ba_\bm_\be).\n",
       "\n",
       "_\bD_\be_\bs_\bc_\br_\bi_\bp_\bt_\bi_\bo_\bn:\n",
       "\n",
       "     Resulting names are unique and consist only of the '_' character,\n",
       "     numbers, and letters. Capitalization preferences can be specified\n",
       "     using the 'case' parameter.\n",
       "\n",
       "     Accented characters are transliterated to ASCII.  For example, an\n",
       "     \"o\" with a German umlaut over it becomes \"o\", and the Spanish\n",
       "     character \"enye\" becomes \"n\".\n",
       "\n",
       "     This function takes and returns a data.frame, for ease of piping\n",
       "     with '`%>%`'. For the underlying function that works on a\n",
       "     character vector of names, see 'make_clean_names'.  'clean_names'\n",
       "     relies on the versatile function 'to_any_case', which accepts many\n",
       "     arguments.  See that function's documentation for ideas on getting\n",
       "     the most out of 'clean_names'.  A few examples are included below.\n",
       "\n",
       "     A common issue is that the micro/mu symbol is replaced by \"m\"\n",
       "     instead of \"u\". The replacement with \"m\" is more correct when\n",
       "     doing Greek-to-ASCII transliteration but less correct when doing\n",
       "     scientific data-to-ASCII transliteration.  A warning will be\n",
       "     generated if the \"m\" replacement occurs. To replace with \"u\",\n",
       "     please add the argument 'replace=janitor:::mu_to_u' which is a\n",
       "     character vector mapping all known mu or micro Unicode code points\n",
       "     (characters) to \"u\".\n",
       "\n",
       "_\bU_\bs_\ba_\bg_\be:\n",
       "\n",
       "     clean_names(dat, ...)\n",
       "     \n",
       "     ## Default S3 method:\n",
       "     clean_names(dat, ...)\n",
       "     \n",
       "     ## S3 method for class 'sf'\n",
       "     clean_names(dat, ...)\n",
       "     \n",
       "     ## S3 method for class 'tbl_graph'\n",
       "     clean_names(dat, ...)\n",
       "     \n",
       "     ## S3 method for class 'tbl_lazy'\n",
       "     clean_names(dat, ...)\n",
       "     \n",
       "_\bA_\br_\bg_\bu_\bm_\be_\bn_\bt_\bs:\n",
       "\n",
       "     dat: the input data.frame.\n",
       "\n",
       "     ...: Arguments passed on to 'make_clean_names'\n",
       "\n",
       "          'case' The desired target case (default is '\"snake\"') will be\n",
       "              passed to 'snakecase::to_any_case()' with the exception\n",
       "              of \"old_janitor\", which exists only to support legacy\n",
       "              code (it preserves the behavior of 'clean_names()' prior\n",
       "              to addition of the \"case\" argument (janitor versions <=\n",
       "              0.3.1).  \"old_janitor\" is not intended for new code. See\n",
       "              'to_any_case' for a wide variety of supported cases,\n",
       "              including \"sentence\" and \"title\" case.\n",
       "\n",
       "          'replace' A named character vector where the name is replaced\n",
       "              by the value.\n",
       "\n",
       "          'ascii' Convert the names to ASCII ('TRUE', default) or not\n",
       "              ('FALSE').\n",
       "\n",
       "          'use_make_names' Should 'make.names()' be applied to ensure\n",
       "              that the output is usable as a name without quoting?\n",
       "              (Avoiding 'make.names()' ensures that the output is\n",
       "              locale-independent but quoting may be required.)\n",
       "\n",
       "          'allow_dupes' Allow duplicates in the returned names ('TRUE')\n",
       "              or not ('FALSE', the default).\n",
       "\n",
       "          'sep_in' (short for separator input) if character, is\n",
       "              interpreted as a regular expression (wrapped internally\n",
       "              into 'stringr::regex()').  The default value is a regular\n",
       "              expression that matches any sequence of non-alphanumeric\n",
       "              values. All matches will be replaced by underscores\n",
       "              (additionally to '\"_\"' and '\" \"', for which this is\n",
       "              always true, even if 'NULL' is supplied). These\n",
       "              underscores are used internally to split the strings into\n",
       "              substrings and specify the word boundaries.\n",
       "\n",
       "          'parsing_option' An integer that will determine the\n",
       "              parsing_option.\n",
       "\n",
       "                вЂў 1: '\"RRRStudio\" -> \"RRR_Studio\"'\n",
       "\n",
       "                вЂў 2: '\"RRRStudio\" -> \"RRRS_tudio\"'\n",
       "\n",
       "                вЂў 3: '\"RRRStudio\" -> \"RRRSStudio\"'. This will become\n",
       "                  for example '\"Rrrstudio\"' when we convert to lower\n",
       "                  camel case.\n",
       "\n",
       "                вЂў -1, -2, -3: These 'parsing_options''s will suppress\n",
       "                  the conversion after non-alphanumeric values.\n",
       "\n",
       "                вЂў 0: no parsing\n",
       "\n",
       "          'transliterations' A character vector (if not 'NULL'). The\n",
       "              entries of this argument need to be elements of\n",
       "              'stringi::stri_trans_list()' (like \"Latin-ASCII\", which\n",
       "              is often useful) or names of lookup tables (currently\n",
       "              only \"german\" is supported). In the order of the entries\n",
       "              the letters of the input string will be transliterated\n",
       "              via 'stringi::stri_trans_general()' or replaced via the\n",
       "              matches of the lookup table. When named character\n",
       "              elements are supplied as part of `transliterations`,\n",
       "              anything that matches the names is replaced by the\n",
       "              corresponding value. You should use this feature with\n",
       "              care in case of 'case = \"parsed\"', 'case =\n",
       "              \"internal_parsing\"' and 'case = \"none\"', since for upper\n",
       "              case letters, which have transliterations/replacements of\n",
       "              length 2, the second letter will be transliterated to\n",
       "              lowercase, for example Oe, Ae, Ss, which might not always\n",
       "              be what is intended. In this case you can make usage of\n",
       "              the option to supply named elements and specify the\n",
       "              transliterations yourself.\n",
       "\n",
       "          'numerals' A character specifying the alignment of numerals\n",
       "              ('\"middle\"', 'left', 'right', 'asis' or 'tight'). I.e.\n",
       "              'numerals = \"left\"' ensures that no output separator is\n",
       "              in front of a digit.\n",
       "\n",
       "_\bD_\be_\bt_\ba_\bi_\bl_\bs:\n",
       "\n",
       "     'clean_names()' is intended to be used on 'data.frames' and\n",
       "     'data.frame'-like objects. For this reason there are methods to\n",
       "     support using 'clean_names()' on 'sf' and 'tbl_graph' (from\n",
       "     'tidygraph') objects as well as on database connections through\n",
       "     'dbplyr'. For cleaning other named objects like named lists and\n",
       "     vectors, use 'make_clean_names()'.\n",
       "\n",
       "_\bV_\ba_\bl_\bu_\be:\n",
       "\n",
       "     Returns the data.frame with clean names.\n",
       "\n",
       "_\bS_\be_\be _\bA_\bl_\bs_\bo:\n",
       "\n",
       "     Other Set names: 'find_header()', 'mu_to_u', 'row_to_names()'\n",
       "\n",
       "_\bE_\bx_\ba_\bm_\bp_\bl_\be_\bs:\n",
       "\n",
       "     # --- Simple Usage ---\n",
       "     x <- data.frame(caseID = 1, DOB = 2, Other = 3)\n",
       "     clean_names(x)\n",
       "     \n",
       "     # or pipe in the input data.frame:\n",
       "     x %>%\n",
       "       clean_names()\n",
       "     \n",
       "     # if you prefer camelCase variable names:\n",
       "     x %>%\n",
       "       clean_names(., \"lower_camel\")\n",
       "     \n",
       "     # (not run) run clean_names after reading in a spreadsheet:\n",
       "     # library(readxl)\n",
       "     # read_excel(\"messy_excel_file.xlsx\") %>%\n",
       "     #   clean_names()\n",
       "     \n",
       "     # --- Taking advantage of the underlying snakecase::to_any_case arguments ---\n",
       "     \n",
       "     # Restore column names to Title Case, e.g., for plotting\n",
       "     mtcars %>%\n",
       "       clean_names(case = \"title\")\n",
       "       \n",
       "     # Tell clean_names to leave certain abbreviations untouched:\n",
       "     x %>%\n",
       "       clean_names(case = \"upper_camel\", abbreviations = c(\"ID\", \"DOB\")) \n",
       "     "
      ]
     },
     "metadata": {},
     "output_type": "display_data"
    }
   ],
   "source": [
    "?clean_names"
   ]
  },
  {
   "cell_type": "markdown",
   "id": "f2e9d974-321d-4c20-9d78-5dcb092ac301",
   "metadata": {},
   "source": [
    "## Очистка текстових даних"
   ]
  },
  {
   "cell_type": "code",
   "execution_count": 45,
   "id": "96b651be-8241-4f30-a7f9-43c16d7ef97a",
   "metadata": {},
   "outputs": [
    {
     "data": {
      "text/html": [
       "<table class=\"dataframe\">\n",
       "<caption>A data.frame: 13 x 5</caption>\n",
       "<thead>\n",
       "\t<tr><th scope=col>Person.Age</th><th scope=col>Person__Height</th><th scope=col>person.Weight</th><th scope=col>Person.Gender</th><th scope=col>empty</th></tr>\n",
       "\t<tr><th scope=col>&lt;int&gt;</th><th scope=col>&lt;chr&gt;</th><th scope=col>&lt;dbl&gt;</th><th scope=col>&lt;chr&gt;</th><th scope=col>&lt;lgl&gt;</th></tr>\n",
       "</thead>\n",
       "<tbody>\n",
       "\t<tr><td>23</td><td>185 </td><td>  NA</td><td>Male  </td><td>NA</td></tr>\n",
       "\t<tr><td>41</td><td>175 </td><td>68.3</td><td>   M  </td><td>NA</td></tr>\n",
       "\t<tr><td>11</td><td>142*</td><td>55.4</td><td>Female</td><td>NA</td></tr>\n",
       "\t<tr><td>12</td><td>NA  </td><td>48.2</td><td>Man   </td><td>NA</td></tr>\n",
       "\t<tr><td>54</td><td>191 </td><td>  NA</td><td>female</td><td>NA</td></tr>\n",
       "\t<tr><td>32</td><td>168 </td><td>78.0</td><td>F     </td><td>NA</td></tr>\n",
       "\t<tr><td>22</td><td>NA  </td><td>54.0</td><td>male. </td><td>NA</td></tr>\n",
       "\t<tr><td>21</td><td>165 </td><td>  NA</td><td>m     </td><td>NA</td></tr>\n",
       "\t<tr><td>14</td><td>NA  </td><td>90.2</td><td>Man   </td><td>NA</td></tr>\n",
       "\t<tr><td>51</td><td>250 </td><td>  NA</td><td>female</td><td>NA</td></tr>\n",
       "\t<tr><td>41</td><td>20  </td><td>81.0</td><td>F     </td><td>NA</td></tr>\n",
       "\t<tr><td>66</td><td>NA  </td><td>59.0</td><td>male. </td><td>NA</td></tr>\n",
       "\t<tr><td>71</td><td>171 </td><td>  NA</td><td>m     </td><td>NA</td></tr>\n",
       "</tbody>\n",
       "</table>\n"
      ],
      "text/latex": [
       "A data.frame: 13 x 5\n",
       "\\begin{tabular}{lllll}\n",
       " Person.Age & Person\\_\\_Height & person.Weight & Person.Gender & empty\\\\\n",
       " <int> & <chr> & <dbl> & <chr> & <lgl>\\\\\n",
       "\\hline\n",
       "\t 23 & 185  &   NA & Male   & NA\\\\\n",
       "\t 41 & 175  & 68.3 &    M   & NA\\\\\n",
       "\t 11 & 142* & 55.4 & Female & NA\\\\\n",
       "\t 12 & NA   & 48.2 & Man    & NA\\\\\n",
       "\t 54 & 191  &   NA & female & NA\\\\\n",
       "\t 32 & 168  & 78.0 & F      & NA\\\\\n",
       "\t 22 & NA   & 54.0 & male.  & NA\\\\\n",
       "\t 21 & 165  &   NA & m      & NA\\\\\n",
       "\t 14 & NA   & 90.2 & Man    & NA\\\\\n",
       "\t 51 & 250  &   NA & female & NA\\\\\n",
       "\t 41 & 20   & 81.0 & F      & NA\\\\\n",
       "\t 66 & NA   & 59.0 & male.  & NA\\\\\n",
       "\t 71 & 171  &   NA & m      & NA\\\\\n",
       "\\end{tabular}\n"
      ],
      "text/markdown": [
       "\n",
       "A data.frame: 13 x 5\n",
       "\n",
       "| Person.Age &lt;int&gt; | Person__Height &lt;chr&gt; | person.Weight &lt;dbl&gt; | Person.Gender &lt;chr&gt; | empty &lt;lgl&gt; |\n",
       "|---|---|---|---|---|\n",
       "| 23 | 185  |   NA | Male   | NA |\n",
       "| 41 | 175  | 68.3 |    M   | NA |\n",
       "| 11 | 142* | 55.4 | Female | NA |\n",
       "| 12 | NA   | 48.2 | Man    | NA |\n",
       "| 54 | 191  |   NA | female | NA |\n",
       "| 32 | 168  | 78.0 | F      | NA |\n",
       "| 22 | NA   | 54.0 | male.  | NA |\n",
       "| 21 | 165  |   NA | m      | NA |\n",
       "| 14 | NA   | 90.2 | Man    | NA |\n",
       "| 51 | 250  |   NA | female | NA |\n",
       "| 41 | 20   | 81.0 | F      | NA |\n",
       "| 66 | NA   | 59.0 | male.  | NA |\n",
       "| 71 | 171  |   NA | m      | NA |\n",
       "\n"
      ],
      "text/plain": [
       "   Person.Age Person__Height person.Weight Person.Gender empty\n",
       "1  23         185              NA          Male          NA   \n",
       "2  41         175            68.3             M          NA   \n",
       "3  11         142*           55.4          Female        NA   \n",
       "4  12         NA             48.2          Man           NA   \n",
       "5  54         191              NA          female        NA   \n",
       "6  32         168            78.0          F             NA   \n",
       "7  22         NA             54.0          male.         NA   \n",
       "8  21         165              NA          m             NA   \n",
       "9  14         NA             90.2          Man           NA   \n",
       "10 51         250              NA          female        NA   \n",
       "11 41         20             81.0          F             NA   \n",
       "12 66         NA             59.0          male.         NA   \n",
       "13 71         171              NA          m             NA   "
      ]
     },
     "metadata": {},
     "output_type": "display_data"
    }
   ],
   "source": [
    "data <- read.csv(\"https://raw.githubusercontent.com/kleban/r-book-published/main/datasets/badtitled.csv\")\n",
    "data"
   ]
  },
  {
   "cell_type": "code",
   "execution_count": 46,
   "id": "2c318ab0-9047-4dcf-a9e4-f937a272a27d",
   "metadata": {},
   "outputs": [
    {
     "data": {
      "text/html": [
       "<table class=\"dataframe\">\n",
       "<caption>A data.frame: 13 x 5</caption>\n",
       "<thead>\n",
       "\t<tr><th scope=col>person_age</th><th scope=col>person_height</th><th scope=col>person_weight</th><th scope=col>person_gender</th><th scope=col>empty</th></tr>\n",
       "\t<tr><th scope=col>&lt;int&gt;</th><th scope=col>&lt;chr&gt;</th><th scope=col>&lt;dbl&gt;</th><th scope=col>&lt;chr&gt;</th><th scope=col>&lt;lgl&gt;</th></tr>\n",
       "</thead>\n",
       "<tbody>\n",
       "\t<tr><td>23</td><td>185 </td><td>  NA</td><td>Male  </td><td>NA</td></tr>\n",
       "\t<tr><td>41</td><td>175 </td><td>68.3</td><td>   M  </td><td>NA</td></tr>\n",
       "\t<tr><td>11</td><td>142*</td><td>55.4</td><td>Female</td><td>NA</td></tr>\n",
       "\t<tr><td>12</td><td>NA  </td><td>48.2</td><td>Man   </td><td>NA</td></tr>\n",
       "\t<tr><td>54</td><td>191 </td><td>  NA</td><td>female</td><td>NA</td></tr>\n",
       "\t<tr><td>32</td><td>168 </td><td>78.0</td><td>F     </td><td>NA</td></tr>\n",
       "\t<tr><td>22</td><td>NA  </td><td>54.0</td><td>male. </td><td>NA</td></tr>\n",
       "\t<tr><td>21</td><td>165 </td><td>  NA</td><td>m     </td><td>NA</td></tr>\n",
       "\t<tr><td>14</td><td>NA  </td><td>90.2</td><td>Man   </td><td>NA</td></tr>\n",
       "\t<tr><td>51</td><td>250 </td><td>  NA</td><td>female</td><td>NA</td></tr>\n",
       "\t<tr><td>41</td><td>20  </td><td>81.0</td><td>F     </td><td>NA</td></tr>\n",
       "\t<tr><td>66</td><td>NA  </td><td>59.0</td><td>male. </td><td>NA</td></tr>\n",
       "\t<tr><td>71</td><td>171 </td><td>  NA</td><td>m     </td><td>NA</td></tr>\n",
       "</tbody>\n",
       "</table>\n"
      ],
      "text/latex": [
       "A data.frame: 13 x 5\n",
       "\\begin{tabular}{lllll}\n",
       " person\\_age & person\\_height & person\\_weight & person\\_gender & empty\\\\\n",
       " <int> & <chr> & <dbl> & <chr> & <lgl>\\\\\n",
       "\\hline\n",
       "\t 23 & 185  &   NA & Male   & NA\\\\\n",
       "\t 41 & 175  & 68.3 &    M   & NA\\\\\n",
       "\t 11 & 142* & 55.4 & Female & NA\\\\\n",
       "\t 12 & NA   & 48.2 & Man    & NA\\\\\n",
       "\t 54 & 191  &   NA & female & NA\\\\\n",
       "\t 32 & 168  & 78.0 & F      & NA\\\\\n",
       "\t 22 & NA   & 54.0 & male.  & NA\\\\\n",
       "\t 21 & 165  &   NA & m      & NA\\\\\n",
       "\t 14 & NA   & 90.2 & Man    & NA\\\\\n",
       "\t 51 & 250  &   NA & female & NA\\\\\n",
       "\t 41 & 20   & 81.0 & F      & NA\\\\\n",
       "\t 66 & NA   & 59.0 & male.  & NA\\\\\n",
       "\t 71 & 171  &   NA & m      & NA\\\\\n",
       "\\end{tabular}\n"
      ],
      "text/markdown": [
       "\n",
       "A data.frame: 13 x 5\n",
       "\n",
       "| person_age &lt;int&gt; | person_height &lt;chr&gt; | person_weight &lt;dbl&gt; | person_gender &lt;chr&gt; | empty &lt;lgl&gt; |\n",
       "|---|---|---|---|---|\n",
       "| 23 | 185  |   NA | Male   | NA |\n",
       "| 41 | 175  | 68.3 |    M   | NA |\n",
       "| 11 | 142* | 55.4 | Female | NA |\n",
       "| 12 | NA   | 48.2 | Man    | NA |\n",
       "| 54 | 191  |   NA | female | NA |\n",
       "| 32 | 168  | 78.0 | F      | NA |\n",
       "| 22 | NA   | 54.0 | male.  | NA |\n",
       "| 21 | 165  |   NA | m      | NA |\n",
       "| 14 | NA   | 90.2 | Man    | NA |\n",
       "| 51 | 250  |   NA | female | NA |\n",
       "| 41 | 20   | 81.0 | F      | NA |\n",
       "| 66 | NA   | 59.0 | male.  | NA |\n",
       "| 71 | 171  |   NA | m      | NA |\n",
       "\n"
      ],
      "text/plain": [
       "   person_age person_height person_weight person_gender empty\n",
       "1  23         185             NA          Male          NA   \n",
       "2  41         175           68.3             M          NA   \n",
       "3  11         142*          55.4          Female        NA   \n",
       "4  12         NA            48.2          Man           NA   \n",
       "5  54         191             NA          female        NA   \n",
       "6  32         168           78.0          F             NA   \n",
       "7  22         NA            54.0          male.         NA   \n",
       "8  21         165             NA          m             NA   \n",
       "9  14         NA            90.2          Man           NA   \n",
       "10 51         250             NA          female        NA   \n",
       "11 41         20            81.0          F             NA   \n",
       "12 66         NA            59.0          male.         NA   \n",
       "13 71         171             NA          m             NA   "
      ]
     },
     "metadata": {},
     "output_type": "display_data"
    }
   ],
   "source": [
    "data <- data |> clean_names()\n",
    "data"
   ]
  },
  {
   "cell_type": "code",
   "execution_count": 70,
   "id": "566a8ad1-9a20-4c65-afd0-1846e2c08b4d",
   "metadata": {},
   "outputs": [
    {
     "data": {
      "text/html": [
       "6"
      ],
      "text/latex": [
       "6"
      ],
      "text/markdown": [
       "6"
      ],
      "text/plain": [
       "[1] 6"
      ]
     },
     "metadata": {},
     "output_type": "display_data"
    }
   ],
   "source": [
    "gender_data <- as.factor(tolower(str_trim(data$person_gender)))\n",
    "length(unique(gender_data))"
   ]
  },
  {
   "cell_type": "code",
   "execution_count": 52,
   "id": "2e345620-8d85-49d8-be8d-5733de48be65",
   "metadata": {},
   "outputs": [
    {
     "data": {
      "text/html": [
       "<style>\n",
       ".list-inline {list-style: none; margin:0; padding: 0}\n",
       ".list-inline>li {display: inline-block}\n",
       ".list-inline>li:not(:last-child)::after {content: \"\\00b7\"; padding: 0 .5ex}\n",
       "</style>\n",
       "<ol class=list-inline><li>6</li><li>1</li><li>4</li><li>8</li><li>3</li><li>2</li><li>7</li><li>5</li><li>8</li><li>3</li><li>2</li><li>7</li><li>5</li></ol>\n"
      ],
      "text/latex": [
       "\\begin{enumerate*}\n",
       "\\item 6\n",
       "\\item 1\n",
       "\\item 4\n",
       "\\item 8\n",
       "\\item 3\n",
       "\\item 2\n",
       "\\item 7\n",
       "\\item 5\n",
       "\\item 8\n",
       "\\item 3\n",
       "\\item 2\n",
       "\\item 7\n",
       "\\item 5\n",
       "\\end{enumerate*}\n"
      ],
      "text/markdown": [
       "1. 6\n",
       "2. 1\n",
       "3. 4\n",
       "4. 8\n",
       "5. 3\n",
       "6. 2\n",
       "7. 7\n",
       "8. 5\n",
       "9. 8\n",
       "10. 3\n",
       "11. 2\n",
       "12. 7\n",
       "13. 5\n",
       "\n",
       "\n"
      ],
      "text/plain": [
       " [1] 6 1 4 8 3 2 7 5 8 3 2 7 5"
      ]
     },
     "metadata": {},
     "output_type": "display_data"
    }
   ],
   "source": [
    "as.numeric(gender_data)"
   ]
  },
  {
   "cell_type": "code",
   "execution_count": 54,
   "id": "168226d8-f506-4b8f-b1a7-08a4e6208250",
   "metadata": {},
   "outputs": [],
   "source": [
    "library(stringr)"
   ]
  },
  {
   "cell_type": "code",
   "execution_count": 57,
   "id": "9e6ae10b-672b-4b0d-a589-cc7c3e6168ae",
   "metadata": {},
   "outputs": [
    {
     "data": {
      "text/html": [
       "'ostroh academy'"
      ],
      "text/latex": [
       "'ostroh academy'"
      ],
      "text/markdown": [
       "'ostroh academy'"
      ],
      "text/plain": [
       "[1] \"ostroh academy\""
      ]
     },
     "metadata": {},
     "output_type": "display_data"
    }
   ],
   "source": [
    "str <- \" ostroh academy  \"\n",
    "str_trim(str)"
   ]
  },
  {
   "cell_type": "code",
   "execution_count": 58,
   "id": "50e47a93-976e-4486-bdaf-30dd009ee1d5",
   "metadata": {},
   "outputs": [
    {
     "data": {
      "text/html": [
       "<span style=white-space:pre-wrap>'ostroh academy  '</span>"
      ],
      "text/latex": [
       "'ostroh academy  '"
      ],
      "text/markdown": [
       "<span style=white-space:pre-wrap>'ostroh academy  '</span>"
      ],
      "text/plain": [
       "[1] \"ostroh academy  \""
      ]
     },
     "metadata": {},
     "output_type": "display_data"
    }
   ],
   "source": [
    "str_trim(str, side = \"left\")"
   ]
  },
  {
   "cell_type": "code",
   "execution_count": 60,
   "id": "a569daa0-4fd8-476f-8c36-0b71d5a01fb6",
   "metadata": {},
   "outputs": [
    {
     "data": {
      "text/html": [
       "' ostroh academy'"
      ],
      "text/latex": [
       "' ostroh academy'"
      ],
      "text/markdown": [
       "' ostroh academy'"
      ],
      "text/plain": [
       "[1] \" ostroh academy\""
      ]
     },
     "metadata": {},
     "output_type": "display_data"
    }
   ],
   "source": [
    "str_trim(str, side = \"right\")"
   ]
  },
  {
   "cell_type": "code",
   "execution_count": 62,
   "id": "26a7b96f-60c0-40f3-8d5a-b918c2188b55",
   "metadata": {},
   "outputs": [
    {
     "data": {
      "text/html": [
       "'ostroh academy'"
      ],
      "text/latex": [
       "'ostroh academy'"
      ],
      "text/markdown": [
       "'ostroh academy'"
      ],
      "text/plain": [
       "[1] \"ostroh academy\""
      ]
     },
     "metadata": {},
     "output_type": "display_data"
    }
   ],
   "source": [
    "str_trim(str, side = \"both\")"
   ]
  },
  {
   "cell_type": "code",
   "execution_count": 66,
   "id": "bbfe7219-26ab-4e88-bf57-1c99cfeb27e3",
   "metadata": {},
   "outputs": [
    {
     "data": {
      "text/html": [
       "'000057'"
      ],
      "text/latex": [
       "'000057'"
      ],
      "text/markdown": [
       "'000057'"
      ],
      "text/plain": [
       "[1] \"000057\""
      ]
     },
     "metadata": {},
     "output_type": "display_data"
    }
   ],
   "source": [
    "str_pad(57, width = 6, side = \"left\", pad = 0)"
   ]
  },
  {
   "cell_type": "code",
   "execution_count": 72,
   "id": "741e9c01-cbda-4381-81c9-8c34c2f8753f",
   "metadata": {},
   "outputs": [
    {
     "data": {
      "text/html": [
       "<span style=white-space:pre-wrap>' OSTROH ACADEMY  '</span>"
      ],
      "text/latex": [
       "' OSTROH ACADEMY  '"
      ],
      "text/markdown": [
       "<span style=white-space:pre-wrap>' OSTROH ACADEMY  '</span>"
      ],
      "text/plain": [
       "[1] \" OSTROH ACADEMY  \""
      ]
     },
     "metadata": {},
     "output_type": "display_data"
    }
   ],
   "source": [
    "toupper(str)"
   ]
  },
  {
   "cell_type": "code",
   "execution_count": 74,
   "id": "a54f444a-c106-45f8-bc88-43c8eda5ad69",
   "metadata": {},
   "outputs": [
    {
     "data": {
      "text/html": [
       "<span style=white-space:pre-wrap>' ostroh academy  '</span>"
      ],
      "text/latex": [
       "' ostroh academy  '"
      ],
      "text/markdown": [
       "<span style=white-space:pre-wrap>' ostroh academy  '</span>"
      ],
      "text/plain": [
       "[1] \" ostroh academy  \""
      ]
     },
     "metadata": {},
     "output_type": "display_data"
    }
   ],
   "source": [
    "tolower(str)"
   ]
  },
  {
   "cell_type": "code",
   "execution_count": 75,
   "id": "23a2f8a0-eb93-4094-96f7-0d7b0b359384",
   "metadata": {},
   "outputs": [
    {
     "data": {
      "text/html": [
       "<table class=\"dataframe\">\n",
       "<caption>A matrix: 1 x 1 of type dbl</caption>\n",
       "<tbody>\n",
       "\t<tr><td>0</td></tr>\n",
       "</tbody>\n",
       "</table>\n"
      ],
      "text/latex": [
       "A matrix: 1 x 1 of type dbl\n",
       "\\begin{tabular}{l}\n",
       "\t 0\\\\\n",
       "\\end{tabular}\n"
      ],
      "text/markdown": [
       "\n",
       "A matrix: 1 x 1 of type dbl\n",
       "\n",
       "| 0 |\n",
       "\n"
      ],
      "text/plain": [
       "     [,1]\n",
       "[1,] 0   "
      ]
     },
     "metadata": {},
     "output_type": "display_data"
    }
   ],
   "source": [
    "adist(\"oa\", \"oa\")"
   ]
  },
  {
   "cell_type": "code",
   "execution_count": 77,
   "id": "8e2592b2-d4d1-41e0-b6ec-26124d2c9078",
   "metadata": {},
   "outputs": [
    {
     "data": {
      "text/html": [
       "<table class=\"dataframe\">\n",
       "<caption>A matrix: 1 x 1 of type dbl</caption>\n",
       "<tbody>\n",
       "\t<tr><td>2</td></tr>\n",
       "</tbody>\n",
       "</table>\n"
      ],
      "text/latex": [
       "A matrix: 1 x 1 of type dbl\n",
       "\\begin{tabular}{l}\n",
       "\t 2\\\\\n",
       "\\end{tabular}\n"
      ],
      "text/markdown": [
       "\n",
       "A matrix: 1 x 1 of type dbl\n",
       "\n",
       "| 2 |\n",
       "\n"
      ],
      "text/plain": [
       "     [,1]\n",
       "[1,] 2   "
      ]
     },
     "metadata": {},
     "output_type": "display_data"
    }
   ],
   "source": [
    "adist(\"oa\", \"ao\")"
   ]
  },
  {
   "cell_type": "code",
   "execution_count": 79,
   "id": "172dce7e-c6bc-4350-855e-d9001743faa4",
   "metadata": {},
   "outputs": [
    {
     "data": {
      "text/html": [
       "<table class=\"dataframe\">\n",
       "<caption>A matrix: 1 x 1 of type dbl</caption>\n",
       "<tbody>\n",
       "\t<tr><td>5</td></tr>\n",
       "</tbody>\n",
       "</table>\n"
      ],
      "text/latex": [
       "A matrix: 1 x 1 of type dbl\n",
       "\\begin{tabular}{l}\n",
       "\t 5\\\\\n",
       "\\end{tabular}\n"
      ],
      "text/markdown": [
       "\n",
       "A matrix: 1 x 1 of type dbl\n",
       "\n",
       "| 5 |\n",
       "\n"
      ],
      "text/plain": [
       "     [,1]\n",
       "[1,] 5   "
      ]
     },
     "metadata": {},
     "output_type": "display_data"
    }
   ],
   "source": [
    "adist(\"oa\", \"ds5te\")"
   ]
  },
  {
   "cell_type": "code",
   "execution_count": 96,
   "id": "5f064678-6dac-4bb9-8bb9-6445a06a89c2",
   "metadata": {},
   "outputs": [],
   "source": [
    "m <- c(\"male\", \"female\")\n",
    "adj_gender <- adist(data$person_gender, m)\n",
    "colnames(adj_gender) <- m\n",
    "rownames(adj_gender) <- data$person_gender"
   ]
  },
  {
   "cell_type": "code",
   "execution_count": 97,
   "id": "8a2521f4-5ddc-48b5-ab5d-760d028832b7",
   "metadata": {},
   "outputs": [
    {
     "data": {
      "text/html": [
       "<table class=\"dataframe\">\n",
       "<caption>A matrix: 13 x 2 of type dbl</caption>\n",
       "<thead>\n",
       "\t<tr><th></th><th scope=col>male</th><th scope=col>female</th></tr>\n",
       "</thead>\n",
       "<tbody>\n",
       "\t<tr><th scope=row>Male</th><td>1</td><td>3</td></tr>\n",
       "\t<tr><th scope=row>   M</th><td>4</td><td>6</td></tr>\n",
       "\t<tr><th scope=row>Female</th><td>2</td><td>1</td></tr>\n",
       "\t<tr><th scope=row>Man</th><td>3</td><td>5</td></tr>\n",
       "\t<tr><th scope=row>female</th><td>2</td><td>0</td></tr>\n",
       "\t<tr><th scope=row>F    </th><td>5</td><td>6</td></tr>\n",
       "\t<tr><th scope=row>male.</th><td>1</td><td>3</td></tr>\n",
       "\t<tr><th scope=row>m</th><td>3</td><td>5</td></tr>\n",
       "\t<tr><th scope=row>Man</th><td>3</td><td>5</td></tr>\n",
       "\t<tr><th scope=row>female</th><td>2</td><td>0</td></tr>\n",
       "\t<tr><th scope=row>F    </th><td>5</td><td>6</td></tr>\n",
       "\t<tr><th scope=row>male.</th><td>1</td><td>3</td></tr>\n",
       "\t<tr><th scope=row>m</th><td>3</td><td>5</td></tr>\n",
       "</tbody>\n",
       "</table>\n"
      ],
      "text/latex": [
       "A matrix: 13 x 2 of type dbl\n",
       "\\begin{tabular}{r|ll}\n",
       "  & male & female\\\\\n",
       "\\hline\n",
       "\tMale & 1 & 3\\\\\n",
       "\t   M & 4 & 6\\\\\n",
       "\tFemale & 2 & 1\\\\\n",
       "\tMan & 3 & 5\\\\\n",
       "\tfemale & 2 & 0\\\\\n",
       "\tF     & 5 & 6\\\\\n",
       "\tmale. & 1 & 3\\\\\n",
       "\tm & 3 & 5\\\\\n",
       "\tMan & 3 & 5\\\\\n",
       "\tfemale & 2 & 0\\\\\n",
       "\tF     & 5 & 6\\\\\n",
       "\tmale. & 1 & 3\\\\\n",
       "\tm & 3 & 5\\\\\n",
       "\\end{tabular}\n"
      ],
      "text/markdown": [
       "\n",
       "A matrix: 13 x 2 of type dbl\n",
       "\n",
       "| <!--/--> | male | female |\n",
       "|---|---|---|\n",
       "| Male | 1 | 3 |\n",
       "|    M | 4 | 6 |\n",
       "| Female | 2 | 1 |\n",
       "| Man | 3 | 5 |\n",
       "| female | 2 | 0 |\n",
       "| F     | 5 | 6 |\n",
       "| male. | 1 | 3 |\n",
       "| m | 3 | 5 |\n",
       "| Man | 3 | 5 |\n",
       "| female | 2 | 0 |\n",
       "| F     | 5 | 6 |\n",
       "| male. | 1 | 3 |\n",
       "| m | 3 | 5 |\n",
       "\n"
      ],
      "text/plain": [
       "       male female\n",
       "Male   1    3     \n",
       "   M   4    6     \n",
       "Female 2    1     \n",
       "Man    3    5     \n",
       "female 2    0     \n",
       "F      5    6     \n",
       "male.  1    3     \n",
       "m      3    5     \n",
       "Man    3    5     \n",
       "female 2    0     \n",
       "F      5    6     \n",
       "male.  1    3     \n",
       "m      3    5     "
      ]
     },
     "metadata": {},
     "output_type": "display_data"
    }
   ],
   "source": [
    "colnames(adj_gender) <- m\n",
    "rownames(adj_gender) <- data$person_gender\n",
    "adj_gender"
   ]
  },
  {
   "cell_type": "code",
   "execution_count": 88,
   "id": "f26779e4-8547-4a4a-b177-52cfef9606ca",
   "metadata": {},
   "outputs": [
    {
     "data": {
      "text/html": [
       "<table class=\"dataframe\">\n",
       "<caption>A data.frame: 6 x 2</caption>\n",
       "<thead>\n",
       "\t<tr><th></th><th scope=col>male</th><th scope=col>female</th></tr>\n",
       "\t<tr><th></th><th scope=col>&lt;dbl&gt;</th><th scope=col>&lt;dbl&gt;</th></tr>\n",
       "</thead>\n",
       "<tbody>\n",
       "\t<tr><th scope=row>Male</th><td>1</td><td>3</td></tr>\n",
       "\t<tr><th scope=row>X...M</th><td>4</td><td>6</td></tr>\n",
       "\t<tr><th scope=row>Female</th><td>2</td><td>1</td></tr>\n",
       "\t<tr><th scope=row>Man</th><td>3</td><td>5</td></tr>\n",
       "\t<tr><th scope=row>female</th><td>2</td><td>0</td></tr>\n",
       "\t<tr><th scope=row>F....</th><td>5</td><td>6</td></tr>\n",
       "</tbody>\n",
       "</table>\n"
      ],
      "text/latex": [
       "A data.frame: 6 x 2\n",
       "\\begin{tabular}{r|ll}\n",
       "  & male & female\\\\\n",
       "  & <dbl> & <dbl>\\\\\n",
       "\\hline\n",
       "\tMale & 1 & 3\\\\\n",
       "\tX...M & 4 & 6\\\\\n",
       "\tFemale & 2 & 1\\\\\n",
       "\tMan & 3 & 5\\\\\n",
       "\tfemale & 2 & 0\\\\\n",
       "\tF.... & 5 & 6\\\\\n",
       "\\end{tabular}\n"
      ],
      "text/markdown": [
       "\n",
       "A data.frame: 6 x 2\n",
       "\n",
       "| <!--/--> | male &lt;dbl&gt; | female &lt;dbl&gt; |\n",
       "|---|---|---|\n",
       "| Male | 1 | 3 |\n",
       "| X...M | 4 | 6 |\n",
       "| Female | 2 | 1 |\n",
       "| Man | 3 | 5 |\n",
       "| female | 2 | 0 |\n",
       "| F.... | 5 | 6 |\n",
       "\n"
      ],
      "text/plain": [
       "       male female\n",
       "Male   1    3     \n",
       "X...M  4    6     \n",
       "Female 2    1     \n",
       "Man    3    5     \n",
       "female 2    0     \n",
       "F....  5    6     "
      ]
     },
     "metadata": {},
     "output_type": "display_data"
    }
   ],
   "source": [
    "adj_gender <- as.data.frame(adj_gender) |>\n",
    "    distinct()\n",
    "adj_gender"
   ]
  },
  {
   "cell_type": "code",
   "execution_count": 98,
   "id": "2833bf78-bf58-49e6-845b-b68016f536f1",
   "metadata": {},
   "outputs": [
    {
     "data": {
      "text/html": [
       "<style>\n",
       ".dl-inline {width: auto; margin:0; padding: 0}\n",
       ".dl-inline>dt, .dl-inline>dd {float: none; width: auto; display: inline-block}\n",
       ".dl-inline>dt::after {content: \":\\0020\"; padding-right: .5ex}\n",
       ".dl-inline>dt:not(:first-of-type) {padding-left: .5ex}\n",
       "</style><dl class=dl-inline><dt>Male</dt><dd>1</dd><dt><span style=white-space:pre-wrap>   M</span></dt><dd>1</dd><dt>Female</dt><dd>2</dd><dt>Man</dt><dd>1</dd><dt>female</dt><dd>2</dd><dt><span style=white-space:pre-wrap>F    </span></dt><dd>1</dd><dt>male.</dt><dd>1</dd><dt>m</dt><dd>1</dd><dt>Man</dt><dd>1</dd><dt>female</dt><dd>2</dd><dt><span style=white-space:pre-wrap>F    </span></dt><dd>1</dd><dt>male.</dt><dd>1</dd><dt>m</dt><dd>1</dd></dl>\n"
      ],
      "text/latex": [
       "\\begin{description*}\n",
       "\\item[Male] 1\n",
       "\\item[   M] 1\n",
       "\\item[Female] 2\n",
       "\\item[Man] 1\n",
       "\\item[female] 2\n",
       "\\item[F    ] 1\n",
       "\\item[male.] 1\n",
       "\\item[m] 1\n",
       "\\item[Man] 1\n",
       "\\item[female] 2\n",
       "\\item[F    ] 1\n",
       "\\item[male.] 1\n",
       "\\item[m] 1\n",
       "\\end{description*}\n"
      ],
      "text/markdown": [
       "Male\n",
       ":   1<span style=white-space:pre-wrap>   M</span>\n",
       ":   1Female\n",
       ":   2Man\n",
       ":   1female\n",
       ":   2<span style=white-space:pre-wrap>F    </span>\n",
       ":   1male.\n",
       ":   1m\n",
       ":   1Man\n",
       ":   1female\n",
       ":   2<span style=white-space:pre-wrap>F    </span>\n",
       ":   1male.\n",
       ":   1m\n",
       ":   1\n",
       "\n"
      ],
      "text/plain": [
       "  Male      M Female    Man female  F      male.      m    Man female  F     \n",
       "     1      1      2      1      2      1      1      1      1      2      1 \n",
       " male.      m \n",
       "     1      1 "
      ]
     },
     "metadata": {},
     "output_type": "display_data"
    }
   ],
   "source": [
    "nums <- apply(adj_gender, 1, which.min)\n",
    "nums"
   ]
  },
  {
   "cell_type": "code",
   "execution_count": 94,
   "id": "f42bce3c-3f2b-466b-9dd1-8f1f9270f6c6",
   "metadata": {},
   "outputs": [],
   "source": [
    "nums <- unlist(nums)"
   ]
  },
  {
   "cell_type": "code",
   "execution_count": 100,
   "id": "f16bed96-f9b2-4464-9455-614064044e79",
   "metadata": {},
   "outputs": [
    {
     "data": {
      "text/html": [
       "<table class=\"dataframe\">\n",
       "<caption>A data.frame: 13 x 2</caption>\n",
       "<thead>\n",
       "\t<tr><th scope=col>initial</th><th scope=col>coded</th></tr>\n",
       "\t<tr><th scope=col>&lt;chr&gt;</th><th scope=col>&lt;chr&gt;</th></tr>\n",
       "</thead>\n",
       "<tbody>\n",
       "\t<tr><td>Male  </td><td>male  </td></tr>\n",
       "\t<tr><td>   M  </td><td>male  </td></tr>\n",
       "\t<tr><td>Female</td><td>female</td></tr>\n",
       "\t<tr><td>Man   </td><td>male  </td></tr>\n",
       "\t<tr><td>female</td><td>female</td></tr>\n",
       "\t<tr><td>F     </td><td>male  </td></tr>\n",
       "\t<tr><td>male. </td><td>male  </td></tr>\n",
       "\t<tr><td>m     </td><td>male  </td></tr>\n",
       "\t<tr><td>Man   </td><td>male  </td></tr>\n",
       "\t<tr><td>female</td><td>female</td></tr>\n",
       "\t<tr><td>F     </td><td>male  </td></tr>\n",
       "\t<tr><td>male. </td><td>male  </td></tr>\n",
       "\t<tr><td>m     </td><td>male  </td></tr>\n",
       "</tbody>\n",
       "</table>\n"
      ],
      "text/latex": [
       "A data.frame: 13 x 2\n",
       "\\begin{tabular}{ll}\n",
       " initial & coded\\\\\n",
       " <chr> & <chr>\\\\\n",
       "\\hline\n",
       "\t Male   & male  \\\\\n",
       "\t    M   & male  \\\\\n",
       "\t Female & female\\\\\n",
       "\t Man    & male  \\\\\n",
       "\t female & female\\\\\n",
       "\t F      & male  \\\\\n",
       "\t male.  & male  \\\\\n",
       "\t m      & male  \\\\\n",
       "\t Man    & male  \\\\\n",
       "\t female & female\\\\\n",
       "\t F      & male  \\\\\n",
       "\t male.  & male  \\\\\n",
       "\t m      & male  \\\\\n",
       "\\end{tabular}\n"
      ],
      "text/markdown": [
       "\n",
       "A data.frame: 13 x 2\n",
       "\n",
       "| initial &lt;chr&gt; | coded &lt;chr&gt; |\n",
       "|---|---|\n",
       "| Male   | male   |\n",
       "|    M   | male   |\n",
       "| Female | female |\n",
       "| Man    | male   |\n",
       "| female | female |\n",
       "| F      | male   |\n",
       "| male.  | male   |\n",
       "| m      | male   |\n",
       "| Man    | male   |\n",
       "| female | female |\n",
       "| F      | male   |\n",
       "| male.  | male   |\n",
       "| m      | male   |\n",
       "\n"
      ],
      "text/plain": [
       "   initial coded \n",
       "1  Male    male  \n",
       "2     M    male  \n",
       "3  Female  female\n",
       "4  Man     male  \n",
       "5  female  female\n",
       "6  F       male  \n",
       "7  male.   male  \n",
       "8  m       male  \n",
       "9  Man     male  \n",
       "10 female  female\n",
       "11 F       male  \n",
       "12 male.   male  \n",
       "13 m       male  "
      ]
     },
     "metadata": {},
     "output_type": "display_data"
    }
   ],
   "source": [
    "data.frame(initial = data$person_gender, coded = m[nums])"
   ]
  },
  {
   "cell_type": "code",
   "execution_count": 105,
   "id": "492b3629-b9a7-447f-a403-ad25b0f29058",
   "metadata": {},
   "outputs": [],
   "source": [
    "data <- data |> \n",
    "    mutate(person_gender = ifelse(str_trim(person_gender) == \"F\", \"female\", person_gender))"
   ]
  },
  {
   "cell_type": "code",
   "execution_count": 107,
   "id": "6af1b4a0-13c1-42ad-a553-9ae49c5f3f14",
   "metadata": {},
   "outputs": [
    {
     "data": {
      "text/html": [
       "<table class=\"dataframe\">\n",
       "<caption>A data.frame: 13 x 5</caption>\n",
       "<thead>\n",
       "\t<tr><th scope=col>person_age</th><th scope=col>person_height</th><th scope=col>person_weight</th><th scope=col>person_gender</th><th scope=col>empty</th></tr>\n",
       "\t<tr><th scope=col>&lt;int&gt;</th><th scope=col>&lt;chr&gt;</th><th scope=col>&lt;dbl&gt;</th><th scope=col>&lt;chr&gt;</th><th scope=col>&lt;lgl&gt;</th></tr>\n",
       "</thead>\n",
       "<tbody>\n",
       "\t<tr><td>23</td><td>185 </td><td>  NA</td><td>Male  </td><td>NA</td></tr>\n",
       "\t<tr><td>41</td><td>175 </td><td>68.3</td><td>   M  </td><td>NA</td></tr>\n",
       "\t<tr><td>11</td><td>142*</td><td>55.4</td><td>Female</td><td>NA</td></tr>\n",
       "\t<tr><td>12</td><td>NA  </td><td>48.2</td><td>Man   </td><td>NA</td></tr>\n",
       "\t<tr><td>54</td><td>191 </td><td>  NA</td><td>female</td><td>NA</td></tr>\n",
       "\t<tr><td>32</td><td>168 </td><td>78.0</td><td>female</td><td>NA</td></tr>\n",
       "\t<tr><td>22</td><td>NA  </td><td>54.0</td><td>male. </td><td>NA</td></tr>\n",
       "\t<tr><td>21</td><td>165 </td><td>  NA</td><td>m     </td><td>NA</td></tr>\n",
       "\t<tr><td>14</td><td>NA  </td><td>90.2</td><td>Man   </td><td>NA</td></tr>\n",
       "\t<tr><td>51</td><td>250 </td><td>  NA</td><td>female</td><td>NA</td></tr>\n",
       "\t<tr><td>41</td><td>20  </td><td>81.0</td><td>female</td><td>NA</td></tr>\n",
       "\t<tr><td>66</td><td>NA  </td><td>59.0</td><td>male. </td><td>NA</td></tr>\n",
       "\t<tr><td>71</td><td>171 </td><td>  NA</td><td>m     </td><td>NA</td></tr>\n",
       "</tbody>\n",
       "</table>\n"
      ],
      "text/latex": [
       "A data.frame: 13 x 5\n",
       "\\begin{tabular}{lllll}\n",
       " person\\_age & person\\_height & person\\_weight & person\\_gender & empty\\\\\n",
       " <int> & <chr> & <dbl> & <chr> & <lgl>\\\\\n",
       "\\hline\n",
       "\t 23 & 185  &   NA & Male   & NA\\\\\n",
       "\t 41 & 175  & 68.3 &    M   & NA\\\\\n",
       "\t 11 & 142* & 55.4 & Female & NA\\\\\n",
       "\t 12 & NA   & 48.2 & Man    & NA\\\\\n",
       "\t 54 & 191  &   NA & female & NA\\\\\n",
       "\t 32 & 168  & 78.0 & female & NA\\\\\n",
       "\t 22 & NA   & 54.0 & male.  & NA\\\\\n",
       "\t 21 & 165  &   NA & m      & NA\\\\\n",
       "\t 14 & NA   & 90.2 & Man    & NA\\\\\n",
       "\t 51 & 250  &   NA & female & NA\\\\\n",
       "\t 41 & 20   & 81.0 & female & NA\\\\\n",
       "\t 66 & NA   & 59.0 & male.  & NA\\\\\n",
       "\t 71 & 171  &   NA & m      & NA\\\\\n",
       "\\end{tabular}\n"
      ],
      "text/markdown": [
       "\n",
       "A data.frame: 13 x 5\n",
       "\n",
       "| person_age &lt;int&gt; | person_height &lt;chr&gt; | person_weight &lt;dbl&gt; | person_gender &lt;chr&gt; | empty &lt;lgl&gt; |\n",
       "|---|---|---|---|---|\n",
       "| 23 | 185  |   NA | Male   | NA |\n",
       "| 41 | 175  | 68.3 |    M   | NA |\n",
       "| 11 | 142* | 55.4 | Female | NA |\n",
       "| 12 | NA   | 48.2 | Man    | NA |\n",
       "| 54 | 191  |   NA | female | NA |\n",
       "| 32 | 168  | 78.0 | female | NA |\n",
       "| 22 | NA   | 54.0 | male.  | NA |\n",
       "| 21 | 165  |   NA | m      | NA |\n",
       "| 14 | NA   | 90.2 | Man    | NA |\n",
       "| 51 | 250  |   NA | female | NA |\n",
       "| 41 | 20   | 81.0 | female | NA |\n",
       "| 66 | NA   | 59.0 | male.  | NA |\n",
       "| 71 | 171  |   NA | m      | NA |\n",
       "\n"
      ],
      "text/plain": [
       "   person_age person_height person_weight person_gender empty\n",
       "1  23         185             NA          Male          NA   \n",
       "2  41         175           68.3             M          NA   \n",
       "3  11         142*          55.4          Female        NA   \n",
       "4  12         NA            48.2          Man           NA   \n",
       "5  54         191             NA          female        NA   \n",
       "6  32         168           78.0          female        NA   \n",
       "7  22         NA            54.0          male.         NA   \n",
       "8  21         165             NA          m             NA   \n",
       "9  14         NA            90.2          Man           NA   \n",
       "10 51         250             NA          female        NA   \n",
       "11 41         20            81.0          female        NA   \n",
       "12 66         NA            59.0          male.         NA   \n",
       "13 71         171             NA          m             NA   "
      ]
     },
     "metadata": {},
     "output_type": "display_data"
    }
   ],
   "source": [
    "data"
   ]
  },
  {
   "cell_type": "code",
   "execution_count": 109,
   "id": "3ce4edc3-26fa-4d47-a1c1-737dcbf716c7",
   "metadata": {},
   "outputs": [
    {
     "data": {
      "text/html": [
       "<table class=\"dataframe\">\n",
       "<caption>A data.frame: 13 x 2</caption>\n",
       "<thead>\n",
       "\t<tr><th scope=col>initial</th><th scope=col>coded</th></tr>\n",
       "\t<tr><th scope=col>&lt;chr&gt;</th><th scope=col>&lt;chr&gt;</th></tr>\n",
       "</thead>\n",
       "<tbody>\n",
       "\t<tr><td>Male  </td><td>male  </td></tr>\n",
       "\t<tr><td>   M  </td><td>male  </td></tr>\n",
       "\t<tr><td>Female</td><td>female</td></tr>\n",
       "\t<tr><td>Man   </td><td>male  </td></tr>\n",
       "\t<tr><td>female</td><td>female</td></tr>\n",
       "\t<tr><td>female</td><td>male  </td></tr>\n",
       "\t<tr><td>male. </td><td>male  </td></tr>\n",
       "\t<tr><td>m     </td><td>male  </td></tr>\n",
       "\t<tr><td>Man   </td><td>male  </td></tr>\n",
       "\t<tr><td>female</td><td>female</td></tr>\n",
       "\t<tr><td>female</td><td>male  </td></tr>\n",
       "\t<tr><td>male. </td><td>male  </td></tr>\n",
       "\t<tr><td>m     </td><td>male  </td></tr>\n",
       "</tbody>\n",
       "</table>\n"
      ],
      "text/latex": [
       "A data.frame: 13 x 2\n",
       "\\begin{tabular}{ll}\n",
       " initial & coded\\\\\n",
       " <chr> & <chr>\\\\\n",
       "\\hline\n",
       "\t Male   & male  \\\\\n",
       "\t    M   & male  \\\\\n",
       "\t Female & female\\\\\n",
       "\t Man    & male  \\\\\n",
       "\t female & female\\\\\n",
       "\t female & male  \\\\\n",
       "\t male.  & male  \\\\\n",
       "\t m      & male  \\\\\n",
       "\t Man    & male  \\\\\n",
       "\t female & female\\\\\n",
       "\t female & male  \\\\\n",
       "\t male.  & male  \\\\\n",
       "\t m      & male  \\\\\n",
       "\\end{tabular}\n"
      ],
      "text/markdown": [
       "\n",
       "A data.frame: 13 x 2\n",
       "\n",
       "| initial &lt;chr&gt; | coded &lt;chr&gt; |\n",
       "|---|---|\n",
       "| Male   | male   |\n",
       "|    M   | male   |\n",
       "| Female | female |\n",
       "| Man    | male   |\n",
       "| female | female |\n",
       "| female | male   |\n",
       "| male.  | male   |\n",
       "| m      | male   |\n",
       "| Man    | male   |\n",
       "| female | female |\n",
       "| female | male   |\n",
       "| male.  | male   |\n",
       "| m      | male   |\n",
       "\n"
      ],
      "text/plain": [
       "   initial coded \n",
       "1  Male    male  \n",
       "2     M    male  \n",
       "3  Female  female\n",
       "4  Man     male  \n",
       "5  female  female\n",
       "6  female  male  \n",
       "7  male.   male  \n",
       "8  m       male  \n",
       "9  Man     male  \n",
       "10 female  female\n",
       "11 female  male  \n",
       "12 male.   male  \n",
       "13 m       male  "
      ]
     },
     "metadata": {},
     "output_type": "display_data"
    }
   ],
   "source": [
    "adj_gender <- adist(data$person_gender, m)\n",
    "colnames(adj_gender) <- m\n",
    "rownames(adj_gender) <- data$person_gender\n",
    "gender_data <- data.frame(initial = data$person_gender, coded = m[nums])\n",
    "gender_data \n"
   ]
  },
  {
   "cell_type": "code",
   "execution_count": 110,
   "id": "fe0ec856-de36-43fc-9f52-1f7ff5c461ad",
   "metadata": {},
   "outputs": [],
   "source": [
    "data$person_gender <- gender_data$coded"
   ]
  },
  {
   "cell_type": "code",
   "execution_count": 112,
   "id": "8697aa3c-4338-4f83-8c3f-e5f0c21022ac",
   "metadata": {},
   "outputs": [
    {
     "data": {
      "text/html": [
       "<table class=\"dataframe\">\n",
       "<caption>A data.frame: 13 x 5</caption>\n",
       "<thead>\n",
       "\t<tr><th scope=col>person_age</th><th scope=col>person_height</th><th scope=col>person_weight</th><th scope=col>person_gender</th><th scope=col>empty</th></tr>\n",
       "\t<tr><th scope=col>&lt;int&gt;</th><th scope=col>&lt;chr&gt;</th><th scope=col>&lt;dbl&gt;</th><th scope=col>&lt;chr&gt;</th><th scope=col>&lt;lgl&gt;</th></tr>\n",
       "</thead>\n",
       "<tbody>\n",
       "\t<tr><td>23</td><td>185 </td><td>  NA</td><td>male  </td><td>NA</td></tr>\n",
       "\t<tr><td>41</td><td>175 </td><td>68.3</td><td>male  </td><td>NA</td></tr>\n",
       "\t<tr><td>11</td><td>142*</td><td>55.4</td><td>female</td><td>NA</td></tr>\n",
       "\t<tr><td>12</td><td>NA  </td><td>48.2</td><td>male  </td><td>NA</td></tr>\n",
       "\t<tr><td>54</td><td>191 </td><td>  NA</td><td>female</td><td>NA</td></tr>\n",
       "\t<tr><td>32</td><td>168 </td><td>78.0</td><td>male  </td><td>NA</td></tr>\n",
       "\t<tr><td>22</td><td>NA  </td><td>54.0</td><td>male  </td><td>NA</td></tr>\n",
       "\t<tr><td>21</td><td>165 </td><td>  NA</td><td>male  </td><td>NA</td></tr>\n",
       "\t<tr><td>14</td><td>NA  </td><td>90.2</td><td>male  </td><td>NA</td></tr>\n",
       "\t<tr><td>51</td><td>250 </td><td>  NA</td><td>female</td><td>NA</td></tr>\n",
       "\t<tr><td>41</td><td>20  </td><td>81.0</td><td>male  </td><td>NA</td></tr>\n",
       "\t<tr><td>66</td><td>NA  </td><td>59.0</td><td>male  </td><td>NA</td></tr>\n",
       "\t<tr><td>71</td><td>171 </td><td>  NA</td><td>male  </td><td>NA</td></tr>\n",
       "</tbody>\n",
       "</table>\n"
      ],
      "text/latex": [
       "A data.frame: 13 x 5\n",
       "\\begin{tabular}{lllll}\n",
       " person\\_age & person\\_height & person\\_weight & person\\_gender & empty\\\\\n",
       " <int> & <chr> & <dbl> & <chr> & <lgl>\\\\\n",
       "\\hline\n",
       "\t 23 & 185  &   NA & male   & NA\\\\\n",
       "\t 41 & 175  & 68.3 & male   & NA\\\\\n",
       "\t 11 & 142* & 55.4 & female & NA\\\\\n",
       "\t 12 & NA   & 48.2 & male   & NA\\\\\n",
       "\t 54 & 191  &   NA & female & NA\\\\\n",
       "\t 32 & 168  & 78.0 & male   & NA\\\\\n",
       "\t 22 & NA   & 54.0 & male   & NA\\\\\n",
       "\t 21 & 165  &   NA & male   & NA\\\\\n",
       "\t 14 & NA   & 90.2 & male   & NA\\\\\n",
       "\t 51 & 250  &   NA & female & NA\\\\\n",
       "\t 41 & 20   & 81.0 & male   & NA\\\\\n",
       "\t 66 & NA   & 59.0 & male   & NA\\\\\n",
       "\t 71 & 171  &   NA & male   & NA\\\\\n",
       "\\end{tabular}\n"
      ],
      "text/markdown": [
       "\n",
       "A data.frame: 13 x 5\n",
       "\n",
       "| person_age &lt;int&gt; | person_height &lt;chr&gt; | person_weight &lt;dbl&gt; | person_gender &lt;chr&gt; | empty &lt;lgl&gt; |\n",
       "|---|---|---|---|---|\n",
       "| 23 | 185  |   NA | male   | NA |\n",
       "| 41 | 175  | 68.3 | male   | NA |\n",
       "| 11 | 142* | 55.4 | female | NA |\n",
       "| 12 | NA   | 48.2 | male   | NA |\n",
       "| 54 | 191  |   NA | female | NA |\n",
       "| 32 | 168  | 78.0 | male   | NA |\n",
       "| 22 | NA   | 54.0 | male   | NA |\n",
       "| 21 | 165  |   NA | male   | NA |\n",
       "| 14 | NA   | 90.2 | male   | NA |\n",
       "| 51 | 250  |   NA | female | NA |\n",
       "| 41 | 20   | 81.0 | male   | NA |\n",
       "| 66 | NA   | 59.0 | male   | NA |\n",
       "| 71 | 171  |   NA | male   | NA |\n",
       "\n"
      ],
      "text/plain": [
       "   person_age person_height person_weight person_gender empty\n",
       "1  23         185             NA          male          NA   \n",
       "2  41         175           68.3          male          NA   \n",
       "3  11         142*          55.4          female        NA   \n",
       "4  12         NA            48.2          male          NA   \n",
       "5  54         191             NA          female        NA   \n",
       "6  32         168           78.0          male          NA   \n",
       "7  22         NA            54.0          male          NA   \n",
       "8  21         165             NA          male          NA   \n",
       "9  14         NA            90.2          male          NA   \n",
       "10 51         250             NA          female        NA   \n",
       "11 41         20            81.0          male          NA   \n",
       "12 66         NA            59.0          male          NA   \n",
       "13 71         171             NA          male          NA   "
      ]
     },
     "metadata": {},
     "output_type": "display_data"
    }
   ],
   "source": [
    "data"
   ]
  },
  {
   "cell_type": "code",
   "execution_count": 115,
   "id": "295494ed-2d0b-4b7d-837f-072e6dc48295",
   "metadata": {},
   "outputs": [],
   "source": [
    "data <- data |>\n",
    "    mutate(person_height = str_remove(person_height, pattern = \"[*]\"),\n",
    "          person_height = as.numeric(person_height))"
   ]
  },
  {
   "cell_type": "code",
   "execution_count": 117,
   "id": "cd003603-e7b5-44d8-8b4e-ace9c97e3c9c",
   "metadata": {},
   "outputs": [
    {
     "data": {
      "text/html": [
       "<table class=\"dataframe\">\n",
       "<caption>A data.frame: 13 x 5</caption>\n",
       "<thead>\n",
       "\t<tr><th scope=col>person_age</th><th scope=col>person_height</th><th scope=col>person_weight</th><th scope=col>person_gender</th><th scope=col>empty</th></tr>\n",
       "\t<tr><th scope=col>&lt;int&gt;</th><th scope=col>&lt;dbl&gt;</th><th scope=col>&lt;dbl&gt;</th><th scope=col>&lt;chr&gt;</th><th scope=col>&lt;lgl&gt;</th></tr>\n",
       "</thead>\n",
       "<tbody>\n",
       "\t<tr><td>23</td><td>185</td><td>  NA</td><td>male  </td><td>NA</td></tr>\n",
       "\t<tr><td>41</td><td>175</td><td>68.3</td><td>male  </td><td>NA</td></tr>\n",
       "\t<tr><td>11</td><td>142</td><td>55.4</td><td>female</td><td>NA</td></tr>\n",
       "\t<tr><td>12</td><td> NA</td><td>48.2</td><td>male  </td><td>NA</td></tr>\n",
       "\t<tr><td>54</td><td>191</td><td>  NA</td><td>female</td><td>NA</td></tr>\n",
       "\t<tr><td>32</td><td>168</td><td>78.0</td><td>male  </td><td>NA</td></tr>\n",
       "\t<tr><td>22</td><td> NA</td><td>54.0</td><td>male  </td><td>NA</td></tr>\n",
       "\t<tr><td>21</td><td>165</td><td>  NA</td><td>male  </td><td>NA</td></tr>\n",
       "\t<tr><td>14</td><td> NA</td><td>90.2</td><td>male  </td><td>NA</td></tr>\n",
       "\t<tr><td>51</td><td>250</td><td>  NA</td><td>female</td><td>NA</td></tr>\n",
       "\t<tr><td>41</td><td> 20</td><td>81.0</td><td>male  </td><td>NA</td></tr>\n",
       "\t<tr><td>66</td><td> NA</td><td>59.0</td><td>male  </td><td>NA</td></tr>\n",
       "\t<tr><td>71</td><td>171</td><td>  NA</td><td>male  </td><td>NA</td></tr>\n",
       "</tbody>\n",
       "</table>\n"
      ],
      "text/latex": [
       "A data.frame: 13 x 5\n",
       "\\begin{tabular}{lllll}\n",
       " person\\_age & person\\_height & person\\_weight & person\\_gender & empty\\\\\n",
       " <int> & <dbl> & <dbl> & <chr> & <lgl>\\\\\n",
       "\\hline\n",
       "\t 23 & 185 &   NA & male   & NA\\\\\n",
       "\t 41 & 175 & 68.3 & male   & NA\\\\\n",
       "\t 11 & 142 & 55.4 & female & NA\\\\\n",
       "\t 12 &  NA & 48.2 & male   & NA\\\\\n",
       "\t 54 & 191 &   NA & female & NA\\\\\n",
       "\t 32 & 168 & 78.0 & male   & NA\\\\\n",
       "\t 22 &  NA & 54.0 & male   & NA\\\\\n",
       "\t 21 & 165 &   NA & male   & NA\\\\\n",
       "\t 14 &  NA & 90.2 & male   & NA\\\\\n",
       "\t 51 & 250 &   NA & female & NA\\\\\n",
       "\t 41 &  20 & 81.0 & male   & NA\\\\\n",
       "\t 66 &  NA & 59.0 & male   & NA\\\\\n",
       "\t 71 & 171 &   NA & male   & NA\\\\\n",
       "\\end{tabular}\n"
      ],
      "text/markdown": [
       "\n",
       "A data.frame: 13 x 5\n",
       "\n",
       "| person_age &lt;int&gt; | person_height &lt;dbl&gt; | person_weight &lt;dbl&gt; | person_gender &lt;chr&gt; | empty &lt;lgl&gt; |\n",
       "|---|---|---|---|---|\n",
       "| 23 | 185 |   NA | male   | NA |\n",
       "| 41 | 175 | 68.3 | male   | NA |\n",
       "| 11 | 142 | 55.4 | female | NA |\n",
       "| 12 |  NA | 48.2 | male   | NA |\n",
       "| 54 | 191 |   NA | female | NA |\n",
       "| 32 | 168 | 78.0 | male   | NA |\n",
       "| 22 |  NA | 54.0 | male   | NA |\n",
       "| 21 | 165 |   NA | male   | NA |\n",
       "| 14 |  NA | 90.2 | male   | NA |\n",
       "| 51 | 250 |   NA | female | NA |\n",
       "| 41 |  20 | 81.0 | male   | NA |\n",
       "| 66 |  NA | 59.0 | male   | NA |\n",
       "| 71 | 171 |   NA | male   | NA |\n",
       "\n"
      ],
      "text/plain": [
       "   person_age person_height person_weight person_gender empty\n",
       "1  23         185             NA          male          NA   \n",
       "2  41         175           68.3          male          NA   \n",
       "3  11         142           55.4          female        NA   \n",
       "4  12          NA           48.2          male          NA   \n",
       "5  54         191             NA          female        NA   \n",
       "6  32         168           78.0          male          NA   \n",
       "7  22          NA           54.0          male          NA   \n",
       "8  21         165             NA          male          NA   \n",
       "9  14          NA           90.2          male          NA   \n",
       "10 51         250             NA          female        NA   \n",
       "11 41          20           81.0          male          NA   \n",
       "12 66          NA           59.0          male          NA   \n",
       "13 71         171             NA          male          NA   "
      ]
     },
     "metadata": {},
     "output_type": "display_data"
    }
   ],
   "source": [
    "data"
   ]
  },
  {
   "cell_type": "code",
   "execution_count": 118,
   "id": "fd781bd2-8550-49a9-9152-807c6b278231",
   "metadata": {},
   "outputs": [],
   "source": [
    "write.csv(data, \"data/cleaned1.csv\", row.names = F)"
   ]
  },
  {
   "cell_type": "markdown",
   "id": "3e075650-5c04-4788-bf05-46fc193dd87f",
   "metadata": {},
   "source": [
    "## Заміна пропусків"
   ]
  },
  {
   "cell_type": "code",
   "execution_count": 122,
   "id": "de6c012a-52e4-4315-92fe-eede42e04b55",
   "metadata": {},
   "outputs": [
    {
     "data": {
      "text/html": [
       "<table class=\"dataframe\">\n",
       "<caption>A data.frame: 13 x 5</caption>\n",
       "<thead>\n",
       "\t<tr><th scope=col>person_age</th><th scope=col>person_height</th><th scope=col>person_weight</th><th scope=col>person_gender</th><th scope=col>empty</th></tr>\n",
       "\t<tr><th scope=col>&lt;int&gt;</th><th scope=col>&lt;int&gt;</th><th scope=col>&lt;dbl&gt;</th><th scope=col>&lt;chr&gt;</th><th scope=col>&lt;lgl&gt;</th></tr>\n",
       "</thead>\n",
       "<tbody>\n",
       "\t<tr><td>23</td><td>185</td><td>  NA</td><td>male  </td><td>NA</td></tr>\n",
       "\t<tr><td>41</td><td>175</td><td>68.3</td><td>male  </td><td>NA</td></tr>\n",
       "\t<tr><td>11</td><td>142</td><td>55.4</td><td>female</td><td>NA</td></tr>\n",
       "\t<tr><td>12</td><td> NA</td><td>48.2</td><td>male  </td><td>NA</td></tr>\n",
       "\t<tr><td>54</td><td>191</td><td>  NA</td><td>female</td><td>NA</td></tr>\n",
       "\t<tr><td>32</td><td>168</td><td>78.0</td><td>male  </td><td>NA</td></tr>\n",
       "\t<tr><td>22</td><td> NA</td><td>54.0</td><td>male  </td><td>NA</td></tr>\n",
       "\t<tr><td>21</td><td>165</td><td>  NA</td><td>male  </td><td>NA</td></tr>\n",
       "\t<tr><td>14</td><td> NA</td><td>90.2</td><td>male  </td><td>NA</td></tr>\n",
       "\t<tr><td>51</td><td>250</td><td>  NA</td><td>female</td><td>NA</td></tr>\n",
       "\t<tr><td>41</td><td> 20</td><td>81.0</td><td>male  </td><td>NA</td></tr>\n",
       "\t<tr><td>66</td><td> NA</td><td>59.0</td><td>male  </td><td>NA</td></tr>\n",
       "\t<tr><td>71</td><td>171</td><td>  NA</td><td>male  </td><td>NA</td></tr>\n",
       "</tbody>\n",
       "</table>\n"
      ],
      "text/latex": [
       "A data.frame: 13 x 5\n",
       "\\begin{tabular}{lllll}\n",
       " person\\_age & person\\_height & person\\_weight & person\\_gender & empty\\\\\n",
       " <int> & <int> & <dbl> & <chr> & <lgl>\\\\\n",
       "\\hline\n",
       "\t 23 & 185 &   NA & male   & NA\\\\\n",
       "\t 41 & 175 & 68.3 & male   & NA\\\\\n",
       "\t 11 & 142 & 55.4 & female & NA\\\\\n",
       "\t 12 &  NA & 48.2 & male   & NA\\\\\n",
       "\t 54 & 191 &   NA & female & NA\\\\\n",
       "\t 32 & 168 & 78.0 & male   & NA\\\\\n",
       "\t 22 &  NA & 54.0 & male   & NA\\\\\n",
       "\t 21 & 165 &   NA & male   & NA\\\\\n",
       "\t 14 &  NA & 90.2 & male   & NA\\\\\n",
       "\t 51 & 250 &   NA & female & NA\\\\\n",
       "\t 41 &  20 & 81.0 & male   & NA\\\\\n",
       "\t 66 &  NA & 59.0 & male   & NA\\\\\n",
       "\t 71 & 171 &   NA & male   & NA\\\\\n",
       "\\end{tabular}\n"
      ],
      "text/markdown": [
       "\n",
       "A data.frame: 13 x 5\n",
       "\n",
       "| person_age &lt;int&gt; | person_height &lt;int&gt; | person_weight &lt;dbl&gt; | person_gender &lt;chr&gt; | empty &lt;lgl&gt; |\n",
       "|---|---|---|---|---|\n",
       "| 23 | 185 |   NA | male   | NA |\n",
       "| 41 | 175 | 68.3 | male   | NA |\n",
       "| 11 | 142 | 55.4 | female | NA |\n",
       "| 12 |  NA | 48.2 | male   | NA |\n",
       "| 54 | 191 |   NA | female | NA |\n",
       "| 32 | 168 | 78.0 | male   | NA |\n",
       "| 22 |  NA | 54.0 | male   | NA |\n",
       "| 21 | 165 |   NA | male   | NA |\n",
       "| 14 |  NA | 90.2 | male   | NA |\n",
       "| 51 | 250 |   NA | female | NA |\n",
       "| 41 |  20 | 81.0 | male   | NA |\n",
       "| 66 |  NA | 59.0 | male   | NA |\n",
       "| 71 | 171 |   NA | male   | NA |\n",
       "\n"
      ],
      "text/plain": [
       "   person_age person_height person_weight person_gender empty\n",
       "1  23         185             NA          male          NA   \n",
       "2  41         175           68.3          male          NA   \n",
       "3  11         142           55.4          female        NA   \n",
       "4  12          NA           48.2          male          NA   \n",
       "5  54         191             NA          female        NA   \n",
       "6  32         168           78.0          male          NA   \n",
       "7  22          NA           54.0          male          NA   \n",
       "8  21         165             NA          male          NA   \n",
       "9  14          NA           90.2          male          NA   \n",
       "10 51         250             NA          female        NA   \n",
       "11 41          20           81.0          male          NA   \n",
       "12 66          NA           59.0          male          NA   \n",
       "13 71         171             NA          male          NA   "
      ]
     },
     "metadata": {},
     "output_type": "display_data"
    }
   ],
   "source": [
    "data <- read.csv(\"data/cleaned1.csv\")\n",
    "data"
   ]
  },
  {
   "cell_type": "code",
   "execution_count": 124,
   "id": "e7266650-2423-482b-bc15-642e096c5333",
   "metadata": {},
   "outputs": [],
   "source": [
    "#install.packages(\"mice\")"
   ]
  },
  {
   "cell_type": "code",
   "execution_count": 126,
   "id": "e2a1c6ef-0c3b-48bf-8ad2-71fe1146249c",
   "metadata": {},
   "outputs": [],
   "source": [
    "library(mice)"
   ]
  },
  {
   "cell_type": "code",
   "execution_count": 128,
   "id": "072eb486-8ede-435b-b17e-dd0294740e8b",
   "metadata": {},
   "outputs": [
    {
     "data": {
      "text/html": [
       "<table class=\"dataframe\">\n",
       "<caption>A matrix: 4 x 6 of type dbl</caption>\n",
       "<thead>\n",
       "\t<tr><th></th><th scope=col>person_age</th><th scope=col>person_gender</th><th scope=col>person_height</th><th scope=col>person_weight</th><th scope=col>empty</th><th scope=col></th></tr>\n",
       "</thead>\n",
       "<tbody>\n",
       "\t<tr><th scope=row>4</th><td>1</td><td>1</td><td>1</td><td>1</td><td> 0</td><td> 1</td></tr>\n",
       "\t<tr><th scope=row>5</th><td>1</td><td>1</td><td>1</td><td>0</td><td> 0</td><td> 2</td></tr>\n",
       "\t<tr><th scope=row>4</th><td>1</td><td>1</td><td>0</td><td>1</td><td> 0</td><td> 2</td></tr>\n",
       "\t<tr><th scope=row></th><td>0</td><td>0</td><td>4</td><td>5</td><td>13</td><td>22</td></tr>\n",
       "</tbody>\n",
       "</table>\n"
      ],
      "text/latex": [
       "A matrix: 4 x 6 of type dbl\n",
       "\\begin{tabular}{r|llllll}\n",
       "  & person\\_age & person\\_gender & person\\_height & person\\_weight & empty & \\\\\n",
       "\\hline\n",
       "\t4 & 1 & 1 & 1 & 1 &  0 &  1\\\\\n",
       "\t5 & 1 & 1 & 1 & 0 &  0 &  2\\\\\n",
       "\t4 & 1 & 1 & 0 & 1 &  0 &  2\\\\\n",
       "\t & 0 & 0 & 4 & 5 & 13 & 22\\\\\n",
       "\\end{tabular}\n"
      ],
      "text/markdown": [
       "\n",
       "A matrix: 4 x 6 of type dbl\n",
       "\n",
       "| <!--/--> | person_age | person_gender | person_height | person_weight | empty | <!----> |\n",
       "|---|---|---|---|---|---|---|\n",
       "| 4 | 1 | 1 | 1 | 1 |  0 |  1 |\n",
       "| 5 | 1 | 1 | 1 | 0 |  0 |  2 |\n",
       "| 4 | 1 | 1 | 0 | 1 |  0 |  2 |\n",
       "| <!----> | 0 | 0 | 4 | 5 | 13 | 22 |\n",
       "\n"
      ],
      "text/plain": [
       "  person_age person_gender person_height person_weight empty   \n",
       "4 1          1             1             1              0     1\n",
       "5 1          1             1             0              0     2\n",
       "4 1          1             0             1              0     2\n",
       "  0          0             4             5             13    22"
      ]
     },
     "metadata": {},
     "output_type": "display_data"
    },
    {
     "data": {
      "image/png": "[encoded data removed]",
      "text/plain": [
       "plot without title"
      ]
     },
     "metadata": {
      "image/png": {
       "height": 420,
       "width": 420
      }
     },
     "output_type": "display_data"
    }
   ],
   "source": [
    "md.pattern(data)"
   ]
  },
  {
   "cell_type": "code",
   "execution_count": 133,
   "id": "6a1f15cc-eb2d-47a6-a9b2-f1a14dc239e8",
   "metadata": {},
   "outputs": [],
   "source": [
    "#install.packages(\"VIM\")"
   ]
  },
  {
   "cell_type": "code",
   "execution_count": 132,
   "id": "ca62fbf4-6781-4fa7-8d7d-e54cc9c1bf3e",
   "metadata": {},
   "outputs": [],
   "source": [
    "library(VIM)"
   ]
  },
  {
   "cell_type": "code",
   "execution_count": 135,
   "id": "578374ea-eddb-4392-aa07-594f85cb3373",
   "metadata": {},
   "outputs": [
    {
     "name": "stdout",
     "output_type": "stream",
     "text": [
      "\n",
      " Variables sorted by number of missings: \n",
      "      Variable     Count\n",
      "         empty 1.0000000\n",
      " person_weight 0.3846154\n",
      " person_height 0.3076923\n",
      "    person_age 0.0000000\n",
      " person_gender 0.0000000\n"
     ]
    },
    {
     "data": {
      "text/plain": [
       "\n",
       " Missings in variables:\n",
       "      Variable Count\n",
       " person_height     4\n",
       " person_weight     5\n",
       "         empty    13"
      ]
     },
     "metadata": {},
     "output_type": "display_data"
    },
    {
     "data": {
      "image/png": "[encoded data removed]",
      "text/plain": [
       "plot without title"
      ]
     },
     "metadata": {
      "image/png": {
       "height": 420,
       "width": 420
      }
     },
     "output_type": "display_data"
    }
   ],
   "source": [
    "mice_plot <- aggr(data, \n",
    "                  col=c('navyblue','yellow'),\n",
    "                  numbers=TRUE, \n",
    "                  sortVars=TRUE,\n",
    "                  labels=names(data), \n",
    "                  cex.axis=.7,\n",
    "                  gap=3, \n",
    "                  ylab=c(\"Missing data\",\"Pattern\"))\n",
    "mice_plot"
   ]
  },
  {
   "cell_type": "code",
   "execution_count": 140,
   "id": "f55b8e1c-c309-410d-9099-6f6084ed78d8",
   "metadata": {},
   "outputs": [
    {
     "name": "stderr",
     "output_type": "stream",
     "text": [
      "also installing the dependency 'RcppArmadillo'\n",
      "\n",
      "\n"
     ]
    },
    {
     "name": "stdout",
     "output_type": "stream",
     "text": [
      "\n",
      "  There is a binary version available but the source version is later:\n",
      "                  binary     source needs_compilation\n",
      "RcppArmadillo 0.12.2.0.0 0.12.8.2.1              TRUE\n",
      "\n",
      "  Binaries will be installed\n",
      "package 'RcppArmadillo' successfully unpacked and MD5 sums checked\n",
      "package 'Amelia' successfully unpacked and MD5 sums checked\n",
      "\n",
      "The downloaded binary packages are in\n",
      "\tC:\\Users\\User\\AppData\\Local\\Temp\\RtmpcNFcIt\\downloaded_packages\n"
     ]
    }
   ],
   "source": [
    "#install.packages(\"Amelia\")"
   ]
  },
  {
   "cell_type": "code",
   "execution_count": 142,
   "id": "561cb02c-b8dd-41cc-9abe-eb2f25f09b9d",
   "metadata": {},
   "outputs": [
    {
     "data": {
      "image/png": "[encoded data removed]",
      "text/plain": [
       "Plot with title \"Missingness Map\""
      ]
     },
     "metadata": {
      "image/png": {
       "height": 420,
       "width": 420
      }
     },
     "output_type": "display_data"
    }
   ],
   "source": [
    "library(Amelia)\n",
    "missmap(data)"
   ]
  },
  {
   "cell_type": "code",
   "execution_count": 144,
   "id": "8210b277-d63d-4b5e-8de0-bcb866782d94",
   "metadata": {},
   "outputs": [
    {
     "data": {
      "text/html": [
       "<style>\n",
       ".list-inline {list-style: none; margin:0; padding: 0}\n",
       ".list-inline>li {display: inline-block}\n",
       ".list-inline>li:not(:last-child)::after {content: \"\\00b7\"; padding: 0 .5ex}\n",
       "</style>\n",
       "<ol class=list-inline><li>'person_height'</li><li>'person_weight'</li><li>'empty'</li></ol>\n"
      ],
      "text/latex": [
       "\\begin{enumerate*}\n",
       "\\item 'person\\_height'\n",
       "\\item 'person\\_weight'\n",
       "\\item 'empty'\n",
       "\\end{enumerate*}\n"
      ],
      "text/markdown": [
       "1. 'person_height'\n",
       "2. 'person_weight'\n",
       "3. 'empty'\n",
       "\n",
       "\n"
      ],
      "text/plain": [
       "[1] \"person_height\" \"person_weight\" \"empty\"        "
      ]
     },
     "metadata": {},
     "output_type": "display_data"
    }
   ],
   "source": [
    "colnames(data)[apply(data, 2, anyNA)]"
   ]
  },
  {
   "cell_type": "code",
   "execution_count": 146,
   "id": "4c9bb5ae-e3f5-40f4-a284-ee61266c8f32",
   "metadata": {},
   "outputs": [
    {
     "data": {
      "text/html": [
       "TRUE"
      ],
      "text/latex": [
       "TRUE"
      ],
      "text/markdown": [
       "TRUE"
      ],
      "text/plain": [
       "[1] TRUE"
      ]
     },
     "metadata": {},
     "output_type": "display_data"
    }
   ],
   "source": [
    "anyNA(data)"
   ]
  },
  {
   "cell_type": "code",
   "execution_count": 147,
   "id": "3fd3652b-500c-4831-ac1d-43c1be146510",
   "metadata": {},
   "outputs": [
    {
     "data": {
      "text/html": [
       "<table class=\"dataframe\">\n",
       "<caption>A data.frame: 13 x 5</caption>\n",
       "<thead>\n",
       "\t<tr><th scope=col>person_age</th><th scope=col>person_height</th><th scope=col>person_weight</th><th scope=col>person_gender</th><th scope=col>empty</th></tr>\n",
       "\t<tr><th scope=col>&lt;int&gt;</th><th scope=col>&lt;int&gt;</th><th scope=col>&lt;dbl&gt;</th><th scope=col>&lt;chr&gt;</th><th scope=col>&lt;lgl&gt;</th></tr>\n",
       "</thead>\n",
       "<tbody>\n",
       "\t<tr><td>23</td><td>185</td><td>  NA</td><td>male  </td><td>NA</td></tr>\n",
       "\t<tr><td>41</td><td>175</td><td>68.3</td><td>male  </td><td>NA</td></tr>\n",
       "\t<tr><td>11</td><td>142</td><td>55.4</td><td>female</td><td>NA</td></tr>\n",
       "\t<tr><td>12</td><td> NA</td><td>48.2</td><td>male  </td><td>NA</td></tr>\n",
       "\t<tr><td>54</td><td>191</td><td>  NA</td><td>female</td><td>NA</td></tr>\n",
       "\t<tr><td>32</td><td>168</td><td>78.0</td><td>male  </td><td>NA</td></tr>\n",
       "\t<tr><td>22</td><td> NA</td><td>54.0</td><td>male  </td><td>NA</td></tr>\n",
       "\t<tr><td>21</td><td>165</td><td>  NA</td><td>male  </td><td>NA</td></tr>\n",
       "\t<tr><td>14</td><td> NA</td><td>90.2</td><td>male  </td><td>NA</td></tr>\n",
       "\t<tr><td>51</td><td>250</td><td>  NA</td><td>female</td><td>NA</td></tr>\n",
       "\t<tr><td>41</td><td> 20</td><td>81.0</td><td>male  </td><td>NA</td></tr>\n",
       "\t<tr><td>66</td><td> NA</td><td>59.0</td><td>male  </td><td>NA</td></tr>\n",
       "\t<tr><td>71</td><td>171</td><td>  NA</td><td>male  </td><td>NA</td></tr>\n",
       "</tbody>\n",
       "</table>\n"
      ],
      "text/latex": [
       "A data.frame: 13 x 5\n",
       "\\begin{tabular}{lllll}\n",
       " person\\_age & person\\_height & person\\_weight & person\\_gender & empty\\\\\n",
       " <int> & <int> & <dbl> & <chr> & <lgl>\\\\\n",
       "\\hline\n",
       "\t 23 & 185 &   NA & male   & NA\\\\\n",
       "\t 41 & 175 & 68.3 & male   & NA\\\\\n",
       "\t 11 & 142 & 55.4 & female & NA\\\\\n",
       "\t 12 &  NA & 48.2 & male   & NA\\\\\n",
       "\t 54 & 191 &   NA & female & NA\\\\\n",
       "\t 32 & 168 & 78.0 & male   & NA\\\\\n",
       "\t 22 &  NA & 54.0 & male   & NA\\\\\n",
       "\t 21 & 165 &   NA & male   & NA\\\\\n",
       "\t 14 &  NA & 90.2 & male   & NA\\\\\n",
       "\t 51 & 250 &   NA & female & NA\\\\\n",
       "\t 41 &  20 & 81.0 & male   & NA\\\\\n",
       "\t 66 &  NA & 59.0 & male   & NA\\\\\n",
       "\t 71 & 171 &   NA & male   & NA\\\\\n",
       "\\end{tabular}\n"
      ],
      "text/markdown": [
       "\n",
       "A data.frame: 13 x 5\n",
       "\n",
       "| person_age &lt;int&gt; | person_height &lt;int&gt; | person_weight &lt;dbl&gt; | person_gender &lt;chr&gt; | empty &lt;lgl&gt; |\n",
       "|---|---|---|---|---|\n",
       "| 23 | 185 |   NA | male   | NA |\n",
       "| 41 | 175 | 68.3 | male   | NA |\n",
       "| 11 | 142 | 55.4 | female | NA |\n",
       "| 12 |  NA | 48.2 | male   | NA |\n",
       "| 54 | 191 |   NA | female | NA |\n",
       "| 32 | 168 | 78.0 | male   | NA |\n",
       "| 22 |  NA | 54.0 | male   | NA |\n",
       "| 21 | 165 |   NA | male   | NA |\n",
       "| 14 |  NA | 90.2 | male   | NA |\n",
       "| 51 | 250 |   NA | female | NA |\n",
       "| 41 |  20 | 81.0 | male   | NA |\n",
       "| 66 |  NA | 59.0 | male   | NA |\n",
       "| 71 | 171 |   NA | male   | NA |\n",
       "\n"
      ],
      "text/plain": [
       "   person_age person_height person_weight person_gender empty\n",
       "1  23         185             NA          male          NA   \n",
       "2  41         175           68.3          male          NA   \n",
       "3  11         142           55.4          female        NA   \n",
       "4  12          NA           48.2          male          NA   \n",
       "5  54         191             NA          female        NA   \n",
       "6  32         168           78.0          male          NA   \n",
       "7  22          NA           54.0          male          NA   \n",
       "8  21         165             NA          male          NA   \n",
       "9  14          NA           90.2          male          NA   \n",
       "10 51         250             NA          female        NA   \n",
       "11 41          20           81.0          male          NA   \n",
       "12 66          NA           59.0          male          NA   \n",
       "13 71         171             NA          male          NA   "
      ]
     },
     "metadata": {},
     "output_type": "display_data"
    }
   ],
   "source": [
    "data"
   ]
  },
  {
   "cell_type": "code",
   "execution_count": 149,
   "id": "443ac86a-f67d-49d4-8bb2-63dc2510502d",
   "metadata": {},
   "outputs": [
    {
     "data": {
      "text/html": [
       "<style>\n",
       ".list-inline {list-style: none; margin:0; padding: 0}\n",
       ".list-inline>li {display: inline-block}\n",
       ".list-inline>li:not(:last-child)::after {content: \"\\00b7\"; padding: 0 .5ex}\n",
       "</style>\n",
       "<ol class=list-inline><li>FALSE</li><li>FALSE</li><li>FALSE</li><li>FALSE</li><li>FALSE</li><li>FALSE</li><li>FALSE</li><li>FALSE</li><li>FALSE</li><li>FALSE</li><li>FALSE</li><li>FALSE</li><li>FALSE</li></ol>\n"
      ],
      "text/latex": [
       "\\begin{enumerate*}\n",
       "\\item FALSE\n",
       "\\item FALSE\n",
       "\\item FALSE\n",
       "\\item FALSE\n",
       "\\item FALSE\n",
       "\\item FALSE\n",
       "\\item FALSE\n",
       "\\item FALSE\n",
       "\\item FALSE\n",
       "\\item FALSE\n",
       "\\item FALSE\n",
       "\\item FALSE\n",
       "\\item FALSE\n",
       "\\end{enumerate*}\n"
      ],
      "text/markdown": [
       "1. FALSE\n",
       "2. FALSE\n",
       "3. FALSE\n",
       "4. FALSE\n",
       "5. FALSE\n",
       "6. FALSE\n",
       "7. FALSE\n",
       "8. FALSE\n",
       "9. FALSE\n",
       "10. FALSE\n",
       "11. FALSE\n",
       "12. FALSE\n",
       "13. FALSE\n",
       "\n",
       "\n"
      ],
      "text/plain": [
       " [1] FALSE FALSE FALSE FALSE FALSE FALSE FALSE FALSE FALSE FALSE FALSE FALSE\n",
       "[13] FALSE"
      ]
     },
     "metadata": {},
     "output_type": "display_data"
    }
   ],
   "source": [
    "complete.cases(data)"
   ]
  },
  {
   "cell_type": "code",
   "execution_count": 152,
   "id": "79c11c47-0b1d-472c-9bd8-46fcbe1c0c7e",
   "metadata": {},
   "outputs": [
    {
     "data": {
      "text/html": [
       "<table class=\"dataframe\">\n",
       "<caption>A data.frame: 13 x 4</caption>\n",
       "<thead>\n",
       "\t<tr><th></th><th scope=col>person_age</th><th scope=col>person_height</th><th scope=col>person_weight</th><th scope=col>person_gender</th></tr>\n",
       "\t<tr><th></th><th scope=col>&lt;int&gt;</th><th scope=col>&lt;int&gt;</th><th scope=col>&lt;dbl&gt;</th><th scope=col>&lt;chr&gt;</th></tr>\n",
       "</thead>\n",
       "<tbody>\n",
       "\t<tr><th scope=row>1</th><td>23</td><td>185</td><td>  NA</td><td>male  </td></tr>\n",
       "\t<tr><th scope=row>2</th><td>41</td><td>175</td><td>68.3</td><td>male  </td></tr>\n",
       "\t<tr><th scope=row>3</th><td>11</td><td>142</td><td>55.4</td><td>female</td></tr>\n",
       "\t<tr><th scope=row>4</th><td>12</td><td> NA</td><td>48.2</td><td>male  </td></tr>\n",
       "\t<tr><th scope=row>5</th><td>54</td><td>191</td><td>  NA</td><td>female</td></tr>\n",
       "\t<tr><th scope=row>6</th><td>32</td><td>168</td><td>78.0</td><td>male  </td></tr>\n",
       "\t<tr><th scope=row>7</th><td>22</td><td> NA</td><td>54.0</td><td>male  </td></tr>\n",
       "\t<tr><th scope=row>8</th><td>21</td><td>165</td><td>  NA</td><td>male  </td></tr>\n",
       "\t<tr><th scope=row>9</th><td>14</td><td> NA</td><td>90.2</td><td>male  </td></tr>\n",
       "\t<tr><th scope=row>10</th><td>51</td><td>250</td><td>  NA</td><td>female</td></tr>\n",
       "\t<tr><th scope=row>11</th><td>41</td><td> 20</td><td>81.0</td><td>male  </td></tr>\n",
       "\t<tr><th scope=row>12</th><td>66</td><td> NA</td><td>59.0</td><td>male  </td></tr>\n",
       "\t<tr><th scope=row>13</th><td>71</td><td>171</td><td>  NA</td><td>male  </td></tr>\n",
       "</tbody>\n",
       "</table>\n"
      ],
      "text/latex": [
       "A data.frame: 13 x 4\n",
       "\\begin{tabular}{r|llll}\n",
       "  & person\\_age & person\\_height & person\\_weight & person\\_gender\\\\\n",
       "  & <int> & <int> & <dbl> & <chr>\\\\\n",
       "\\hline\n",
       "\t1 & 23 & 185 &   NA & male  \\\\\n",
       "\t2 & 41 & 175 & 68.3 & male  \\\\\n",
       "\t3 & 11 & 142 & 55.4 & female\\\\\n",
       "\t4 & 12 &  NA & 48.2 & male  \\\\\n",
       "\t5 & 54 & 191 &   NA & female\\\\\n",
       "\t6 & 32 & 168 & 78.0 & male  \\\\\n",
       "\t7 & 22 &  NA & 54.0 & male  \\\\\n",
       "\t8 & 21 & 165 &   NA & male  \\\\\n",
       "\t9 & 14 &  NA & 90.2 & male  \\\\\n",
       "\t10 & 51 & 250 &   NA & female\\\\\n",
       "\t11 & 41 &  20 & 81.0 & male  \\\\\n",
       "\t12 & 66 &  NA & 59.0 & male  \\\\\n",
       "\t13 & 71 & 171 &   NA & male  \\\\\n",
       "\\end{tabular}\n"
      ],
      "text/markdown": [
       "\n",
       "A data.frame: 13 x 4\n",
       "\n",
       "| <!--/--> | person_age &lt;int&gt; | person_height &lt;int&gt; | person_weight &lt;dbl&gt; | person_gender &lt;chr&gt; |\n",
       "|---|---|---|---|---|\n",
       "| 1 | 23 | 185 |   NA | male   |\n",
       "| 2 | 41 | 175 | 68.3 | male   |\n",
       "| 3 | 11 | 142 | 55.4 | female |\n",
       "| 4 | 12 |  NA | 48.2 | male   |\n",
       "| 5 | 54 | 191 |   NA | female |\n",
       "| 6 | 32 | 168 | 78.0 | male   |\n",
       "| 7 | 22 |  NA | 54.0 | male   |\n",
       "| 8 | 21 | 165 |   NA | male   |\n",
       "| 9 | 14 |  NA | 90.2 | male   |\n",
       "| 10 | 51 | 250 |   NA | female |\n",
       "| 11 | 41 |  20 | 81.0 | male   |\n",
       "| 12 | 66 |  NA | 59.0 | male   |\n",
       "| 13 | 71 | 171 |   NA | male   |\n",
       "\n"
      ],
      "text/plain": [
       "   person_age person_height person_weight person_gender\n",
       "1  23         185             NA          male         \n",
       "2  41         175           68.3          male         \n",
       "3  11         142           55.4          female       \n",
       "4  12          NA           48.2          male         \n",
       "5  54         191             NA          female       \n",
       "6  32         168           78.0          male         \n",
       "7  22          NA           54.0          male         \n",
       "8  21         165             NA          male         \n",
       "9  14          NA           90.2          male         \n",
       "10 51         250             NA          female       \n",
       "11 41          20           81.0          male         \n",
       "12 66          NA           59.0          male         \n",
       "13 71         171             NA          male         "
      ]
     },
     "metadata": {},
     "output_type": "display_data"
    }
   ],
   "source": [
    "# data$empty <- NULL\n",
    "\n",
    "cleaned_data <- data |> remove_empty(which = c(\"cols\", \"rows\"))\n",
    "cleaned_data"
   ]
  },
  {
   "cell_type": "code",
   "execution_count": 156,
   "id": "5c0f2129-e51f-4506-a126-bc4c9fa031cf",
   "metadata": {},
   "outputs": [
    {
     "data": {
      "text/html": [
       "<table class=\"dataframe\">\n",
       "<caption>A data.frame: 4 x 4</caption>\n",
       "<thead>\n",
       "\t<tr><th></th><th scope=col>person_age</th><th scope=col>person_height</th><th scope=col>person_weight</th><th scope=col>person_gender</th></tr>\n",
       "\t<tr><th></th><th scope=col>&lt;int&gt;</th><th scope=col>&lt;int&gt;</th><th scope=col>&lt;dbl&gt;</th><th scope=col>&lt;chr&gt;</th></tr>\n",
       "</thead>\n",
       "<tbody>\n",
       "\t<tr><th scope=row>2</th><td>41</td><td>175</td><td>68.3</td><td>male  </td></tr>\n",
       "\t<tr><th scope=row>3</th><td>11</td><td>142</td><td>55.4</td><td>female</td></tr>\n",
       "\t<tr><th scope=row>6</th><td>32</td><td>168</td><td>78.0</td><td>male  </td></tr>\n",
       "\t<tr><th scope=row>11</th><td>41</td><td> 20</td><td>81.0</td><td>male  </td></tr>\n",
       "</tbody>\n",
       "</table>\n"
      ],
      "text/latex": [
       "A data.frame: 4 x 4\n",
       "\\begin{tabular}{r|llll}\n",
       "  & person\\_age & person\\_height & person\\_weight & person\\_gender\\\\\n",
       "  & <int> & <int> & <dbl> & <chr>\\\\\n",
       "\\hline\n",
       "\t2 & 41 & 175 & 68.3 & male  \\\\\n",
       "\t3 & 11 & 142 & 55.4 & female\\\\\n",
       "\t6 & 32 & 168 & 78.0 & male  \\\\\n",
       "\t11 & 41 &  20 & 81.0 & male  \\\\\n",
       "\\end{tabular}\n"
      ],
      "text/markdown": [
       "\n",
       "A data.frame: 4 x 4\n",
       "\n",
       "| <!--/--> | person_age &lt;int&gt; | person_height &lt;int&gt; | person_weight &lt;dbl&gt; | person_gender &lt;chr&gt; |\n",
       "|---|---|---|---|---|\n",
       "| 2 | 41 | 175 | 68.3 | male   |\n",
       "| 3 | 11 | 142 | 55.4 | female |\n",
       "| 6 | 32 | 168 | 78.0 | male   |\n",
       "| 11 | 41 |  20 | 81.0 | male   |\n",
       "\n"
      ],
      "text/plain": [
       "   person_age person_height person_weight person_gender\n",
       "2  41         175           68.3          male         \n",
       "3  11         142           55.4          female       \n",
       "6  32         168           78.0          male         \n",
       "11 41          20           81.0          male         "
      ]
     },
     "metadata": {},
     "output_type": "display_data"
    }
   ],
   "source": [
    "cleaned_data[complete.cases(cleaned_data),]"
   ]
  },
  {
   "cell_type": "code",
   "execution_count": 159,
   "id": "820625d8-920c-4cda-b946-94556eb3a49a",
   "metadata": {},
   "outputs": [
    {
     "data": {
      "text/html": [
       "<table class=\"dataframe\">\n",
       "<caption>A data.frame: 4 x 4</caption>\n",
       "<thead>\n",
       "\t<tr><th></th><th scope=col>person_age</th><th scope=col>person_height</th><th scope=col>person_weight</th><th scope=col>person_gender</th></tr>\n",
       "\t<tr><th></th><th scope=col>&lt;int&gt;</th><th scope=col>&lt;int&gt;</th><th scope=col>&lt;dbl&gt;</th><th scope=col>&lt;chr&gt;</th></tr>\n",
       "</thead>\n",
       "<tbody>\n",
       "\t<tr><th scope=row>2</th><td>41</td><td>175</td><td>68.3</td><td>male  </td></tr>\n",
       "\t<tr><th scope=row>3</th><td>11</td><td>142</td><td>55.4</td><td>female</td></tr>\n",
       "\t<tr><th scope=row>6</th><td>32</td><td>168</td><td>78.0</td><td>male  </td></tr>\n",
       "\t<tr><th scope=row>11</th><td>41</td><td> 20</td><td>81.0</td><td>male  </td></tr>\n",
       "</tbody>\n",
       "</table>\n"
      ],
      "text/latex": [
       "A data.frame: 4 x 4\n",
       "\\begin{tabular}{r|llll}\n",
       "  & person\\_age & person\\_height & person\\_weight & person\\_gender\\\\\n",
       "  & <int> & <int> & <dbl> & <chr>\\\\\n",
       "\\hline\n",
       "\t2 & 41 & 175 & 68.3 & male  \\\\\n",
       "\t3 & 11 & 142 & 55.4 & female\\\\\n",
       "\t6 & 32 & 168 & 78.0 & male  \\\\\n",
       "\t11 & 41 &  20 & 81.0 & male  \\\\\n",
       "\\end{tabular}\n"
      ],
      "text/markdown": [
       "\n",
       "A data.frame: 4 x 4\n",
       "\n",
       "| <!--/--> | person_age &lt;int&gt; | person_height &lt;int&gt; | person_weight &lt;dbl&gt; | person_gender &lt;chr&gt; |\n",
       "|---|---|---|---|---|\n",
       "| 2 | 41 | 175 | 68.3 | male   |\n",
       "| 3 | 11 | 142 | 55.4 | female |\n",
       "| 6 | 32 | 168 | 78.0 | male   |\n",
       "| 11 | 41 |  20 | 81.0 | male   |\n",
       "\n"
      ],
      "text/plain": [
       "   person_age person_height person_weight person_gender\n",
       "2  41         175           68.3          male         \n",
       "3  11         142           55.4          female       \n",
       "6  32         168           78.0          male         \n",
       "11 41          20           81.0          male         "
      ]
     },
     "metadata": {},
     "output_type": "display_data"
    }
   ],
   "source": [
    "na.omit(cleaned_data)"
   ]
  },
  {
   "cell_type": "code",
   "execution_count": 161,
   "id": "452abffc-fb03-47dd-9300-32335801083f",
   "metadata": {},
   "outputs": [
    {
     "data": {
      "text/html": [
       "<table class=\"dataframe\">\n",
       "<caption>A data.frame: 13 x 5</caption>\n",
       "<thead>\n",
       "\t<tr><th scope=col>person_age</th><th scope=col>person_height</th><th scope=col>person_weight</th><th scope=col>person_gender</th><th scope=col>empty</th></tr>\n",
       "\t<tr><th scope=col>&lt;int&gt;</th><th scope=col>&lt;int&gt;</th><th scope=col>&lt;dbl&gt;</th><th scope=col>&lt;chr&gt;</th><th scope=col>&lt;lgl&gt;</th></tr>\n",
       "</thead>\n",
       "<tbody>\n",
       "\t<tr><td>23</td><td>185</td><td> 0.0</td><td>male  </td><td>NA</td></tr>\n",
       "\t<tr><td>41</td><td>175</td><td>68.3</td><td>male  </td><td>NA</td></tr>\n",
       "\t<tr><td>11</td><td>142</td><td>55.4</td><td>female</td><td>NA</td></tr>\n",
       "\t<tr><td>12</td><td> NA</td><td>48.2</td><td>male  </td><td>NA</td></tr>\n",
       "\t<tr><td>54</td><td>191</td><td> 0.0</td><td>female</td><td>NA</td></tr>\n",
       "\t<tr><td>32</td><td>168</td><td>78.0</td><td>male  </td><td>NA</td></tr>\n",
       "\t<tr><td>22</td><td> NA</td><td>54.0</td><td>male  </td><td>NA</td></tr>\n",
       "\t<tr><td>21</td><td>165</td><td> 0.0</td><td>male  </td><td>NA</td></tr>\n",
       "\t<tr><td>14</td><td> NA</td><td>90.2</td><td>male  </td><td>NA</td></tr>\n",
       "\t<tr><td>51</td><td>250</td><td> 0.0</td><td>female</td><td>NA</td></tr>\n",
       "\t<tr><td>41</td><td> 20</td><td>81.0</td><td>male  </td><td>NA</td></tr>\n",
       "\t<tr><td>66</td><td> NA</td><td>59.0</td><td>male  </td><td>NA</td></tr>\n",
       "\t<tr><td>71</td><td>171</td><td> 0.0</td><td>male  </td><td>NA</td></tr>\n",
       "</tbody>\n",
       "</table>\n"
      ],
      "text/latex": [
       "A data.frame: 13 x 5\n",
       "\\begin{tabular}{lllll}\n",
       " person\\_age & person\\_height & person\\_weight & person\\_gender & empty\\\\\n",
       " <int> & <int> & <dbl> & <chr> & <lgl>\\\\\n",
       "\\hline\n",
       "\t 23 & 185 &  0.0 & male   & NA\\\\\n",
       "\t 41 & 175 & 68.3 & male   & NA\\\\\n",
       "\t 11 & 142 & 55.4 & female & NA\\\\\n",
       "\t 12 &  NA & 48.2 & male   & NA\\\\\n",
       "\t 54 & 191 &  0.0 & female & NA\\\\\n",
       "\t 32 & 168 & 78.0 & male   & NA\\\\\n",
       "\t 22 &  NA & 54.0 & male   & NA\\\\\n",
       "\t 21 & 165 &  0.0 & male   & NA\\\\\n",
       "\t 14 &  NA & 90.2 & male   & NA\\\\\n",
       "\t 51 & 250 &  0.0 & female & NA\\\\\n",
       "\t 41 &  20 & 81.0 & male   & NA\\\\\n",
       "\t 66 &  NA & 59.0 & male   & NA\\\\\n",
       "\t 71 & 171 &  0.0 & male   & NA\\\\\n",
       "\\end{tabular}\n"
      ],
      "text/markdown": [
       "\n",
       "A data.frame: 13 x 5\n",
       "\n",
       "| person_age &lt;int&gt; | person_height &lt;int&gt; | person_weight &lt;dbl&gt; | person_gender &lt;chr&gt; | empty &lt;lgl&gt; |\n",
       "|---|---|---|---|---|\n",
       "| 23 | 185 |  0.0 | male   | NA |\n",
       "| 41 | 175 | 68.3 | male   | NA |\n",
       "| 11 | 142 | 55.4 | female | NA |\n",
       "| 12 |  NA | 48.2 | male   | NA |\n",
       "| 54 | 191 |  0.0 | female | NA |\n",
       "| 32 | 168 | 78.0 | male   | NA |\n",
       "| 22 |  NA | 54.0 | male   | NA |\n",
       "| 21 | 165 |  0.0 | male   | NA |\n",
       "| 14 |  NA | 90.2 | male   | NA |\n",
       "| 51 | 250 |  0.0 | female | NA |\n",
       "| 41 |  20 | 81.0 | male   | NA |\n",
       "| 66 |  NA | 59.0 | male   | NA |\n",
       "| 71 | 171 |  0.0 | male   | NA |\n",
       "\n"
      ],
      "text/plain": [
       "   person_age person_height person_weight person_gender empty\n",
       "1  23         185            0.0          male          NA   \n",
       "2  41         175           68.3          male          NA   \n",
       "3  11         142           55.4          female        NA   \n",
       "4  12          NA           48.2          male          NA   \n",
       "5  54         191            0.0          female        NA   \n",
       "6  32         168           78.0          male          NA   \n",
       "7  22          NA           54.0          male          NA   \n",
       "8  21         165            0.0          male          NA   \n",
       "9  14          NA           90.2          male          NA   \n",
       "10 51         250            0.0          female        NA   \n",
       "11 41          20           81.0          male          NA   \n",
       "12 66          NA           59.0          male          NA   \n",
       "13 71         171            0.0          male          NA   "
      ]
     },
     "metadata": {},
     "output_type": "display_data"
    }
   ],
   "source": [
    "data |>\n",
    "    mutate(person_weight = ifelse(is.na(person_weight), 0, person_weight))"
   ]
  },
  {
   "cell_type": "code",
   "execution_count": 163,
   "id": "745002fb-c131-49e4-87bd-dcf6d5247a90",
   "metadata": {},
   "outputs": [],
   "source": [
    "library(tidyr)"
   ]
  },
  {
   "cell_type": "code",
   "execution_count": 170,
   "id": "f55bfdfe-74c5-49cf-9f84-7ae2b86f102a",
   "metadata": {},
   "outputs": [
    {
     "data": {
      "text/html": [
       "<table class=\"dataframe\">\n",
       "<caption>A data.frame: 13 x 5</caption>\n",
       "<thead>\n",
       "\t<tr><th scope=col>person_age</th><th scope=col>person_height</th><th scope=col>person_weight</th><th scope=col>person_gender</th><th scope=col>empty</th></tr>\n",
       "\t<tr><th scope=col>&lt;int&gt;</th><th scope=col>&lt;int&gt;</th><th scope=col>&lt;dbl&gt;</th><th scope=col>&lt;chr&gt;</th><th scope=col>&lt;lgl&gt;</th></tr>\n",
       "</thead>\n",
       "<tbody>\n",
       "\t<tr><td>23</td><td>185</td><td> 0.0</td><td>male  </td><td>NA</td></tr>\n",
       "\t<tr><td>41</td><td>175</td><td>68.3</td><td>male  </td><td>NA</td></tr>\n",
       "\t<tr><td>11</td><td>142</td><td>55.4</td><td>female</td><td>NA</td></tr>\n",
       "\t<tr><td>12</td><td>  0</td><td>48.2</td><td>male  </td><td>NA</td></tr>\n",
       "\t<tr><td>54</td><td>191</td><td> 0.0</td><td>female</td><td>NA</td></tr>\n",
       "\t<tr><td>32</td><td>168</td><td>78.0</td><td>male  </td><td>NA</td></tr>\n",
       "\t<tr><td>22</td><td>  0</td><td>54.0</td><td>male  </td><td>NA</td></tr>\n",
       "\t<tr><td>21</td><td>165</td><td> 0.0</td><td>male  </td><td>NA</td></tr>\n",
       "\t<tr><td>14</td><td>  0</td><td>90.2</td><td>male  </td><td>NA</td></tr>\n",
       "\t<tr><td>51</td><td>250</td><td> 0.0</td><td>female</td><td>NA</td></tr>\n",
       "\t<tr><td>41</td><td> 20</td><td>81.0</td><td>male  </td><td>NA</td></tr>\n",
       "\t<tr><td>66</td><td>  0</td><td>59.0</td><td>male  </td><td>NA</td></tr>\n",
       "\t<tr><td>71</td><td>171</td><td> 0.0</td><td>male  </td><td>NA</td></tr>\n",
       "</tbody>\n",
       "</table>\n"
      ],
      "text/latex": [
       "A data.frame: 13 x 5\n",
       "\\begin{tabular}{lllll}\n",
       " person\\_age & person\\_height & person\\_weight & person\\_gender & empty\\\\\n",
       " <int> & <int> & <dbl> & <chr> & <lgl>\\\\\n",
       "\\hline\n",
       "\t 23 & 185 &  0.0 & male   & NA\\\\\n",
       "\t 41 & 175 & 68.3 & male   & NA\\\\\n",
       "\t 11 & 142 & 55.4 & female & NA\\\\\n",
       "\t 12 &   0 & 48.2 & male   & NA\\\\\n",
       "\t 54 & 191 &  0.0 & female & NA\\\\\n",
       "\t 32 & 168 & 78.0 & male   & NA\\\\\n",
       "\t 22 &   0 & 54.0 & male   & NA\\\\\n",
       "\t 21 & 165 &  0.0 & male   & NA\\\\\n",
       "\t 14 &   0 & 90.2 & male   & NA\\\\\n",
       "\t 51 & 250 &  0.0 & female & NA\\\\\n",
       "\t 41 &  20 & 81.0 & male   & NA\\\\\n",
       "\t 66 &   0 & 59.0 & male   & NA\\\\\n",
       "\t 71 & 171 &  0.0 & male   & NA\\\\\n",
       "\\end{tabular}\n"
      ],
      "text/markdown": [
       "\n",
       "A data.frame: 13 x 5\n",
       "\n",
       "| person_age &lt;int&gt; | person_height &lt;int&gt; | person_weight &lt;dbl&gt; | person_gender &lt;chr&gt; | empty &lt;lgl&gt; |\n",
       "|---|---|---|---|---|\n",
       "| 23 | 185 |  0.0 | male   | NA |\n",
       "| 41 | 175 | 68.3 | male   | NA |\n",
       "| 11 | 142 | 55.4 | female | NA |\n",
       "| 12 |   0 | 48.2 | male   | NA |\n",
       "| 54 | 191 |  0.0 | female | NA |\n",
       "| 32 | 168 | 78.0 | male   | NA |\n",
       "| 22 |   0 | 54.0 | male   | NA |\n",
       "| 21 | 165 |  0.0 | male   | NA |\n",
       "| 14 |   0 | 90.2 | male   | NA |\n",
       "| 51 | 250 |  0.0 | female | NA |\n",
       "| 41 |  20 | 81.0 | male   | NA |\n",
       "| 66 |   0 | 59.0 | male   | NA |\n",
       "| 71 | 171 |  0.0 | male   | NA |\n",
       "\n"
      ],
      "text/plain": [
       "   person_age person_height person_weight person_gender empty\n",
       "1  23         185            0.0          male          NA   \n",
       "2  41         175           68.3          male          NA   \n",
       "3  11         142           55.4          female        NA   \n",
       "4  12           0           48.2          male          NA   \n",
       "5  54         191            0.0          female        NA   \n",
       "6  32         168           78.0          male          NA   \n",
       "7  22           0           54.0          male          NA   \n",
       "8  21         165            0.0          male          NA   \n",
       "9  14           0           90.2          male          NA   \n",
       "10 51         250            0.0          female        NA   \n",
       "11 41          20           81.0          male          NA   \n",
       "12 66           0           59.0          male          NA   \n",
       "13 71         171            0.0          male          NA   "
      ]
     },
     "metadata": {},
     "output_type": "display_data"
    }
   ],
   "source": [
    "data |>\n",
    "    mutate_if(is.numeric, replace_na, replace = 0)"
   ]
  },
  {
   "cell_type": "code",
   "execution_count": 172,
   "id": "2370717f-3cea-412c-8011-5b0c1536973b",
   "metadata": {},
   "outputs": [
    {
     "data": {
      "text/html": [
       "&lt;NA&gt;"
      ],
      "text/latex": [
       "<NA>"
      ],
      "text/markdown": [
       "&lt;NA&gt;"
      ],
      "text/plain": [
       "[1] NA"
      ]
     },
     "metadata": {},
     "output_type": "display_data"
    }
   ],
   "source": [
    "mean(data$person_weight)"
   ]
  },
  {
   "cell_type": "code",
   "execution_count": 174,
   "id": "f33d08ae-9024-451a-a6bf-dc75c15109da",
   "metadata": {},
   "outputs": [
    {
     "data": {
      "text/html": [
       "<table class=\"dataframe\">\n",
       "<caption>A data.frame: 13 x 5</caption>\n",
       "<thead>\n",
       "\t<tr><th scope=col>person_age</th><th scope=col>person_height</th><th scope=col>person_weight</th><th scope=col>person_gender</th><th scope=col>empty</th></tr>\n",
       "\t<tr><th scope=col>&lt;int&gt;</th><th scope=col>&lt;int&gt;</th><th scope=col>&lt;dbl&gt;</th><th scope=col>&lt;chr&gt;</th><th scope=col>&lt;lgl&gt;</th></tr>\n",
       "</thead>\n",
       "<tbody>\n",
       "\t<tr><td>23</td><td>185</td><td>66.7625</td><td>male  </td><td>NA</td></tr>\n",
       "\t<tr><td>41</td><td>175</td><td>68.3000</td><td>male  </td><td>NA</td></tr>\n",
       "\t<tr><td>11</td><td>142</td><td>55.4000</td><td>female</td><td>NA</td></tr>\n",
       "\t<tr><td>12</td><td> NA</td><td>48.2000</td><td>male  </td><td>NA</td></tr>\n",
       "\t<tr><td>54</td><td>191</td><td>66.7625</td><td>female</td><td>NA</td></tr>\n",
       "\t<tr><td>32</td><td>168</td><td>78.0000</td><td>male  </td><td>NA</td></tr>\n",
       "\t<tr><td>22</td><td> NA</td><td>54.0000</td><td>male  </td><td>NA</td></tr>\n",
       "\t<tr><td>21</td><td>165</td><td>66.7625</td><td>male  </td><td>NA</td></tr>\n",
       "\t<tr><td>14</td><td> NA</td><td>90.2000</td><td>male  </td><td>NA</td></tr>\n",
       "\t<tr><td>51</td><td>250</td><td>66.7625</td><td>female</td><td>NA</td></tr>\n",
       "\t<tr><td>41</td><td> 20</td><td>81.0000</td><td>male  </td><td>NA</td></tr>\n",
       "\t<tr><td>66</td><td> NA</td><td>59.0000</td><td>male  </td><td>NA</td></tr>\n",
       "\t<tr><td>71</td><td>171</td><td>66.7625</td><td>male  </td><td>NA</td></tr>\n",
       "</tbody>\n",
       "</table>\n"
      ],
      "text/latex": [
       "A data.frame: 13 x 5\n",
       "\\begin{tabular}{lllll}\n",
       " person\\_age & person\\_height & person\\_weight & person\\_gender & empty\\\\\n",
       " <int> & <int> & <dbl> & <chr> & <lgl>\\\\\n",
       "\\hline\n",
       "\t 23 & 185 & 66.7625 & male   & NA\\\\\n",
       "\t 41 & 175 & 68.3000 & male   & NA\\\\\n",
       "\t 11 & 142 & 55.4000 & female & NA\\\\\n",
       "\t 12 &  NA & 48.2000 & male   & NA\\\\\n",
       "\t 54 & 191 & 66.7625 & female & NA\\\\\n",
       "\t 32 & 168 & 78.0000 & male   & NA\\\\\n",
       "\t 22 &  NA & 54.0000 & male   & NA\\\\\n",
       "\t 21 & 165 & 66.7625 & male   & NA\\\\\n",
       "\t 14 &  NA & 90.2000 & male   & NA\\\\\n",
       "\t 51 & 250 & 66.7625 & female & NA\\\\\n",
       "\t 41 &  20 & 81.0000 & male   & NA\\\\\n",
       "\t 66 &  NA & 59.0000 & male   & NA\\\\\n",
       "\t 71 & 171 & 66.7625 & male   & NA\\\\\n",
       "\\end{tabular}\n"
      ],
      "text/markdown": [
       "\n",
       "A data.frame: 13 x 5\n",
       "\n",
       "| person_age &lt;int&gt; | person_height &lt;int&gt; | person_weight &lt;dbl&gt; | person_gender &lt;chr&gt; | empty &lt;lgl&gt; |\n",
       "|---|---|---|---|---|\n",
       "| 23 | 185 | 66.7625 | male   | NA |\n",
       "| 41 | 175 | 68.3000 | male   | NA |\n",
       "| 11 | 142 | 55.4000 | female | NA |\n",
       "| 12 |  NA | 48.2000 | male   | NA |\n",
       "| 54 | 191 | 66.7625 | female | NA |\n",
       "| 32 | 168 | 78.0000 | male   | NA |\n",
       "| 22 |  NA | 54.0000 | male   | NA |\n",
       "| 21 | 165 | 66.7625 | male   | NA |\n",
       "| 14 |  NA | 90.2000 | male   | NA |\n",
       "| 51 | 250 | 66.7625 | female | NA |\n",
       "| 41 |  20 | 81.0000 | male   | NA |\n",
       "| 66 |  NA | 59.0000 | male   | NA |\n",
       "| 71 | 171 | 66.7625 | male   | NA |\n",
       "\n"
      ],
      "text/plain": [
       "   person_age person_height person_weight person_gender empty\n",
       "1  23         185           66.7625       male          NA   \n",
       "2  41         175           68.3000       male          NA   \n",
       "3  11         142           55.4000       female        NA   \n",
       "4  12          NA           48.2000       male          NA   \n",
       "5  54         191           66.7625       female        NA   \n",
       "6  32         168           78.0000       male          NA   \n",
       "7  22          NA           54.0000       male          NA   \n",
       "8  21         165           66.7625       male          NA   \n",
       "9  14          NA           90.2000       male          NA   \n",
       "10 51         250           66.7625       female        NA   \n",
       "11 41          20           81.0000       male          NA   \n",
       "12 66          NA           59.0000       male          NA   \n",
       "13 71         171           66.7625       male          NA   "
      ]
     },
     "metadata": {},
     "output_type": "display_data"
    }
   ],
   "source": [
    "data |>\n",
    "    mutate(person_weight = ifelse(is.na(person_weight), mean(person_weight, na.rm = T), person_weight))"
   ]
  },
  {
   "cell_type": "code",
   "execution_count": 176,
   "id": "fbcbc560-3741-4028-aed1-126ece62df04",
   "metadata": {},
   "outputs": [
    {
     "data": {
      "text/html": [
       "<table class=\"dataframe\">\n",
       "<caption>A data.frame: 13 x 5</caption>\n",
       "<thead>\n",
       "\t<tr><th scope=col>person_age</th><th scope=col>person_height</th><th scope=col>person_weight</th><th scope=col>person_gender</th><th scope=col>empty</th></tr>\n",
       "\t<tr><th scope=col>&lt;int&gt;</th><th scope=col>&lt;int&gt;</th><th scope=col>&lt;dbl&gt;</th><th scope=col>&lt;chr&gt;</th><th scope=col>&lt;lgl&gt;</th></tr>\n",
       "</thead>\n",
       "<tbody>\n",
       "\t<tr><td>23</td><td>185</td><td>63.65</td><td>male  </td><td>NA</td></tr>\n",
       "\t<tr><td>41</td><td>175</td><td>68.30</td><td>male  </td><td>NA</td></tr>\n",
       "\t<tr><td>11</td><td>142</td><td>55.40</td><td>female</td><td>NA</td></tr>\n",
       "\t<tr><td>12</td><td>171</td><td>48.20</td><td>male  </td><td>NA</td></tr>\n",
       "\t<tr><td>54</td><td>191</td><td>63.65</td><td>female</td><td>NA</td></tr>\n",
       "\t<tr><td>32</td><td>168</td><td>78.00</td><td>male  </td><td>NA</td></tr>\n",
       "\t<tr><td>22</td><td>171</td><td>54.00</td><td>male  </td><td>NA</td></tr>\n",
       "\t<tr><td>21</td><td>165</td><td>63.65</td><td>male  </td><td>NA</td></tr>\n",
       "\t<tr><td>14</td><td>171</td><td>90.20</td><td>male  </td><td>NA</td></tr>\n",
       "\t<tr><td>51</td><td>250</td><td>63.65</td><td>female</td><td>NA</td></tr>\n",
       "\t<tr><td>41</td><td> 20</td><td>81.00</td><td>male  </td><td>NA</td></tr>\n",
       "\t<tr><td>66</td><td>171</td><td>59.00</td><td>male  </td><td>NA</td></tr>\n",
       "\t<tr><td>71</td><td>171</td><td>63.65</td><td>male  </td><td>NA</td></tr>\n",
       "</tbody>\n",
       "</table>\n"
      ],
      "text/latex": [
       "A data.frame: 13 x 5\n",
       "\\begin{tabular}{lllll}\n",
       " person\\_age & person\\_height & person\\_weight & person\\_gender & empty\\\\\n",
       " <int> & <int> & <dbl> & <chr> & <lgl>\\\\\n",
       "\\hline\n",
       "\t 23 & 185 & 63.65 & male   & NA\\\\\n",
       "\t 41 & 175 & 68.30 & male   & NA\\\\\n",
       "\t 11 & 142 & 55.40 & female & NA\\\\\n",
       "\t 12 & 171 & 48.20 & male   & NA\\\\\n",
       "\t 54 & 191 & 63.65 & female & NA\\\\\n",
       "\t 32 & 168 & 78.00 & male   & NA\\\\\n",
       "\t 22 & 171 & 54.00 & male   & NA\\\\\n",
       "\t 21 & 165 & 63.65 & male   & NA\\\\\n",
       "\t 14 & 171 & 90.20 & male   & NA\\\\\n",
       "\t 51 & 250 & 63.65 & female & NA\\\\\n",
       "\t 41 &  20 & 81.00 & male   & NA\\\\\n",
       "\t 66 & 171 & 59.00 & male   & NA\\\\\n",
       "\t 71 & 171 & 63.65 & male   & NA\\\\\n",
       "\\end{tabular}\n"
      ],
      "text/markdown": [
       "\n",
       "A data.frame: 13 x 5\n",
       "\n",
       "| person_age &lt;int&gt; | person_height &lt;int&gt; | person_weight &lt;dbl&gt; | person_gender &lt;chr&gt; | empty &lt;lgl&gt; |\n",
       "|---|---|---|---|---|\n",
       "| 23 | 185 | 63.65 | male   | NA |\n",
       "| 41 | 175 | 68.30 | male   | NA |\n",
       "| 11 | 142 | 55.40 | female | NA |\n",
       "| 12 | 171 | 48.20 | male   | NA |\n",
       "| 54 | 191 | 63.65 | female | NA |\n",
       "| 32 | 168 | 78.00 | male   | NA |\n",
       "| 22 | 171 | 54.00 | male   | NA |\n",
       "| 21 | 165 | 63.65 | male   | NA |\n",
       "| 14 | 171 | 90.20 | male   | NA |\n",
       "| 51 | 250 | 63.65 | female | NA |\n",
       "| 41 |  20 | 81.00 | male   | NA |\n",
       "| 66 | 171 | 59.00 | male   | NA |\n",
       "| 71 | 171 | 63.65 | male   | NA |\n",
       "\n"
      ],
      "text/plain": [
       "   person_age person_height person_weight person_gender empty\n",
       "1  23         185           63.65         male          NA   \n",
       "2  41         175           68.30         male          NA   \n",
       "3  11         142           55.40         female        NA   \n",
       "4  12         171           48.20         male          NA   \n",
       "5  54         191           63.65         female        NA   \n",
       "6  32         168           78.00         male          NA   \n",
       "7  22         171           54.00         male          NA   \n",
       "8  21         165           63.65         male          NA   \n",
       "9  14         171           90.20         male          NA   \n",
       "10 51         250           63.65         female        NA   \n",
       "11 41          20           81.00         male          NA   \n",
       "12 66         171           59.00         male          NA   \n",
       "13 71         171           63.65         male          NA   "
      ]
     },
     "metadata": {},
     "output_type": "display_data"
    }
   ],
   "source": [
    "data |>\n",
    "    mutate_if(is.numeric, function(x) ifelse(is.na(x), median(x, na.rm =T), x))"
   ]
  },
  {
   "cell_type": "code",
   "execution_count": 179,
   "id": "e08470f9-f4aa-416a-9148-6c52328b0108",
   "metadata": {},
   "outputs": [
    {
     "data": {
      "image/png": "[encoded data removed]",
      "text/plain": [
       "plot without title"
      ]
     },
     "metadata": {
      "image/png": {
       "height": 420,
       "width": 420
      }
     },
     "output_type": "display_data"
    }
   ],
   "source": [
    "plot(data$person_weight, data$person_height)"
   ]
  },
  {
   "cell_type": "code",
   "execution_count": 181,
   "id": "55bd6cc4-be1f-484b-a85a-ec9c6e2238b5",
   "metadata": {},
   "outputs": [],
   "source": [
    "#install.packages(\"Hmisc\")"
   ]
  },
  {
   "cell_type": "code",
   "execution_count": 184,
   "id": "0f545dca-993f-4a14-9eb5-9716e0facce5",
   "metadata": {},
   "outputs": [],
   "source": [
    "library(Hmisc)"
   ]
  },
  {
   "cell_type": "code",
   "execution_count": 191,
   "id": "3f5ab1e0-9695-44cd-a85c-3144bb43cc1e",
   "metadata": {},
   "outputs": [
    {
     "data": {
      "text/html": [
       "<table class=\"dataframe\">\n",
       "<caption>A data.frame: 13 x 4</caption>\n",
       "<thead>\n",
       "\t<tr><th></th><th scope=col>person_age</th><th scope=col>person_height</th><th scope=col>person_weight</th><th scope=col>person_gender</th></tr>\n",
       "\t<tr><th></th><th scope=col>&lt;int&gt;</th><th scope=col>&lt;int&gt;</th><th scope=col>&lt;impute&gt;</th><th scope=col>&lt;chr&gt;</th></tr>\n",
       "</thead>\n",
       "<tbody>\n",
       "\t<tr><th scope=row>1</th><td>23</td><td>185</td><td>66.7625</td><td>male  </td></tr>\n",
       "\t<tr><th scope=row>2</th><td>41</td><td>175</td><td>68.3000</td><td>male  </td></tr>\n",
       "\t<tr><th scope=row>3</th><td>11</td><td>142</td><td>55.4000</td><td>female</td></tr>\n",
       "\t<tr><th scope=row>4</th><td>12</td><td> NA</td><td>48.2000</td><td>male  </td></tr>\n",
       "\t<tr><th scope=row>5</th><td>54</td><td>191</td><td>66.7625</td><td>female</td></tr>\n",
       "\t<tr><th scope=row>6</th><td>32</td><td>168</td><td>78.0000</td><td>male  </td></tr>\n",
       "\t<tr><th scope=row>7</th><td>22</td><td> NA</td><td>54.0000</td><td>male  </td></tr>\n",
       "\t<tr><th scope=row>8</th><td>21</td><td>165</td><td>66.7625</td><td>male  </td></tr>\n",
       "\t<tr><th scope=row>9</th><td>14</td><td> NA</td><td>90.2000</td><td>male  </td></tr>\n",
       "\t<tr><th scope=row>10</th><td>51</td><td>250</td><td>66.7625</td><td>female</td></tr>\n",
       "\t<tr><th scope=row>11</th><td>41</td><td> 20</td><td>81.0000</td><td>male  </td></tr>\n",
       "\t<tr><th scope=row>12</th><td>66</td><td> NA</td><td>59.0000</td><td>male  </td></tr>\n",
       "\t<tr><th scope=row>13</th><td>71</td><td>171</td><td>66.7625</td><td>male  </td></tr>\n",
       "</tbody>\n",
       "</table>\n"
      ],
      "text/latex": [
       "A data.frame: 13 x 4\n",
       "\\begin{tabular}{r|llll}\n",
       "  & person\\_age & person\\_height & person\\_weight & person\\_gender\\\\\n",
       "  & <int> & <int> & <impute> & <chr>\\\\\n",
       "\\hline\n",
       "\t1 & 23 & 185 & 66.7625 & male  \\\\\n",
       "\t2 & 41 & 175 & 68.3000 & male  \\\\\n",
       "\t3 & 11 & 142 & 55.4000 & female\\\\\n",
       "\t4 & 12 &  NA & 48.2000 & male  \\\\\n",
       "\t5 & 54 & 191 & 66.7625 & female\\\\\n",
       "\t6 & 32 & 168 & 78.0000 & male  \\\\\n",
       "\t7 & 22 &  NA & 54.0000 & male  \\\\\n",
       "\t8 & 21 & 165 & 66.7625 & male  \\\\\n",
       "\t9 & 14 &  NA & 90.2000 & male  \\\\\n",
       "\t10 & 51 & 250 & 66.7625 & female\\\\\n",
       "\t11 & 41 &  20 & 81.0000 & male  \\\\\n",
       "\t12 & 66 &  NA & 59.0000 & male  \\\\\n",
       "\t13 & 71 & 171 & 66.7625 & male  \\\\\n",
       "\\end{tabular}\n"
      ],
      "text/markdown": [
       "\n",
       "A data.frame: 13 x 4\n",
       "\n",
       "| <!--/--> | person_age &lt;int&gt; | person_height &lt;int&gt; | person_weight &lt;impute&gt; | person_gender &lt;chr&gt; |\n",
       "|---|---|---|---|---|\n",
       "| 1 | 23 | 185 | 66.7625 | male   |\n",
       "| 2 | 41 | 175 | 68.3000 | male   |\n",
       "| 3 | 11 | 142 | 55.4000 | female |\n",
       "| 4 | 12 |  NA | 48.2000 | male   |\n",
       "| 5 | 54 | 191 | 66.7625 | female |\n",
       "| 6 | 32 | 168 | 78.0000 | male   |\n",
       "| 7 | 22 |  NA | 54.0000 | male   |\n",
       "| 8 | 21 | 165 | 66.7625 | male   |\n",
       "| 9 | 14 |  NA | 90.2000 | male   |\n",
       "| 10 | 51 | 250 | 66.7625 | female |\n",
       "| 11 | 41 |  20 | 81.0000 | male   |\n",
       "| 12 | 66 |  NA | 59.0000 | male   |\n",
       "| 13 | 71 | 171 | 66.7625 | male   |\n",
       "\n"
      ],
      "text/plain": [
       "   person_age person_height person_weight person_gender\n",
       "1  23         185           66.7625       male         \n",
       "2  41         175           68.3000       male         \n",
       "3  11         142           55.4000       female       \n",
       "4  12          NA           48.2000       male         \n",
       "5  54         191           66.7625       female       \n",
       "6  32         168           78.0000       male         \n",
       "7  22          NA           54.0000       male         \n",
       "8  21         165           66.7625       male         \n",
       "9  14          NA           90.2000       male         \n",
       "10 51         250           66.7625       female       \n",
       "11 41          20           81.0000       male         \n",
       "12 66          NA           59.0000       male         \n",
       "13 71         171           66.7625       male         "
      ]
     },
     "metadata": {},
     "output_type": "display_data"
    }
   ],
   "source": [
    "cleaned_data |>\n",
    "    mutate(person_weight = impute(person_weight, fun = mean))"
   ]
  },
  {
   "cell_type": "code",
   "execution_count": 192,
   "id": "e5cd4f9c-dfba-45b0-9fa0-9552267f5a62",
   "metadata": {},
   "outputs": [
    {
     "data": {
      "text/html": [
       "<table class=\"dataframe\">\n",
       "<caption>A data.frame: 13 x 4</caption>\n",
       "<thead>\n",
       "\t<tr><th></th><th scope=col>person_age</th><th scope=col>person_height</th><th scope=col>person_weight</th><th scope=col>person_gender</th></tr>\n",
       "\t<tr><th></th><th scope=col>&lt;int&gt;</th><th scope=col>&lt;impute&gt;</th><th scope=col>&lt;dbl&gt;</th><th scope=col>&lt;chr&gt;</th></tr>\n",
       "</thead>\n",
       "<tbody>\n",
       "\t<tr><th scope=row>1</th><td>23</td><td>185</td><td>  NA</td><td>male  </td></tr>\n",
       "\t<tr><th scope=row>2</th><td>41</td><td>175</td><td>68.3</td><td>male  </td></tr>\n",
       "\t<tr><th scope=row>3</th><td>11</td><td>142</td><td>55.4</td><td>female</td></tr>\n",
       "\t<tr><th scope=row>4</th><td>12</td><td>191</td><td>48.2</td><td>male  </td></tr>\n",
       "\t<tr><th scope=row>5</th><td>54</td><td>191</td><td>  NA</td><td>female</td></tr>\n",
       "\t<tr><th scope=row>6</th><td>32</td><td>168</td><td>78.0</td><td>male  </td></tr>\n",
       "\t<tr><th scope=row>7</th><td>22</td><td>165</td><td>54.0</td><td>male  </td></tr>\n",
       "\t<tr><th scope=row>8</th><td>21</td><td>165</td><td>  NA</td><td>male  </td></tr>\n",
       "\t<tr><th scope=row>9</th><td>14</td><td>250</td><td>90.2</td><td>male  </td></tr>\n",
       "\t<tr><th scope=row>10</th><td>51</td><td>250</td><td>  NA</td><td>female</td></tr>\n",
       "\t<tr><th scope=row>11</th><td>41</td><td> 20</td><td>81.0</td><td>male  </td></tr>\n",
       "\t<tr><th scope=row>12</th><td>66</td><td>191</td><td>59.0</td><td>male  </td></tr>\n",
       "\t<tr><th scope=row>13</th><td>71</td><td>171</td><td>  NA</td><td>male  </td></tr>\n",
       "</tbody>\n",
       "</table>\n"
      ],
      "text/latex": [
       "A data.frame: 13 x 4\n",
       "\\begin{tabular}{r|llll}\n",
       "  & person\\_age & person\\_height & person\\_weight & person\\_gender\\\\\n",
       "  & <int> & <impute> & <dbl> & <chr>\\\\\n",
       "\\hline\n",
       "\t1 & 23 & 185 &   NA & male  \\\\\n",
       "\t2 & 41 & 175 & 68.3 & male  \\\\\n",
       "\t3 & 11 & 142 & 55.4 & female\\\\\n",
       "\t4 & 12 & 191 & 48.2 & male  \\\\\n",
       "\t5 & 54 & 191 &   NA & female\\\\\n",
       "\t6 & 32 & 168 & 78.0 & male  \\\\\n",
       "\t7 & 22 & 165 & 54.0 & male  \\\\\n",
       "\t8 & 21 & 165 &   NA & male  \\\\\n",
       "\t9 & 14 & 250 & 90.2 & male  \\\\\n",
       "\t10 & 51 & 250 &   NA & female\\\\\n",
       "\t11 & 41 &  20 & 81.0 & male  \\\\\n",
       "\t12 & 66 & 191 & 59.0 & male  \\\\\n",
       "\t13 & 71 & 171 &   NA & male  \\\\\n",
       "\\end{tabular}\n"
      ],
      "text/markdown": [
       "\n",
       "A data.frame: 13 x 4\n",
       "\n",
       "| <!--/--> | person_age &lt;int&gt; | person_height &lt;impute&gt; | person_weight &lt;dbl&gt; | person_gender &lt;chr&gt; |\n",
       "|---|---|---|---|---|\n",
       "| 1 | 23 | 185 |   NA | male   |\n",
       "| 2 | 41 | 175 | 68.3 | male   |\n",
       "| 3 | 11 | 142 | 55.4 | female |\n",
       "| 4 | 12 | 191 | 48.2 | male   |\n",
       "| 5 | 54 | 191 |   NA | female |\n",
       "| 6 | 32 | 168 | 78.0 | male   |\n",
       "| 7 | 22 | 165 | 54.0 | male   |\n",
       "| 8 | 21 | 165 |   NA | male   |\n",
       "| 9 | 14 | 250 | 90.2 | male   |\n",
       "| 10 | 51 | 250 |   NA | female |\n",
       "| 11 | 41 |  20 | 81.0 | male   |\n",
       "| 12 | 66 | 191 | 59.0 | male   |\n",
       "| 13 | 71 | 171 |   NA | male   |\n",
       "\n"
      ],
      "text/plain": [
       "   person_age person_height person_weight person_gender\n",
       "1  23         185             NA          male         \n",
       "2  41         175           68.3          male         \n",
       "3  11         142           55.4          female       \n",
       "4  12         191           48.2          male         \n",
       "5  54         191             NA          female       \n",
       "6  32         168           78.0          male         \n",
       "7  22         165           54.0          male         \n",
       "8  21         165             NA          male         \n",
       "9  14         250           90.2          male         \n",
       "10 51         250             NA          female       \n",
       "11 41          20           81.0          male         \n",
       "12 66         191           59.0          male         \n",
       "13 71         171             NA          male         "
      ]
     },
     "metadata": {},
     "output_type": "display_data"
    }
   ],
   "source": [
    "cleaned_data |>\n",
    "    mutate(person_height = impute(person_height, \"random\"))"
   ]
  }
 ],
 "metadata": {
  "kernelspec": {
   "display_name": "R",
   "language": "R",
   "name": "ir"
  },
  "language_info": {
   "codemirror_mode": "r",
   "file_extension": ".r",
   "mimetype": "text/x-r-source",
   "name": "R",
   "pygments_lexer": "r",
   "version": "4.1.3"
  }
 },
 "nbformat": 4,
 "nbformat_minor": 5
}
